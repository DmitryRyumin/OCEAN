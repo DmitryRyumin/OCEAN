{
 "cells": [
  {
   "cell_type": "markdown",
   "metadata": {},
   "source": [
    "## Загрузка файла из URL\n",
    "\n",
    "<hr>"
   ]
  },
  {
   "cell_type": "code",
   "execution_count": 1,
   "metadata": {
    "nbsphinx": "hidden",
    "tags": []
   },
   "outputs": [],
   "source": [
    "import os  # Взаимодействие с файловой системой\n",
    "import sys # Доступ к некоторым переменным и функциям Python\n",
    "\n",
    "PATH_TO_SOURCE = os.path.abspath(os.path.dirname(globals()['_dh'][0]))\n",
    "PATH_TO_ROOT = os.path.join(PATH_TO_SOURCE, '..', '..', '..')\n",
    "\n",
    "sys.path.insert(0, os.path.abspath(PATH_TO_ROOT))"
   ]
  },
  {
   "cell_type": "markdown",
   "metadata": {},
   "source": [
    "### Импорт необходимых инструментов"
   ]
  },
  {
   "cell_type": "code",
   "execution_count": 2,
   "metadata": {},
   "outputs": [],
   "source": [
    "from oceanai.modules.lab.build import Run"
   ]
  },
  {
   "cell_type": "markdown",
   "metadata": {},
   "source": [
    "### Сборка"
   ]
  },
  {
   "cell_type": "code",
   "execution_count": 3,
   "metadata": {},
   "outputs": [
    {
     "data": {
      "text/markdown": [
       "<span style=\"color:#333\">**[</span><span style=\"color:#1776D2\">2024-10-08 19:48:12</span><span style=\"color:#333\">]</span> <span style=\"color:#333\">OCEANAI - персональные качества личности человека:</span>**<br /><span style=\"color:#333\">&nbsp;&nbsp;&nbsp;&nbsp;Авторы:</span><br /><span style=\"color:#333\">&nbsp;&nbsp;&nbsp;&nbsp;&nbsp;&nbsp;&nbsp;&nbsp;Рюмина Елена [<u>ryumina_ev@mail.ru</u>]</span><br /><span style=\"color:#333\">&nbsp;&nbsp;&nbsp;&nbsp;&nbsp;&nbsp;&nbsp;&nbsp;Рюмин Дмитрий [<u>dl_03.03.1991@mail.ru</u>]</span><br /><span style=\"color:#333\">&nbsp;&nbsp;&nbsp;&nbsp;&nbsp;&nbsp;&nbsp;&nbsp;Карпов Алексей [<u>karpov@iias.spb.su</u>]</span><br /><span style=\"color:#333\">&nbsp;&nbsp;&nbsp;&nbsp;Сопровождающие:</span><br /><span style=\"color:#333\">&nbsp;&nbsp;&nbsp;&nbsp;&nbsp;&nbsp;&nbsp;&nbsp;Рюмина Елена [<u>ryumina_ev@mail.ru</u>]</span><br /><span style=\"color:#333\">&nbsp;&nbsp;&nbsp;&nbsp;&nbsp;&nbsp;&nbsp;&nbsp;Рюмин Дмитрий [<u>dl_03.03.1991@mail.ru</u>]</span><br /><span style=\"color:#333\">&nbsp;&nbsp;&nbsp;&nbsp;Версия: <u>1.0.0a40</u></span><br /><span style=\"color:#333\">&nbsp;&nbsp;&nbsp;&nbsp;Лицензия: <u>BSD License</u></span></p>"
      ],
      "text/plain": [
       "<IPython.core.display.Markdown object>"
      ]
     },
     "metadata": {},
     "output_type": "display_data"
    }
   ],
   "source": [
    "_b5 = Run(\n",
    "    lang = 'ru', # Язык\n",
    "    color_simple = '#333', # Цвет обычного текста (шестнадцатеричный код)\n",
    "    color_info = '#1776D2', # Цвет текста содержащего информацию (шестнадцатеричный код)\n",
    "    color_err = '#FF0000', # Цвет текста содержащего ошибку (шестнадцатеричный код)\n",
    "    color_true = '#008001', # Цвет текста содержащего положительную информацию (шестнадцатеричный код)\n",
    "    bold_text = True, # Жирное начертание текста\n",
    "    num_to_df_display = 30, # Количество строк для отображения в таблицах\n",
    "    text_runtime = 'Время выполнения', # Текст времени выполнения\n",
    "    metadata = True # Отображение информации о библиотеке\n",
    ")"
   ]
  },
  {
   "cell_type": "markdown",
   "metadata": {},
   "source": [
    "### Процесс загрузки"
   ]
  },
  {
   "cell_type": "code",
   "execution_count": 4,
   "metadata": {},
   "outputs": [
    {
     "data": {
      "text/markdown": [
       "<span style=\"color:#333\">**[</span><span style=\"color:#1776D2\">2024-10-08 19:48:15</span><span style=\"color:#333\">]</span> <span style=\"color:#333\">Загрузка файла \"<span style=\"color:#1776D2\">weights_2023-07-16_18-12-01.pth</span>\" 100.0% ...</span>** "
      ],
      "text/plain": [
       "<IPython.core.display.Markdown object>"
      ]
     },
     "metadata": {},
     "output_type": "display_data"
    },
    {
     "data": {
      "text/markdown": [
       "<span style=\"color:#333\">**--- Время выполнения: 2.362 сек. ---**</span>"
      ],
      "text/plain": [
       "<IPython.core.display.Markdown object>"
      ]
     },
     "metadata": {},
     "output_type": "display_data"
    }
   ],
   "source": [
    "# Настройки ядра\n",
    "_b5.path_to_save_ = './models' # Директория для сохранения файла\n",
    "_b5.chunk_size_ = 2000000 # Размер загрузки файла из сети за 1 шаг\n",
    "\n",
    "res_download_file_from_url = _b5.download_file_from_url(\n",
    "    url = 'https://drive.usercontent.google.com/download?id=1dyH4lqajNS7LOwNqcfj3YktxlJrbLSXf&export=download&authuser=2&confirm=t&uuid=f69981d0-9852-4e0e-8d49-91b55dae3da0&at=AN_67v1nGyJJ427XWPLc3ISlZxbx:1727456802847',\n",
    "    force_reload = True,\n",
    "    out = True,\n",
    "    runtime = True,\n",
    "    run = True\n",
    ")"
   ]
  },
  {
   "cell_type": "code",
   "execution_count": 5,
   "metadata": {},
   "outputs": [
    {
     "data": {
      "text/plain": [
       "200"
      ]
     },
     "execution_count": 5,
     "metadata": {},
     "output_type": "execute_result"
    }
   ],
   "source": [
    "res_download_file_from_url"
   ]
  }
 ],
 "metadata": {
  "kernelspec": {
   "display_name": "Python 3 (ipykernel)",
   "language": "python",
   "name": "python3"
  },
  "language_info": {
   "codemirror_mode": {
    "name": "ipython",
    "version": 3
   },
   "file_extension": ".py",
   "mimetype": "text/x-python",
   "name": "python",
   "nbconvert_exporter": "python",
   "pygments_lexer": "ipython3",
   "version": "3.10.11"
  }
 },
 "nbformat": 4,
 "nbformat_minor": 4
}
