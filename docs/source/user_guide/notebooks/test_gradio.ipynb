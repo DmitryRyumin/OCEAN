{
 "cells": [
  {
   "cell_type": "code",
   "execution_count": 1,
   "id": "c5b3a506-fcfc-4a5a-9cda-d17ba16e07d5",
   "metadata": {},
   "outputs": [],
   "source": [
    "import os  # Взаимодействие с файловой системой\n",
    "import sys # Доступ к некоторым переменным и функциям Python\n",
    "\n",
    "PATH_TO_SOURCE = os.path.abspath(os.path.dirname(globals()['_dh'][0]))\n",
    "PATH_TO_ROOT = os.path.join(PATH_TO_SOURCE, '..', '..', '..')\n",
    "\n",
    "sys.path.insert(0, os.path.abspath(PATH_TO_ROOT))"
   ]
  },
  {
   "cell_type": "code",
   "execution_count": 2,
   "id": "3cffe4af-3d9a-461e-ac4d-5415b63d5b7b",
   "metadata": {
    "tags": []
   },
   "outputs": [
    {
     "name": "stdout",
     "output_type": "stream",
     "text": [
      "Running on local URL:  http://127.0.0.1:7860\n",
      "\n",
      "To create a public link, set `share=True` in `launch()`.\n"
     ]
    },
    {
     "data": {
      "text/html": [
       "<div><iframe src=\"http://127.0.0.1:7860/\" width=\"100%\" height=\"500\" allow=\"autoplay; camera; microphone; clipboard-read; clipboard-write;\" frameborder=\"0\" allowfullscreen></iframe></div>"
      ],
      "text/plain": [
       "<IPython.core.display.HTML object>"
      ]
     },
     "metadata": {},
     "output_type": "display_data"
    }
   ],
   "source": [
    "import os\n",
    "import pandas as pd\n",
    "import gradio as gr\n",
    "from oceanai.modules.lab.build import Run\n",
    "\n",
    "def oceanai_initialization():\n",
    "    out = False\n",
    "\n",
    "    # Создание экземпляра класса\n",
    "    _b5 = Run(lang='en',metadata=out)\n",
    "\n",
    "    # Настройка ядра\n",
    "    _b5.path_to_save_ = './models' # Директория для сохранения файла\n",
    "    _b5.chunk_size_ = 2000000      # Размер загрузки файла из сети за 1 шаг\n",
    "\n",
    "    corpus = 'fi'\n",
    "\n",
    "    # Формирование аудиомоделей\n",
    "    res_load_model_hc = _b5.load_audio_model_hc(out=out)\n",
    "    res_load_model_nn = _b5.load_audio_model_nn(out=out)\n",
    "\n",
    "    # Загрузка весов аудиомоделей\n",
    "    url = _b5.weights_for_big5_['audio'][corpus]['hc']['sberdisk']\n",
    "    res_load_model_weights_hc = _b5.load_audio_model_weights_hc(url = url, out=out)\n",
    "\n",
    "    url = _b5.weights_for_big5_['audio'][corpus]['nn']['sberdisk']\n",
    "    res_load_model_weights_nn = _b5.load_audio_model_weights_nn(url = url, out=out)\n",
    "\n",
    "    # Формирование видеомоделей\n",
    "    res_load_model_hc = _b5.load_video_model_hc(lang='en', out=out)\n",
    "    res_load_model_deep_fe = _b5.load_video_model_deep_fe(out=out)\n",
    "    res_load_model_nn = _b5.load_video_model_nn(out=out)\n",
    "\n",
    "    # Загрузка весов видеомоделей\n",
    "    url = _b5.weights_for_big5_['video'][corpus]['hc']['sberdisk']\n",
    "    res_load_model_weights_hc = _b5.load_video_model_weights_hc(url = url, out=out)\n",
    "\n",
    "    url = _b5.weights_for_big5_['video'][corpus]['fe']['sberdisk']\n",
    "    res_load_model_weights_deep_fe = _b5.load_video_model_weights_deep_fe(url = url, out=out)\n",
    "\n",
    "    url = _b5.weights_for_big5_['video'][corpus]['nn']['sberdisk']\n",
    "    res_load_model_weights_nn = _b5.load_video_model_weights_nn(url = url, out=out)\n",
    "\n",
    "    # Загрузка словаря с экспертными признаками (текстовая модальность)\n",
    "    res_load_text_features = _b5.load_text_features(out=out)\n",
    "\n",
    "    # Формирование текстовых моделей \n",
    "    res_setup_translation_model = _b5.setup_translation_model() # только для русского языка\n",
    "    res_setup_translation_model = _b5.setup_bert_encoder(force_reload = False, out=out)\n",
    "    res_load_text_model_hc_fi = _b5.load_text_model_hc(corpus=corpus, out=out)\n",
    "    res_load_text_model_nn_fi = _b5.load_text_model_nn(corpus=corpus, out=out)\n",
    "\n",
    "    # Загрузка весов текстовых моделей\n",
    "    url = _b5.weights_for_big5_['text'][corpus]['hc']['sberdisk']\n",
    "    res_load_text_model_weights_hc_fi = _b5.load_text_model_weights_hc(url = url, out=out)\n",
    "\n",
    "    url = _b5.weights_for_big5_['text'][corpus]['nn']['sberdisk']\n",
    "    res_load_text_model_weights_nn_fi = _b5.load_text_model_weights_nn(url = url, out=out)\n",
    "\n",
    "    # Формирование модели для мультимодального объединения информации\n",
    "    res_load_avt_model_b5 = _b5.load_avt_model_b5(out=out)\n",
    "\n",
    "    # Загрузка весов модели для мультимодального объединения информации\n",
    "    url = _b5.weights_for_big5_['avt'][corpus]['b5']['sberdisk']\n",
    "    res_load_avt_model_weights_b5 = _b5.load_avt_model_weights_b5(url = url, out=out)\n",
    "    return _b5\n",
    "\n",
    "def function_read_audio(files):\n",
    "    out = False\n",
    "    _b5.get_avt_predictions_gradio(paths = files, url_accuracy = '', accuracy=False,lang = 'en', out=out)\n",
    "\n",
    "    return _b5.df_files_\n",
    "\n",
    "demo = gr.Interface(\n",
    "    function_read_audio,\n",
    "    gr.File(file_count=\"multiple\"),\n",
    "    \"dataframe\"\n",
    ")\n",
    "\n",
    "if __name__ == \"__main__\":\n",
    "    _b5 = oceanai_initialization()\n",
    "    demo.launch()"
   ]
  },
  {
   "cell_type": "code",
   "execution_count": 1,
   "id": "1bcfc5c9-760b-4705-a4f3-fb667223aee1",
   "metadata": {},
   "outputs": [
    {
     "data": {
      "text/plain": [
       "[{'task': 'Ranking potential candidates by professional responsibilities',\n",
       "  'subtasks': ['Professional groups', 'Professional skills']},\n",
       " {'task': 'Forming effective work teams',\n",
       "  'subtasks': ['Finding a suitable junior colleague',\n",
       "   'Finding a suitable senior colleague']},\n",
       " {'task': 'Predicting consumer preferences for industrial goods',\n",
       "  'subtasks': ['Car characteristics', 'Mobile device application categories']}]"
      ]
     },
     "execution_count": 1,
     "metadata": {},
     "output_type": "execute_result"
    }
   ],
   "source": [
    "import yaml\n",
    "from typing import Dict, List, Tuple, Union, Generator\n",
    "\n",
    "# Importing necessary components for the Gradio app\n",
    "\n",
    "\n",
    "def load_practical_tasks_data(file_path: str) -> List:\n",
    "    with open(file_path, \"r\") as file:\n",
    "        return yaml.safe_load(file) or []\n",
    "\n",
    "yaml_file_path = \"/Users/dl/HF/OCEANAI/practical_tasks.yaml\"\n",
    "practical_tasks_data = load_practical_tasks_data(yaml_file_path)\n",
    "practical_tasks_data"
   ]
  },
  {
   "cell_type": "code",
   "execution_count": 6,
   "id": "5c9ac33d-561a-4596-8479-7407e5a4c5df",
   "metadata": {},
   "outputs": [
    {
     "data": {
      "text/plain": [
       "{'Ranking potential candidates by professional responsibilities': ['Professional groups',\n",
       "  'Professional skills'],\n",
       " 'Forming effective work teams': ['Finding a suitable junior colleague',\n",
       "  'Finding a suitable senior colleague'],\n",
       " 'Predicting consumer preferences for industrial goods': ['Car characteristics',\n",
       "  'Mobile device application categories']}"
      ]
     },
     "execution_count": 6,
     "metadata": {},
     "output_type": "execute_result"
    }
   ],
   "source": [
    "def transform_practical_tasks_data(data: List) -> Dict:\n",
    "    output_dict = {item['task']: item['subtasks'] for item in data}\n",
    "    return output_dict\n",
    "\n",
    "supported_practical_tasks = transform_practical_tasks_data(practical_tasks_data)\n",
    "supported_practical_tasks"
   ]
  },
  {
   "cell_type": "code",
   "execution_count": 23,
   "id": "2c08afbe-0aa8-49d4-8cc3-b8e0fdbec678",
   "metadata": {},
   "outputs": [
    {
     "name": "stdout",
     "output_type": "stream",
     "text": [
      "Practical tasks ['Ranking potential candidates by professional responsibilities', 'Forming effective work teams', 'Predicting consumer preferences for industrial goods']\n",
      "Practical subtasks [['Professional groups', 'Professional skills'], ['Finding a suitable junior colleague', 'Finding a suitable senior colleague'], ['Car characteristics', 'Mobile device application categories']]\n"
     ]
    }
   ],
   "source": [
    "radio_groups = {}\n",
    "for value, label, choices, info, interactive, visible in [\n",
    "    (\n",
    "        None,\n",
    "        \"Practical tasks\",\n",
    "        list(map(str, supported_practical_tasks.keys())),\n",
    "        \"Choose a practical task\",\n",
    "        True,\n",
    "        True,\n",
    "    ),\n",
    "    (\n",
    "        None,\n",
    "        \"Practical subtasks\",\n",
    "        list(map(list, supported_practical_tasks.values())),\n",
    "        \"Choose a practical subtask\",\n",
    "        False,\n",
    "        False,\n",
    "    ),\n",
    "]:\n",
    "    print(label, choices)"
   ]
  },
  {
   "cell_type": "code",
   "execution_count": 25,
   "id": "b251b506-7a6e-45e8-a20f-072a5a7f1b39",
   "metadata": {},
   "outputs": [
    {
     "data": {
      "text/plain": [
       "['Professional groups', 'Professional skills']"
      ]
     },
     "execution_count": 25,
     "metadata": {},
     "output_type": "execute_result"
    }
   ],
   "source": [
    "first_practical_task = next(iter(supported_practical_tasks))\n",
    "supported_practical_tasks[first_practical_task]"
   ]
  },
  {
   "cell_type": "code",
   "execution_count": 29,
   "id": "ef52202f-6873-4679-882c-409caaba5382",
   "metadata": {},
   "outputs": [
    {
     "name": "stdout",
     "output_type": "stream",
     "text": [
      "1\n",
      "Running on local URL:  http://127.0.0.1:7870\n",
      "\n",
      "To create a public link, set `share=True` in `launch()`.\n"
     ]
    },
    {
     "data": {
      "text/html": [
       "<div><iframe src=\"http://127.0.0.1:7870/\" width=\"100%\" height=\"500\" allow=\"autoplay; camera; microphone; clipboard-read; clipboard-write;\" frameborder=\"0\" allowfullscreen></iframe></div>"
      ],
      "text/plain": [
       "<IPython.core.display.HTML object>"
      ]
     },
     "metadata": {},
     "output_type": "display_data"
    },
    {
     "data": {
      "text/plain": []
     },
     "execution_count": 29,
     "metadata": {},
     "output_type": "execute_result"
    }
   ],
   "source": [
    "import gradio as gr\n",
    "\n",
    "with gr.Blocks() as gradio_app:\n",
    "    practical_tasks = gr.Radio(\n",
    "        value='2',\n",
    "        label=\"Practical tasks\",\n",
    "        choices=[\"1\", \"2\", \"3\"],\n",
    "        info=\"Choose a practical task\",\n",
    "        show_label=True,\n",
    "        container=True,\n",
    "        interactive=True,\n",
    "        visible=True,\n",
    "    )\n",
    "    \n",
    "    print(practical_tasks.value)\n",
    "\n",
    "gradio_app.queue(api_open=False).launch(share=False)"
   ]
  },
  {
   "cell_type": "code",
   "execution_count": null,
   "id": "ea17313b-4618-4912-9a90-75fdb0ac0a51",
   "metadata": {},
   "outputs": [],
   "source": []
  }
 ],
 "metadata": {
  "kernelspec": {
   "display_name": "Python 3 (ipykernel)",
   "language": "python",
   "name": "python3"
  },
  "language_info": {
   "codemirror_mode": {
    "name": "ipython",
    "version": 3
   },
   "file_extension": ".py",
   "mimetype": "text/x-python",
   "name": "python",
   "nbconvert_exporter": "python",
   "pygments_lexer": "ipython3",
   "version": "3.9.13"
  }
 },
 "nbformat": 4,
 "nbformat_minor": 5
}
