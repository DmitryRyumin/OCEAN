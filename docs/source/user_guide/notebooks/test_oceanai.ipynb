{
 "cells": [
  {
   "cell_type": "code",
   "execution_count": 1,
   "id": "71b4c10f-c009-4702-81cc-66e88dfd12b6",
   "metadata": {
    "tags": []
   },
   "outputs": [
    {
     "data": {
      "text/plain": [
       "True"
      ]
     },
     "execution_count": 1,
     "metadata": {},
     "output_type": "execute_result"
    }
   ],
   "source": [
    "# Импорт необходимых инструментов\n",
    "import os\n",
    "import pandas as pd\n",
    "\n",
    "# Импорт модуля\n",
    "from oceanai.modules.lab.build import Run\n",
    "\n",
    "out = False\n",
    "\n",
    "# Создание экземпляра класса\n",
    "_b5 = Run(lang='en',metadata=out)\n",
    "\n",
    "# Настройка ядра\n",
    "_b5.path_to_save_ = './models' # Директория для сохранения файла\n",
    "_b5.chunk_size_ = 2000000      # Размер загрузки файла из сети за 1 шаг\n",
    "\n",
    "corpus = 'fi'\n",
    "\n",
    "# Формирование аудиомоделей\n",
    "res_load_model_hc = _b5.load_audio_model_hc(out=out)\n",
    "res_load_model_nn = _b5.load_audio_model_nn(out=out)\n",
    "\n",
    "# Загрузка весов аудиомоделей\n",
    "url = _b5.weights_for_big5_['audio'][corpus]['hc']['sberdisk']\n",
    "res_load_model_weights_hc = _b5.load_audio_model_weights_hc(url = url, out=out)\n",
    "\n",
    "url = _b5.weights_for_big5_['audio'][corpus]['nn']['sberdisk']\n",
    "res_load_model_weights_nn = _b5.load_audio_model_weights_nn(url = url, out=out)\n",
    "\n",
    "# Формирование видеомоделей\n",
    "res_load_model_hc = _b5.load_video_model_hc(lang='en', out=out)\n",
    "res_load_model_deep_fe = _b5.load_video_model_deep_fe(out=out)\n",
    "res_load_model_nn = _b5.load_video_model_nn(out=out)\n",
    "\n",
    "# Загрузка весов видеомоделей\n",
    "url = _b5.weights_for_big5_['video'][corpus]['hc']['sberdisk']\n",
    "res_load_model_weights_hc = _b5.load_video_model_weights_hc(url = url, out=out)\n",
    "\n",
    "url = _b5.weights_for_big5_['video'][corpus]['fe']['sberdisk']\n",
    "res_load_model_weights_deep_fe = _b5.load_video_model_weights_deep_fe(url = url, out=out)\n",
    "\n",
    "url = _b5.weights_for_big5_['video'][corpus]['nn']['sberdisk']\n",
    "res_load_model_weights_nn = _b5.load_video_model_weights_nn(url = url, out=out)\n",
    "\n",
    "# Загрузка словаря с экспертными признаками (текстовая модальность)\n",
    "res_load_text_features = _b5.load_text_features(out=out)\n",
    "\n",
    "# Формирование текстовых моделей \n",
    "res_setup_translation_model = _b5.setup_translation_model() # только для русского языка\n",
    "res_setup_translation_model = _b5.setup_bert_encoder(force_reload = False, out=out)\n",
    "res_load_text_model_hc_fi = _b5.load_text_model_hc(corpus=corpus, out=out)\n",
    "res_load_text_model_nn_fi = _b5.load_text_model_nn(corpus=corpus, out=out)\n",
    "\n",
    "# Загрузка весов текстовых моделей\n",
    "url = _b5.weights_for_big5_['text'][corpus]['hc']['sberdisk']\n",
    "res_load_text_model_weights_hc_fi = _b5.load_text_model_weights_hc(url = url, out=out)\n",
    "\n",
    "url = _b5.weights_for_big5_['text'][corpus]['nn']['sberdisk']\n",
    "res_load_text_model_weights_nn_fi = _b5.load_text_model_weights_nn(url = url, out=out)\n",
    "\n",
    "# Формирование модели для мультимодального объединения информации\n",
    "res_load_avt_model_b5 = _b5.load_avt_model_b5(out=out)\n",
    "\n",
    "# Загрузка весов модели для мультимодального объединения информации\n",
    "url = _b5.weights_for_big5_['avt'][corpus]['b5']['sberdisk']\n",
    "res_load_avt_model_weights_b5 = _b5.load_avt_model_weights_b5(url = url, out=out)\n",
    "\n",
    "PATH_TO_DIR = 'E:/video_FI/'\n",
    "PATH_SAVE_VIDEO = 'E:/video_FI/test/'\n",
    "\n",
    "_b5.path_to_save_ = PATH_SAVE_VIDEO\n",
    "\n",
    "# Загрузка 10 тестовых аудиовидеозаписей из корпуса First Impression V2\n",
    "# URL: https://chalearnlap.cvc.uab.cat/dataset/24/description/\n",
    "domain = 'https://download.sberdisk.ru/download/file/'\n",
    "tets_name_files = [\n",
    "    '429713680?token=FqHdMLSSh7zYSZt&filename=_plk5k7PBEg.003.mp4',\n",
    "    '429713681?token=Hz9b4lQkrLfic33&filename=be0DQawtVkE.002.mp4',\n",
    "    '429713683?token=EgUXS9Xs8xHm5gz&filename=2d6btbaNdfo.000.mp4',\n",
    "    '429713684?token=1U26753kmPYdIgt&filename=300gK3CnzW0.003.mp4',\n",
    "    '429713685?token=LyigAWLTzDNwKJO&filename=300gK3CnzW0.001.mp4',\n",
    "    '429713686?token=EpfRbCKHyuc4HPu&filename=cLaZxEf1nE4.004.mp4',\n",
    "    '429713687?token=FNTkwqBr4jOS95l&filename=g24JGYuT74A.004.mp4',\n",
    "    '429713688?token=qDT95nz7hfm2Nki&filename=JZNMxa3OKHY.000.mp4',\n",
    "    '429713689?token=noLguEGXDpbcKhg&filename=nvlqJbHk_Lc.003.mp4',\n",
    "    '429713679?token=9L7RQ0hgdJlcek6&filename=4vdJGgZpj4k.003.mp4'\n",
    "]\n",
    "\n",
    "for curr_files in tets_name_files:\n",
    "    _b5.download_file_from_url(url = domain + curr_files, out = out)\n",
    "\n",
    "# Получение прогнозов\n",
    "_b5.path_to_dataset_ = PATH_TO_DIR # Директория набора данных\n",
    "_b5.ext_ = ['.mp4'] # Расширения искомых файлов\n",
    "\n",
    "# Полный путь к файлу с верными предсказаниями для подсчета точности\n",
    "url_accuracy = _b5.true_traits_[corpus]['sberdisk']\n",
    "\n",
    "_b5.get_avt_predictions(url_accuracy = url_accuracy, lang = 'en', out=out)"
   ]
  },
  {
   "cell_type": "code",
   "execution_count": 4,
   "id": "b8271d0b-086c-4c4d-8947-762ca5456234",
   "metadata": {},
   "outputs": [
    {
     "data": {
      "text/html": [
       "<div>\n",
       "<style scoped>\n",
       "    .dataframe tbody tr th:only-of-type {\n",
       "        vertical-align: middle;\n",
       "    }\n",
       "\n",
       "    .dataframe tbody tr th {\n",
       "        vertical-align: top;\n",
       "    }\n",
       "\n",
       "    .dataframe thead th {\n",
       "        text-align: right;\n",
       "    }\n",
       "</style>\n",
       "<table border=\"1\" class=\"dataframe\">\n",
       "  <thead>\n",
       "    <tr style=\"text-align: right;\">\n",
       "      <th></th>\n",
       "      <th>Path</th>\n",
       "      <th>Openness</th>\n",
       "      <th>Conscientiousness</th>\n",
       "      <th>Extraversion</th>\n",
       "      <th>Agreeableness</th>\n",
       "      <th>Non-Neuroticism</th>\n",
       "    </tr>\n",
       "    <tr>\n",
       "      <th>Person ID</th>\n",
       "      <th></th>\n",
       "      <th></th>\n",
       "      <th></th>\n",
       "      <th></th>\n",
       "      <th></th>\n",
       "      <th></th>\n",
       "    </tr>\n",
       "  </thead>\n",
       "  <tbody>\n",
       "    <tr>\n",
       "      <th>1</th>\n",
       "      <td>2d6btbaNdfo.000.mp4</td>\n",
       "      <td>0.581159</td>\n",
       "      <td>0.628823</td>\n",
       "      <td>0.466609</td>\n",
       "      <td>0.62213</td>\n",
       "      <td>0.553834</td>\n",
       "    </tr>\n",
       "    <tr>\n",
       "      <th>2</th>\n",
       "      <td>300gK3CnzW0.001.mp4</td>\n",
       "      <td>0.463989</td>\n",
       "      <td>0.418848</td>\n",
       "      <td>0.413009</td>\n",
       "      <td>0.493328</td>\n",
       "      <td>0.423091</td>\n",
       "    </tr>\n",
       "    <tr>\n",
       "      <th>3</th>\n",
       "      <td>300gK3CnzW0.003.mp4</td>\n",
       "      <td>0.454278</td>\n",
       "      <td>0.415046</td>\n",
       "      <td>0.39189</td>\n",
       "      <td>0.485112</td>\n",
       "      <td>0.420738</td>\n",
       "    </tr>\n",
       "    <tr>\n",
       "      <th>4</th>\n",
       "      <td>4vdJGgZpj4k.003.mp4</td>\n",
       "      <td>0.588461</td>\n",
       "      <td>0.643233</td>\n",
       "      <td>0.530789</td>\n",
       "      <td>0.603038</td>\n",
       "      <td>0.593398</td>\n",
       "    </tr>\n",
       "    <tr>\n",
       "      <th>5</th>\n",
       "      <td>be0DQawtVkE.002.mp4</td>\n",
       "      <td>0.633434</td>\n",
       "      <td>0.533297</td>\n",
       "      <td>0.523742</td>\n",
       "      <td>0.608592</td>\n",
       "      <td>0.588457</td>\n",
       "    </tr>\n",
       "    <tr>\n",
       "      <th>6</th>\n",
       "      <td>cLaZxEf1nE4.004.mp4</td>\n",
       "      <td>0.636944</td>\n",
       "      <td>0.542386</td>\n",
       "      <td>0.558461</td>\n",
       "      <td>0.570975</td>\n",
       "      <td>0.558983</td>\n",
       "    </tr>\n",
       "    <tr>\n",
       "      <th>7</th>\n",
       "      <td>g24JGYuT74A.004.mp4</td>\n",
       "      <td>0.531518</td>\n",
       "      <td>0.376986</td>\n",
       "      <td>0.393308</td>\n",
       "      <td>0.4904</td>\n",
       "      <td>0.44788</td>\n",
       "    </tr>\n",
       "    <tr>\n",
       "      <th>8</th>\n",
       "      <td>JZNMxa3OKHY.000.mp4</td>\n",
       "      <td>0.610342</td>\n",
       "      <td>0.541418</td>\n",
       "      <td>0.563163</td>\n",
       "      <td>0.595014</td>\n",
       "      <td>0.569461</td>\n",
       "    </tr>\n",
       "    <tr>\n",
       "      <th>9</th>\n",
       "      <td>nvlqJbHk_Lc.003.mp4</td>\n",
       "      <td>0.495809</td>\n",
       "      <td>0.458527</td>\n",
       "      <td>0.414437</td>\n",
       "      <td>0.469153</td>\n",
       "      <td>0.435461</td>\n",
       "    </tr>\n",
       "    <tr>\n",
       "      <th>10</th>\n",
       "      <td>_plk5k7PBEg.003.mp4</td>\n",
       "      <td>0.60707</td>\n",
       "      <td>0.591893</td>\n",
       "      <td>0.520662</td>\n",
       "      <td>0.603938</td>\n",
       "      <td>0.565726</td>\n",
       "    </tr>\n",
       "  </tbody>\n",
       "</table>\n",
       "</div>"
      ],
      "text/plain": [
       "                          Path  Openness Conscientiousness Extraversion  \\\n",
       "Person ID                                                                 \n",
       "1          2d6btbaNdfo.000.mp4  0.581159          0.628823     0.466609   \n",
       "2          300gK3CnzW0.001.mp4  0.463989          0.418848     0.413009   \n",
       "3          300gK3CnzW0.003.mp4  0.454278          0.415046      0.39189   \n",
       "4          4vdJGgZpj4k.003.mp4  0.588461          0.643233     0.530789   \n",
       "5          be0DQawtVkE.002.mp4  0.633434          0.533297     0.523742   \n",
       "6          cLaZxEf1nE4.004.mp4  0.636944          0.542386     0.558461   \n",
       "7          g24JGYuT74A.004.mp4  0.531518          0.376986     0.393308   \n",
       "8          JZNMxa3OKHY.000.mp4  0.610342          0.541418     0.563163   \n",
       "9          nvlqJbHk_Lc.003.mp4  0.495809          0.458527     0.414437   \n",
       "10         _plk5k7PBEg.003.mp4   0.60707          0.591893     0.520662   \n",
       "\n",
       "          Agreeableness Non-Neuroticism  \n",
       "Person ID                                \n",
       "1               0.62213        0.553834  \n",
       "2              0.493328        0.423091  \n",
       "3              0.485112        0.420738  \n",
       "4              0.603038        0.593398  \n",
       "5              0.608592        0.588457  \n",
       "6              0.570975        0.558983  \n",
       "7                0.4904         0.44788  \n",
       "8              0.595014        0.569461  \n",
       "9              0.469153        0.435461  \n",
       "10             0.603938        0.565726  "
      ]
     },
     "execution_count": 4,
     "metadata": {},
     "output_type": "execute_result"
    }
   ],
   "source": [
    "_b5.df_files_"
   ]
  },
  {
   "cell_type": "code",
   "execution_count": 4,
   "id": "12e03f26-c0c2-484a-a2b0-9b39dd2986b3",
   "metadata": {},
   "outputs": [
    {
     "data": {
      "text/plain": [
       "<tf.Tensor: shape=(1, 5), dtype=float32, numpy=\n",
       "array([[0.50904095, 0.48697862, 0.4809517 , 0.51055527, 0.48917973]],\n",
       "      dtype=float32)>"
      ]
     },
     "execution_count": 4,
     "metadata": {},
     "output_type": "execute_result"
    }
   ],
   "source": [
    "import numpy as np\n",
    "_b5.avt_model_b5_([np.zeros((1, 128)), np.zeros((1, 128)), np.zeros((1, 256)), np.zeros((1, 512)), np.zeros((1, 256)), np.zeros((1, 2048))])"
   ]
  },
  {
   "cell_type": "markdown",
   "id": "00e6f77b-6518-4c5e-9564-2a8053d1918d",
   "metadata": {},
   "source": [
    "1) pip install tf-keras\n",
    "\n",
    "2) ValueError: Argument `name` must be a string and cannot contain character `/`. Received: name=conv1/7x7_s2 (of type <class 'str'>)\n",
    "3) Argument `name` must be a string and cannot contain character `/`. Received: name=model_hc/input (of type <class 'str'>)\n",
    "\n",
    "4) TypeError: Exception encountered when calling GFL.call().\n",
    "\n",
    "int() argument must be a string, a bytes-like object or a number, not 'NoneType'\n",
    "\n",
    "Arguments received by GFL.call():\n",
    "  • args=(['<KerasTensor shape=(None, 128), dtype=float32, sparse=False, name=keras_tensor_233>', '<KerasTensor shape=(None, 256), dtype=float32, sparse=False, name=keras_tensor_235>', '<KerasTensor shape=(None, 128), dtype=float32, sparse=False, name=keras_tensor_234>', '<KerasTensor shape=(None, 512), dtype=float32, sparse=False, name=keras_tensor_236>'],)\n",
    "  • kwargs=<class 'inspect._empty'>\n",
    "    \n",
    "Изменила слой Addition и GFL и prediction\n",
    "    \n",
    "[2024-03-23 10:45:54] Something went wrong ... neural network architecture of the model for obtaining scores by hand-crafted and deep features is not formed (text modality) ..."
   ]
  },
  {
   "cell_type": "code",
   "execution_count": 2,
   "id": "750af7b3-07c7-4d03-9c17-bfe0359b0963",
   "metadata": {},
   "outputs": [
    {
     "data": {
      "text/plain": [
       "True"
      ]
     },
     "execution_count": 2,
     "metadata": {},
     "output_type": "execute_result"
    }
   ],
   "source": [
    "res_load_model_weights_nn"
   ]
  },
  {
   "cell_type": "code",
   "execution_count": 4,
   "id": "61f08160-d667-4a47-8b60-a05131704d5b",
   "metadata": {},
   "outputs": [
    {
     "data": {
      "text/plain": [
       "False"
      ]
     },
     "execution_count": 4,
     "metadata": {},
     "output_type": "execute_result"
    }
   ],
   "source": [
    "out"
   ]
  },
  {
   "cell_type": "code",
   "execution_count": 1,
   "id": "f805dd3e-39b5-4e93-baa9-2c9ea4aa0cfb",
   "metadata": {},
   "outputs": [
    {
     "data": {
      "text/markdown": [
       "<span style=\"color:#666\">**[</span><span style=\"color:#1776D2\">2024-03-23 17:39:54</span><span style=\"color:#666\">]</span> <span style=\"color:#666\">Downloading a file \"<span style=\"color:#1776D2\">bert-base-multilingual-cased.zip</span>\"</span>** "
      ],
      "text/plain": [
       "<IPython.core.display.Markdown object>"
      ]
     },
     "metadata": {},
     "output_type": "display_data"
    },
    {
     "data": {
      "text/markdown": [
       "<span style=\"color:#666\">**[</span><span style=\"color:#1776D2\">2024-03-23 17:39:54</span><span style=\"color:#666\">]</span> <span style=\"color:#666\">Unzipping an archive \"<span style=\"color:#1776D2\">bert-base-multilingual-cased.zip</span>\" ...</span>** "
      ],
      "text/plain": [
       "<IPython.core.display.Markdown object>"
      ]
     },
     "metadata": {},
     "output_type": "display_data"
    }
   ],
   "source": [
    "# Импорт необходимых инструментов\n",
    "import os\n",
    "import pandas as pd\n",
    "\n",
    "# Импорт модуля\n",
    "from oceanai.modules.lab.build import Run\n",
    "\n",
    "out = False\n",
    "\n",
    "# Создание экземпляра класса\n",
    "_b5 = Run(lang='en',metadata=out)\n",
    "\n",
    "# Настройка ядра\n",
    "_b5.path_to_save_ = './models' # Директория для сохранения файла\n",
    "_b5.chunk_size_ = 2000000      # Размер загрузки файла из сети за 1 шаг\n",
    "\n",
    "corpus = 'fi'\n",
    "\n",
    "# Формирование аудиомоделей\n",
    "res_load_model_hc = _b5.load_audio_model_hc(out=out)\n",
    "res_load_model_nn = _b5.load_audio_model_nn(out=out)\n",
    "\n",
    "# Загрузка весов аудиомоделей\n",
    "url = _b5.weights_for_big5_['audio'][corpus]['hc']['sberdisk']\n",
    "res_load_model_weights_hc = _b5.load_audio_model_weights_hc(url = url, out=out)\n",
    "\n",
    "url = _b5.weights_for_big5_['audio'][corpus]['nn']['sberdisk']\n",
    "res_load_model_weights_nn = _b5.load_audio_model_weights_nn(url = url, out=out)\n",
    "\n",
    "# Формирование видеомоделей\n",
    "res_load_model_hc = _b5.load_video_model_hc(lang='en', out=out)\n",
    "res_load_model_deep_fe = _b5.load_video_model_deep_fe(out=out)\n",
    "res_load_model_nn = _b5.load_video_model_nn(out=out)\n",
    "\n",
    "# Загрузка весов видеомоделей\n",
    "url = _b5.weights_for_big5_['video'][corpus]['hc']['sberdisk']\n",
    "res_load_model_weights_hc = _b5.load_video_model_weights_hc(url = url, out=out)\n",
    "\n",
    "url = _b5.weights_for_big5_['video'][corpus]['fe']['sberdisk']\n",
    "res_load_model_weights_deep_fe = _b5.load_video_model_weights_deep_fe(url = url, out=out)\n",
    "\n",
    "url = _b5.weights_for_big5_['video'][corpus]['nn']['sberdisk']\n",
    "res_load_model_weights_nn = _b5.load_video_model_weights_nn(url = url, out=out)\n",
    "\n",
    "# Загрузка словаря с экспертными признаками (текстовая модальность)\n",
    "res_load_text_features = _b5.load_text_features(out=out)\n",
    "\n",
    "# Формирование текстовых моделей \n",
    "res_setup_translation_model = _b5.setup_translation_model() # только для русского языка\n",
    "res_setup_translation_model = _b5.setup_bert_encoder(force_reload = False, out=out)\n",
    "res_load_text_model_hc_fi = _b5.load_text_model_hc(corpus=corpus, out=out)\n",
    "res_load_text_model_nn_fi = _b5.load_text_model_nn(corpus=corpus, out=out)\n",
    "\n",
    "# Загрузка весов текстовых моделей\n",
    "url = _b5.weights_for_big5_['text'][corpus]['hc']['sberdisk']\n",
    "res_load_text_model_weights_hc_fi = _b5.load_text_model_weights_hc(url = url, out=out)\n",
    "\n",
    "url = _b5.weights_for_big5_['text'][corpus]['nn']['sberdisk']\n",
    "res_load_text_model_weights_nn_fi = _b5.load_text_model_weights_nn(url = url, out=out)\n",
    "\n",
    "# Формирование модели для мультимодального объединения информации\n",
    "res_load_avt_model_b5 = _b5.load_avt_model_b5(out=out)\n",
    "\n",
    "# Загрузка весов модели для мультимодального объединения информации\n",
    "url = _b5.weights_for_big5_['avt'][corpus]['b5']['sberdisk']\n",
    "res_load_avt_model_weights_b5 = _b5.load_avt_model_weights_b5(url = url, out=out)"
   ]
  },
  {
   "cell_type": "code",
   "execution_count": 2,
   "id": "c61a4e27-077b-472d-823d-5c5756454700",
   "metadata": {
    "tags": []
   },
   "outputs": [
    {
     "data": {
      "text/plain": [
       "True"
      ]
     },
     "execution_count": 2,
     "metadata": {},
     "output_type": "execute_result"
    }
   ],
   "source": [
    "_b5.ext_ = ['.mp4', '.avi']\n",
    "\n",
    "_b5.get_avt_predictions_gradio(paths = ['C:/Work/Datasets/C-EXPR-DB/30.mp4','C:/Work/Datasets/C-EXPR-DB/20.mp4','C:/Work/Datasets/C-EXPR-DB/32.mp4', 'D:/Databases/AFEW/Train_AFEW/Happy/001335200.avi'], url_accuracy = '', accuracy=False,lang = 'en', out=out)"
   ]
  },
  {
   "cell_type": "code",
   "execution_count": 3,
   "id": "4e7e4155-a53e-4f0b-b273-525e6ad4b896",
   "metadata": {},
   "outputs": [
    {
     "data": {
      "text/html": [
       "<div>\n",
       "<style scoped>\n",
       "    .dataframe tbody tr th:only-of-type {\n",
       "        vertical-align: middle;\n",
       "    }\n",
       "\n",
       "    .dataframe tbody tr th {\n",
       "        vertical-align: top;\n",
       "    }\n",
       "\n",
       "    .dataframe thead th {\n",
       "        text-align: right;\n",
       "    }\n",
       "</style>\n",
       "<table border=\"1\" class=\"dataframe\">\n",
       "  <thead>\n",
       "    <tr style=\"text-align: right;\">\n",
       "      <th></th>\n",
       "      <th>Path</th>\n",
       "      <th>Openness</th>\n",
       "      <th>Conscientiousness</th>\n",
       "      <th>Extraversion</th>\n",
       "      <th>Agreeableness</th>\n",
       "      <th>Non-Neuroticism</th>\n",
       "    </tr>\n",
       "    <tr>\n",
       "      <th>Person ID</th>\n",
       "      <th></th>\n",
       "      <th></th>\n",
       "      <th></th>\n",
       "      <th></th>\n",
       "      <th></th>\n",
       "      <th></th>\n",
       "    </tr>\n",
       "  </thead>\n",
       "  <tbody>\n",
       "    <tr>\n",
       "      <th>1</th>\n",
       "      <td>30.mp4</td>\n",
       "      <td>0.48441</td>\n",
       "      <td>0.509728</td>\n",
       "      <td>0.411583</td>\n",
       "      <td>0.467303</td>\n",
       "      <td>0.412453</td>\n",
       "    </tr>\n",
       "    <tr>\n",
       "      <th>2</th>\n",
       "      <td>20.mp4</td>\n",
       "      <td>0.490088</td>\n",
       "      <td>0.378935</td>\n",
       "      <td>0.331551</td>\n",
       "      <td>0.411784</td>\n",
       "      <td>0.351743</td>\n",
       "    </tr>\n",
       "    <tr>\n",
       "      <th>3</th>\n",
       "      <td>32.mp4</td>\n",
       "      <td>0.475234</td>\n",
       "      <td>0.427426</td>\n",
       "      <td>0.378124</td>\n",
       "      <td>0.469188</td>\n",
       "      <td>0.403963</td>\n",
       "    </tr>\n",
       "    <tr>\n",
       "      <th>4</th>\n",
       "      <td>001335200.avi</td>\n",
       "      <td>0.451305</td>\n",
       "      <td>0.582631</td>\n",
       "      <td>0.471983</td>\n",
       "      <td>0.501612</td>\n",
       "      <td>0.458103</td>\n",
       "    </tr>\n",
       "  </tbody>\n",
       "</table>\n",
       "</div>"
      ],
      "text/plain": [
       "                    Path  Openness Conscientiousness Extraversion  \\\n",
       "Person ID                                                           \n",
       "1                 30.mp4   0.48441          0.509728     0.411583   \n",
       "2                 20.mp4  0.490088          0.378935     0.331551   \n",
       "3                 32.mp4  0.475234          0.427426     0.378124   \n",
       "4          001335200.avi  0.451305          0.582631     0.471983   \n",
       "\n",
       "          Agreeableness Non-Neuroticism  \n",
       "Person ID                                \n",
       "1              0.467303        0.412453  \n",
       "2              0.411784        0.351743  \n",
       "3              0.469188        0.403963  \n",
       "4              0.501612        0.458103  "
      ]
     },
     "execution_count": 3,
     "metadata": {},
     "output_type": "execute_result"
    }
   ],
   "source": [
    "_b5.df_files_"
   ]
  },
  {
   "cell_type": "code",
   "execution_count": null,
   "id": "5d1c0563-5543-4259-b820-1835496c751d",
   "metadata": {},
   "outputs": [],
   "source": []
  }
 ],
 "metadata": {
  "kernelspec": {
   "display_name": "Python 3 (ipykernel)",
   "language": "python",
   "name": "python3"
  },
  "language_info": {
   "codemirror_mode": {
    "name": "ipython",
    "version": 3
   },
   "file_extension": ".py",
   "mimetype": "text/x-python",
   "name": "python",
   "nbconvert_exporter": "python",
   "pygments_lexer": "ipython3",
   "version": "3.9.13"
  }
 },
 "nbformat": 4,
 "nbformat_minor": 5
}
