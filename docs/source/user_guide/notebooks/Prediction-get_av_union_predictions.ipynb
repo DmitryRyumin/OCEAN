{
 "cells": [
  {
   "cell_type": "markdown",
   "metadata": {
    "tags": []
   },
   "source": [
    "## Мультимодальное объединение для получения прогнозов по аудио и видео\n",
    "\n",
    "<hr>"
   ]
  },
  {
   "cell_type": "code",
   "execution_count": 1,
   "metadata": {
    "nbsphinx": "hidden",
    "tags": []
   },
   "outputs": [],
   "source": [
    "import os  # Взаимодействие с файловой системой\n",
    "import sys # Доступ к некоторым переменным и функциям Python\n",
    "\n",
    "PATH_TO_SOURCE = os.path.abspath(os.path.dirname(globals()['_dh'][0]))\n",
    "PATH_TO_ROOT = os.path.join(PATH_TO_SOURCE, '..', '..', '..')\n",
    "\n",
    "sys.path.insert(0, os.path.abspath(PATH_TO_ROOT))"
   ]
  },
  {
   "cell_type": "markdown",
   "metadata": {},
   "source": [
    "### Импорт необходимых инструментов"
   ]
  },
  {
   "cell_type": "code",
   "execution_count": 2,
   "metadata": {},
   "outputs": [
    {
     "name": "stderr",
     "output_type": "stream",
     "text": [
      "INFO: Created TensorFlow Lite XNNPACK delegate for CPU.\n"
     ]
    }
   ],
   "source": [
    "from oceanai.modules.lab.build import Run"
   ]
  },
  {
   "cell_type": "markdown",
   "metadata": {},
   "source": [
    "### Сборка"
   ]
  },
  {
   "cell_type": "code",
   "execution_count": 3,
   "metadata": {},
   "outputs": [
    {
     "data": {
      "text/markdown": [
       "<span style=\"color:#FFF\">**[</span><span style=\"color:#1776D2\">2022-12-11 21:18:41</span><span style=\"color:#FFF\">]</span> <span style=\"color:#FFF\">OCEANAI - персональные качества личности человека:</span>**<br /><span style=\"color:#FFF\">&nbsp;&nbsp;&nbsp;&nbsp;Авторы:</span><br /><span style=\"color:#FFF\">&nbsp;&nbsp;&nbsp;&nbsp;&nbsp;&nbsp;&nbsp;&nbsp;Рюмина Елена [<u>ryumina_ev@mail.ru</u>]</span><br /><span style=\"color:#FFF\">&nbsp;&nbsp;&nbsp;&nbsp;&nbsp;&nbsp;&nbsp;&nbsp;Рюмин Дмитрий [<u>dl_03.03.1991@mail.ru</u>]</span><br /><span style=\"color:#FFF\">&nbsp;&nbsp;&nbsp;&nbsp;&nbsp;&nbsp;&nbsp;&nbsp;Карпов Алексей [<u>karpov@iias.spb.su</u>]</span><br /><span style=\"color:#FFF\">&nbsp;&nbsp;&nbsp;&nbsp;Сопровождающие:</span><br /><span style=\"color:#FFF\">&nbsp;&nbsp;&nbsp;&nbsp;&nbsp;&nbsp;&nbsp;&nbsp;Рюмина Елена [<u>ryumina_ev@mail.ru</u>]</span><br /><span style=\"color:#FFF\">&nbsp;&nbsp;&nbsp;&nbsp;&nbsp;&nbsp;&nbsp;&nbsp;Рюмин Дмитрий [<u>dl_03.03.1991@mail.ru</u>]</span><br /><span style=\"color:#FFF\">&nbsp;&nbsp;&nbsp;&nbsp;Версия: <u>1.0.0a2</u></span><br /><span style=\"color:#FFF\">&nbsp;&nbsp;&nbsp;&nbsp;Лицензия: <u>BSD License</u></span></p>"
      ],
      "text/plain": [
       "<IPython.core.display.Markdown object>"
      ]
     },
     "metadata": {},
     "output_type": "display_data"
    }
   ],
   "source": [
    "_b5 = Run(\n",
    "    lang = 'ru', # Язык\n",
    "    color_simple = '#FFF', # Цвет обычного текста (шестнадцатеричный код)\n",
    "    color_info = '#1776D2', # Цвет текста содержащего информацию (шестнадцатеричный код)\n",
    "    color_err = '#FF0000', # Цвет текста содержащего ошибку (шестнадцатеричный код)\n",
    "    color_true = '#008001', # Цвет текста содержащего положительную информацию (шестнадцатеричный код)\n",
    "    bold_text = True, # Жирное начертание текста\n",
    "    num_to_df_display = 30, # Количество строк для отображения в таблицах\n",
    "    text_runtime = 'Время выполнения', # Текст времени выполнения\n",
    "    metadata = True # Отображение информации о библиотеке\n",
    ")"
   ]
  },
  {
   "cell_type": "markdown",
   "metadata": {},
   "source": [
    "### Получение и отображение версий установленных библиотек\n",
    "\n",
    "> - `_b5.df_pkgs_` - DataFrame c версиями установленных библиотек"
   ]
  },
  {
   "cell_type": "code",
   "execution_count": 4,
   "metadata": {},
   "outputs": [
    {
     "data": {
      "text/html": [
       "<div>\n",
       "<style scoped>\n",
       "    .dataframe tbody tr th:only-of-type {\n",
       "        vertical-align: middle;\n",
       "    }\n",
       "\n",
       "    .dataframe tbody tr th {\n",
       "        vertical-align: top;\n",
       "    }\n",
       "\n",
       "    .dataframe thead th {\n",
       "        text-align: right;\n",
       "    }\n",
       "</style>\n",
       "<table border=\"1\" class=\"dataframe\">\n",
       "  <thead>\n",
       "    <tr style=\"text-align: right;\">\n",
       "      <th></th>\n",
       "      <th>Package</th>\n",
       "      <th>Version</th>\n",
       "    </tr>\n",
       "  </thead>\n",
       "  <tbody>\n",
       "    <tr>\n",
       "      <th>1</th>\n",
       "      <td>TensorFlow</td>\n",
       "      <td>2.11.0</td>\n",
       "    </tr>\n",
       "    <tr>\n",
       "      <th>2</th>\n",
       "      <td>Keras</td>\n",
       "      <td>2.11.0</td>\n",
       "    </tr>\n",
       "    <tr>\n",
       "      <th>3</th>\n",
       "      <td>OpenCV</td>\n",
       "      <td>4.6.0</td>\n",
       "    </tr>\n",
       "    <tr>\n",
       "      <th>4</th>\n",
       "      <td>MediaPipe</td>\n",
       "      <td>0.9.0</td>\n",
       "    </tr>\n",
       "    <tr>\n",
       "      <th>5</th>\n",
       "      <td>NumPy</td>\n",
       "      <td>1.23.5</td>\n",
       "    </tr>\n",
       "    <tr>\n",
       "      <th>6</th>\n",
       "      <td>SciPy</td>\n",
       "      <td>1.9.3</td>\n",
       "    </tr>\n",
       "    <tr>\n",
       "      <th>7</th>\n",
       "      <td>Pandas</td>\n",
       "      <td>1.5.2</td>\n",
       "    </tr>\n",
       "    <tr>\n",
       "      <th>8</th>\n",
       "      <td>Scikit-learn</td>\n",
       "      <td>1.1.3</td>\n",
       "    </tr>\n",
       "    <tr>\n",
       "      <th>9</th>\n",
       "      <td>OpenSmile</td>\n",
       "      <td>2.4.1</td>\n",
       "    </tr>\n",
       "    <tr>\n",
       "      <th>10</th>\n",
       "      <td>Librosa</td>\n",
       "      <td>0.9.2</td>\n",
       "    </tr>\n",
       "    <tr>\n",
       "      <th>11</th>\n",
       "      <td>AudioRead</td>\n",
       "      <td>3.0.0</td>\n",
       "    </tr>\n",
       "    <tr>\n",
       "      <th>12</th>\n",
       "      <td>IPython</td>\n",
       "      <td>8.7.0</td>\n",
       "    </tr>\n",
       "    <tr>\n",
       "      <th>13</th>\n",
       "      <td>PyMediaInfo</td>\n",
       "      <td>6.0.1</td>\n",
       "    </tr>\n",
       "    <tr>\n",
       "      <th>14</th>\n",
       "      <td>Requests</td>\n",
       "      <td>2.28.1</td>\n",
       "    </tr>\n",
       "    <tr>\n",
       "      <th>15</th>\n",
       "      <td>JupyterLab</td>\n",
       "      <td>3.5.0</td>\n",
       "    </tr>\n",
       "  </tbody>\n",
       "</table>\n",
       "</div>"
      ],
      "text/plain": [
       "         Package Version\n",
       "1     TensorFlow  2.11.0\n",
       "2          Keras  2.11.0\n",
       "3         OpenCV   4.6.0\n",
       "4      MediaPipe   0.9.0\n",
       "5          NumPy  1.23.5\n",
       "6          SciPy   1.9.3\n",
       "7         Pandas   1.5.2\n",
       "8   Scikit-learn   1.1.3\n",
       "9      OpenSmile   2.4.1\n",
       "10       Librosa   0.9.2\n",
       "11     AudioRead   3.0.0\n",
       "12       IPython   8.7.0\n",
       "13   PyMediaInfo   6.0.1\n",
       "14      Requests  2.28.1\n",
       "15    JupyterLab   3.5.0"
      ]
     },
     "metadata": {},
     "output_type": "display_data"
    },
    {
     "data": {
      "text/markdown": [
       "<span style=\"color:#FFF\">**--- Время выполнения: 0.009 сек. ---**</span>"
      ],
      "text/plain": [
       "<IPython.core.display.Markdown object>"
      ]
     },
     "metadata": {},
     "output_type": "display_data"
    }
   ],
   "source": [
    "_b5.libs_vers(runtime = True, run = True)"
   ]
  },
  {
   "cell_type": "markdown",
   "metadata": {},
   "source": [
    "### Формирование нейросетевой архитектуры модели для получения оценок по экспертным признакам (аудио модальность)\n",
    "\n",
    "> - `_b5.audio_model_hc_` - Нейросетевая модель **tf.keras.Model** для получения оценок по экспертным признакам"
   ]
  },
  {
   "cell_type": "code",
   "execution_count": 5,
   "metadata": {},
   "outputs": [
    {
     "data": {
      "text/markdown": [
       "<span style=\"color:#FFF\">**[</span><span style=\"color:#1776D2\">2022-12-11 21:18:41</span><span style=\"color:#FFF\">]</span> <span style=\"color:#FFF\">Формирование нейросетевой архитектуры модели для получения оценок по экспертным признакам (аудио модальность) ...</span>** "
      ],
      "text/plain": [
       "<IPython.core.display.Markdown object>"
      ]
     },
     "metadata": {},
     "output_type": "display_data"
    },
    {
     "data": {
      "text/markdown": [
       "<span style=\"color:#FFF\">**--- Время выполнения: 0.55 сек. ---**</span>"
      ],
      "text/plain": [
       "<IPython.core.display.Markdown object>"
      ]
     },
     "metadata": {},
     "output_type": "display_data"
    }
   ],
   "source": [
    "res_load_audio_model_hc = _b5.load_audio_model_hc(\n",
    "    show_summary = False, # Отображение сформированной нейросетевой архитектуры модели\n",
    "    out = True, # Отображение\n",
    "    runtime = True, # Подсчет времени выполнения\n",
    "    run = True # Блокировка выполнения\n",
    ")"
   ]
  },
  {
   "cell_type": "markdown",
   "metadata": {},
   "source": [
    "#### Загрузка весов нейросетевой модели для получения оценок по экспертным признакам (аудио модальность)\n",
    "\n",
    "> - `_b5.audio_model_hc_` - Нейросетевая модель **tf.keras.Model** для получения оценок по экспертным признакам"
   ]
  },
  {
   "cell_type": "code",
   "execution_count": 6,
   "metadata": {},
   "outputs": [
    {
     "data": {
      "text/markdown": [
       "<span style=\"color:#FFF\">**[</span><span style=\"color:#1776D2\">2022-12-11 21:18:42</span><span style=\"color:#FFF\">]</span> <span style=\"color:#FFF\">Загрузка весов нейросетевой модели для получения оценок по экспертным признакам (аудио модальность) ...</span>** "
      ],
      "text/plain": [
       "<IPython.core.display.Markdown object>"
      ]
     },
     "metadata": {},
     "output_type": "display_data"
    },
    {
     "data": {
      "text/markdown": [
       "<span style=\"color:#FFF\">**[</span><span style=\"color:#1776D2\">2022-12-11 21:18:42</span><span style=\"color:#FFF\">]</span> <span style=\"color:#FFF\">Загрузка файла \"<span style=\"color:#1776D2\">weights_2022-05-05_11-27-55.h5</span>\" (100.0%) ...</span>** "
      ],
      "text/plain": [
       "<IPython.core.display.Markdown object>"
      ]
     },
     "metadata": {},
     "output_type": "display_data"
    },
    {
     "data": {
      "text/markdown": [
       "<span style=\"color:#FFF\">**--- Время выполнения: 0.262 сек. ---**</span>"
      ],
      "text/plain": [
       "<IPython.core.display.Markdown object>"
      ]
     },
     "metadata": {},
     "output_type": "display_data"
    }
   ],
   "source": [
    "# Настройки ядра\n",
    "_b5.path_to_save_ = './models' # Директория для сохранения файла\n",
    "_b5.chunk_size_ = 2000000 # Размер загрузки файла из сети за 1 шаг\n",
    "\n",
    "url = _b5.weights_for_big5_['audio']['hc']['sberdisk']\n",
    "\n",
    "res_load_audio_model_weights_hc = _b5.load_audio_model_weights_hc(\n",
    "    url = url, # Полный путь к файлу с весами нейросетевой модели\n",
    "    force_reload = True, # Принудительная загрузка файла с весами нейросетевой модели из сети\n",
    "    out = True, # Отображение\n",
    "    runtime = True, # Подсчет времени выполнения\n",
    "    run = True # Блокировка выполнения\n",
    ")"
   ]
  },
  {
   "cell_type": "markdown",
   "metadata": {},
   "source": [
    "### Формирование нейросетевой архитектуры модели для получения оценок по нейросетевым признакам (аудио модальность)\n",
    "\n",
    "> - `_b5.audio_model_nn_` - Нейросетевая модель **tf.keras.Model** для получения оценок по нейросетевым признакам"
   ]
  },
  {
   "cell_type": "code",
   "execution_count": 7,
   "metadata": {},
   "outputs": [
    {
     "data": {
      "text/markdown": [
       "<span style=\"color:#FFF\">**[</span><span style=\"color:#1776D2\">2022-12-11 21:18:42</span><span style=\"color:#FFF\">]</span> <span style=\"color:#FFF\">Формирование нейросетевой архитектуры для получения оценок по нейросетевым признакам (аудио модальность) ...</span>** "
      ],
      "text/plain": [
       "<IPython.core.display.Markdown object>"
      ]
     },
     "metadata": {},
     "output_type": "display_data"
    },
    {
     "data": {
      "text/markdown": [
       "<span style=\"color:#FFF\">**--- Время выполнения: 0.335 сек. ---**</span>"
      ],
      "text/plain": [
       "<IPython.core.display.Markdown object>"
      ]
     },
     "metadata": {},
     "output_type": "display_data"
    }
   ],
   "source": [
    "res_load_audio_model_nn = _b5.load_audio_model_nn(\n",
    "    show_summary = False, # Отображение сформированной нейросетевой архитектуры модели\n",
    "    out = True, # Отображение\n",
    "    runtime = True, # Подсчет времени выполнения\n",
    "    run = True # Блокировка выполнения\n",
    ")"
   ]
  },
  {
   "cell_type": "markdown",
   "metadata": {},
   "source": [
    "#### Загрузка весов нейросетевой модели для получения оценок по нейросетевым признакам (аудио модальность)\n",
    "\n",
    "> - `_b5.audio_model_nn_` - Нейросетевая модель **tf.keras.Model** для получения оценок по нейросетевым признакам"
   ]
  },
  {
   "cell_type": "code",
   "execution_count": 8,
   "metadata": {},
   "outputs": [
    {
     "data": {
      "text/markdown": [
       "<span style=\"color:#FFF\">**[</span><span style=\"color:#1776D2\">2022-12-11 21:18:43</span><span style=\"color:#FFF\">]</span> <span style=\"color:#FFF\">Загрузка весов нейросетевой модели для получения оценок по нейросетевым признакам (аудио модальность) ...</span>** "
      ],
      "text/plain": [
       "<IPython.core.display.Markdown object>"
      ]
     },
     "metadata": {},
     "output_type": "display_data"
    },
    {
     "data": {
      "text/markdown": [
       "<span style=\"color:#FFF\">**[</span><span style=\"color:#1776D2\">2022-12-11 21:18:43</span><span style=\"color:#FFF\">]</span> <span style=\"color:#FFF\">Загрузка файла \"<span style=\"color:#1776D2\">weights_2022-05-03_07-46-14.h5</span>\"</span>** "
      ],
      "text/plain": [
       "<IPython.core.display.Markdown object>"
      ]
     },
     "metadata": {},
     "output_type": "display_data"
    },
    {
     "data": {
      "text/markdown": [
       "<span style=\"color:#FFF\">**--- Время выполнения: 1.092 сек. ---**</span>"
      ],
      "text/plain": [
       "<IPython.core.display.Markdown object>"
      ]
     },
     "metadata": {},
     "output_type": "display_data"
    }
   ],
   "source": [
    "# Настройки ядра\n",
    "_b5.path_to_save_ = './models' # Директория для сохранения файла\n",
    "_b5.chunk_size_ = 2000000 # Размер загрузки файла из сети за 1 шаг\n",
    "\n",
    "url = _b5.weights_for_big5_['audio']['nn']['sberdisk']\n",
    "\n",
    "res_load_audio_model_weights_nn = _b5.load_audio_model_weights_nn(\n",
    "    url = url, # Полный путь к файлу с весами нейросетевой модели\n",
    "    force_reload = False, # Принудительная загрузка файла с весами нейросетевой модели из сети\n",
    "    out = True, # Отображение\n",
    "    runtime = True, # Подсчет времени выполнения\n",
    "    run = True # Блокировка выполнения\n",
    ")"
   ]
  },
  {
   "cell_type": "markdown",
   "metadata": {},
   "source": [
    "### Формирование нейросетевой архитектуры модели для получения оценок по экспертным признакам (видео модальность)\n",
    "\n",
    "> - `_b5.video_model_hc_` - Нейросетевая модель **tf.keras.Model** для получения оценок по экспертным признакам"
   ]
  },
  {
   "cell_type": "code",
   "execution_count": 9,
   "metadata": {},
   "outputs": [
    {
     "data": {
      "text/markdown": [
       "<span style=\"color:#FFF\">**[</span><span style=\"color:#1776D2\">2022-12-11 21:18:44</span><span style=\"color:#FFF\">]</span> <span style=\"color:#FFF\">Формирование нейросетевой архитектуры модели для получения оценок по экспертным признакам (видео модальность) ...</span>** "
      ],
      "text/plain": [
       "<IPython.core.display.Markdown object>"
      ]
     },
     "metadata": {},
     "output_type": "display_data"
    },
    {
     "data": {
      "text/markdown": [
       "<span style=\"color:#FFF\">**--- Время выполнения: 0.472 сек. ---**</span>"
      ],
      "text/plain": [
       "<IPython.core.display.Markdown object>"
      ]
     },
     "metadata": {},
     "output_type": "display_data"
    }
   ],
   "source": [
    "res_load_video_model_hc = _b5.load_video_model_hc(\n",
    "    show_summary = False, # Отображение сформированной нейросетевой архитектуры модели\n",
    "    out = True, # Отображение\n",
    "    runtime = True, # Подсчет времени выполнения\n",
    "    run = True # Блокировка выполнения\n",
    ")"
   ]
  },
  {
   "cell_type": "markdown",
   "metadata": {},
   "source": [
    "#### Загрузка весов нейросетевой модели для получения оценок по экспертным признакам (видео модальность)\n",
    "\n",
    "> - `_b5.video_model_hc_` - Нейросетевая модель **tf.keras.Model** для получения оценок по экспертным признакам"
   ]
  },
  {
   "cell_type": "code",
   "execution_count": 10,
   "metadata": {},
   "outputs": [
    {
     "data": {
      "text/markdown": [
       "<span style=\"color:#FFF\">**[</span><span style=\"color:#1776D2\">2022-12-11 21:18:44</span><span style=\"color:#FFF\">]</span> <span style=\"color:#FFF\">Загрузка весов нейросетевой модели для получения оценок по экспертным признакам (видео модальность) ...</span>** "
      ],
      "text/plain": [
       "<IPython.core.display.Markdown object>"
      ]
     },
     "metadata": {},
     "output_type": "display_data"
    },
    {
     "data": {
      "text/markdown": [
       "<span style=\"color:#FFF\">**[</span><span style=\"color:#1776D2\">2022-12-11 21:18:44</span><span style=\"color:#FFF\">]</span> <span style=\"color:#FFF\">Загрузка файла \"<span style=\"color:#1776D2\">weights_2022-08-27_18-53-35.h5</span>\" (100.0%) ...</span>** "
      ],
      "text/plain": [
       "<IPython.core.display.Markdown object>"
      ]
     },
     "metadata": {},
     "output_type": "display_data"
    },
    {
     "data": {
      "text/markdown": [
       "<span style=\"color:#FFF\">**--- Время выполнения: 0.262 сек. ---**</span>"
      ],
      "text/plain": [
       "<IPython.core.display.Markdown object>"
      ]
     },
     "metadata": {},
     "output_type": "display_data"
    }
   ],
   "source": [
    "# Настройки ядра\n",
    "_b5.path_to_save_ = './models' # Директория для сохранения файла\n",
    "_b5.chunk_size_ = 2000000 # Размер загрузки файла из сети за 1 шаг\n",
    "\n",
    "url = _b5.weights_for_big5_['video']['hc']['sberdisk']\n",
    "\n",
    "res_load_video_model_weights_hc = _b5.load_video_model_weights_hc(\n",
    "    url = url, # Полный путь к файлу с весами нейросетевой модели\n",
    "    force_reload = True, # Принудительная загрузка файла с весами нейросетевой модели из сети\n",
    "    out = True, # Отображение\n",
    "    runtime = True, # Подсчет времени выполнения\n",
    "    run = True # Блокировка выполнения\n",
    ")"
   ]
  },
  {
   "cell_type": "markdown",
   "metadata": {},
   "source": [
    "### Формирование нейросетевой архитектуры для получения нейросетевых признаков (видео модальность)\n",
    "\n",
    "> - `_b5.video_model_deep_fe_` - Нейросетевая модель **tf.keras.Model** для получения нейросетевых признаков"
   ]
  },
  {
   "cell_type": "code",
   "execution_count": 11,
   "metadata": {},
   "outputs": [
    {
     "data": {
      "text/markdown": [
       "<span style=\"color:#FFF\">**[</span><span style=\"color:#1776D2\">2022-12-11 21:18:44</span><span style=\"color:#FFF\">]</span> <span style=\"color:#FFF\">Формирование нейросетевой архитектуры для получения нейросетевых признаков (видео модальность) ...</span>** "
      ],
      "text/plain": [
       "<IPython.core.display.Markdown object>"
      ]
     },
     "metadata": {},
     "output_type": "display_data"
    },
    {
     "data": {
      "text/markdown": [
       "<span style=\"color:#FFF\">**--- Время выполнения: 1.141 сек. ---**</span>"
      ],
      "text/plain": [
       "<IPython.core.display.Markdown object>"
      ]
     },
     "metadata": {},
     "output_type": "display_data"
    }
   ],
   "source": [
    "res_load_video_model_deep_fe = _b5.load_video_model_deep_fe(\n",
    "    show_summary = False, # Отображение сформированной нейросетевой архитектуры модели\n",
    "    out = True, # Отображение\n",
    "    runtime = True, # Подсчет времени выполнения\n",
    "    run = True # Блокировка выполнения\n",
    ")"
   ]
  },
  {
   "cell_type": "markdown",
   "metadata": {},
   "source": [
    "#### Загрузка весов нейросетевой модели для получения нейросетевых признаков (видео модальность)\n",
    "\n",
    "> - `_b5.video_model_deep_fe_` - Нейросетевая модель **tf.keras.Model** для получения нейросетевых признаков"
   ]
  },
  {
   "cell_type": "code",
   "execution_count": 12,
   "metadata": {},
   "outputs": [
    {
     "data": {
      "text/markdown": [
       "<span style=\"color:#FFF\">**[</span><span style=\"color:#1776D2\">2022-12-11 21:18:46</span><span style=\"color:#FFF\">]</span> <span style=\"color:#FFF\">Загрузка весов нейросетевой модели для получения нейросетевых признаков (видео модальность) ...</span>** "
      ],
      "text/plain": [
       "<IPython.core.display.Markdown object>"
      ]
     },
     "metadata": {},
     "output_type": "display_data"
    },
    {
     "data": {
      "text/markdown": [
       "<span style=\"color:#FFF\">**[</span><span style=\"color:#1776D2\">2022-12-11 21:18:50</span><span style=\"color:#FFF\">]</span> <span style=\"color:#FFF\">Загрузка файла \"<span style=\"color:#1776D2\">weights_2022-11-01_12-27-07.h5</span>\" (100.0%) ...</span>** "
      ],
      "text/plain": [
       "<IPython.core.display.Markdown object>"
      ]
     },
     "metadata": {},
     "output_type": "display_data"
    },
    {
     "data": {
      "text/markdown": [
       "<span style=\"color:#FFF\">**--- Время выполнения: 4.505 сек. ---**</span>"
      ],
      "text/plain": [
       "<IPython.core.display.Markdown object>"
      ]
     },
     "metadata": {},
     "output_type": "display_data"
    }
   ],
   "source": [
    "# Настройки ядра\n",
    "_b5.path_to_save_ = './models' # Директория для сохранения файла\n",
    "_b5.chunk_size_ = 2000000 # Размер загрузки файла из сети за 1 шаг\n",
    "\n",
    "url = _b5.weights_for_big5_['video']['fe']['sberdisk']\n",
    "\n",
    "res_load_video_model_weights_deep_fe = _b5.load_video_model_weights_deep_fe(\n",
    "    url = url, # Полный путь к файлу с весами нейросетевой модели\n",
    "    force_reload = True, # Принудительная загрузка файла с весами нейросетевой модели из сети\n",
    "    out = True, # Отображение\n",
    "    runtime = True, # Подсчет времени выполнения\n",
    "    run = True # Блокировка выполнения\n",
    ")"
   ]
  },
  {
   "cell_type": "markdown",
   "metadata": {},
   "source": [
    "### Формирование нейросетевой архитектуры модели для получения оценок по нейросетевым признакам (видео модальность)\n",
    "\n",
    "> - `_b5.video_model_nn_` - Нейросетевая модель **tf.keras.Model** для получения оценок по нейросетевым признакам"
   ]
  },
  {
   "cell_type": "code",
   "execution_count": 13,
   "metadata": {},
   "outputs": [
    {
     "data": {
      "text/markdown": [
       "<span style=\"color:#FFF\">**[</span><span style=\"color:#1776D2\">2022-12-11 21:18:50</span><span style=\"color:#FFF\">]</span> <span style=\"color:#FFF\">Формирование нейросетевой архитектуры для получения оценок по нейросетевым признакам (видео модальность) ...</span>** "
      ],
      "text/plain": [
       "<IPython.core.display.Markdown object>"
      ]
     },
     "metadata": {},
     "output_type": "display_data"
    },
    {
     "data": {
      "text/markdown": [
       "<span style=\"color:#FFF\">**--- Время выполнения: 1.978 сек. ---**</span>"
      ],
      "text/plain": [
       "<IPython.core.display.Markdown object>"
      ]
     },
     "metadata": {},
     "output_type": "display_data"
    }
   ],
   "source": [
    "res_load_video_model_nn = _b5.load_video_model_nn(\n",
    "    show_summary = False, # Отображение сформированной нейросетевой архитектуры модели\n",
    "    out = True, # Отображение\n",
    "    runtime = True, # Подсчет времени выполнения\n",
    "    run = True # Блокировка выполнения\n",
    ")"
   ]
  },
  {
   "cell_type": "markdown",
   "metadata": {},
   "source": [
    "#### Загрузка весов нейросетевой модели для получения оценок по нейросетевым признакам (видео модальность)\n",
    "\n",
    "> - `_b5.video_model_nn_` - Нейросетевая модель **tf.keras.Model** для получения оценок по нейросетевым признакам"
   ]
  },
  {
   "cell_type": "code",
   "execution_count": 14,
   "metadata": {},
   "outputs": [
    {
     "data": {
      "text/markdown": [
       "<span style=\"color:#FFF\">**[</span><span style=\"color:#1776D2\">2022-12-11 21:18:52</span><span style=\"color:#FFF\">]</span> <span style=\"color:#FFF\">Загрузка весов нейросетевой модели для получения оценок по нейросетевым признакам (видео модальность) ...</span>** "
      ],
      "text/plain": [
       "<IPython.core.display.Markdown object>"
      ]
     },
     "metadata": {},
     "output_type": "display_data"
    },
    {
     "data": {
      "text/markdown": [
       "<span style=\"color:#FFF\">**[</span><span style=\"color:#1776D2\">2022-12-11 21:18:52</span><span style=\"color:#FFF\">]</span> <span style=\"color:#FFF\">Загрузка файла \"<span style=\"color:#1776D2\">weights_2022-03-22_16-31-48.h5</span>\"</span>** "
      ],
      "text/plain": [
       "<IPython.core.display.Markdown object>"
      ]
     },
     "metadata": {},
     "output_type": "display_data"
    },
    {
     "data": {
      "text/markdown": [
       "<span style=\"color:#FFF\">**--- Время выполнения: 0.421 сек. ---**</span>"
      ],
      "text/plain": [
       "<IPython.core.display.Markdown object>"
      ]
     },
     "metadata": {},
     "output_type": "display_data"
    }
   ],
   "source": [
    "# Настройки ядра\n",
    "_b5.path_to_save_ = './models' # Директория для сохранения файла\n",
    "_b5.chunk_size_ = 2000000 # Размер загрузки файла из сети за 1 шаг\n",
    "\n",
    "url = _b5.weights_for_big5_['video']['nn']['sberdisk']\n",
    "\n",
    "res_load_video_model_weights_nn = _b5.load_video_model_weights_nn(\n",
    "    url = url, # Полный путь к файлу с весами нейросетевой модели\n",
    "    force_reload = False, # Принудительная загрузка файла с весами нейросетевой модели из сети\n",
    "    out = True, # Отображение\n",
    "    runtime = True, # Подсчет времени выполнения\n",
    "    run = True # Блокировка выполнения\n",
    ")"
   ]
  },
  {
   "cell_type": "markdown",
   "metadata": {},
   "source": [
    "### Формирование нейросетевых архитектур моделей для получения результатов оценки персональных качеств (мультимодальное объединение)\n",
    "\n",
    "> - `_b5.av_models_b5_` - Нейросетевые модели **tf.keras.Model** для получения результатов оценки персональных качеств"
   ]
  },
  {
   "cell_type": "code",
   "execution_count": 15,
   "metadata": {},
   "outputs": [
    {
     "data": {
      "text/markdown": [
       "<span style=\"color:#FFF\">**[</span><span style=\"color:#1776D2\">2022-12-11 21:18:52</span><span style=\"color:#FFF\">]</span> <span style=\"color:#FFF\">Формирование нейросетевых архитектур моделей для получения результатов оценки персональных качеств (мультимодальное объединение) ...</span>** "
      ],
      "text/plain": [
       "<IPython.core.display.Markdown object>"
      ]
     },
     "metadata": {},
     "output_type": "display_data"
    },
    {
     "data": {
      "text/markdown": [
       "<span style=\"color:#FFF\">**--- Время выполнения: 0.088 сек. ---**</span>"
      ],
      "text/plain": [
       "<IPython.core.display.Markdown object>"
      ]
     },
     "metadata": {},
     "output_type": "display_data"
    }
   ],
   "source": [
    "res_load_av_models_b5 = _b5.load_av_models_b5(\n",
    "    show_summary = False, # Отображение сформированной нейросетевой архитектуры модели\n",
    "    out = True, # Отображение\n",
    "    runtime = True, # Подсчет времени выполнения\n",
    "    run = True # Блокировка выполнения\n",
    ")"
   ]
  },
  {
   "cell_type": "markdown",
   "metadata": {},
   "source": [
    "#### Загрузка весов нейросетевых моделей для получения результатов оценки персональных качеств (мультимодальное объединение)\n",
    "\n",
    "> - `_b5.av_models_b5_` - Нейросетевые модели **tf.keras.Model** для получения результатов оценки персональных качеств"
   ]
  },
  {
   "cell_type": "code",
   "execution_count": 16,
   "metadata": {},
   "outputs": [
    {
     "data": {
      "text/markdown": [
       "<span style=\"color:#FFF\">**[</span><span style=\"color:#1776D2\">2022-12-11 21:18:53</span><span style=\"color:#FFF\">]</span> <span style=\"color:#FFF\">Загрузка весов нейросетевых моделей для получения результатов оценки персональных качеств (мультимодальное объединение) ...</span>** "
      ],
      "text/plain": [
       "<IPython.core.display.Markdown object>"
      ]
     },
     "metadata": {},
     "output_type": "display_data"
    },
    {
     "data": {
      "text/markdown": [
       "<span style=\"color:#FFF\">**[</span><span style=\"color:#1776D2\">2022-12-11 21:18:53</span><span style=\"color:#FFF\">]</span> <span style=\"color:#FFF\">Загрузка файла \"<span style=\"color:#1776D2\">weights_2022-08-28_11-14-35.h5</span>\" (100.0%) ...</span>**  <span style=\"color:#FFF\">**Открытость опыту**</span>"
      ],
      "text/plain": [
       "<IPython.core.display.Markdown object>"
      ]
     },
     "metadata": {},
     "output_type": "display_data"
    },
    {
     "data": {
      "text/markdown": [
       "<span style=\"color:#FFF\">**[</span><span style=\"color:#1776D2\">2022-12-11 21:18:53</span><span style=\"color:#FFF\">]</span> <span style=\"color:#FFF\">Загрузка файла \"<span style=\"color:#1776D2\">weights_2022-08-28_11-08-10.h5</span>\" (100.0%) ...</span>**  <span style=\"color:#FFF\">**Добросовестность**</span>"
      ],
      "text/plain": [
       "<IPython.core.display.Markdown object>"
      ]
     },
     "metadata": {},
     "output_type": "display_data"
    },
    {
     "data": {
      "text/markdown": [
       "<span style=\"color:#FFF\">**[</span><span style=\"color:#1776D2\">2022-12-11 21:18:53</span><span style=\"color:#FFF\">]</span> <span style=\"color:#FFF\">Загрузка файла \"<span style=\"color:#1776D2\">weights_2022-08-28_11-17-57.h5</span>\" (100.0%) ...</span>**  <span style=\"color:#FFF\">**Экстраверсия**</span>"
      ],
      "text/plain": [
       "<IPython.core.display.Markdown object>"
      ]
     },
     "metadata": {},
     "output_type": "display_data"
    },
    {
     "data": {
      "text/markdown": [
       "<span style=\"color:#FFF\">**[</span><span style=\"color:#1776D2\">2022-12-11 21:18:53</span><span style=\"color:#FFF\">]</span> <span style=\"color:#FFF\">Загрузка файла \"<span style=\"color:#1776D2\">weights_2022-08-28_11-25-11.h5</span>\" (100.0%) ...</span>**  <span style=\"color:#FFF\">**Доброжелательность**</span>"
      ],
      "text/plain": [
       "<IPython.core.display.Markdown object>"
      ]
     },
     "metadata": {},
     "output_type": "display_data"
    },
    {
     "data": {
      "text/markdown": [
       "<span style=\"color:#FFF\">**[</span><span style=\"color:#1776D2\">2022-12-11 21:18:53</span><span style=\"color:#FFF\">]</span> <span style=\"color:#FFF\">Загрузка файла \"<span style=\"color:#1776D2\">weights_2022-06-14_21-44-09.h5</span>\" (100.0%) ...</span>**  <span style=\"color:#FFF\">**Нейротизм**</span>"
      ],
      "text/plain": [
       "<IPython.core.display.Markdown object>"
      ]
     },
     "metadata": {},
     "output_type": "display_data"
    },
    {
     "data": {
      "text/markdown": [
       "<span style=\"color:#FFF\">**--- Время выполнения: 0.788 сек. ---**</span>"
      ],
      "text/plain": [
       "<IPython.core.display.Markdown object>"
      ]
     },
     "metadata": {},
     "output_type": "display_data"
    }
   ],
   "source": [
    "# Настройки ядра\n",
    "_b5.path_to_save_ = './models' # Директория для сохранения файла\n",
    "_b5.chunk_size_ = 2000000 # Размер загрузки файла из сети за 1 шаг\n",
    "\n",
    "url_openness = _b5.weights_for_big5_['av']['b5']['openness']['sberdisk']\n",
    "url_conscientiousness = _b5.weights_for_big5_['av']['b5']['conscientiousness']['sberdisk']\n",
    "url_extraversion = _b5.weights_for_big5_['av']['b5']['extraversion']['sberdisk']\n",
    "url_agreeableness = _b5.weights_for_big5_['av']['b5']['agreeableness']['sberdisk']\n",
    "url_neuroticism = _b5.weights_for_big5_['av']['b5']['neuroticism']['sberdisk']\n",
    "\n",
    "res_load_av_models_weights_b5 = _b5.load_av_models_weights_b5(\n",
    "    url_openness = url_openness, # Открытость опыту\n",
    "    url_conscientiousness = url_conscientiousness, # Добросовестность\n",
    "    url_extraversion = url_extraversion, # Экстраверсия\n",
    "    url_agreeableness = url_agreeableness, # Доброжелательность\n",
    "    url_neuroticism = url_neuroticism, # Нейротизм\n",
    "    force_reload = True, # Принудительная загрузка файла с весами нейросетевой модели из сети\n",
    "    out = True, # Отображение\n",
    "    runtime = True, # Подсчет времени выполнения\n",
    "    run = True # Блокировка выполнения\n",
    ")"
   ]
  },
  {
   "cell_type": "markdown",
   "metadata": {},
   "source": [
    "#### Получение прогнозов (мультимодальное объединение)\n",
    "\n",
    "> - `_b5.df_files_` - DataFrame с данными\n",
    "> - `_b5.df_accuracy_` - DataFrame с результатами вычисления точности"
   ]
  },
  {
   "cell_type": "code",
   "execution_count": 17,
   "metadata": {},
   "outputs": [
    {
     "data": {
      "text/markdown": [
       "<span style=\"color:#FFF\">**[</span><span style=\"color:#1776D2\">2022-12-12 03:18:08</span><span style=\"color:#FFF\">]</span> <span style=\"color:#FFF\">Получение прогнозов и вычисление точности (мультимодальное объединение) ...</span>**<p><span style=\"color:#FFF\">&nbsp;&nbsp;&nbsp;&nbsp;2000 из 2000 (100.0%) ... test/test80_04/yw-2AGeAjFc.000.mp4 ...</span></p>"
      ],
      "text/plain": [
       "<IPython.core.display.Markdown object>"
      ]
     },
     "metadata": {},
     "output_type": "display_data"
    },
    {
     "data": {
      "text/html": [
       "<div>\n",
       "<style scoped>\n",
       "    .dataframe tbody tr th:only-of-type {\n",
       "        vertical-align: middle;\n",
       "    }\n",
       "\n",
       "    .dataframe tbody tr th {\n",
       "        vertical-align: top;\n",
       "    }\n",
       "\n",
       "    .dataframe thead th {\n",
       "        text-align: right;\n",
       "    }\n",
       "</style>\n",
       "<table border=\"1\" class=\"dataframe\">\n",
       "  <thead>\n",
       "    <tr style=\"text-align: right;\">\n",
       "      <th></th>\n",
       "      <th>Path</th>\n",
       "      <th>Openness</th>\n",
       "      <th>Conscientiousness</th>\n",
       "      <th>Extraversion</th>\n",
       "      <th>Agreeableness</th>\n",
       "      <th>Neuroticism</th>\n",
       "    </tr>\n",
       "    <tr>\n",
       "      <th>ID</th>\n",
       "      <th></th>\n",
       "      <th></th>\n",
       "      <th></th>\n",
       "      <th></th>\n",
       "      <th></th>\n",
       "      <th></th>\n",
       "    </tr>\n",
       "  </thead>\n",
       "  <tbody>\n",
       "    <tr>\n",
       "      <th>1</th>\n",
       "      <td>/Users/dl/GitHub/OCEANAI.private/oceanai/datas...</td>\n",
       "      <td>0.579648</td>\n",
       "      <td>0.607484</td>\n",
       "      <td>0.504489</td>\n",
       "      <td>0.592072</td>\n",
       "      <td>0.551905</td>\n",
       "    </tr>\n",
       "    <tr>\n",
       "      <th>2</th>\n",
       "      <td>/Users/dl/GitHub/OCEANAI.private/oceanai/datas...</td>\n",
       "      <td>0.657927</td>\n",
       "      <td>0.579338</td>\n",
       "      <td>0.605997</td>\n",
       "      <td>0.59566</td>\n",
       "      <td>0.614946</td>\n",
       "    </tr>\n",
       "    <tr>\n",
       "      <th>3</th>\n",
       "      <td>/Users/dl/GitHub/OCEANAI.private/oceanai/datas...</td>\n",
       "      <td>0.555638</td>\n",
       "      <td>0.478637</td>\n",
       "      <td>0.425701</td>\n",
       "      <td>0.507638</td>\n",
       "      <td>0.442787</td>\n",
       "    </tr>\n",
       "    <tr>\n",
       "      <th>4</th>\n",
       "      <td>/Users/dl/GitHub/OCEANAI.private/oceanai/datas...</td>\n",
       "      <td>0.59052</td>\n",
       "      <td>0.632428</td>\n",
       "      <td>0.508796</td>\n",
       "      <td>0.643603</td>\n",
       "      <td>0.593295</td>\n",
       "    </tr>\n",
       "    <tr>\n",
       "      <th>5</th>\n",
       "      <td>/Users/dl/GitHub/OCEANAI.private/oceanai/datas...</td>\n",
       "      <td>0.454759</td>\n",
       "      <td>0.441814</td>\n",
       "      <td>0.375909</td>\n",
       "      <td>0.515254</td>\n",
       "      <td>0.426999</td>\n",
       "    </tr>\n",
       "    <tr>\n",
       "      <th>6</th>\n",
       "      <td>/Users/dl/GitHub/OCEANAI.private/oceanai/datas...</td>\n",
       "      <td>0.547797</td>\n",
       "      <td>0.355927</td>\n",
       "      <td>0.413969</td>\n",
       "      <td>0.510211</td>\n",
       "      <td>0.439227</td>\n",
       "    </tr>\n",
       "    <tr>\n",
       "      <th>7</th>\n",
       "      <td>/Users/dl/GitHub/OCEANAI.private/oceanai/datas...</td>\n",
       "      <td>0.643725</td>\n",
       "      <td>0.583321</td>\n",
       "      <td>0.61507</td>\n",
       "      <td>0.592651</td>\n",
       "      <td>0.618551</td>\n",
       "    </tr>\n",
       "    <tr>\n",
       "      <th>8</th>\n",
       "      <td>/Users/dl/GitHub/OCEANAI.private/oceanai/datas...</td>\n",
       "      <td>0.479282</td>\n",
       "      <td>0.45275</td>\n",
       "      <td>0.383508</td>\n",
       "      <td>0.533169</td>\n",
       "      <td>0.480088</td>\n",
       "    </tr>\n",
       "    <tr>\n",
       "      <th>9</th>\n",
       "      <td>/Users/dl/GitHub/OCEANAI.private/oceanai/datas...</td>\n",
       "      <td>0.472738</td>\n",
       "      <td>0.632199</td>\n",
       "      <td>0.351846</td>\n",
       "      <td>0.579883</td>\n",
       "      <td>0.514093</td>\n",
       "    </tr>\n",
       "    <tr>\n",
       "      <th>10</th>\n",
       "      <td>/Users/dl/GitHub/OCEANAI.private/oceanai/datas...</td>\n",
       "      <td>0.643403</td>\n",
       "      <td>0.546219</td>\n",
       "      <td>0.569136</td>\n",
       "      <td>0.651939</td>\n",
       "      <td>0.621957</td>\n",
       "    </tr>\n",
       "    <tr>\n",
       "      <th>11</th>\n",
       "      <td>/Users/dl/GitHub/OCEANAI.private/oceanai/datas...</td>\n",
       "      <td>0.697916</td>\n",
       "      <td>0.643523</td>\n",
       "      <td>0.632304</td>\n",
       "      <td>0.613557</td>\n",
       "      <td>0.670978</td>\n",
       "    </tr>\n",
       "    <tr>\n",
       "      <th>12</th>\n",
       "      <td>/Users/dl/GitHub/OCEANAI.private/oceanai/datas...</td>\n",
       "      <td>0.339193</td>\n",
       "      <td>0.280842</td>\n",
       "      <td>0.251515</td>\n",
       "      <td>0.357387</td>\n",
       "      <td>0.246421</td>\n",
       "    </tr>\n",
       "    <tr>\n",
       "      <th>13</th>\n",
       "      <td>/Users/dl/GitHub/OCEANAI.private/oceanai/datas...</td>\n",
       "      <td>0.690544</td>\n",
       "      <td>0.563814</td>\n",
       "      <td>0.466466</td>\n",
       "      <td>0.515528</td>\n",
       "      <td>0.521361</td>\n",
       "    </tr>\n",
       "    <tr>\n",
       "      <th>14</th>\n",
       "      <td>/Users/dl/GitHub/OCEANAI.private/oceanai/datas...</td>\n",
       "      <td>0.583696</td>\n",
       "      <td>0.655849</td>\n",
       "      <td>0.502591</td>\n",
       "      <td>0.635236</td>\n",
       "      <td>0.598813</td>\n",
       "    </tr>\n",
       "    <tr>\n",
       "      <th>15</th>\n",
       "      <td>/Users/dl/GitHub/OCEANAI.private/oceanai/datas...</td>\n",
       "      <td>0.51843</td>\n",
       "      <td>0.433432</td>\n",
       "      <td>0.394204</td>\n",
       "      <td>0.485599</td>\n",
       "      <td>0.420696</td>\n",
       "    </tr>\n",
       "    <tr>\n",
       "      <th>16</th>\n",
       "      <td>/Users/dl/GitHub/OCEANAI.private/oceanai/datas...</td>\n",
       "      <td>0.577674</td>\n",
       "      <td>0.439821</td>\n",
       "      <td>0.43307</td>\n",
       "      <td>0.490868</td>\n",
       "      <td>0.45867</td>\n",
       "    </tr>\n",
       "    <tr>\n",
       "      <th>17</th>\n",
       "      <td>/Users/dl/GitHub/OCEANAI.private/oceanai/datas...</td>\n",
       "      <td>0.459223</td>\n",
       "      <td>0.446826</td>\n",
       "      <td>0.376763</td>\n",
       "      <td>0.521303</td>\n",
       "      <td>0.41271</td>\n",
       "    </tr>\n",
       "    <tr>\n",
       "      <th>18</th>\n",
       "      <td>/Users/dl/GitHub/OCEANAI.private/oceanai/datas...</td>\n",
       "      <td>0.521861</td>\n",
       "      <td>0.558761</td>\n",
       "      <td>0.495485</td>\n",
       "      <td>0.600136</td>\n",
       "      <td>0.533079</td>\n",
       "    </tr>\n",
       "    <tr>\n",
       "      <th>19</th>\n",
       "      <td>/Users/dl/GitHub/OCEANAI.private/oceanai/datas...</td>\n",
       "      <td>0.361455</td>\n",
       "      <td>0.308304</td>\n",
       "      <td>0.256512</td>\n",
       "      <td>0.372707</td>\n",
       "      <td>0.252046</td>\n",
       "    </tr>\n",
       "    <tr>\n",
       "      <th>20</th>\n",
       "      <td>/Users/dl/GitHub/OCEANAI.private/oceanai/datas...</td>\n",
       "      <td>0.615331</td>\n",
       "      <td>0.513233</td>\n",
       "      <td>0.51369</td>\n",
       "      <td>0.581902</td>\n",
       "      <td>0.582069</td>\n",
       "    </tr>\n",
       "    <tr>\n",
       "      <th>21</th>\n",
       "      <td>/Users/dl/GitHub/OCEANAI.private/oceanai/datas...</td>\n",
       "      <td>0.611093</td>\n",
       "      <td>0.735906</td>\n",
       "      <td>0.467258</td>\n",
       "      <td>0.650855</td>\n",
       "      <td>0.634378</td>\n",
       "    </tr>\n",
       "    <tr>\n",
       "      <th>22</th>\n",
       "      <td>/Users/dl/GitHub/OCEANAI.private/oceanai/datas...</td>\n",
       "      <td>0.571137</td>\n",
       "      <td>0.492265</td>\n",
       "      <td>0.538783</td>\n",
       "      <td>0.569107</td>\n",
       "      <td>0.517958</td>\n",
       "    </tr>\n",
       "    <tr>\n",
       "      <th>23</th>\n",
       "      <td>/Users/dl/GitHub/OCEANAI.private/oceanai/datas...</td>\n",
       "      <td>0.460287</td>\n",
       "      <td>0.368911</td>\n",
       "      <td>0.373221</td>\n",
       "      <td>0.434315</td>\n",
       "      <td>0.359621</td>\n",
       "    </tr>\n",
       "    <tr>\n",
       "      <th>24</th>\n",
       "      <td>/Users/dl/GitHub/OCEANAI.private/oceanai/datas...</td>\n",
       "      <td>0.470379</td>\n",
       "      <td>0.420204</td>\n",
       "      <td>0.386161</td>\n",
       "      <td>0.485495</td>\n",
       "      <td>0.443471</td>\n",
       "    </tr>\n",
       "    <tr>\n",
       "      <th>25</th>\n",
       "      <td>/Users/dl/GitHub/OCEANAI.private/oceanai/datas...</td>\n",
       "      <td>0.634944</td>\n",
       "      <td>0.686794</td>\n",
       "      <td>0.552605</td>\n",
       "      <td>0.598525</td>\n",
       "      <td>0.627968</td>\n",
       "    </tr>\n",
       "    <tr>\n",
       "      <th>26</th>\n",
       "      <td>/Users/dl/GitHub/OCEANAI.private/oceanai/datas...</td>\n",
       "      <td>0.608317</td>\n",
       "      <td>0.392629</td>\n",
       "      <td>0.439929</td>\n",
       "      <td>0.539833</td>\n",
       "      <td>0.502748</td>\n",
       "    </tr>\n",
       "    <tr>\n",
       "      <th>27</th>\n",
       "      <td>/Users/dl/GitHub/OCEANAI.private/oceanai/datas...</td>\n",
       "      <td>0.562965</td>\n",
       "      <td>0.560498</td>\n",
       "      <td>0.451427</td>\n",
       "      <td>0.57003</td>\n",
       "      <td>0.51474</td>\n",
       "    </tr>\n",
       "    <tr>\n",
       "      <th>28</th>\n",
       "      <td>/Users/dl/GitHub/OCEANAI.private/oceanai/datas...</td>\n",
       "      <td>0.696683</td>\n",
       "      <td>0.628579</td>\n",
       "      <td>0.625994</td>\n",
       "      <td>0.629105</td>\n",
       "      <td>0.651066</td>\n",
       "    </tr>\n",
       "    <tr>\n",
       "      <th>29</th>\n",
       "      <td>/Users/dl/GitHub/OCEANAI.private/oceanai/datas...</td>\n",
       "      <td>0.667751</td>\n",
       "      <td>0.607557</td>\n",
       "      <td>0.578185</td>\n",
       "      <td>0.595623</td>\n",
       "      <td>0.612968</td>\n",
       "    </tr>\n",
       "    <tr>\n",
       "      <th>30</th>\n",
       "      <td>/Users/dl/GitHub/OCEANAI.private/oceanai/datas...</td>\n",
       "      <td>0.437571</td>\n",
       "      <td>0.375535</td>\n",
       "      <td>0.356338</td>\n",
       "      <td>0.446054</td>\n",
       "      <td>0.379749</td>\n",
       "    </tr>\n",
       "  </tbody>\n",
       "</table>\n",
       "</div>"
      ],
      "text/plain": [
       "                                                 Path  Openness  \\\n",
       "ID                                                                \n",
       "1   /Users/dl/GitHub/OCEANAI.private/oceanai/datas...  0.579648   \n",
       "2   /Users/dl/GitHub/OCEANAI.private/oceanai/datas...  0.657927   \n",
       "3   /Users/dl/GitHub/OCEANAI.private/oceanai/datas...  0.555638   \n",
       "4   /Users/dl/GitHub/OCEANAI.private/oceanai/datas...   0.59052   \n",
       "5   /Users/dl/GitHub/OCEANAI.private/oceanai/datas...  0.454759   \n",
       "6   /Users/dl/GitHub/OCEANAI.private/oceanai/datas...  0.547797   \n",
       "7   /Users/dl/GitHub/OCEANAI.private/oceanai/datas...  0.643725   \n",
       "8   /Users/dl/GitHub/OCEANAI.private/oceanai/datas...  0.479282   \n",
       "9   /Users/dl/GitHub/OCEANAI.private/oceanai/datas...  0.472738   \n",
       "10  /Users/dl/GitHub/OCEANAI.private/oceanai/datas...  0.643403   \n",
       "11  /Users/dl/GitHub/OCEANAI.private/oceanai/datas...  0.697916   \n",
       "12  /Users/dl/GitHub/OCEANAI.private/oceanai/datas...  0.339193   \n",
       "13  /Users/dl/GitHub/OCEANAI.private/oceanai/datas...  0.690544   \n",
       "14  /Users/dl/GitHub/OCEANAI.private/oceanai/datas...  0.583696   \n",
       "15  /Users/dl/GitHub/OCEANAI.private/oceanai/datas...   0.51843   \n",
       "16  /Users/dl/GitHub/OCEANAI.private/oceanai/datas...  0.577674   \n",
       "17  /Users/dl/GitHub/OCEANAI.private/oceanai/datas...  0.459223   \n",
       "18  /Users/dl/GitHub/OCEANAI.private/oceanai/datas...  0.521861   \n",
       "19  /Users/dl/GitHub/OCEANAI.private/oceanai/datas...  0.361455   \n",
       "20  /Users/dl/GitHub/OCEANAI.private/oceanai/datas...  0.615331   \n",
       "21  /Users/dl/GitHub/OCEANAI.private/oceanai/datas...  0.611093   \n",
       "22  /Users/dl/GitHub/OCEANAI.private/oceanai/datas...  0.571137   \n",
       "23  /Users/dl/GitHub/OCEANAI.private/oceanai/datas...  0.460287   \n",
       "24  /Users/dl/GitHub/OCEANAI.private/oceanai/datas...  0.470379   \n",
       "25  /Users/dl/GitHub/OCEANAI.private/oceanai/datas...  0.634944   \n",
       "26  /Users/dl/GitHub/OCEANAI.private/oceanai/datas...  0.608317   \n",
       "27  /Users/dl/GitHub/OCEANAI.private/oceanai/datas...  0.562965   \n",
       "28  /Users/dl/GitHub/OCEANAI.private/oceanai/datas...  0.696683   \n",
       "29  /Users/dl/GitHub/OCEANAI.private/oceanai/datas...  0.667751   \n",
       "30  /Users/dl/GitHub/OCEANAI.private/oceanai/datas...  0.437571   \n",
       "\n",
       "   Conscientiousness Extraversion Agreeableness Neuroticism  \n",
       "ID                                                           \n",
       "1           0.607484     0.504489      0.592072    0.551905  \n",
       "2           0.579338     0.605997       0.59566    0.614946  \n",
       "3           0.478637     0.425701      0.507638    0.442787  \n",
       "4           0.632428     0.508796      0.643603    0.593295  \n",
       "5           0.441814     0.375909      0.515254    0.426999  \n",
       "6           0.355927     0.413969      0.510211    0.439227  \n",
       "7           0.583321      0.61507      0.592651    0.618551  \n",
       "8            0.45275     0.383508      0.533169    0.480088  \n",
       "9           0.632199     0.351846      0.579883    0.514093  \n",
       "10          0.546219     0.569136      0.651939    0.621957  \n",
       "11          0.643523     0.632304      0.613557    0.670978  \n",
       "12          0.280842     0.251515      0.357387    0.246421  \n",
       "13          0.563814     0.466466      0.515528    0.521361  \n",
       "14          0.655849     0.502591      0.635236    0.598813  \n",
       "15          0.433432     0.394204      0.485599    0.420696  \n",
       "16          0.439821      0.43307      0.490868     0.45867  \n",
       "17          0.446826     0.376763      0.521303     0.41271  \n",
       "18          0.558761     0.495485      0.600136    0.533079  \n",
       "19          0.308304     0.256512      0.372707    0.252046  \n",
       "20          0.513233      0.51369      0.581902    0.582069  \n",
       "21          0.735906     0.467258      0.650855    0.634378  \n",
       "22          0.492265     0.538783      0.569107    0.517958  \n",
       "23          0.368911     0.373221      0.434315    0.359621  \n",
       "24          0.420204     0.386161      0.485495    0.443471  \n",
       "25          0.686794     0.552605      0.598525    0.627968  \n",
       "26          0.392629     0.439929      0.539833    0.502748  \n",
       "27          0.560498     0.451427       0.57003     0.51474  \n",
       "28          0.628579     0.625994      0.629105    0.651066  \n",
       "29          0.607557     0.578185      0.595623    0.612968  \n",
       "30          0.375535     0.356338      0.446054    0.379749  "
      ]
     },
     "metadata": {},
     "output_type": "display_data"
    },
    {
     "data": {
      "text/markdown": [
       "<span style=\"color:#FFF\">**[</span><span style=\"color:#1776D2\">2022-12-12 03:18:08</span><span style=\"color:#FFF\">]</span> <span style=\"color:#FFF\">Точность по отдельным персональным качествам личности человека ...</span>** "
      ],
      "text/plain": [
       "<IPython.core.display.Markdown object>"
      ]
     },
     "metadata": {},
     "output_type": "display_data"
    },
    {
     "data": {
      "text/html": [
       "<div>\n",
       "<style scoped>\n",
       "    .dataframe tbody tr th:only-of-type {\n",
       "        vertical-align: middle;\n",
       "    }\n",
       "\n",
       "    .dataframe tbody tr th {\n",
       "        vertical-align: top;\n",
       "    }\n",
       "\n",
       "    .dataframe thead th {\n",
       "        text-align: right;\n",
       "    }\n",
       "</style>\n",
       "<table border=\"1\" class=\"dataframe\">\n",
       "  <thead>\n",
       "    <tr style=\"text-align: right;\">\n",
       "      <th></th>\n",
       "      <th>Openness</th>\n",
       "      <th>Conscientiousness</th>\n",
       "      <th>Extraversion</th>\n",
       "      <th>Agreeableness</th>\n",
       "      <th>Neuroticism</th>\n",
       "      <th>Mean</th>\n",
       "    </tr>\n",
       "    <tr>\n",
       "      <th>Metrics</th>\n",
       "      <th></th>\n",
       "      <th></th>\n",
       "      <th></th>\n",
       "      <th></th>\n",
       "      <th></th>\n",
       "      <th></th>\n",
       "    </tr>\n",
       "  </thead>\n",
       "  <tbody>\n",
       "    <tr>\n",
       "      <th>MAE</th>\n",
       "      <td>0.0846</td>\n",
       "      <td>0.0801</td>\n",
       "      <td>0.0794</td>\n",
       "      <td>0.086</td>\n",
       "      <td>0.0847</td>\n",
       "      <td>0.083</td>\n",
       "    </tr>\n",
       "    <tr>\n",
       "      <th>Accuracy</th>\n",
       "      <td>0.9154</td>\n",
       "      <td>0.9199</td>\n",
       "      <td>0.9206</td>\n",
       "      <td>0.914</td>\n",
       "      <td>0.9153</td>\n",
       "      <td>0.917</td>\n",
       "    </tr>\n",
       "  </tbody>\n",
       "</table>\n",
       "</div>"
      ],
      "text/plain": [
       "          Openness  Conscientiousness  Extraversion  Agreeableness  \\\n",
       "Metrics                                                              \n",
       "MAE         0.0846             0.0801        0.0794          0.086   \n",
       "Accuracy    0.9154             0.9199        0.9206          0.914   \n",
       "\n",
       "          Neuroticism   Mean  \n",
       "Metrics                       \n",
       "MAE            0.0847  0.083  \n",
       "Accuracy       0.9153  0.917  "
      ]
     },
     "metadata": {},
     "output_type": "display_data"
    },
    {
     "data": {
      "text/markdown": [
       "<span style=\"color:#FFF\">**[</span><span style=\"color:#1776D2\">2022-12-12 03:18:08</span><span style=\"color:#FFF\">]</span> <span style=\"color:#FFF\">Средняя средних абсолютных ошибок: <span style=\"color:#1776D2\">0.083</span>, средняя точность: <span style=\"color:#1776D2\">0.917</span> ...</span>** "
      ],
      "text/plain": [
       "<IPython.core.display.Markdown object>"
      ]
     },
     "metadata": {},
     "output_type": "display_data"
    },
    {
     "data": {
      "text/markdown": [
       "<span style=\"color:#008001\">**Лог файлы успешно сохранены ...**</span>"
      ],
      "text/plain": [
       "<IPython.core.display.Markdown object>"
      ]
     },
     "metadata": {},
     "output_type": "display_data"
    },
    {
     "data": {
      "text/markdown": [
       "<span style=\"color:#FFF\">**--- Время выполнения: 21555.197 сек. ---**</span>"
      ],
      "text/plain": [
       "<IPython.core.display.Markdown object>"
      ]
     },
     "metadata": {},
     "output_type": "display_data"
    },
    {
     "data": {
      "text/plain": [
       "True"
      ]
     },
     "execution_count": 17,
     "metadata": {},
     "output_type": "execute_result"
    }
   ],
   "source": [
    "# Настройки ядра\n",
    "_b5.path_to_dataset_ = '/Users/dl/GitHub/OCEANAI.private/oceanai/dataset/First_Impression' # Директория набора данных\n",
    "# Директории не входящие в выборку\n",
    "_b5.ignore_dirs_ = []\n",
    "# Названия ключей для DataFrame набора данных\n",
    "_b5.keys_dataset_ = ['Path', 'Openness', 'Conscientiousness', 'Extraversion', 'Agreeableness', 'Neuroticism']\n",
    "_b5.ext_ = ['.mp4'] # Расширения искомых файлов\n",
    "\n",
    "# Полный путь к файлу с верными предсказаниями для подсчета точности\n",
    "url_accuracy = _b5.true_traits_['sberdisk']\n",
    "\n",
    "_b5.get_av_union_predictions(\n",
    "    depth = 2,         # Глубина иерархии для получения аудио и видеоданных\n",
    "    recursive = False, # Рекурсивный поиск данных\n",
    "    sr = 44100,        # Частота дискретизации\n",
    "    window_audio = 2,  # Размер окна сегмента аудио сигнала (в секундах)\n",
    "    step_audio = 1,    # Шаг сдвига окна сегмента аудио сигнала (в секундах)\n",
    "    reduction_fps = 5, # Понижение кадровой частоты\n",
    "    window_video = 10, # Размер окна сегмента видео сигнала (в секундах)\n",
    "    step_video = 5,    # Шаг сдвига окна сегмента видео сигнала (в секундах)\n",
    "    accuracy = True,   # Вычисление точности\n",
    "    url_accuracy = url_accuracy,\n",
    "    logs = True,       # При необходимости формировать LOG файл\n",
    "    out = True,        # Отображение\n",
    "    runtime = True,    # Подсчет времени выполнения\n",
    "    run = True         # Блокировка выполнения\n",
    ")"
   ]
  }
 ],
 "metadata": {
  "kernelspec": {
   "display_name": "Python 3 (ipykernel)",
   "language": "python",
   "name": "python3"
  },
  "language_info": {
   "codemirror_mode": {
    "name": "ipython",
    "version": 3
   },
   "file_extension": ".py",
   "mimetype": "text/x-python",
   "name": "python",
   "nbconvert_exporter": "python",
   "pygments_lexer": "ipython3",
   "version": "3.9.13"
  }
 },
 "nbformat": 4,
 "nbformat_minor": 4
}
