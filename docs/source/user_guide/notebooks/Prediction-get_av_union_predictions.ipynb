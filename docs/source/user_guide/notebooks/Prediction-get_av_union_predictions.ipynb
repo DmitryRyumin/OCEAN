{
 "cells": [
  {
   "cell_type": "markdown",
   "metadata": {
    "tags": []
   },
   "source": [
    "## Мультимодальное объединение для получения прогнозов по аудио и видео `FI V2`\n",
    "\n",
    "<center>\n",
    "    <img src=\"https://raw.githubusercontent.com/aimclub/OCEANAI/main/docs/source/user_guide/notebooks/images/Pipeline_MIA_AV_ru.svg\" width=\"40%\"/>\n",
    "</center>\n",
    "\n",
    "<hr>"
   ]
  },
  {
   "cell_type": "code",
   "execution_count": 1,
   "metadata": {
    "nbsphinx": "hidden",
    "tags": []
   },
   "outputs": [],
   "source": [
    "import os  # Взаимодействие с файловой системой\n",
    "import sys # Доступ к некоторым переменным и функциям Python\n",
    "\n",
    "PATH_TO_SOURCE = os.path.abspath(os.path.dirname(globals()['_dh'][0]))\n",
    "PATH_TO_ROOT = os.path.join(PATH_TO_SOURCE, '..', '..', '..')\n",
    "\n",
    "sys.path.insert(0, os.path.abspath(PATH_TO_ROOT))"
   ]
  },
  {
   "cell_type": "markdown",
   "metadata": {},
   "source": [
    "### Импорт необходимых инструментов"
   ]
  },
  {
   "cell_type": "code",
   "execution_count": 2,
   "metadata": {},
   "outputs": [],
   "source": [
    "from oceanai.modules.lab.build import Run"
   ]
  },
  {
   "cell_type": "markdown",
   "metadata": {},
   "source": [
    "### Сборка"
   ]
  },
  {
   "cell_type": "code",
   "execution_count": 3,
   "metadata": {},
   "outputs": [
    {
     "data": {
      "text/markdown": [
       "<span style=\"color:#333\">**[</span><span style=\"color:#1776D2\">2023-12-10 22:08:28</span><span style=\"color:#333\">]</span> <span style=\"color:#333\">OCEANAI - персональные качества личности человека:</span>**<br /><span style=\"color:#333\">&nbsp;&nbsp;&nbsp;&nbsp;Авторы:</span><br /><span style=\"color:#333\">&nbsp;&nbsp;&nbsp;&nbsp;&nbsp;&nbsp;&nbsp;&nbsp;Рюмина Елена [<u>ryumina_ev@mail.ru</u>]</span><br /><span style=\"color:#333\">&nbsp;&nbsp;&nbsp;&nbsp;&nbsp;&nbsp;&nbsp;&nbsp;Рюмин Дмитрий [<u>dl_03.03.1991@mail.ru</u>]</span><br /><span style=\"color:#333\">&nbsp;&nbsp;&nbsp;&nbsp;&nbsp;&nbsp;&nbsp;&nbsp;Карпов Алексей [<u>karpov@iias.spb.su</u>]</span><br /><span style=\"color:#333\">&nbsp;&nbsp;&nbsp;&nbsp;Сопровождающие:</span><br /><span style=\"color:#333\">&nbsp;&nbsp;&nbsp;&nbsp;&nbsp;&nbsp;&nbsp;&nbsp;Рюмина Елена [<u>ryumina_ev@mail.ru</u>]</span><br /><span style=\"color:#333\">&nbsp;&nbsp;&nbsp;&nbsp;&nbsp;&nbsp;&nbsp;&nbsp;Рюмин Дмитрий [<u>dl_03.03.1991@mail.ru</u>]</span><br /><span style=\"color:#333\">&nbsp;&nbsp;&nbsp;&nbsp;Версия: <u>1.0.0a5</u></span><br /><span style=\"color:#333\">&nbsp;&nbsp;&nbsp;&nbsp;Лицензия: <u>BSD License</u></span></p>"
      ],
      "text/plain": [
       "<IPython.core.display.Markdown object>"
      ]
     },
     "metadata": {},
     "output_type": "display_data"
    }
   ],
   "source": [
    "_b5 = Run(\n",
    "    lang = 'ru', # Язык\n",
    "    color_simple = '#333', # Цвет обычного текста (шестнадцатеричный код)\n",
    "    color_info = '#1776D2', # Цвет текста содержащего информацию (шестнадцатеричный код)\n",
    "    color_err = '#FF0000', # Цвет текста содержащего ошибку (шестнадцатеричный код)\n",
    "    color_true = '#008001', # Цвет текста содержащего положительную информацию (шестнадцатеричный код)\n",
    "    bold_text = True, # Жирное начертание текста\n",
    "    num_to_df_display = 30, # Количество строк для отображения в таблицах\n",
    "    text_runtime = 'Время выполнения', # Текст времени выполнения\n",
    "    metadata = True # Отображение информации о библиотеке\n",
    ")"
   ]
  },
  {
   "cell_type": "markdown",
   "metadata": {},
   "source": [
    "### Получение и отображение версий установленных библиотек\n",
    "\n",
    "> - `_b5.df_pkgs_` - DataFrame c версиями установленных библиотек"
   ]
  },
  {
   "cell_type": "code",
   "execution_count": 4,
   "metadata": {},
   "outputs": [
    {
     "data": {
      "text/html": [
       "<div>\n",
       "<style scoped>\n",
       "    .dataframe tbody tr th:only-of-type {\n",
       "        vertical-align: middle;\n",
       "    }\n",
       "\n",
       "    .dataframe tbody tr th {\n",
       "        vertical-align: top;\n",
       "    }\n",
       "\n",
       "    .dataframe thead th {\n",
       "        text-align: right;\n",
       "    }\n",
       "</style>\n",
       "<table border=\"1\" class=\"dataframe\">\n",
       "  <thead>\n",
       "    <tr style=\"text-align: right;\">\n",
       "      <th></th>\n",
       "      <th>Package</th>\n",
       "      <th>Version</th>\n",
       "    </tr>\n",
       "  </thead>\n",
       "  <tbody>\n",
       "    <tr>\n",
       "      <th>1</th>\n",
       "      <td>TensorFlow</td>\n",
       "      <td>2.10.0</td>\n",
       "    </tr>\n",
       "    <tr>\n",
       "      <th>2</th>\n",
       "      <td>Keras</td>\n",
       "      <td>2.10.0</td>\n",
       "    </tr>\n",
       "    <tr>\n",
       "      <th>3</th>\n",
       "      <td>OpenCV</td>\n",
       "      <td>4.8.1</td>\n",
       "    </tr>\n",
       "    <tr>\n",
       "      <th>4</th>\n",
       "      <td>MediaPipe</td>\n",
       "      <td>0.9.0</td>\n",
       "    </tr>\n",
       "    <tr>\n",
       "      <th>5</th>\n",
       "      <td>NumPy</td>\n",
       "      <td>1.26.2</td>\n",
       "    </tr>\n",
       "    <tr>\n",
       "      <th>6</th>\n",
       "      <td>SciPy</td>\n",
       "      <td>1.11.4</td>\n",
       "    </tr>\n",
       "    <tr>\n",
       "      <th>7</th>\n",
       "      <td>Pandas</td>\n",
       "      <td>2.1.3</td>\n",
       "    </tr>\n",
       "    <tr>\n",
       "      <th>8</th>\n",
       "      <td>Scikit-learn</td>\n",
       "      <td>1.3.2</td>\n",
       "    </tr>\n",
       "    <tr>\n",
       "      <th>9</th>\n",
       "      <td>OpenSmile</td>\n",
       "      <td>2.5.0</td>\n",
       "    </tr>\n",
       "    <tr>\n",
       "      <th>10</th>\n",
       "      <td>Librosa</td>\n",
       "      <td>0.10.1</td>\n",
       "    </tr>\n",
       "    <tr>\n",
       "      <th>11</th>\n",
       "      <td>AudioRead</td>\n",
       "      <td>3.0.1</td>\n",
       "    </tr>\n",
       "    <tr>\n",
       "      <th>12</th>\n",
       "      <td>IPython</td>\n",
       "      <td>8.18.1</td>\n",
       "    </tr>\n",
       "    <tr>\n",
       "      <th>13</th>\n",
       "      <td>PyMediaInfo</td>\n",
       "      <td>6.1.0</td>\n",
       "    </tr>\n",
       "    <tr>\n",
       "      <th>14</th>\n",
       "      <td>Requests</td>\n",
       "      <td>2.31.0</td>\n",
       "    </tr>\n",
       "    <tr>\n",
       "      <th>15</th>\n",
       "      <td>JupyterLab</td>\n",
       "      <td>4.0.9</td>\n",
       "    </tr>\n",
       "    <tr>\n",
       "      <th>16</th>\n",
       "      <td>LIWC</td>\n",
       "      <td>0.5.0</td>\n",
       "    </tr>\n",
       "    <tr>\n",
       "      <th>17</th>\n",
       "      <td>Transformers</td>\n",
       "      <td>4.24.0</td>\n",
       "    </tr>\n",
       "    <tr>\n",
       "      <th>18</th>\n",
       "      <td>Sentencepiece</td>\n",
       "      <td>0.1.99</td>\n",
       "    </tr>\n",
       "    <tr>\n",
       "      <th>19</th>\n",
       "      <td>Torch</td>\n",
       "      <td>2.0.1+cpu</td>\n",
       "    </tr>\n",
       "    <tr>\n",
       "      <th>20</th>\n",
       "      <td>Torchaudio</td>\n",
       "      <td>2.0.2+cpu</td>\n",
       "    </tr>\n",
       "  </tbody>\n",
       "</table>\n",
       "</div>"
      ],
      "text/plain": [
       "          Package    Version\n",
       "1      TensorFlow     2.10.0\n",
       "2           Keras     2.10.0\n",
       "3          OpenCV      4.8.1\n",
       "4       MediaPipe      0.9.0\n",
       "5           NumPy     1.26.2\n",
       "6           SciPy     1.11.4\n",
       "7          Pandas      2.1.3\n",
       "8    Scikit-learn      1.3.2\n",
       "9       OpenSmile      2.5.0\n",
       "10        Librosa     0.10.1\n",
       "11      AudioRead      3.0.1\n",
       "12        IPython     8.18.1\n",
       "13    PyMediaInfo      6.1.0\n",
       "14       Requests     2.31.0\n",
       "15     JupyterLab      4.0.9\n",
       "16           LIWC      0.5.0\n",
       "17   Transformers     4.24.0\n",
       "18  Sentencepiece     0.1.99\n",
       "19          Torch  2.0.1+cpu\n",
       "20     Torchaudio  2.0.2+cpu"
      ]
     },
     "metadata": {},
     "output_type": "display_data"
    },
    {
     "data": {
      "text/markdown": [
       "<span style=\"color:#333\">**--- Время выполнения: 0.005 сек. ---**</span>"
      ],
      "text/plain": [
       "<IPython.core.display.Markdown object>"
      ]
     },
     "metadata": {},
     "output_type": "display_data"
    }
   ],
   "source": [
    "_b5.libs_vers(runtime = True, run = True)"
   ]
  },
  {
   "cell_type": "markdown",
   "metadata": {},
   "source": [
    "### Анализ аудио информации (формированияе и загрузка весов моделей)"
   ]
  },
  {
   "cell_type": "markdown",
   "metadata": {},
   "source": [
    "#### Формирование нейросетевой архитектуры модели для получения оценок по экспертным признакам (аудио модальность)\n",
    "\n",
    "> - `_b5.audio_model_hc_` - Нейросетевая модель **tf.keras.Model** для получения оценок по экспертным признакам"
   ]
  },
  {
   "cell_type": "code",
   "execution_count": 5,
   "metadata": {},
   "outputs": [
    {
     "data": {
      "text/markdown": [
       "<span style=\"color:#333\">**[</span><span style=\"color:#1776D2\">2023-12-10 22:08:28</span><span style=\"color:#333\">]</span> <span style=\"color:#333\">Формирование нейросетевой архитектуры модели для получения оценок по экспертным признакам (аудио модальность) ...</span>** "
      ],
      "text/plain": [
       "<IPython.core.display.Markdown object>"
      ]
     },
     "metadata": {},
     "output_type": "display_data"
    },
    {
     "data": {
      "text/markdown": [
       "<span style=\"color:#333\">**--- Время выполнения: 0.778 сек. ---**</span>"
      ],
      "text/plain": [
       "<IPython.core.display.Markdown object>"
      ]
     },
     "metadata": {},
     "output_type": "display_data"
    }
   ],
   "source": [
    "res_load_audio_model_hc = _b5.load_audio_model_hc(\n",
    "    show_summary = False, # Отображение сформированной нейросетевой архитектуры модели\n",
    "    out = True, # Отображение\n",
    "    runtime = True, # Подсчет времени выполнения\n",
    "    run = True # Блокировка выполнения\n",
    ")"
   ]
  },
  {
   "cell_type": "markdown",
   "metadata": {},
   "source": [
    "#### Загрузка весов нейросетевой модели для получения оценок по экспертным признакам (аудио модальность)\n",
    "\n",
    "> - `_b5.audio_model_hc_` - Нейросетевая модель **tf.keras.Model** для получения оценок по экспертным признакам"
   ]
  },
  {
   "cell_type": "code",
   "execution_count": 6,
   "metadata": {},
   "outputs": [
    {
     "data": {
      "text/markdown": [
       "<span style=\"color:#333\">**[</span><span style=\"color:#1776D2\">2023-12-10 22:08:28</span><span style=\"color:#333\">]</span> <span style=\"color:#333\">Загрузка весов нейросетевой модели для получения оценок по экспертным признакам (аудио модальность) ...</span>** "
      ],
      "text/plain": [
       "<IPython.core.display.Markdown object>"
      ]
     },
     "metadata": {},
     "output_type": "display_data"
    },
    {
     "data": {
      "text/markdown": [
       "<span style=\"color:#333\">**[</span><span style=\"color:#1776D2\">2023-12-10 22:08:29</span><span style=\"color:#333\">]</span> <span style=\"color:#333\">Загрузка файла \"<span style=\"color:#1776D2\">weights_2022-05-05_11-27-55.h5</span>\" 100.0% ...</span>** "
      ],
      "text/plain": [
       "<IPython.core.display.Markdown object>"
      ]
     },
     "metadata": {},
     "output_type": "display_data"
    },
    {
     "data": {
      "text/markdown": [
       "<span style=\"color:#333\">**--- Время выполнения: 0.246 сек. ---**</span>"
      ],
      "text/plain": [
       "<IPython.core.display.Markdown object>"
      ]
     },
     "metadata": {},
     "output_type": "display_data"
    }
   ],
   "source": [
    "# Настройки ядра\n",
    "_b5.path_to_save_ = './models' # Директория для сохранения файла\n",
    "_b5.chunk_size_ = 2000000 # Размер загрузки файла из сети за 1 шаг\n",
    "\n",
    "url = _b5.weights_for_big5_['audio']['fi']['hc']['sberdisk']\n",
    "\n",
    "res_load_audio_model_weights_hc = _b5.load_audio_model_weights_hc(\n",
    "    url = url, # Полный путь к файлу с весами нейросетевой модели\n",
    "    force_reload = True, # Принудительная загрузка файла с весами нейросетевой модели из сети\n",
    "    out = True, # Отображение\n",
    "    runtime = True, # Подсчет времени выполнения\n",
    "    run = True # Блокировка выполнения\n",
    ")"
   ]
  },
  {
   "cell_type": "markdown",
   "metadata": {},
   "source": [
    "#### Формирование нейросетевой архитектуры модели для получения оценок по нейросетевым признакам (аудио модальность)\n",
    "\n",
    "> - `_b5.audio_model_nn_` - Нейросетевая модель **tf.keras.Model** для получения оценок по нейросетевым признакам"
   ]
  },
  {
   "cell_type": "code",
   "execution_count": 7,
   "metadata": {},
   "outputs": [
    {
     "data": {
      "text/markdown": [
       "<span style=\"color:#333\">**[</span><span style=\"color:#1776D2\">2023-12-10 22:08:29</span><span style=\"color:#333\">]</span> <span style=\"color:#333\">Формирование нейросетевой архитектуры для получения оценок по нейросетевым признакам (аудио модальность) ...</span>** "
      ],
      "text/plain": [
       "<IPython.core.display.Markdown object>"
      ]
     },
     "metadata": {},
     "output_type": "display_data"
    },
    {
     "data": {
      "text/markdown": [
       "<span style=\"color:#333\">**--- Время выполнения: 0.11 сек. ---**</span>"
      ],
      "text/plain": [
       "<IPython.core.display.Markdown object>"
      ]
     },
     "metadata": {},
     "output_type": "display_data"
    }
   ],
   "source": [
    "res_load_audio_model_nn = _b5.load_audio_model_nn(\n",
    "    show_summary = False, # Отображение сформированной нейросетевой архитектуры модели\n",
    "    out = True, # Отображение\n",
    "    runtime = True, # Подсчет времени выполнения\n",
    "    run = True # Блокировка выполнения\n",
    ")"
   ]
  },
  {
   "cell_type": "markdown",
   "metadata": {},
   "source": [
    "#### Загрузка весов нейросетевой модели для получения оценок по нейросетевым признакам (аудио модальность)\n",
    "\n",
    "> - `_b5.audio_model_nn_` - Нейросетевая модель **tf.keras.Model** для получения оценок по нейросетевым признакам"
   ]
  },
  {
   "cell_type": "code",
   "execution_count": 8,
   "metadata": {},
   "outputs": [
    {
     "data": {
      "text/markdown": [
       "<span style=\"color:#333\">**[</span><span style=\"color:#1776D2\">2023-12-10 22:08:29</span><span style=\"color:#333\">]</span> <span style=\"color:#333\">Загрузка весов нейросетевой модели для получения оценок по нейросетевым признакам (аудио модальность) ...</span>** "
      ],
      "text/plain": [
       "<IPython.core.display.Markdown object>"
      ]
     },
     "metadata": {},
     "output_type": "display_data"
    },
    {
     "data": {
      "text/markdown": [
       "<span style=\"color:#333\">**[</span><span style=\"color:#1776D2\">2023-12-10 22:08:29</span><span style=\"color:#333\">]</span> <span style=\"color:#333\">Загрузка файла \"<span style=\"color:#1776D2\">weights_2022-05-03_07-46-14.h5</span>\"</span>** "
      ],
      "text/plain": [
       "<IPython.core.display.Markdown object>"
      ]
     },
     "metadata": {},
     "output_type": "display_data"
    },
    {
     "data": {
      "text/markdown": [
       "<span style=\"color:#333\">**--- Время выполнения: 0.347 сек. ---**</span>"
      ],
      "text/plain": [
       "<IPython.core.display.Markdown object>"
      ]
     },
     "metadata": {},
     "output_type": "display_data"
    }
   ],
   "source": [
    "# Настройки ядра\n",
    "_b5.path_to_save_ = './models' # Директория для сохранения файла\n",
    "_b5.chunk_size_ = 2000000 # Размер загрузки файла из сети за 1 шаг\n",
    "\n",
    "url = _b5.weights_for_big5_['audio']['fi']['nn']['sberdisk']\n",
    "\n",
    "res_load_audio_model_weights_nn = _b5.load_audio_model_weights_nn(\n",
    "    url = url, # Полный путь к файлу с весами нейросетевой модели\n",
    "    force_reload = False, # Принудительная загрузка файла с весами нейросетевой модели из сети\n",
    "    out = True, # Отображение\n",
    "    runtime = True, # Подсчет времени выполнения\n",
    "    run = True # Блокировка выполнения\n",
    ")"
   ]
  },
  {
   "cell_type": "markdown",
   "metadata": {},
   "source": [
    "### Анализ видео информации (формирование и загрузка весов моделей)"
   ]
  },
  {
   "cell_type": "markdown",
   "metadata": {},
   "source": [
    "#### Формирование нейросетевой архитектуры модели для получения оценок по экспертным признакам (видео модальность)\n",
    "\n",
    "> - `_b5.video_model_hc_` - Нейросетевая модель **tf.keras.Model** для получения оценок по экспертным признакам"
   ]
  },
  {
   "cell_type": "code",
   "execution_count": 9,
   "metadata": {},
   "outputs": [
    {
     "data": {
      "text/markdown": [
       "<span style=\"color:#333\">**[</span><span style=\"color:#1776D2\">2023-12-10 22:08:29</span><span style=\"color:#333\">]</span> <span style=\"color:#333\">Формирование нейросетевой архитектуры модели для получения оценок по экспертным признакам (видео модальность) ...</span>** "
      ],
      "text/plain": [
       "<IPython.core.display.Markdown object>"
      ]
     },
     "metadata": {},
     "output_type": "display_data"
    },
    {
     "data": {
      "text/markdown": [
       "<span style=\"color:#333\">**--- Время выполнения: 0.242 сек. ---**</span>"
      ],
      "text/plain": [
       "<IPython.core.display.Markdown object>"
      ]
     },
     "metadata": {},
     "output_type": "display_data"
    }
   ],
   "source": [
    "res_load_video_model_hc = _b5.load_video_model_hc(\n",
    "    lang = 'en',\n",
    "    show_summary = False, # Отображение сформированной нейросетевой архитектуры модели\n",
    "    out = True, # Отображение\n",
    "    runtime = True, # Подсчет времени выполнения\n",
    "    run = True # Блокировка выполнения\n",
    ")"
   ]
  },
  {
   "cell_type": "markdown",
   "metadata": {},
   "source": [
    "#### Загрузка весов нейросетевой модели для получения оценок по экспертным признакам (видео модальность)\n",
    "\n",
    "> - `_b5.video_model_hc_` - Нейросетевая модель **tf.keras.Model** для получения оценок по экспертным признакам"
   ]
  },
  {
   "cell_type": "code",
   "execution_count": 10,
   "metadata": {},
   "outputs": [
    {
     "data": {
      "text/markdown": [
       "<span style=\"color:#333\">**[</span><span style=\"color:#1776D2\">2023-12-10 22:08:29</span><span style=\"color:#333\">]</span> <span style=\"color:#333\">Загрузка весов нейросетевой модели для получения оценок по экспертным признакам (видео модальность) ...</span>** "
      ],
      "text/plain": [
       "<IPython.core.display.Markdown object>"
      ]
     },
     "metadata": {},
     "output_type": "display_data"
    },
    {
     "data": {
      "text/markdown": [
       "<span style=\"color:#333\">**[</span><span style=\"color:#1776D2\">2023-12-10 22:08:30</span><span style=\"color:#333\">]</span> <span style=\"color:#333\">Загрузка файла \"<span style=\"color:#1776D2\">weights_2022-08-27_18-53-35.h5</span>\" 100.0% ...</span>** "
      ],
      "text/plain": [
       "<IPython.core.display.Markdown object>"
      ]
     },
     "metadata": {},
     "output_type": "display_data"
    },
    {
     "data": {
      "text/markdown": [
       "<span style=\"color:#333\">**--- Время выполнения: 0.28 сек. ---**</span>"
      ],
      "text/plain": [
       "<IPython.core.display.Markdown object>"
      ]
     },
     "metadata": {},
     "output_type": "display_data"
    }
   ],
   "source": [
    "# Настройки ядра\n",
    "_b5.path_to_save_ = './models' # Директория для сохранения файла\n",
    "_b5.chunk_size_ = 2000000 # Размер загрузки файла из сети за 1 шаг\n",
    "\n",
    "url = _b5.weights_for_big5_['video']['fi']['hc']['sberdisk']\n",
    "\n",
    "res_load_video_model_weights_hc = _b5.load_video_model_weights_hc(\n",
    "    url = url, # Полный путь к файлу с весами нейросетевой модели\n",
    "    force_reload = True, # Принудительная загрузка файла с весами нейросетевой модели из сети\n",
    "    out = True, # Отображение\n",
    "    runtime = True, # Подсчет времени выполнения\n",
    "    run = True # Блокировка выполнения\n",
    ")"
   ]
  },
  {
   "cell_type": "markdown",
   "metadata": {},
   "source": [
    "#### Формирование нейросетевой архитектуры для получения нейросетевых признаков (видео модальность)\n",
    "\n",
    "> - `_b5.video_model_deep_fe_` - Нейросетевая модель **tf.keras.Model** для получения нейросетевых признаков"
   ]
  },
  {
   "cell_type": "code",
   "execution_count": 11,
   "metadata": {},
   "outputs": [
    {
     "data": {
      "text/markdown": [
       "<span style=\"color:#333\">**[</span><span style=\"color:#1776D2\">2023-12-10 22:08:30</span><span style=\"color:#333\">]</span> <span style=\"color:#333\">Формирование нейросетевой архитектуры для получения нейросетевых признаков (видео модальность) ...</span>** "
      ],
      "text/plain": [
       "<IPython.core.display.Markdown object>"
      ]
     },
     "metadata": {},
     "output_type": "display_data"
    },
    {
     "data": {
      "text/markdown": [
       "<span style=\"color:#333\">**--- Время выполнения: 0.665 сек. ---**</span>"
      ],
      "text/plain": [
       "<IPython.core.display.Markdown object>"
      ]
     },
     "metadata": {},
     "output_type": "display_data"
    }
   ],
   "source": [
    "res_load_video_model_deep_fe = _b5.load_video_model_deep_fe(\n",
    "    show_summary = False, # Отображение сформированной нейросетевой архитектуры модели\n",
    "    out = True, # Отображение\n",
    "    runtime = True, # Подсчет времени выполнения\n",
    "    run = True # Блокировка выполнения\n",
    ")"
   ]
  },
  {
   "cell_type": "markdown",
   "metadata": {},
   "source": [
    "#### Загрузка весов нейросетевой модели для получения нейросетевых признаков (видео модальность)\n",
    "\n",
    "> - `_b5.video_model_deep_fe_` - Нейросетевая модель **tf.keras.Model** для получения нейросетевых признаков"
   ]
  },
  {
   "cell_type": "code",
   "execution_count": 12,
   "metadata": {},
   "outputs": [
    {
     "data": {
      "text/markdown": [
       "<span style=\"color:#333\">**[</span><span style=\"color:#1776D2\">2023-12-10 22:08:30</span><span style=\"color:#333\">]</span> <span style=\"color:#333\">Загрузка весов нейросетевой модели для получения нейросетевых признаков (видео модальность) ...</span>** "
      ],
      "text/plain": [
       "<IPython.core.display.Markdown object>"
      ]
     },
     "metadata": {},
     "output_type": "display_data"
    },
    {
     "data": {
      "text/markdown": [
       "<span style=\"color:#333\">**[</span><span style=\"color:#1776D2\">2023-12-10 22:08:35</span><span style=\"color:#333\">]</span> <span style=\"color:#333\">Загрузка файла \"<span style=\"color:#1776D2\">weights_2022-11-01_12-27-07.h5</span>\" 100.0% ...</span>** "
      ],
      "text/plain": [
       "<IPython.core.display.Markdown object>"
      ]
     },
     "metadata": {},
     "output_type": "display_data"
    },
    {
     "data": {
      "text/markdown": [
       "<span style=\"color:#333\">**--- Время выполнения: 4.899 сек. ---**</span>"
      ],
      "text/plain": [
       "<IPython.core.display.Markdown object>"
      ]
     },
     "metadata": {},
     "output_type": "display_data"
    }
   ],
   "source": [
    "# Настройки ядра\n",
    "_b5.path_to_save_ = './models' # Директория для сохранения файла\n",
    "_b5.chunk_size_ = 2000000 # Размер загрузки файла из сети за 1 шаг\n",
    "\n",
    "url = _b5.weights_for_big5_['video']['fi']['fe']['sberdisk']\n",
    "\n",
    "res_load_video_model_weights_deep_fe = _b5.load_video_model_weights_deep_fe(\n",
    "    url = url, # Полный путь к файлу с весами нейросетевой модели\n",
    "    force_reload = True, # Принудительная загрузка файла с весами нейросетевой модели из сети\n",
    "    out = True, # Отображение\n",
    "    runtime = True, # Подсчет времени выполнения\n",
    "    run = True # Блокировка выполнения\n",
    ")"
   ]
  },
  {
   "cell_type": "markdown",
   "metadata": {},
   "source": [
    "#### Формирование нейросетевой архитектуры модели для получения оценок по нейросетевым признакам (видео модальность)\n",
    "\n",
    "> - `_b5.video_model_nn_` - Нейросетевая модель **tf.keras.Model** для получения оценок по нейросетевым признакам"
   ]
  },
  {
   "cell_type": "code",
   "execution_count": 13,
   "metadata": {},
   "outputs": [
    {
     "data": {
      "text/markdown": [
       "<span style=\"color:#333\">**[</span><span style=\"color:#1776D2\">2023-12-10 22:08:35</span><span style=\"color:#333\">]</span> <span style=\"color:#333\">Формирование нейросетевой архитектуры для получения оценок по нейросетевым признакам (видео модальность) ...</span>** "
      ],
      "text/plain": [
       "<IPython.core.display.Markdown object>"
      ]
     },
     "metadata": {},
     "output_type": "display_data"
    },
    {
     "data": {
      "text/markdown": [
       "<span style=\"color:#333\">**--- Время выполнения: 0.993 сек. ---**</span>"
      ],
      "text/plain": [
       "<IPython.core.display.Markdown object>"
      ]
     },
     "metadata": {},
     "output_type": "display_data"
    }
   ],
   "source": [
    "res_load_video_model_nn = _b5.load_video_model_nn(\n",
    "    show_summary = False, # Отображение сформированной нейросетевой архитектуры модели\n",
    "    out = True, # Отображение\n",
    "    runtime = True, # Подсчет времени выполнения\n",
    "    run = True # Блокировка выполнения\n",
    ")"
   ]
  },
  {
   "cell_type": "markdown",
   "metadata": {},
   "source": [
    "#### Загрузка весов нейросетевой модели для получения оценок по нейросетевым признакам (видео модальность)\n",
    "\n",
    "> - `_b5.video_model_nn_` - Нейросетевая модель **tf.keras.Model** для получения оценок по нейросетевым признакам"
   ]
  },
  {
   "cell_type": "code",
   "execution_count": 14,
   "metadata": {},
   "outputs": [
    {
     "data": {
      "text/markdown": [
       "<span style=\"color:#333\">**[</span><span style=\"color:#1776D2\">2023-12-10 22:08:36</span><span style=\"color:#333\">]</span> <span style=\"color:#333\">Загрузка весов нейросетевой модели для получения оценок по нейросетевым признакам (видео модальность) ...</span>** "
      ],
      "text/plain": [
       "<IPython.core.display.Markdown object>"
      ]
     },
     "metadata": {},
     "output_type": "display_data"
    },
    {
     "data": {
      "text/markdown": [
       "<span style=\"color:#333\">**[</span><span style=\"color:#1776D2\">2023-12-10 22:08:36</span><span style=\"color:#333\">]</span> <span style=\"color:#333\">Загрузка файла \"<span style=\"color:#1776D2\">weights_2022-03-22_16-31-48.h5</span>\"</span>** "
      ],
      "text/plain": [
       "<IPython.core.display.Markdown object>"
      ]
     },
     "metadata": {},
     "output_type": "display_data"
    },
    {
     "data": {
      "text/markdown": [
       "<span style=\"color:#333\">**--- Время выполнения: 0.253 сек. ---**</span>"
      ],
      "text/plain": [
       "<IPython.core.display.Markdown object>"
      ]
     },
     "metadata": {},
     "output_type": "display_data"
    }
   ],
   "source": [
    "# Настройки ядра\n",
    "_b5.path_to_save_ = './models' # Директория для сохранения файла\n",
    "_b5.chunk_size_ = 2000000 # Размер загрузки файла из сети за 1 шаг\n",
    "\n",
    "url = _b5.weights_for_big5_['video']['fi']['nn']['sberdisk']\n",
    "\n",
    "res_load_video_model_weights_nn = _b5.load_video_model_weights_nn(\n",
    "    url = url, # Полный путь к файлу с весами нейросетевой модели\n",
    "    force_reload = False, # Принудительная загрузка файла с весами нейросетевой модели из сети\n",
    "    out = True, # Отображение\n",
    "    runtime = True, # Подсчет времени выполнения\n",
    "    run = True # Блокировка выполнения\n",
    ")"
   ]
  },
  {
   "cell_type": "markdown",
   "metadata": {},
   "source": [
    "### Анализ мультимодальной информации (формирование, загрузка весов моделей, получение оценок персональных качеств)"
   ]
  },
  {
   "cell_type": "markdown",
   "metadata": {},
   "source": [
    "#### Формирование нейросетевых архитектур моделей для получения результатов оценки персональных качеств (мультимодальное объединение)\n",
    "\n",
    "> - `_b5.av_models_b5_` - Нейросетевые модели **tf.keras.Model** для получения результатов оценки персональных качеств"
   ]
  },
  {
   "cell_type": "code",
   "execution_count": 15,
   "metadata": {},
   "outputs": [
    {
     "data": {
      "text/markdown": [
       "<span style=\"color:#333\">**[</span><span style=\"color:#1776D2\">2023-12-10 22:08:37</span><span style=\"color:#333\">]</span> <span style=\"color:#333\">Формирование нейросетевых архитектур моделей для получения результатов оценки персональных качеств (мультимодальное объединение) ...</span>** "
      ],
      "text/plain": [
       "<IPython.core.display.Markdown object>"
      ]
     },
     "metadata": {},
     "output_type": "display_data"
    },
    {
     "data": {
      "text/markdown": [
       "<span style=\"color:#333\">**--- Время выполнения: 0.044 сек. ---**</span>"
      ],
      "text/plain": [
       "<IPython.core.display.Markdown object>"
      ]
     },
     "metadata": {},
     "output_type": "display_data"
    }
   ],
   "source": [
    "res_load_av_models_b5 = _b5.load_av_models_b5(\n",
    "    show_summary = False, # Отображение сформированной нейросетевой архитектуры модели\n",
    "    out = True, # Отображение\n",
    "    runtime = True, # Подсчет времени выполнения\n",
    "    run = True # Блокировка выполнения\n",
    ")"
   ]
  },
  {
   "cell_type": "markdown",
   "metadata": {},
   "source": [
    "#### Загрузка весов нейросетевых моделей для получения результатов оценки персональных качеств (мультимодальное объединение)\n",
    "\n",
    "> - `_b5.av_models_b5_` - Нейросетевые модели **tf.keras.Model** для получения результатов оценки персональных качеств"
   ]
  },
  {
   "cell_type": "code",
   "execution_count": 16,
   "metadata": {},
   "outputs": [
    {
     "data": {
      "text/markdown": [
       "<span style=\"color:#333\">**[</span><span style=\"color:#1776D2\">2023-12-10 22:08:37</span><span style=\"color:#333\">]</span> <span style=\"color:#333\">Загрузка весов нейросетевых моделей для получения результатов оценки персональных качеств (мультимодальное объединение) ...</span>** "
      ],
      "text/plain": [
       "<IPython.core.display.Markdown object>"
      ]
     },
     "metadata": {},
     "output_type": "display_data"
    },
    {
     "data": {
      "text/markdown": [
       "<span style=\"color:#333\">**[</span><span style=\"color:#1776D2\">2023-12-10 22:08:37</span><span style=\"color:#333\">]</span> <span style=\"color:#333\">Загрузка файла \"<span style=\"color:#1776D2\">weights_2022-08-28_11-14-35.h5</span>\" 100.0% ...</span>**  <span style=\"color:#333\">**Открытость опыту**</span>"
      ],
      "text/plain": [
       "<IPython.core.display.Markdown object>"
      ]
     },
     "metadata": {},
     "output_type": "display_data"
    },
    {
     "data": {
      "text/markdown": [
       "<span style=\"color:#333\">**[</span><span style=\"color:#1776D2\">2023-12-10 22:08:37</span><span style=\"color:#333\">]</span> <span style=\"color:#333\">Загрузка файла \"<span style=\"color:#1776D2\">weights_2022-08-28_11-08-10.h5</span>\" 100.0% ...</span>**  <span style=\"color:#333\">**Добросовестность**</span>"
      ],
      "text/plain": [
       "<IPython.core.display.Markdown object>"
      ]
     },
     "metadata": {},
     "output_type": "display_data"
    },
    {
     "data": {
      "text/markdown": [
       "<span style=\"color:#333\">**[</span><span style=\"color:#1776D2\">2023-12-10 22:08:37</span><span style=\"color:#333\">]</span> <span style=\"color:#333\">Загрузка файла \"<span style=\"color:#1776D2\">weights_2022-08-28_11-17-57.h5</span>\" 100.0% ...</span>**  <span style=\"color:#333\">**Экстраверсия**</span>"
      ],
      "text/plain": [
       "<IPython.core.display.Markdown object>"
      ]
     },
     "metadata": {},
     "output_type": "display_data"
    },
    {
     "data": {
      "text/markdown": [
       "<span style=\"color:#333\">**[</span><span style=\"color:#1776D2\">2023-12-10 22:08:37</span><span style=\"color:#333\">]</span> <span style=\"color:#333\">Загрузка файла \"<span style=\"color:#1776D2\">weights_2022-08-28_11-25-11.h5</span>\" 100.0% ...</span>**  <span style=\"color:#333\">**Доброжелательность**</span>"
      ],
      "text/plain": [
       "<IPython.core.display.Markdown object>"
      ]
     },
     "metadata": {},
     "output_type": "display_data"
    },
    {
     "data": {
      "text/markdown": [
       "<span style=\"color:#333\">**[</span><span style=\"color:#1776D2\">2023-12-10 22:08:37</span><span style=\"color:#333\">]</span> <span style=\"color:#333\">Загрузка файла \"<span style=\"color:#1776D2\">weights_2022-06-14_21-44-09.h5</span>\" 100.0% ...</span>**  <span style=\"color:#333\">**Нейротизм**</span>"
      ],
      "text/plain": [
       "<IPython.core.display.Markdown object>"
      ]
     },
     "metadata": {},
     "output_type": "display_data"
    },
    {
     "data": {
      "text/markdown": [
       "<span style=\"color:#333\">**--- Время выполнения: 0.78 сек. ---**</span>"
      ],
      "text/plain": [
       "<IPython.core.display.Markdown object>"
      ]
     },
     "metadata": {},
     "output_type": "display_data"
    }
   ],
   "source": [
    "# Настройки ядра\n",
    "_b5.path_to_save_ = './models' # Директория для сохранения файла\n",
    "_b5.chunk_size_ = 2000000 # Размер загрузки файла из сети за 1 шаг\n",
    "\n",
    "url_openness = _b5.weights_for_big5_['av']['fi']['b5']['openness']['sberdisk']\n",
    "url_conscientiousness = _b5.weights_for_big5_['av']['fi']['b5']['conscientiousness']['sberdisk']\n",
    "url_extraversion = _b5.weights_for_big5_['av']['fi']['b5']['extraversion']['sberdisk']\n",
    "url_agreeableness = _b5.weights_for_big5_['av']['fi']['b5']['agreeableness']['sberdisk']\n",
    "url_neuroticism = _b5.weights_for_big5_['av']['fi']['b5']['neuroticism']['sberdisk']\n",
    "\n",
    "res_load_av_models_weights_b5 = _b5.load_av_models_weights_b5(\n",
    "    url_openness = url_openness, # Открытость опыту\n",
    "    url_conscientiousness = url_conscientiousness, # Добросовестность\n",
    "    url_extraversion = url_extraversion, # Экстраверсия\n",
    "    url_agreeableness = url_agreeableness, # Доброжелательность\n",
    "    url_neuroticism = url_neuroticism, # Нейротизм\n",
    "    force_reload = True, # Принудительная загрузка файла с весами нейросетевой модели из сети\n",
    "    out = True, # Отображение\n",
    "    runtime = True, # Подсчет времени выполнения\n",
    "    run = True # Блокировка выполнения\n",
    ")"
   ]
  },
  {
   "cell_type": "markdown",
   "metadata": {},
   "source": [
    "#### Получение прогнозов (мультимодальное объединение)\n",
    "\n",
    "> - `_b5.df_files_` - DataFrame с данными\n",
    "> - `_b5.df_accuracy_` - DataFrame с результатами вычисления точности"
   ]
  },
  {
   "cell_type": "code",
   "execution_count": 17,
   "metadata": {},
   "outputs": [
    {
     "data": {
      "text/markdown": [
       "<span style=\"color:#333\">**[</span><span style=\"color:#1776D2\">2023-12-10 23:32:04</span><span style=\"color:#333\">]</span> <span style=\"color:#333\">Получение прогнозов и вычисление точности (мультимодальное объединение) ...</span>**<p><span style=\"color:#333\">&nbsp;&nbsp;&nbsp;&nbsp;2000 из 2000 (100.0%) ... test80_25\\_Q4wOgixh7E.004.mp4 ...</span></p>"
      ],
      "text/plain": [
       "<IPython.core.display.Markdown object>"
      ]
     },
     "metadata": {},
     "output_type": "display_data"
    },
    {
     "data": {
      "text/html": [
       "<div>\n",
       "<style scoped>\n",
       "    .dataframe tbody tr th:only-of-type {\n",
       "        vertical-align: middle;\n",
       "    }\n",
       "\n",
       "    .dataframe tbody tr th {\n",
       "        vertical-align: top;\n",
       "    }\n",
       "\n",
       "    .dataframe thead th {\n",
       "        text-align: right;\n",
       "    }\n",
       "</style>\n",
       "<table border=\"1\" class=\"dataframe\">\n",
       "  <thead>\n",
       "    <tr style=\"text-align: right;\">\n",
       "      <th></th>\n",
       "      <th>Path</th>\n",
       "      <th>Openness</th>\n",
       "      <th>Conscientiousness</th>\n",
       "      <th>Extraversion</th>\n",
       "      <th>Agreeableness</th>\n",
       "      <th>Neuroticism</th>\n",
       "    </tr>\n",
       "    <tr>\n",
       "      <th>ID</th>\n",
       "      <th></th>\n",
       "      <th></th>\n",
       "      <th></th>\n",
       "      <th></th>\n",
       "      <th></th>\n",
       "      <th></th>\n",
       "    </tr>\n",
       "  </thead>\n",
       "  <tbody>\n",
       "    <tr>\n",
       "      <th>1</th>\n",
       "      <td>E:\\Databases\\FirstImpressionsV2\\test\\test80_01...</td>\n",
       "      <td>0.554339</td>\n",
       "      <td>0.506675</td>\n",
       "      <td>0.44027</td>\n",
       "      <td>0.540324</td>\n",
       "      <td>0.486159</td>\n",
       "    </tr>\n",
       "    <tr>\n",
       "      <th>2</th>\n",
       "      <td>E:\\Databases\\FirstImpressionsV2\\test\\test80_01...</td>\n",
       "      <td>0.558628</td>\n",
       "      <td>0.442256</td>\n",
       "      <td>0.503703</td>\n",
       "      <td>0.558629</td>\n",
       "      <td>0.521427</td>\n",
       "    </tr>\n",
       "    <tr>\n",
       "      <th>3</th>\n",
       "      <td>E:\\Databases\\FirstImpressionsV2\\test\\test80_01...</td>\n",
       "      <td>0.477496</td>\n",
       "      <td>0.568603</td>\n",
       "      <td>0.333851</td>\n",
       "      <td>0.49181</td>\n",
       "      <td>0.458912</td>\n",
       "    </tr>\n",
       "    <tr>\n",
       "      <th>4</th>\n",
       "      <td>E:\\Databases\\FirstImpressionsV2\\test\\test80_01...</td>\n",
       "      <td>0.662694</td>\n",
       "      <td>0.621926</td>\n",
       "      <td>0.590044</td>\n",
       "      <td>0.59909</td>\n",
       "      <td>0.63611</td>\n",
       "    </tr>\n",
       "    <tr>\n",
       "      <th>5</th>\n",
       "      <td>E:\\Databases\\FirstImpressionsV2\\test\\test80_01...</td>\n",
       "      <td>0.645957</td>\n",
       "      <td>0.53239</td>\n",
       "      <td>0.552116</td>\n",
       "      <td>0.589254</td>\n",
       "      <td>0.552384</td>\n",
       "    </tr>\n",
       "    <tr>\n",
       "      <th>6</th>\n",
       "      <td>E:\\Databases\\FirstImpressionsV2\\test\\test80_01...</td>\n",
       "      <td>0.674969</td>\n",
       "      <td>0.666928</td>\n",
       "      <td>0.617616</td>\n",
       "      <td>0.610557</td>\n",
       "      <td>0.641456</td>\n",
       "    </tr>\n",
       "    <tr>\n",
       "      <th>7</th>\n",
       "      <td>E:\\Databases\\FirstImpressionsV2\\test\\test80_01...</td>\n",
       "      <td>0.399168</td>\n",
       "      <td>0.397329</td>\n",
       "      <td>0.335874</td>\n",
       "      <td>0.497989</td>\n",
       "      <td>0.397339</td>\n",
       "    </tr>\n",
       "    <tr>\n",
       "      <th>8</th>\n",
       "      <td>E:\\Databases\\FirstImpressionsV2\\test\\test80_01...</td>\n",
       "      <td>0.577776</td>\n",
       "      <td>0.59707</td>\n",
       "      <td>0.498058</td>\n",
       "      <td>0.640566</td>\n",
       "      <td>0.600071</td>\n",
       "    </tr>\n",
       "    <tr>\n",
       "      <th>9</th>\n",
       "      <td>E:\\Databases\\FirstImpressionsV2\\test\\test80_01...</td>\n",
       "      <td>0.543659</td>\n",
       "      <td>0.451132</td>\n",
       "      <td>0.449573</td>\n",
       "      <td>0.482379</td>\n",
       "      <td>0.41525</td>\n",
       "    </tr>\n",
       "    <tr>\n",
       "      <th>10</th>\n",
       "      <td>E:\\Databases\\FirstImpressionsV2\\test\\test80_01...</td>\n",
       "      <td>0.548789</td>\n",
       "      <td>0.51095</td>\n",
       "      <td>0.433898</td>\n",
       "      <td>0.579741</td>\n",
       "      <td>0.536202</td>\n",
       "    </tr>\n",
       "    <tr>\n",
       "      <th>11</th>\n",
       "      <td>E:\\Databases\\FirstImpressionsV2\\test\\test80_01...</td>\n",
       "      <td>0.546669</td>\n",
       "      <td>0.398539</td>\n",
       "      <td>0.443774</td>\n",
       "      <td>0.518128</td>\n",
       "      <td>0.492411</td>\n",
       "    </tr>\n",
       "    <tr>\n",
       "      <th>12</th>\n",
       "      <td>E:\\Databases\\FirstImpressionsV2\\test\\test80_01...</td>\n",
       "      <td>0.467663</td>\n",
       "      <td>0.423002</td>\n",
       "      <td>0.320997</td>\n",
       "      <td>0.499694</td>\n",
       "      <td>0.46523</td>\n",
       "    </tr>\n",
       "    <tr>\n",
       "      <th>13</th>\n",
       "      <td>E:\\Databases\\FirstImpressionsV2\\test\\test80_01...</td>\n",
       "      <td>0.310163</td>\n",
       "      <td>0.316492</td>\n",
       "      <td>0.21899</td>\n",
       "      <td>0.371644</td>\n",
       "      <td>0.243137</td>\n",
       "    </tr>\n",
       "    <tr>\n",
       "      <th>14</th>\n",
       "      <td>E:\\Databases\\FirstImpressionsV2\\test\\test80_01...</td>\n",
       "      <td>0.643472</td>\n",
       "      <td>0.509475</td>\n",
       "      <td>0.483642</td>\n",
       "      <td>0.503161</td>\n",
       "      <td>0.551032</td>\n",
       "    </tr>\n",
       "    <tr>\n",
       "      <th>15</th>\n",
       "      <td>E:\\Databases\\FirstImpressionsV2\\test\\test80_01...</td>\n",
       "      <td>0.650172</td>\n",
       "      <td>0.840146</td>\n",
       "      <td>0.535309</td>\n",
       "      <td>0.710961</td>\n",
       "      <td>0.743376</td>\n",
       "    </tr>\n",
       "    <tr>\n",
       "      <th>16</th>\n",
       "      <td>E:\\Databases\\FirstImpressionsV2\\test\\test80_01...</td>\n",
       "      <td>0.598406</td>\n",
       "      <td>0.520596</td>\n",
       "      <td>0.450905</td>\n",
       "      <td>0.486429</td>\n",
       "      <td>0.561646</td>\n",
       "    </tr>\n",
       "    <tr>\n",
       "      <th>17</th>\n",
       "      <td>E:\\Databases\\FirstImpressionsV2\\test\\test80_01...</td>\n",
       "      <td>0.571594</td>\n",
       "      <td>0.673985</td>\n",
       "      <td>0.472278</td>\n",
       "      <td>0.615659</td>\n",
       "      <td>0.621158</td>\n",
       "    </tr>\n",
       "    <tr>\n",
       "      <th>18</th>\n",
       "      <td>E:\\Databases\\FirstImpressionsV2\\test\\test80_01...</td>\n",
       "      <td>0.552468</td>\n",
       "      <td>0.56882</td>\n",
       "      <td>0.457122</td>\n",
       "      <td>0.613199</td>\n",
       "      <td>0.570956</td>\n",
       "    </tr>\n",
       "    <tr>\n",
       "      <th>19</th>\n",
       "      <td>E:\\Databases\\FirstImpressionsV2\\test\\test80_01...</td>\n",
       "      <td>0.658686</td>\n",
       "      <td>0.625189</td>\n",
       "      <td>0.634818</td>\n",
       "      <td>0.612253</td>\n",
       "      <td>0.626022</td>\n",
       "    </tr>\n",
       "    <tr>\n",
       "      <th>20</th>\n",
       "      <td>E:\\Databases\\FirstImpressionsV2\\test\\test80_01...</td>\n",
       "      <td>0.660084</td>\n",
       "      <td>0.5444</td>\n",
       "      <td>0.641854</td>\n",
       "      <td>0.604609</td>\n",
       "      <td>0.628323</td>\n",
       "    </tr>\n",
       "    <tr>\n",
       "      <th>21</th>\n",
       "      <td>E:\\Databases\\FirstImpressionsV2\\test\\test80_01...</td>\n",
       "      <td>0.543869</td>\n",
       "      <td>0.477809</td>\n",
       "      <td>0.407736</td>\n",
       "      <td>0.55575</td>\n",
       "      <td>0.499699</td>\n",
       "    </tr>\n",
       "    <tr>\n",
       "      <th>22</th>\n",
       "      <td>E:\\Databases\\FirstImpressionsV2\\test\\test80_01...</td>\n",
       "      <td>0.53741</td>\n",
       "      <td>0.463901</td>\n",
       "      <td>0.419341</td>\n",
       "      <td>0.499864</td>\n",
       "      <td>0.45524</td>\n",
       "    </tr>\n",
       "    <tr>\n",
       "      <th>23</th>\n",
       "      <td>E:\\Databases\\FirstImpressionsV2\\test\\test80_01...</td>\n",
       "      <td>0.464764</td>\n",
       "      <td>0.434812</td>\n",
       "      <td>0.346824</td>\n",
       "      <td>0.428422</td>\n",
       "      <td>0.358075</td>\n",
       "    </tr>\n",
       "    <tr>\n",
       "      <th>24</th>\n",
       "      <td>E:\\Databases\\FirstImpressionsV2\\test\\test80_01...</td>\n",
       "      <td>0.633964</td>\n",
       "      <td>0.633346</td>\n",
       "      <td>0.584663</td>\n",
       "      <td>0.615251</td>\n",
       "      <td>0.608022</td>\n",
       "    </tr>\n",
       "    <tr>\n",
       "      <th>25</th>\n",
       "      <td>E:\\Databases\\FirstImpressionsV2\\test\\test80_01...</td>\n",
       "      <td>0.451673</td>\n",
       "      <td>0.574275</td>\n",
       "      <td>0.350123</td>\n",
       "      <td>0.526851</td>\n",
       "      <td>0.468274</td>\n",
       "    </tr>\n",
       "    <tr>\n",
       "      <th>26</th>\n",
       "      <td>E:\\Databases\\FirstImpressionsV2\\test\\test80_01...</td>\n",
       "      <td>0.602876</td>\n",
       "      <td>0.592374</td>\n",
       "      <td>0.494711</td>\n",
       "      <td>0.539285</td>\n",
       "      <td>0.50589</td>\n",
       "    </tr>\n",
       "    <tr>\n",
       "      <th>27</th>\n",
       "      <td>E:\\Databases\\FirstImpressionsV2\\test\\test80_01...</td>\n",
       "      <td>0.586684</td>\n",
       "      <td>0.521494</td>\n",
       "      <td>0.485463</td>\n",
       "      <td>0.530354</td>\n",
       "      <td>0.535564</td>\n",
       "    </tr>\n",
       "    <tr>\n",
       "      <th>28</th>\n",
       "      <td>E:\\Databases\\FirstImpressionsV2\\test\\test80_01...</td>\n",
       "      <td>0.689548</td>\n",
       "      <td>0.643959</td>\n",
       "      <td>0.695842</td>\n",
       "      <td>0.646199</td>\n",
       "      <td>0.686318</td>\n",
       "    </tr>\n",
       "    <tr>\n",
       "      <th>29</th>\n",
       "      <td>E:\\Databases\\FirstImpressionsV2\\test\\test80_01...</td>\n",
       "      <td>0.583511</td>\n",
       "      <td>0.564324</td>\n",
       "      <td>0.502316</td>\n",
       "      <td>0.554543</td>\n",
       "      <td>0.539947</td>\n",
       "    </tr>\n",
       "    <tr>\n",
       "      <th>30</th>\n",
       "      <td>E:\\Databases\\FirstImpressionsV2\\test\\test80_01...</td>\n",
       "      <td>0.642827</td>\n",
       "      <td>0.588256</td>\n",
       "      <td>0.617834</td>\n",
       "      <td>0.615337</td>\n",
       "      <td>0.626731</td>\n",
       "    </tr>\n",
       "  </tbody>\n",
       "</table>\n",
       "</div>"
      ],
      "text/plain": [
       "                                                 Path  Openness  \\\n",
       "ID                                                                \n",
       "1   E:\\Databases\\FirstImpressionsV2\\test\\test80_01...  0.554339   \n",
       "2   E:\\Databases\\FirstImpressionsV2\\test\\test80_01...  0.558628   \n",
       "3   E:\\Databases\\FirstImpressionsV2\\test\\test80_01...  0.477496   \n",
       "4   E:\\Databases\\FirstImpressionsV2\\test\\test80_01...  0.662694   \n",
       "5   E:\\Databases\\FirstImpressionsV2\\test\\test80_01...  0.645957   \n",
       "6   E:\\Databases\\FirstImpressionsV2\\test\\test80_01...  0.674969   \n",
       "7   E:\\Databases\\FirstImpressionsV2\\test\\test80_01...  0.399168   \n",
       "8   E:\\Databases\\FirstImpressionsV2\\test\\test80_01...  0.577776   \n",
       "9   E:\\Databases\\FirstImpressionsV2\\test\\test80_01...  0.543659   \n",
       "10  E:\\Databases\\FirstImpressionsV2\\test\\test80_01...  0.548789   \n",
       "11  E:\\Databases\\FirstImpressionsV2\\test\\test80_01...  0.546669   \n",
       "12  E:\\Databases\\FirstImpressionsV2\\test\\test80_01...  0.467663   \n",
       "13  E:\\Databases\\FirstImpressionsV2\\test\\test80_01...  0.310163   \n",
       "14  E:\\Databases\\FirstImpressionsV2\\test\\test80_01...  0.643472   \n",
       "15  E:\\Databases\\FirstImpressionsV2\\test\\test80_01...  0.650172   \n",
       "16  E:\\Databases\\FirstImpressionsV2\\test\\test80_01...  0.598406   \n",
       "17  E:\\Databases\\FirstImpressionsV2\\test\\test80_01...  0.571594   \n",
       "18  E:\\Databases\\FirstImpressionsV2\\test\\test80_01...  0.552468   \n",
       "19  E:\\Databases\\FirstImpressionsV2\\test\\test80_01...  0.658686   \n",
       "20  E:\\Databases\\FirstImpressionsV2\\test\\test80_01...  0.660084   \n",
       "21  E:\\Databases\\FirstImpressionsV2\\test\\test80_01...  0.543869   \n",
       "22  E:\\Databases\\FirstImpressionsV2\\test\\test80_01...   0.53741   \n",
       "23  E:\\Databases\\FirstImpressionsV2\\test\\test80_01...  0.464764   \n",
       "24  E:\\Databases\\FirstImpressionsV2\\test\\test80_01...  0.633964   \n",
       "25  E:\\Databases\\FirstImpressionsV2\\test\\test80_01...  0.451673   \n",
       "26  E:\\Databases\\FirstImpressionsV2\\test\\test80_01...  0.602876   \n",
       "27  E:\\Databases\\FirstImpressionsV2\\test\\test80_01...  0.586684   \n",
       "28  E:\\Databases\\FirstImpressionsV2\\test\\test80_01...  0.689548   \n",
       "29  E:\\Databases\\FirstImpressionsV2\\test\\test80_01...  0.583511   \n",
       "30  E:\\Databases\\FirstImpressionsV2\\test\\test80_01...  0.642827   \n",
       "\n",
       "   Conscientiousness Extraversion Agreeableness Neuroticism  \n",
       "ID                                                           \n",
       "1           0.506675      0.44027      0.540324    0.486159  \n",
       "2           0.442256     0.503703      0.558629    0.521427  \n",
       "3           0.568603     0.333851       0.49181    0.458912  \n",
       "4           0.621926     0.590044       0.59909     0.63611  \n",
       "5            0.53239     0.552116      0.589254    0.552384  \n",
       "6           0.666928     0.617616      0.610557    0.641456  \n",
       "7           0.397329     0.335874      0.497989    0.397339  \n",
       "8            0.59707     0.498058      0.640566    0.600071  \n",
       "9           0.451132     0.449573      0.482379     0.41525  \n",
       "10           0.51095     0.433898      0.579741    0.536202  \n",
       "11          0.398539     0.443774      0.518128    0.492411  \n",
       "12          0.423002     0.320997      0.499694     0.46523  \n",
       "13          0.316492      0.21899      0.371644    0.243137  \n",
       "14          0.509475     0.483642      0.503161    0.551032  \n",
       "15          0.840146     0.535309      0.710961    0.743376  \n",
       "16          0.520596     0.450905      0.486429    0.561646  \n",
       "17          0.673985     0.472278      0.615659    0.621158  \n",
       "18           0.56882     0.457122      0.613199    0.570956  \n",
       "19          0.625189     0.634818      0.612253    0.626022  \n",
       "20            0.5444     0.641854      0.604609    0.628323  \n",
       "21          0.477809     0.407736       0.55575    0.499699  \n",
       "22          0.463901     0.419341      0.499864     0.45524  \n",
       "23          0.434812     0.346824      0.428422    0.358075  \n",
       "24          0.633346     0.584663      0.615251    0.608022  \n",
       "25          0.574275     0.350123      0.526851    0.468274  \n",
       "26          0.592374     0.494711      0.539285     0.50589  \n",
       "27          0.521494     0.485463      0.530354    0.535564  \n",
       "28          0.643959     0.695842      0.646199    0.686318  \n",
       "29          0.564324     0.502316      0.554543    0.539947  \n",
       "30          0.588256     0.617834      0.615337    0.626731  "
      ]
     },
     "metadata": {},
     "output_type": "display_data"
    },
    {
     "data": {
      "text/markdown": [
       "<span style=\"color:#333\">**[</span><span style=\"color:#1776D2\">2023-12-10 23:32:04</span><span style=\"color:#333\">]</span> <span style=\"color:#333\">Точность по отдельным персональным качествам личности человека ...</span>** "
      ],
      "text/plain": [
       "<IPython.core.display.Markdown object>"
      ]
     },
     "metadata": {},
     "output_type": "display_data"
    },
    {
     "data": {
      "text/html": [
       "<div>\n",
       "<style scoped>\n",
       "    .dataframe tbody tr th:only-of-type {\n",
       "        vertical-align: middle;\n",
       "    }\n",
       "\n",
       "    .dataframe tbody tr th {\n",
       "        vertical-align: top;\n",
       "    }\n",
       "\n",
       "    .dataframe thead th {\n",
       "        text-align: right;\n",
       "    }\n",
       "</style>\n",
       "<table border=\"1\" class=\"dataframe\">\n",
       "  <thead>\n",
       "    <tr style=\"text-align: right;\">\n",
       "      <th></th>\n",
       "      <th>Openness</th>\n",
       "      <th>Conscientiousness</th>\n",
       "      <th>Extraversion</th>\n",
       "      <th>Agreeableness</th>\n",
       "      <th>Neuroticism</th>\n",
       "      <th>Mean</th>\n",
       "    </tr>\n",
       "    <tr>\n",
       "      <th>Metrics</th>\n",
       "      <th></th>\n",
       "      <th></th>\n",
       "      <th></th>\n",
       "      <th></th>\n",
       "      <th></th>\n",
       "      <th></th>\n",
       "    </tr>\n",
       "  </thead>\n",
       "  <tbody>\n",
       "    <tr>\n",
       "      <th>MAE</th>\n",
       "      <td>0.0845</td>\n",
       "      <td>0.0802</td>\n",
       "      <td>0.0793</td>\n",
       "      <td>0.0858</td>\n",
       "      <td>0.0847</td>\n",
       "      <td>0.0829</td>\n",
       "    </tr>\n",
       "    <tr>\n",
       "      <th>Accuracy</th>\n",
       "      <td>0.9155</td>\n",
       "      <td>0.9198</td>\n",
       "      <td>0.9207</td>\n",
       "      <td>0.9142</td>\n",
       "      <td>0.9153</td>\n",
       "      <td>0.9171</td>\n",
       "    </tr>\n",
       "  </tbody>\n",
       "</table>\n",
       "</div>"
      ],
      "text/plain": [
       "          Openness  Conscientiousness  Extraversion  Agreeableness  \\\n",
       "Metrics                                                              \n",
       "MAE         0.0845             0.0802        0.0793         0.0858   \n",
       "Accuracy    0.9155             0.9198        0.9207         0.9142   \n",
       "\n",
       "          Neuroticism    Mean  \n",
       "Metrics                        \n",
       "MAE            0.0847  0.0829  \n",
       "Accuracy       0.9153  0.9171  "
      ]
     },
     "metadata": {},
     "output_type": "display_data"
    },
    {
     "data": {
      "text/markdown": [
       "<span style=\"color:#333\">**[</span><span style=\"color:#1776D2\">2023-12-10 23:32:04</span><span style=\"color:#333\">]</span> <span style=\"color:#333\">Средняя средних абсолютных ошибок: <span style=\"color:#1776D2\">0.0829</span>, средняя точность: <span style=\"color:#1776D2\">0.9171</span> ...</span>** "
      ],
      "text/plain": [
       "<IPython.core.display.Markdown object>"
      ]
     },
     "metadata": {},
     "output_type": "display_data"
    },
    {
     "data": {
      "text/markdown": [
       "<span style=\"color:#008001\">**Лог файлы успешно сохранены ...**</span>"
      ],
      "text/plain": [
       "<IPython.core.display.Markdown object>"
      ]
     },
     "metadata": {},
     "output_type": "display_data"
    },
    {
     "data": {
      "text/markdown": [
       "<span style=\"color:#333\">**--- Время выполнения: 5006.553 сек. ---**</span>"
      ],
      "text/plain": [
       "<IPython.core.display.Markdown object>"
      ]
     },
     "metadata": {},
     "output_type": "display_data"
    },
    {
     "data": {
      "text/plain": [
       "True"
      ]
     },
     "execution_count": 17,
     "metadata": {},
     "output_type": "execute_result"
    }
   ],
   "source": [
    "# Настройки ядра\n",
    "_b5.path_to_dataset_ = 'E:/Databases/FirstImpressionsV2/test' # Директория набора данных\n",
    "# Директории не входящие в выборку\n",
    "_b5.ignore_dirs_ = []\n",
    "# Названия ключей для DataFrame набора данных\n",
    "_b5.keys_dataset_ = ['Path', 'Openness', 'Conscientiousness', 'Extraversion', 'Agreeableness', 'Neuroticism']\n",
    "_b5.ext_ = ['.mp4'] # Расширения искомых файлов\n",
    "\n",
    "# Полный путь к файлу с верными предсказаниями для подсчета точности\n",
    "url_accuracy = _b5.true_traits_['fi']['sberdisk']\n",
    "\n",
    "_b5.get_av_union_predictions(\n",
    "    depth = 1,         # Глубина иерархии для получения аудио и видеоданных\n",
    "    recursive = False, # Рекурсивный поиск данных\n",
    "    sr = 44100,        # Частота дискретизации\n",
    "    window_audio = 2,  # Размер окна сегмента аудио сигнала (в секундах)\n",
    "    step_audio = 1,    # Шаг сдвига окна сегмента аудио сигнала (в секундах)\n",
    "    reduction_fps = 5, # Понижение кадровой частоты\n",
    "    window_video = 10, # Размер окна сегмента видео сигнала (в секундах)\n",
    "    step_video = 5,    # Шаг сдвига окна сегмента видео сигнала (в секундах)\n",
    "    lang = 'en',\n",
    "    accuracy = True,   # Вычисление точности\n",
    "    url_accuracy = url_accuracy,\n",
    "    logs = True,       # При необходимости формировать LOG файл\n",
    "    out = True,        # Отображение\n",
    "    runtime = True,    # Подсчет времени выполнения\n",
    "    run = True         # Блокировка выполнения\n",
    ")"
   ]
  }
 ],
 "metadata": {
  "kernelspec": {
   "display_name": "Python 3 (ipykernel)",
   "language": "python",
   "name": "python3"
  },
  "language_info": {
   "codemirror_mode": {
    "name": "ipython",
    "version": 3
   },
   "file_extension": ".py",
   "mimetype": "text/x-python",
   "name": "python",
   "nbconvert_exporter": "python",
   "pygments_lexer": "ipython3",
   "version": "3.9.13"
  }
 },
 "nbformat": 4,
 "nbformat_minor": 4
}
