{
 "cells": [
  {
   "cell_type": "markdown",
   "metadata": {},
   "source": [
    "## Формирование нейросетевых архитектур моделей и загрузка их весов для получения результатов оценки персональных качеств (видео модальность)\n",
    "\n",
    "<hr>\n",
    "\n",
    "> - `_b5.video_models_b5_` - Нейросетевые модели **tf.keras.Model** для получения результатов оценки персональных качеств"
   ]
  },
  {
   "cell_type": "code",
   "execution_count": 1,
   "metadata": {
    "nbsphinx": "hidden",
    "tags": []
   },
   "outputs": [],
   "source": [
    "import os  # Взаимодействие с файловой системой\n",
    "import sys # Доступ к некоторым переменным и функциям Python\n",
    "\n",
    "PATH_TO_SOURCE = os.path.abspath(os.path.dirname(globals()['_dh'][0]))\n",
    "PATH_TO_ROOT = os.path.join(PATH_TO_SOURCE, '..', '..', '..')\n",
    "\n",
    "sys.path.insert(0, os.path.abspath(PATH_TO_ROOT))"
   ]
  },
  {
   "cell_type": "markdown",
   "metadata": {},
   "source": [
    "### Импорт необходимых инструментов"
   ]
  },
  {
   "cell_type": "code",
   "execution_count": 2,
   "metadata": {},
   "outputs": [
    {
     "name": "stderr",
     "output_type": "stream",
     "text": [
      "INFO: Created TensorFlow Lite XNNPACK delegate for CPU.\n"
     ]
    }
   ],
   "source": [
    "from oceanai.modules.lab.build import Run"
   ]
  },
  {
   "cell_type": "markdown",
   "metadata": {},
   "source": [
    "### Сборка"
   ]
  },
  {
   "cell_type": "code",
   "execution_count": 3,
   "metadata": {},
   "outputs": [
    {
     "data": {
      "text/markdown": [
       "<span style=\"color:#FFF\">**[</span><span style=\"color:#1776D2\">2022-12-11 14:50:01</span><span style=\"color:#FFF\">]</span> <span style=\"color:#FFF\">OCEANAI - персональные качества личности человека:</span>**<br /><span style=\"color:#FFF\">&nbsp;&nbsp;&nbsp;&nbsp;Авторы:</span><br /><span style=\"color:#FFF\">&nbsp;&nbsp;&nbsp;&nbsp;&nbsp;&nbsp;&nbsp;&nbsp;Рюмина Елена [<u>ryumina_ev@mail.ru</u>]</span><br /><span style=\"color:#FFF\">&nbsp;&nbsp;&nbsp;&nbsp;&nbsp;&nbsp;&nbsp;&nbsp;Рюмин Дмитрий [<u>dl_03.03.1991@mail.ru</u>]</span><br /><span style=\"color:#FFF\">&nbsp;&nbsp;&nbsp;&nbsp;&nbsp;&nbsp;&nbsp;&nbsp;Карпов Алексей [<u>karpov@iias.spb.su</u>]</span><br /><span style=\"color:#FFF\">&nbsp;&nbsp;&nbsp;&nbsp;Сопровождающие:</span><br /><span style=\"color:#FFF\">&nbsp;&nbsp;&nbsp;&nbsp;&nbsp;&nbsp;&nbsp;&nbsp;Рюмина Елена [<u>ryumina_ev@mail.ru</u>]</span><br /><span style=\"color:#FFF\">&nbsp;&nbsp;&nbsp;&nbsp;&nbsp;&nbsp;&nbsp;&nbsp;Рюмин Дмитрий [<u>dl_03.03.1991@mail.ru</u>]</span><br /><span style=\"color:#FFF\">&nbsp;&nbsp;&nbsp;&nbsp;Версия: <u>1.0.0a2</u></span><br /><span style=\"color:#FFF\">&nbsp;&nbsp;&nbsp;&nbsp;Лицензия: <u>BSD License</u></span></p>"
      ],
      "text/plain": [
       "<IPython.core.display.Markdown object>"
      ]
     },
     "metadata": {},
     "output_type": "display_data"
    }
   ],
   "source": [
    "_b5 = Run(\n",
    "    lang = 'ru', # Язык\n",
    "    color_simple = '#FFF', # Цвет обычного текста (шестнадцатеричный код)\n",
    "    color_info = '#1776D2', # Цвет текста содержащего информацию (шестнадцатеричный код)\n",
    "    color_err = '#FF0000', # Цвет текста содержащего ошибку (шестнадцатеричный код)\n",
    "    color_true = '#008001', # Цвет текста содержащего положительную информацию (шестнадцатеричный код)\n",
    "    bold_text = True, # Жирное начертание текста\n",
    "    num_to_df_display = 30, # Количество строк для отображения в таблицах\n",
    "    text_runtime = 'Время выполнения', # Текст времени выполнения\n",
    "    metadata = True # Отображение информации о библиотеке\n",
    ")"
   ]
  },
  {
   "cell_type": "markdown",
   "metadata": {},
   "source": [
    "### Формирование нейросетевых архитектур моделей"
   ]
  },
  {
   "cell_type": "code",
   "execution_count": 4,
   "metadata": {},
   "outputs": [
    {
     "data": {
      "text/markdown": [
       "<span style=\"color:#FFF\">**[</span><span style=\"color:#1776D2\">2022-12-11 14:52:35</span><span style=\"color:#FFF\">]</span> <span style=\"color:#FFF\">Формирование нейросетевых архитектур моделей для получения результатов оценки персональных качеств (видео модальность) ...</span>** "
      ],
      "text/plain": [
       "<IPython.core.display.Markdown object>"
      ]
     },
     "metadata": {},
     "output_type": "display_data"
    },
    {
     "data": {
      "text/markdown": [
       "<span style=\"color:#FFF\">**--- Время выполнения: 0.327 сек. ---**</span>"
      ],
      "text/plain": [
       "<IPython.core.display.Markdown object>"
      ]
     },
     "metadata": {},
     "output_type": "display_data"
    }
   ],
   "source": [
    "res_load_video_models_b5 = _b5.load_video_models_b5(\n",
    "    show_summary = False, # Отображение сформированной нейросетевой архитектуры модели\n",
    "    out = True, # Отображение\n",
    "    runtime = True, # Подсчет времени выполнения\n",
    "    run = True # Блокировка выполнения\n",
    ")"
   ]
  },
  {
   "cell_type": "markdown",
   "metadata": {},
   "source": [
    "#### Загрузка весов нейросетевых моделей"
   ]
  },
  {
   "cell_type": "code",
   "execution_count": 5,
   "metadata": {},
   "outputs": [
    {
     "data": {
      "text/markdown": [
       "<span style=\"color:#FFF\">**[</span><span style=\"color:#1776D2\">2022-12-11 14:53:02</span><span style=\"color:#FFF\">]</span> <span style=\"color:#FFF\">Загрузка весов нейросетевых моделей для получения результатов оценки персональных качеств (видео модальность) ...</span>** "
      ],
      "text/plain": [
       "<IPython.core.display.Markdown object>"
      ]
     },
     "metadata": {},
     "output_type": "display_data"
    },
    {
     "data": {
      "text/markdown": [
       "<span style=\"color:#FFF\">**[</span><span style=\"color:#1776D2\">2022-12-11 14:53:03</span><span style=\"color:#FFF\">]</span> <span style=\"color:#FFF\">Загрузка файла \"<span style=\"color:#1776D2\">weights_2022-06-15_16-46-30.h5</span>\" (100.0%) ...</span>**  <span style=\"color:#FFF\">**Открытость опыту**</span>"
      ],
      "text/plain": [
       "<IPython.core.display.Markdown object>"
      ]
     },
     "metadata": {},
     "output_type": "display_data"
    },
    {
     "data": {
      "text/markdown": [
       "<span style=\"color:#FFF\">**[</span><span style=\"color:#1776D2\">2022-12-11 14:53:03</span><span style=\"color:#FFF\">]</span> <span style=\"color:#FFF\">Загрузка файла \"<span style=\"color:#1776D2\">weights_2022-06-15_16-48-50.h5</span>\" (100.0%) ...</span>**  <span style=\"color:#FFF\">**Добросовестность**</span>"
      ],
      "text/plain": [
       "<IPython.core.display.Markdown object>"
      ]
     },
     "metadata": {},
     "output_type": "display_data"
    },
    {
     "data": {
      "text/markdown": [
       "<span style=\"color:#FFF\">**[</span><span style=\"color:#1776D2\">2022-12-11 14:53:03</span><span style=\"color:#FFF\">]</span> <span style=\"color:#FFF\">Загрузка файла \"<span style=\"color:#1776D2\">weights_2022-06-15_16-54-06.h5</span>\" (100.0%) ...</span>**  <span style=\"color:#FFF\">**Экстраверсия**</span>"
      ],
      "text/plain": [
       "<IPython.core.display.Markdown object>"
      ]
     },
     "metadata": {},
     "output_type": "display_data"
    },
    {
     "data": {
      "text/markdown": [
       "<span style=\"color:#FFF\">**[</span><span style=\"color:#1776D2\">2022-12-11 14:53:03</span><span style=\"color:#FFF\">]</span> <span style=\"color:#FFF\">Загрузка файла \"<span style=\"color:#1776D2\">weights_2022-06-15_17-02-03.h5</span>\" (100.0%) ...</span>**  <span style=\"color:#FFF\">**Доброжелательность**</span>"
      ],
      "text/plain": [
       "<IPython.core.display.Markdown object>"
      ]
     },
     "metadata": {},
     "output_type": "display_data"
    },
    {
     "data": {
      "text/markdown": [
       "<span style=\"color:#FFF\">**[</span><span style=\"color:#1776D2\">2022-12-11 14:53:04</span><span style=\"color:#FFF\">]</span> <span style=\"color:#FFF\">Загрузка файла \"<span style=\"color:#1776D2\">weights_2022-06-15_17-06-15.h5</span>\" (100.0%) ...</span>**  <span style=\"color:#FFF\">**Нейротизм**</span>"
      ],
      "text/plain": [
       "<IPython.core.display.Markdown object>"
      ]
     },
     "metadata": {},
     "output_type": "display_data"
    },
    {
     "data": {
      "text/markdown": [
       "<span style=\"color:#FFF\">**--- Время выполнения: 1.346 сек. ---**</span>"
      ],
      "text/plain": [
       "<IPython.core.display.Markdown object>"
      ]
     },
     "metadata": {},
     "output_type": "display_data"
    }
   ],
   "source": [
    "# Настройки ядра\n",
    "_b5.path_to_save_ = './models' # Директория для сохранения файла\n",
    "_b5.chunk_size_ = 2000000 # Размер загрузки файла из сети за 1 шаг\n",
    "\n",
    "url_openness = _b5.weights_for_big5_['video']['b5']['openness']['sberdisk']\n",
    "url_conscientiousness = _b5.weights_for_big5_['video']['b5']['conscientiousness']['sberdisk']\n",
    "url_extraversion = _b5.weights_for_big5_['video']['b5']['extraversion']['sberdisk']\n",
    "url_agreeableness = _b5.weights_for_big5_['video']['b5']['agreeableness']['sberdisk']\n",
    "url_neuroticism = _b5.weights_for_big5_['video']['b5']['neuroticism']['sberdisk']\n",
    "\n",
    "res_load_video_models_weights_b5 = _b5.load_video_models_weights_b5(\n",
    "    url_openness = url_openness, # Открытость опыту\n",
    "    url_conscientiousness = url_conscientiousness, # Добросовестность\n",
    "    url_extraversion = url_extraversion, # Экстраверсия\n",
    "    url_agreeableness = url_agreeableness, # Доброжелательность\n",
    "    url_neuroticism = url_neuroticism, # Нейротизм\n",
    "    force_reload = True, # Принудительная загрузка файла с весами нейросетевой модели из сети\n",
    "    out = True, # Отображение\n",
    "    runtime = True, # Подсчет времени выполнения\n",
    "    run = True # Блокировка выполнения\n",
    ")"
   ]
  },
  {
   "cell_type": "markdown",
   "metadata": {},
   "source": [
    "### Отображение сформированной нейросетевой архитектуры модели\n",
    "\n",
    "> - `openness` - Открытость опыту\n",
    "> - `conscientiousness` - Добросовестность\n",
    "> - `extraversion` - Экстраверсия\n",
    "> - `agreeableness` - Доброжелательность\n",
    "> - `neuroticism` - Нейротизм"
   ]
  },
  {
   "cell_type": "code",
   "execution_count": 6,
   "metadata": {},
   "outputs": [
    {
     "name": "stdout",
     "output_type": "stream",
     "text": [
      "Model: \"model\"\n",
      "_________________________________________________________________\n",
      " Layer (type)                Output Shape              Param #   \n",
      "=================================================================\n",
      " input_1 (InputLayer)        [(None, 32)]              0         \n",
      "                                                                 \n",
      " dense_1 (Dense)             (None, 1)                 33        \n",
      "                                                                 \n",
      " activ_1 (Activation)        (None, 1)                 0         \n",
      "                                                                 \n",
      "=================================================================\n",
      "Total params: 33\n",
      "Trainable params: 33\n",
      "Non-trainable params: 0\n",
      "_________________________________________________________________\n"
     ]
    }
   ],
   "source": [
    "_b5.video_models_b5_['openness'].summary()"
   ]
  }
 ],
 "metadata": {
  "kernelspec": {
   "display_name": "Python 3 (ipykernel)",
   "language": "python",
   "name": "python3"
  },
  "language_info": {
   "codemirror_mode": {
    "name": "ipython",
    "version": 3
   },
   "file_extension": ".py",
   "mimetype": "text/x-python",
   "name": "python",
   "nbconvert_exporter": "python",
   "pygments_lexer": "ipython3",
   "version": "3.9.13"
  }
 },
 "nbformat": 4,
 "nbformat_minor": 4
}
