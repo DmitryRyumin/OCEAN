{
 "cells": [
  {
   "cell_type": "markdown",
   "metadata": {
    "tags": []
   },
   "source": [
    "## Мультимодальное объединение для получения прогнозов по аудио, видео и тексту `FI V2`\n",
    "\n",
    "<center>\n",
    "    <img src=\"https://raw.githubusercontent.com/aimclub/OCEANAI/main/docs/source/user_guide/notebooks/images/Pipeline_MIA_AVT_ru.svg\" width=\"60%\"/>\n",
    "</center>\n",
    "\n",
    "<hr>"
   ]
  },
  {
   "cell_type": "code",
   "execution_count": 1,
   "metadata": {
    "nbsphinx": "hidden",
    "tags": []
   },
   "outputs": [],
   "source": [
    "import os  # Взаимодействие с файловой системой\n",
    "import sys # Доступ к некоторым переменным и функциям Python\n",
    "\n",
    "PATH_TO_SOURCE = os.path.abspath(os.path.dirname(globals()['_dh'][0]))\n",
    "PATH_TO_ROOT = os.path.join(PATH_TO_SOURCE, '..', '..', '..')\n",
    "\n",
    "sys.path.insert(0, os.path.abspath(PATH_TO_ROOT))"
   ]
  },
  {
   "cell_type": "markdown",
   "metadata": {},
   "source": [
    "### Импорт необходимых инструментов"
   ]
  },
  {
   "cell_type": "code",
   "execution_count": 2,
   "metadata": {},
   "outputs": [],
   "source": [
    "from oceanai.modules.lab.build import Run"
   ]
  },
  {
   "cell_type": "markdown",
   "metadata": {},
   "source": [
    "### Сборка"
   ]
  },
  {
   "cell_type": "code",
   "execution_count": 3,
   "metadata": {},
   "outputs": [
    {
     "data": {
      "text/markdown": [
       "<span style=\"color:#333\">**[</span><span style=\"color:#1776D2\">2023-12-15 07:01:44</span><span style=\"color:#333\">]</span> <span style=\"color:#333\">OCEANAI - персональные качества личности человека:</span>**<br /><span style=\"color:#333\">&nbsp;&nbsp;&nbsp;&nbsp;Авторы:</span><br /><span style=\"color:#333\">&nbsp;&nbsp;&nbsp;&nbsp;&nbsp;&nbsp;&nbsp;&nbsp;Рюмина Елена [<u>ryumina_ev@mail.ru</u>]</span><br /><span style=\"color:#333\">&nbsp;&nbsp;&nbsp;&nbsp;&nbsp;&nbsp;&nbsp;&nbsp;Рюмин Дмитрий [<u>dl_03.03.1991@mail.ru</u>]</span><br /><span style=\"color:#333\">&nbsp;&nbsp;&nbsp;&nbsp;&nbsp;&nbsp;&nbsp;&nbsp;Карпов Алексей [<u>karpov@iias.spb.su</u>]</span><br /><span style=\"color:#333\">&nbsp;&nbsp;&nbsp;&nbsp;Сопровождающие:</span><br /><span style=\"color:#333\">&nbsp;&nbsp;&nbsp;&nbsp;&nbsp;&nbsp;&nbsp;&nbsp;Рюмина Елена [<u>ryumina_ev@mail.ru</u>]</span><br /><span style=\"color:#333\">&nbsp;&nbsp;&nbsp;&nbsp;&nbsp;&nbsp;&nbsp;&nbsp;Рюмин Дмитрий [<u>dl_03.03.1991@mail.ru</u>]</span><br /><span style=\"color:#333\">&nbsp;&nbsp;&nbsp;&nbsp;Версия: <u>1.0.0a16</u></span><br /><span style=\"color:#333\">&nbsp;&nbsp;&nbsp;&nbsp;Лицензия: <u>BSD License</u></span></p>"
      ],
      "text/plain": [
       "<IPython.core.display.Markdown object>"
      ]
     },
     "metadata": {},
     "output_type": "display_data"
    }
   ],
   "source": [
    "_b5 = Run(\n",
    "    lang = 'ru', # Язык\n",
    "    color_simple = '#333', # Цвет обычного текста (шестнадцатеричный код)\n",
    "    color_info = '#1776D2', # Цвет текста содержащего информацию (шестнадцатеричный код)\n",
    "    color_err = '#FF0000', # Цвет текста содержащего ошибку (шестнадцатеричный код)\n",
    "    color_true = '#008001', # Цвет текста содержащего положительную информацию (шестнадцатеричный код)\n",
    "    bold_text = True, # Жирное начертание текста\n",
    "    num_to_df_display = 30, # Количество строк для отображения в таблицах\n",
    "    text_runtime = 'Время выполнения', # Текст времени выполнения\n",
    "    metadata = True # Отображение информации о библиотеке\n",
    ")"
   ]
  },
  {
   "cell_type": "markdown",
   "metadata": {},
   "source": [
    "### Получение и отображение версий установленных библиотек\n",
    "\n",
    "> - `_b5.df_pkgs_` - DataFrame c версиями установленных библиотек"
   ]
  },
  {
   "cell_type": "code",
   "execution_count": 4,
   "metadata": {},
   "outputs": [
    {
     "data": {
      "text/html": [
       "<div>\n",
       "<style scoped>\n",
       "    .dataframe tbody tr th:only-of-type {\n",
       "        vertical-align: middle;\n",
       "    }\n",
       "\n",
       "    .dataframe tbody tr th {\n",
       "        vertical-align: top;\n",
       "    }\n",
       "\n",
       "    .dataframe thead th {\n",
       "        text-align: right;\n",
       "    }\n",
       "</style>\n",
       "<table border=\"1\" class=\"dataframe\">\n",
       "  <thead>\n",
       "    <tr style=\"text-align: right;\">\n",
       "      <th></th>\n",
       "      <th>Package</th>\n",
       "      <th>Version</th>\n",
       "    </tr>\n",
       "  </thead>\n",
       "  <tbody>\n",
       "    <tr>\n",
       "      <th>1</th>\n",
       "      <td>TensorFlow</td>\n",
       "      <td>2.15.0</td>\n",
       "    </tr>\n",
       "    <tr>\n",
       "      <th>2</th>\n",
       "      <td>Keras</td>\n",
       "      <td>2.15.0</td>\n",
       "    </tr>\n",
       "    <tr>\n",
       "      <th>3</th>\n",
       "      <td>OpenCV</td>\n",
       "      <td>4.8.1</td>\n",
       "    </tr>\n",
       "    <tr>\n",
       "      <th>4</th>\n",
       "      <td>MediaPipe</td>\n",
       "      <td>0.9.0</td>\n",
       "    </tr>\n",
       "    <tr>\n",
       "      <th>5</th>\n",
       "      <td>NumPy</td>\n",
       "      <td>1.26.2</td>\n",
       "    </tr>\n",
       "    <tr>\n",
       "      <th>6</th>\n",
       "      <td>SciPy</td>\n",
       "      <td>1.11.4</td>\n",
       "    </tr>\n",
       "    <tr>\n",
       "      <th>7</th>\n",
       "      <td>Pandas</td>\n",
       "      <td>2.1.3</td>\n",
       "    </tr>\n",
       "    <tr>\n",
       "      <th>8</th>\n",
       "      <td>Scikit-learn</td>\n",
       "      <td>1.3.2</td>\n",
       "    </tr>\n",
       "    <tr>\n",
       "      <th>9</th>\n",
       "      <td>OpenSmile</td>\n",
       "      <td>2.5.0</td>\n",
       "    </tr>\n",
       "    <tr>\n",
       "      <th>10</th>\n",
       "      <td>Librosa</td>\n",
       "      <td>0.10.1</td>\n",
       "    </tr>\n",
       "    <tr>\n",
       "      <th>11</th>\n",
       "      <td>AudioRead</td>\n",
       "      <td>3.0.1</td>\n",
       "    </tr>\n",
       "    <tr>\n",
       "      <th>12</th>\n",
       "      <td>IPython</td>\n",
       "      <td>8.18.1</td>\n",
       "    </tr>\n",
       "    <tr>\n",
       "      <th>13</th>\n",
       "      <td>PyMediaInfo</td>\n",
       "      <td>6.1.0</td>\n",
       "    </tr>\n",
       "    <tr>\n",
       "      <th>14</th>\n",
       "      <td>Requests</td>\n",
       "      <td>2.31.0</td>\n",
       "    </tr>\n",
       "    <tr>\n",
       "      <th>15</th>\n",
       "      <td>JupyterLab</td>\n",
       "      <td>4.0.9</td>\n",
       "    </tr>\n",
       "    <tr>\n",
       "      <th>16</th>\n",
       "      <td>LIWC</td>\n",
       "      <td>0.5.0</td>\n",
       "    </tr>\n",
       "    <tr>\n",
       "      <th>17</th>\n",
       "      <td>Transformers</td>\n",
       "      <td>4.36.0</td>\n",
       "    </tr>\n",
       "    <tr>\n",
       "      <th>18</th>\n",
       "      <td>Sentencepiece</td>\n",
       "      <td>0.1.99</td>\n",
       "    </tr>\n",
       "    <tr>\n",
       "      <th>19</th>\n",
       "      <td>Torch</td>\n",
       "      <td>2.0.1+cpu</td>\n",
       "    </tr>\n",
       "    <tr>\n",
       "      <th>20</th>\n",
       "      <td>Torchaudio</td>\n",
       "      <td>2.0.2+cpu</td>\n",
       "    </tr>\n",
       "  </tbody>\n",
       "</table>\n",
       "</div>"
      ],
      "text/plain": [
       "          Package    Version\n",
       "1      TensorFlow     2.15.0\n",
       "2           Keras     2.15.0\n",
       "3          OpenCV      4.8.1\n",
       "4       MediaPipe      0.9.0\n",
       "5           NumPy     1.26.2\n",
       "6           SciPy     1.11.4\n",
       "7          Pandas      2.1.3\n",
       "8    Scikit-learn      1.3.2\n",
       "9       OpenSmile      2.5.0\n",
       "10        Librosa     0.10.1\n",
       "11      AudioRead      3.0.1\n",
       "12        IPython     8.18.1\n",
       "13    PyMediaInfo      6.1.0\n",
       "14       Requests     2.31.0\n",
       "15     JupyterLab      4.0.9\n",
       "16           LIWC      0.5.0\n",
       "17   Transformers     4.36.0\n",
       "18  Sentencepiece     0.1.99\n",
       "19          Torch  2.0.1+cpu\n",
       "20     Torchaudio  2.0.2+cpu"
      ]
     },
     "metadata": {},
     "output_type": "display_data"
    },
    {
     "data": {
      "text/markdown": [
       "<span style=\"color:#333\">**--- Время выполнения: 0.004 сек. ---**</span>"
      ],
      "text/plain": [
       "<IPython.core.display.Markdown object>"
      ]
     },
     "metadata": {},
     "output_type": "display_data"
    }
   ],
   "source": [
    "_b5.libs_vers(runtime = True, run = True)"
   ]
  },
  {
   "cell_type": "markdown",
   "metadata": {},
   "source": [
    "### Анализ аудио информации (формированияе и загрузка весов моделей)"
   ]
  },
  {
   "cell_type": "markdown",
   "metadata": {},
   "source": [
    "#### Формирование нейросетевой архитектуры модели для получения признаков / оценок на базе экспертных признаков\n",
    "\n",
    "> - `_b5.audio_model_hc_` - Нейросетевая модель **tf.keras.Model** для получения признаков / оценок на базе экспертных признаков"
   ]
  },
  {
   "cell_type": "code",
   "execution_count": 5,
   "metadata": {},
   "outputs": [
    {
     "data": {
      "text/markdown": [
       "<span style=\"color:#333\">**[</span><span style=\"color:#1776D2\">2023-12-15 07:01:44</span><span style=\"color:#333\">]</span> <span style=\"color:#333\">Формирование нейросетевой архитектуры модели для получения оценок по экспертным признакам (аудио модальность) ...</span>** "
      ],
      "text/plain": [
       "<IPython.core.display.Markdown object>"
      ]
     },
     "metadata": {},
     "output_type": "display_data"
    },
    {
     "data": {
      "text/markdown": [
       "<span style=\"color:#333\">**--- Время выполнения: 0.326 сек. ---**</span>"
      ],
      "text/plain": [
       "<IPython.core.display.Markdown object>"
      ]
     },
     "metadata": {},
     "output_type": "display_data"
    }
   ],
   "source": [
    "res_load_audio_model_hc = _b5.load_audio_model_hc(\n",
    "    show_summary = False, # Отображение сформированной нейросетевой архитектуры модели\n",
    "    out = True, # Отображение\n",
    "    runtime = True, # Подсчет времени выполнения\n",
    "    run = True # Блокировка выполнения\n",
    ")"
   ]
  },
  {
   "cell_type": "markdown",
   "metadata": {},
   "source": [
    "#### Загрузка весов нейросетевой модели для получения признаков / оценок на базе экспертных признаков\n",
    "\n",
    "> - `_b5.audio_model_hc_` - Нейросетевая модель **tf.keras.Model** для получения признаков / оценок на базе экспертных признаков"
   ]
  },
  {
   "cell_type": "code",
   "execution_count": 6,
   "metadata": {},
   "outputs": [
    {
     "data": {
      "text/markdown": [
       "<span style=\"color:#333\">**[</span><span style=\"color:#1776D2\">2023-12-15 07:01:45</span><span style=\"color:#333\">]</span> <span style=\"color:#333\">Загрузка весов нейросетевой модели для получения оценок по экспертным признакам (аудио модальность) ...</span>** "
      ],
      "text/plain": [
       "<IPython.core.display.Markdown object>"
      ]
     },
     "metadata": {},
     "output_type": "display_data"
    },
    {
     "data": {
      "text/markdown": [
       "<span style=\"color:#333\">**[</span><span style=\"color:#1776D2\">2023-12-15 07:01:45</span><span style=\"color:#333\">]</span> <span style=\"color:#333\">Загрузка файла \"<span style=\"color:#1776D2\">weights_2022-05-05_11-27-55.h5</span>\" 100.0% ...</span>** "
      ],
      "text/plain": [
       "<IPython.core.display.Markdown object>"
      ]
     },
     "metadata": {},
     "output_type": "display_data"
    },
    {
     "data": {
      "text/markdown": [
       "<span style=\"color:#333\">**--- Время выполнения: 0.226 сек. ---**</span>"
      ],
      "text/plain": [
       "<IPython.core.display.Markdown object>"
      ]
     },
     "metadata": {},
     "output_type": "display_data"
    }
   ],
   "source": [
    "# Настройки ядра\n",
    "_b5.path_to_save_ = './models' # Директория для сохранения файла\n",
    "_b5.chunk_size_ = 2000000 # Размер загрузки файла из сети за 1 шаг\n",
    "\n",
    "corpus = 'fi'\n",
    "lang = 'en'\n",
    "\n",
    "url = _b5.weights_for_big5_['audio'][corpus]['hc']['sberdisk']\n",
    "\n",
    "res_load_audio_model_weights_hc = _b5.load_audio_model_weights_hc(\n",
    "    url = url, # Полный путь к файлу с весами нейросетевой модели\n",
    "    force_reload = True, # Принудительная загрузка файла с весами нейросетевой модели из сети\n",
    "    out = True, # Отображение\n",
    "    runtime = True, # Подсчет времени выполнения\n",
    "    run = True # Блокировка выполнения\n",
    ")"
   ]
  },
  {
   "cell_type": "markdown",
   "metadata": {},
   "source": [
    "#### Формирование нейросетевой архитектуры модели для получения признаков / оценок на базе нейросетевых признаков\n",
    "\n",
    "> - `_b5.audio_model_nn_` - Нейросетевая модель **tf.keras.Model** для получения признаков / оценок на базе нейросетевых признаков"
   ]
  },
  {
   "cell_type": "code",
   "execution_count": 7,
   "metadata": {},
   "outputs": [
    {
     "data": {
      "text/markdown": [
       "<span style=\"color:#333\">**[</span><span style=\"color:#1776D2\">2023-12-15 07:01:45</span><span style=\"color:#333\">]</span> <span style=\"color:#333\">Формирование нейросетевой архитектуры для получения оценок по нейросетевым признакам (аудио модальность) ...</span>** "
      ],
      "text/plain": [
       "<IPython.core.display.Markdown object>"
      ]
     },
     "metadata": {},
     "output_type": "display_data"
    },
    {
     "data": {
      "text/markdown": [
       "<span style=\"color:#333\">**--- Время выполнения: 0.219 сек. ---**</span>"
      ],
      "text/plain": [
       "<IPython.core.display.Markdown object>"
      ]
     },
     "metadata": {},
     "output_type": "display_data"
    }
   ],
   "source": [
    "res_load_audio_model_nn = _b5.load_audio_model_nn(\n",
    "    show_summary = False, # Отображение сформированной нейросетевой архитектуры модели\n",
    "    out = True, # Отображение\n",
    "    runtime = True, # Подсчет времени выполнения\n",
    "    run = True # Блокировка выполнения\n",
    ")"
   ]
  },
  {
   "cell_type": "markdown",
   "metadata": {},
   "source": [
    "#### Загрузка весов нейросетевой модели для получения признаков / оценок на базе нейросетевых признаков\n",
    "\n",
    "> - `_b5.audio_model_nn_` - Нейросетевая модель **tf.keras.Model** для получения признаков / оценок на базе нейросетевых признаков"
   ]
  },
  {
   "cell_type": "code",
   "execution_count": 8,
   "metadata": {},
   "outputs": [
    {
     "data": {
      "text/markdown": [
       "<span style=\"color:#333\">**[</span><span style=\"color:#1776D2\">2023-12-15 07:01:45</span><span style=\"color:#333\">]</span> <span style=\"color:#333\">Загрузка весов нейросетевой модели для получения оценок по нейросетевым признакам (аудио модальность) ...</span>** "
      ],
      "text/plain": [
       "<IPython.core.display.Markdown object>"
      ]
     },
     "metadata": {},
     "output_type": "display_data"
    },
    {
     "data": {
      "text/markdown": [
       "<span style=\"color:#333\">**[</span><span style=\"color:#1776D2\">2023-12-15 07:01:45</span><span style=\"color:#333\">]</span> <span style=\"color:#333\">Загрузка файла \"<span style=\"color:#1776D2\">weights_2022-05-03_07-46-14.h5</span>\"</span>** "
      ],
      "text/plain": [
       "<IPython.core.display.Markdown object>"
      ]
     },
     "metadata": {},
     "output_type": "display_data"
    },
    {
     "data": {
      "text/markdown": [
       "<span style=\"color:#333\">**--- Время выполнения: 0.328 сек. ---**</span>"
      ],
      "text/plain": [
       "<IPython.core.display.Markdown object>"
      ]
     },
     "metadata": {},
     "output_type": "display_data"
    }
   ],
   "source": [
    "# Настройки ядра\n",
    "_b5.path_to_save_ = './models' # Директория для сохранения файла\n",
    "_b5.chunk_size_ = 2000000 # Размер загрузки файла из сети за 1 шаг\n",
    "\n",
    "url = _b5.weights_for_big5_['audio'][corpus]['nn']['sberdisk']\n",
    "\n",
    "res_load_audio_model_weights_nn = _b5.load_audio_model_weights_nn(\n",
    "    url = url, # Полный путь к файлу с весами нейросетевой модели\n",
    "    force_reload = False, # Принудительная загрузка файла с весами нейросетевой модели из сети\n",
    "    out = True, # Отображение\n",
    "    runtime = True, # Подсчет времени выполнения\n",
    "    run = True # Блокировка выполнения\n",
    ")"
   ]
  },
  {
   "cell_type": "markdown",
   "metadata": {},
   "source": [
    "### Анализ видео информации (формирование и загрузка весов моделей)"
   ]
  },
  {
   "cell_type": "markdown",
   "metadata": {},
   "source": [
    "#### Формирование нейросетевой архитектуры модели для получения признаков / оценок на базе экспертных признаков\n",
    "\n",
    "> - `_b5.video_model_hc_` - Нейросетевая модель **tf.keras.Model** для получения признаков / оценок на базе экспертных признаков"
   ]
  },
  {
   "cell_type": "code",
   "execution_count": 9,
   "metadata": {},
   "outputs": [
    {
     "data": {
      "text/markdown": [
       "<span style=\"color:#333\">**[</span><span style=\"color:#1776D2\">2023-12-15 07:01:45</span><span style=\"color:#333\">]</span> <span style=\"color:#333\">Формирование нейросетевой архитектуры модели для получения оценок по экспертным признакам (видео модальность) ...</span>** "
      ],
      "text/plain": [
       "<IPython.core.display.Markdown object>"
      ]
     },
     "metadata": {},
     "output_type": "display_data"
    },
    {
     "data": {
      "text/markdown": [
       "<span style=\"color:#333\">**--- Время выполнения: 0.252 сек. ---**</span>"
      ],
      "text/plain": [
       "<IPython.core.display.Markdown object>"
      ]
     },
     "metadata": {},
     "output_type": "display_data"
    }
   ],
   "source": [
    "res_load_video_model_hc = _b5.load_video_model_hc(\n",
    "    lang = lang,\n",
    "    show_summary = False, # Отображение сформированной нейросетевой архитектуры модели\n",
    "    out = True, # Отображение\n",
    "    runtime = True, # Подсчет времени выполнения\n",
    "    run = True # Блокировка выполнения\n",
    ")"
   ]
  },
  {
   "cell_type": "markdown",
   "metadata": {},
   "source": [
    "#### Загрузка весов нейросетевой модели для получения признаков / оценок на базе экспертных признаков\n",
    "\n",
    "> - `_b5.video_model_hc_` - Нейросетевая модель **tf.keras.Model** для получения признаков / оценок на базе экспертных признаков"
   ]
  },
  {
   "cell_type": "code",
   "execution_count": 10,
   "metadata": {},
   "outputs": [
    {
     "data": {
      "text/markdown": [
       "<span style=\"color:#333\">**[</span><span style=\"color:#1776D2\">2023-12-15 07:01:46</span><span style=\"color:#333\">]</span> <span style=\"color:#333\">Загрузка весов нейросетевой модели для получения оценок по экспертным признакам (видео модальность) ...</span>** "
      ],
      "text/plain": [
       "<IPython.core.display.Markdown object>"
      ]
     },
     "metadata": {},
     "output_type": "display_data"
    },
    {
     "data": {
      "text/markdown": [
       "<span style=\"color:#333\">**[</span><span style=\"color:#1776D2\">2023-12-15 07:01:46</span><span style=\"color:#333\">]</span> <span style=\"color:#333\">Загрузка файла \"<span style=\"color:#1776D2\">weights_2022-08-27_18-53-35.h5</span>\" 100.0% ...</span>** "
      ],
      "text/plain": [
       "<IPython.core.display.Markdown object>"
      ]
     },
     "metadata": {},
     "output_type": "display_data"
    },
    {
     "data": {
      "text/markdown": [
       "<span style=\"color:#333\">**--- Время выполнения: 0.24 сек. ---**</span>"
      ],
      "text/plain": [
       "<IPython.core.display.Markdown object>"
      ]
     },
     "metadata": {},
     "output_type": "display_data"
    }
   ],
   "source": [
    "# Настройки ядра\n",
    "_b5.path_to_save_ = './models' # Директория для сохранения файла\n",
    "_b5.chunk_size_ = 2000000 # Размер загрузки файла из сети за 1 шаг\n",
    "\n",
    "url = _b5.weights_for_big5_['video'][corpus]['hc']['sberdisk']\n",
    "\n",
    "res_load_video_model_weights_hc = _b5.load_video_model_weights_hc(\n",
    "    url = url, # Полный путь к файлу с весами нейросетевой модели\n",
    "    force_reload = True, # Принудительная загрузка файла с весами нейросетевой модели из сети\n",
    "    out = True, # Отображение\n",
    "    runtime = True, # Подсчет времени выполнения\n",
    "    run = True # Блокировка выполнения\n",
    ")"
   ]
  },
  {
   "cell_type": "markdown",
   "metadata": {},
   "source": [
    "#### Формирование нейросетевой архитектуры для получения нейросетевых признаков\n",
    "\n",
    "> - `_b5.video_model_deep_fe_` - Нейросетевая модель **tf.keras.Model** для получения нейросетевых признаков"
   ]
  },
  {
   "cell_type": "code",
   "execution_count": 11,
   "metadata": {},
   "outputs": [
    {
     "data": {
      "text/markdown": [
       "<span style=\"color:#333\">**[</span><span style=\"color:#1776D2\">2023-12-15 07:01:46</span><span style=\"color:#333\">]</span> <span style=\"color:#333\">Формирование нейросетевой архитектуры для получения нейросетевых признаков (видео модальность) ...</span>** "
      ],
      "text/plain": [
       "<IPython.core.display.Markdown object>"
      ]
     },
     "metadata": {},
     "output_type": "display_data"
    },
    {
     "data": {
      "text/markdown": [
       "<span style=\"color:#333\">**--- Время выполнения: 0.794 сек. ---**</span>"
      ],
      "text/plain": [
       "<IPython.core.display.Markdown object>"
      ]
     },
     "metadata": {},
     "output_type": "display_data"
    }
   ],
   "source": [
    "res_load_video_model_deep_fe = _b5.load_video_model_deep_fe(\n",
    "    show_summary = False, # Отображение сформированной нейросетевой архитектуры модели\n",
    "    out = True, # Отображение\n",
    "    runtime = True, # Подсчет времени выполнения\n",
    "    run = True # Блокировка выполнения\n",
    ")"
   ]
  },
  {
   "cell_type": "markdown",
   "metadata": {},
   "source": [
    "#### Загрузка весов нейросетевой модели для получения нейросетевых признаков (видео модальность)\n",
    "\n",
    "> - `_b5.video_model_deep_fe_` - Нейросетевая модель **tf.keras.Model** для получения нейросетевых признаков"
   ]
  },
  {
   "cell_type": "code",
   "execution_count": 12,
   "metadata": {},
   "outputs": [
    {
     "data": {
      "text/markdown": [
       "<span style=\"color:#333\">**[</span><span style=\"color:#1776D2\">2023-12-15 07:01:47</span><span style=\"color:#333\">]</span> <span style=\"color:#333\">Загрузка весов нейросетевой модели для получения нейросетевых признаков (видео модальность) ...</span>** "
      ],
      "text/plain": [
       "<IPython.core.display.Markdown object>"
      ]
     },
     "metadata": {},
     "output_type": "display_data"
    },
    {
     "data": {
      "text/markdown": [
       "<span style=\"color:#333\">**[</span><span style=\"color:#1776D2\">2023-12-15 07:01:50</span><span style=\"color:#333\">]</span> <span style=\"color:#333\">Загрузка файла \"<span style=\"color:#1776D2\">weights_2022-11-01_12-27-07.h5</span>\" 100.0% ...</span>** "
      ],
      "text/plain": [
       "<IPython.core.display.Markdown object>"
      ]
     },
     "metadata": {},
     "output_type": "display_data"
    },
    {
     "data": {
      "text/markdown": [
       "<span style=\"color:#333\">**--- Время выполнения: 3.937 сек. ---**</span>"
      ],
      "text/plain": [
       "<IPython.core.display.Markdown object>"
      ]
     },
     "metadata": {},
     "output_type": "display_data"
    }
   ],
   "source": [
    "# Настройки ядра\n",
    "_b5.path_to_save_ = './models' # Директория для сохранения файла\n",
    "_b5.chunk_size_ = 2000000 # Размер загрузки файла из сети за 1 шаг\n",
    "\n",
    "url = _b5.weights_for_big5_['video'][corpus]['fe']['sberdisk']\n",
    "\n",
    "res_load_video_model_weights_deep_fe = _b5.load_video_model_weights_deep_fe(\n",
    "    url = url, # Полный путь к файлу с весами нейросетевой модели\n",
    "    force_reload = True, # Принудительная загрузка файла с весами нейросетевой модели из сети\n",
    "    out = True, # Отображение\n",
    "    runtime = True, # Подсчет времени выполнения\n",
    "    run = True # Блокировка выполнения\n",
    ")"
   ]
  },
  {
   "cell_type": "markdown",
   "metadata": {},
   "source": [
    "#### Формирование нейросетевой архитектуры модели для получения признаков / оценок на базе нейросетевых признаков\n",
    "\n",
    "> - `_b5.video_model_nn_` - Нейросетевая модель **tf.keras.Model** для получения признаков / оценок на базе нейросетевых признаков"
   ]
  },
  {
   "cell_type": "code",
   "execution_count": 13,
   "metadata": {},
   "outputs": [
    {
     "data": {
      "text/markdown": [
       "<span style=\"color:#333\">**[</span><span style=\"color:#1776D2\">2023-12-15 07:01:51</span><span style=\"color:#333\">]</span> <span style=\"color:#333\">Формирование нейросетевой архитектуры для получения оценок по нейросетевым признакам (видео модальность) ...</span>** "
      ],
      "text/plain": [
       "<IPython.core.display.Markdown object>"
      ]
     },
     "metadata": {},
     "output_type": "display_data"
    },
    {
     "data": {
      "text/markdown": [
       "<span style=\"color:#333\">**--- Время выполнения: 0.707 сек. ---**</span>"
      ],
      "text/plain": [
       "<IPython.core.display.Markdown object>"
      ]
     },
     "metadata": {},
     "output_type": "display_data"
    }
   ],
   "source": [
    "res_load_video_model_nn = _b5.load_video_model_nn(\n",
    "    show_summary = False, # Отображение сформированной нейросетевой архитектуры модели\n",
    "    out = True, # Отображение\n",
    "    runtime = True, # Подсчет времени выполнения\n",
    "    run = True # Блокировка выполнения\n",
    ")"
   ]
  },
  {
   "cell_type": "markdown",
   "metadata": {},
   "source": [
    "#### Загрузка весов нейросетевой модели для получения признаков / оценок на базе нейросетевых признаков\n",
    "\n",
    "> - `_b5.video_model_nn_` - Нейросетевая модель **tf.keras.Model** для получения признаков / оценок на базе нейросетевых признаков"
   ]
  },
  {
   "cell_type": "code",
   "execution_count": 14,
   "metadata": {},
   "outputs": [
    {
     "data": {
      "text/markdown": [
       "<span style=\"color:#333\">**[</span><span style=\"color:#1776D2\">2023-12-15 07:01:51</span><span style=\"color:#333\">]</span> <span style=\"color:#333\">Загрузка весов нейросетевой модели для получения оценок по нейросетевым признакам (видео модальность) ...</span>** "
      ],
      "text/plain": [
       "<IPython.core.display.Markdown object>"
      ]
     },
     "metadata": {},
     "output_type": "display_data"
    },
    {
     "data": {
      "text/markdown": [
       "<span style=\"color:#333\">**[</span><span style=\"color:#1776D2\">2023-12-15 07:01:51</span><span style=\"color:#333\">]</span> <span style=\"color:#333\">Загрузка файла \"<span style=\"color:#1776D2\">weights_2022-03-22_16-31-48.h5</span>\"</span>** "
      ],
      "text/plain": [
       "<IPython.core.display.Markdown object>"
      ]
     },
     "metadata": {},
     "output_type": "display_data"
    },
    {
     "data": {
      "text/markdown": [
       "<span style=\"color:#333\">**--- Время выполнения: 0.166 сек. ---**</span>"
      ],
      "text/plain": [
       "<IPython.core.display.Markdown object>"
      ]
     },
     "metadata": {},
     "output_type": "display_data"
    }
   ],
   "source": [
    "# Настройки ядра\n",
    "_b5.path_to_save_ = './models' # Директория для сохранения файла\n",
    "_b5.chunk_size_ = 2000000 # Размер загрузки файла из сети за 1 шаг\n",
    "\n",
    "url = _b5.weights_for_big5_['video'][corpus]['nn']['sberdisk']\n",
    "\n",
    "res_load_video_model_weights_nn = _b5.load_video_model_weights_nn(\n",
    "    url = url, # Полный путь к файлу с весами нейросетевой модели\n",
    "    force_reload = False, # Принудительная загрузка файла с весами нейросетевой модели из сети\n",
    "    out = True, # Отображение\n",
    "    runtime = True, # Подсчет времени выполнения\n",
    "    run = True # Блокировка выполнения\n",
    ")"
   ]
  },
  {
   "cell_type": "markdown",
   "metadata": {},
   "source": [
    "### Анализ текстовой информации (формирование и загрузка весов моделей)"
   ]
  },
  {
   "cell_type": "markdown",
   "metadata": {},
   "source": [
    "#### Загрузка словаря с экспертными признаками"
   ]
  },
  {
   "cell_type": "code",
   "execution_count": 15,
   "metadata": {},
   "outputs": [
    {
     "data": {
      "text/markdown": [
       "<span style=\"color:#333\">**[</span><span style=\"color:#1776D2\">2023-12-15 07:01:51</span><span style=\"color:#333\">]</span> <span style=\"color:#333\">Загрузка словаря с экспертными признаками ...</span>** "
      ],
      "text/plain": [
       "<IPython.core.display.Markdown object>"
      ]
     },
     "metadata": {},
     "output_type": "display_data"
    },
    {
     "data": {
      "text/markdown": [
       "<span style=\"color:#333\">**[</span><span style=\"color:#1776D2\">2023-12-15 07:01:52</span><span style=\"color:#333\">]</span> <span style=\"color:#333\">Загрузка файла \"<span style=\"color:#1776D2\">LIWC2007.txt</span>\" 100.0% ...</span>** "
      ],
      "text/plain": [
       "<IPython.core.display.Markdown object>"
      ]
     },
     "metadata": {},
     "output_type": "display_data"
    },
    {
     "data": {
      "text/markdown": [
       "<span style=\"color:#333\">**--- Время выполнения: 0.166 сек. ---**</span>"
      ],
      "text/plain": [
       "<IPython.core.display.Markdown object>"
      ]
     },
     "metadata": {},
     "output_type": "display_data"
    }
   ],
   "source": [
    "# Настройки ядра\n",
    "_b5.path_to_save_ = './models' # Директория для сохранения файла\n",
    "_b5.chunk_size_ = 2000000 # Размер загрузки файла из сети за 1 шаг\n",
    "\n",
    "res_load_text_features = _b5.load_text_features(\n",
    "    force_reload = True, # Принудительная загрузка файла\n",
    "    out = True, # Отображение\n",
    "    runtime = True, # Подсчет времени выполнения\n",
    "    run = True # Блокировка выполнения\n",
    ")"
   ]
  },
  {
   "cell_type": "markdown",
   "metadata": {},
   "source": [
    "#### Формирование токенизатора и нейросетевой модели машинного перевода (`RU -> EN`)"
   ]
  },
  {
   "cell_type": "code",
   "execution_count": 16,
   "metadata": {},
   "outputs": [
    {
     "data": {
      "text/markdown": [
       "<span style=\"color:#333\">**[</span><span style=\"color:#1776D2\">2023-12-15 07:01:52</span><span style=\"color:#333\">]</span> <span style=\"color:#333\">Формирование токенизатора и нейросетевой модели машинного перевода ...</span>** "
      ],
      "text/plain": [
       "<IPython.core.display.Markdown object>"
      ]
     },
     "metadata": {},
     "output_type": "display_data"
    },
    {
     "data": {
      "text/markdown": [
       "<span style=\"color:#333\">**--- Время выполнения: 1.763 сек. ---**</span>"
      ],
      "text/plain": [
       "<IPython.core.display.Markdown object>"
      ]
     },
     "metadata": {},
     "output_type": "display_data"
    }
   ],
   "source": [
    "res_setup_translation_model = _b5.setup_translation_model(\n",
    "    out = True, # Отображение\n",
    "    runtime = True, # Подсчет времени выполнения\n",
    "    run = True # Блокировка выполнения\n",
    ")"
   ]
  },
  {
   "cell_type": "markdown",
   "metadata": {},
   "source": [
    "#### Формирование токенизатора и нейросетевой модели BERT (`для кодирования слов`)"
   ]
  },
  {
   "cell_type": "code",
   "execution_count": 17,
   "metadata": {},
   "outputs": [
    {
     "data": {
      "text/markdown": [
       "<span style=\"color:#333\">**[</span><span style=\"color:#1776D2\">2023-12-15 07:01:53</span><span style=\"color:#333\">]</span> <span style=\"color:#333\">Формирование токенизатора и нейросетевой модели BERT ...</span>** "
      ],
      "text/plain": [
       "<IPython.core.display.Markdown object>"
      ]
     },
     "metadata": {},
     "output_type": "display_data"
    },
    {
     "data": {
      "text/markdown": [
       "<span style=\"color:#333\">**[</span><span style=\"color:#1776D2\">2023-12-15 07:01:55</span><span style=\"color:#333\">]</span> <span style=\"color:#333\">Загрузка файла \"<span style=\"color:#1776D2\">bert-base-multilingual-cased.zip</span>\"</span>** "
      ],
      "text/plain": [
       "<IPython.core.display.Markdown object>"
      ]
     },
     "metadata": {},
     "output_type": "display_data"
    },
    {
     "data": {
      "text/markdown": [
       "<span style=\"color:#333\">**[</span><span style=\"color:#1776D2\">2023-12-15 07:01:53</span><span style=\"color:#333\">]</span> <span style=\"color:#333\">Формирование токенизатора и нейросетевой модели BERT ...</span>** "
      ],
      "text/plain": [
       "<IPython.core.display.Markdown object>"
      ]
     },
     "metadata": {},
     "output_type": "display_data"
    },
    {
     "data": {
      "text/markdown": [
       "<span style=\"color:#333\">**[</span><span style=\"color:#1776D2\">2023-12-15 07:01:55</span><span style=\"color:#333\">]</span> <span style=\"color:#333\">Загрузка файла \"<span style=\"color:#1776D2\">bert-base-multilingual-cased.zip</span>\"</span>** "
      ],
      "text/plain": [
       "<IPython.core.display.Markdown object>"
      ]
     },
     "metadata": {},
     "output_type": "display_data"
    },
    {
     "data": {
      "text/markdown": [
       "<span style=\"color:#333\">**[</span><span style=\"color:#1776D2\">2023-12-15 07:01:55</span><span style=\"color:#333\">]</span> <span style=\"color:#333\">Разархивирование архива \"<span style=\"color:#1776D2\">bert-base-multilingual-cased.zip</span>\" ...</span>** "
      ],
      "text/plain": [
       "<IPython.core.display.Markdown object>"
      ]
     },
     "metadata": {},
     "output_type": "display_data"
    },
    {
     "data": {
      "text/markdown": [
       "<span style=\"color:#333\">**--- Время выполнения: 5.269 сек. ---**</span>"
      ],
      "text/plain": [
       "<IPython.core.display.Markdown object>"
      ]
     },
     "metadata": {},
     "output_type": "display_data"
    }
   ],
   "source": [
    "# Настройки ядра\n",
    "_b5.path_to_save_ = './models' # Директория для сохранения файла\n",
    "_b5.chunk_size_ = 2000000 # Размер загрузки файла из сети за 1 шаг\n",
    "\n",
    "res_setup_translation_model = _b5.setup_bert_encoder(\n",
    "    force_reload = False, # Принудительная загрузка файла\n",
    "    out = True, # Отображение\n",
    "    runtime = True, # Подсчет времени выполнения\n",
    "    run = True # Блокировка выполнения\n",
    ")"
   ]
  },
  {
   "cell_type": "markdown",
   "metadata": {},
   "source": [
    "#### Формирование нейросетевой архитектуры модели для получения признаков / оценок на базе экспертных признаков\n",
    "\n",
    "> - `_b5.text_model_hc_` - Нейросетевая модель **tf.keras.Model** для признаков / оценок на базе экспертных признаков"
   ]
  },
  {
   "cell_type": "code",
   "execution_count": 18,
   "metadata": {},
   "outputs": [
    {
     "data": {
      "text/markdown": [
       "<span style=\"color:#333\">**[</span><span style=\"color:#1776D2\">2023-12-15 07:01:59</span><span style=\"color:#333\">]</span> <span style=\"color:#333\">Формирование нейросетевой архитектуры модели для получения оценок по экспертным признакам (текстовая модальность) ...</span>** "
      ],
      "text/plain": [
       "<IPython.core.display.Markdown object>"
      ]
     },
     "metadata": {},
     "output_type": "display_data"
    },
    {
     "data": {
      "text/markdown": [
       "<span style=\"color:#333\">**--- Время выполнения: 0.701 сек. ---**</span>"
      ],
      "text/plain": [
       "<IPython.core.display.Markdown object>"
      ]
     },
     "metadata": {},
     "output_type": "display_data"
    }
   ],
   "source": [
    "res_load_text_model_hc_fi = _b5.load_text_model_hc(\n",
    "    corpus = corpus, # Корпус для тестирования нейросетевой модели\n",
    "    show_summary = False, # Отображение сформированной нейросетевой архитектуры модели\n",
    "    out = True, # Отображение\n",
    "    runtime = True, # Подсчет времени выполнения\n",
    "    run = True # Блокировка выполнения\n",
    ")"
   ]
  },
  {
   "cell_type": "markdown",
   "metadata": {},
   "source": [
    "#### Загрузка весов нейросетевой модели для получения признаков / оценок на базе экспертных признаков\n",
    "\n",
    "> - `_b5.text_model_hc_` - Нейросетевая модель **tf.keras.Model** для получения признаков / оценок на базе экспертных признаков"
   ]
  },
  {
   "cell_type": "code",
   "execution_count": 19,
   "metadata": {},
   "outputs": [
    {
     "data": {
      "text/markdown": [
       "<span style=\"color:#333\">**[</span><span style=\"color:#1776D2\">2023-12-15 07:01:59</span><span style=\"color:#333\">]</span> <span style=\"color:#333\">Загрузка весов нейросетевой модели для получения оценок по экспертным признакам (текстовая модальность) ...</span>** "
      ],
      "text/plain": [
       "<IPython.core.display.Markdown object>"
      ]
     },
     "metadata": {},
     "output_type": "display_data"
    },
    {
     "data": {
      "text/markdown": [
       "<span style=\"color:#333\">**[</span><span style=\"color:#1776D2\">2023-12-15 07:02:00</span><span style=\"color:#333\">]</span> <span style=\"color:#333\">Загрузка файла \"<span style=\"color:#1776D2\">weights_2023-07-15_10-52-15.h5</span>\" 100.0% ...</span>** "
      ],
      "text/plain": [
       "<IPython.core.display.Markdown object>"
      ]
     },
     "metadata": {},
     "output_type": "display_data"
    },
    {
     "data": {
      "text/markdown": [
       "<span style=\"color:#333\">**--- Время выполнения: 0.278 сек. ---**</span>"
      ],
      "text/plain": [
       "<IPython.core.display.Markdown object>"
      ]
     },
     "metadata": {},
     "output_type": "display_data"
    }
   ],
   "source": [
    "# Настройки ядра\n",
    "_b5.path_to_save_ = './models' # Директория для сохранения файла\n",
    "_b5.chunk_size_ = 2000000 # Размер загрузки файла из сети за 1 шаг\n",
    "\n",
    "url = _b5.weights_for_big5_['text'][corpus]['hc']['sberdisk']\n",
    "\n",
    "res_load_text_model_weights_hc_fi = _b5.load_text_model_weights_hc(\n",
    "    url = url, # Полный путь к файлу с весами нейросетевой модели\n",
    "    force_reload = True, # Принудительная загрузка файла с весами нейросетевой модели из сети\n",
    "    out = True, # Отображение\n",
    "    runtime = True, # Подсчет времени выполнения\n",
    "    run = True # Блокировка выполнения\n",
    ")"
   ]
  },
  {
   "cell_type": "markdown",
   "metadata": {},
   "source": [
    "#### Формирование нейросетевой архитектуры модели для получения признаков / оценок на базе нейросетевых признаков\n",
    "\n",
    "> - `_b5.text_model_nn_` - Нейросетевая модель **tf.keras.Model** для получения признаков / оценок на базе нейросетевых признаков"
   ]
  },
  {
   "cell_type": "code",
   "execution_count": 20,
   "metadata": {},
   "outputs": [
    {
     "data": {
      "text/markdown": [
       "<span style=\"color:#333\">**[</span><span style=\"color:#1776D2\">2023-12-15 07:02:00</span><span style=\"color:#333\">]</span> <span style=\"color:#333\">Формирование нейросетевой архитектуры для получения оценок по нейросетевым признакам (текстовая модальность) ...</span>** "
      ],
      "text/plain": [
       "<IPython.core.display.Markdown object>"
      ]
     },
     "metadata": {},
     "output_type": "display_data"
    },
    {
     "data": {
      "text/markdown": [
       "<span style=\"color:#333\">**--- Время выполнения: 0.286 сек. ---**</span>"
      ],
      "text/plain": [
       "<IPython.core.display.Markdown object>"
      ]
     },
     "metadata": {},
     "output_type": "display_data"
    }
   ],
   "source": [
    "res_load_text_model_nn_fi = _b5.load_text_model_nn(\n",
    "    corpus = corpus, # Корпус для тестирования нейросетевой модели\n",
    "    show_summary = False, # Отображение сформированной нейросетевой архитектуры модели\n",
    "    out = True, # Отображение\n",
    "    runtime = True, # Подсчет времени выполнения\n",
    "    run = True # Блокировка выполнения\n",
    ")"
   ]
  },
  {
   "cell_type": "markdown",
   "metadata": {},
   "source": [
    "#### Загрузка весов нейросетевой модели для получения признаков / оценок на базе нейросетевых признаков\n",
    "\n",
    "> - `_b5.text_model_nn_` - Нейросетевая модель **tf.keras.Model** для получения признаков / оценок на базе нейросетевых признаков"
   ]
  },
  {
   "cell_type": "code",
   "execution_count": 21,
   "metadata": {},
   "outputs": [
    {
     "data": {
      "text/markdown": [
       "<span style=\"color:#333\">**[</span><span style=\"color:#1776D2\">2023-12-15 07:02:00</span><span style=\"color:#333\">]</span> <span style=\"color:#333\">Загрузка весов нейросетевой модели для получения оценок по нейросетевым признакам (текстовая модальность) ...</span>** "
      ],
      "text/plain": [
       "<IPython.core.display.Markdown object>"
      ]
     },
     "metadata": {},
     "output_type": "display_data"
    },
    {
     "data": {
      "text/markdown": [
       "<span style=\"color:#333\">**[</span><span style=\"color:#1776D2\">2023-12-15 07:02:00</span><span style=\"color:#333\">]</span> <span style=\"color:#333\">Загрузка файла \"<span style=\"color:#1776D2\">weights_2023-07-03_15-01-08.h5</span>\" 100.0% ...</span>** "
      ],
      "text/plain": [
       "<IPython.core.display.Markdown object>"
      ]
     },
     "metadata": {},
     "output_type": "display_data"
    },
    {
     "data": {
      "text/markdown": [
       "<span style=\"color:#333\">**--- Время выполнения: 0.42 сек. ---**</span>"
      ],
      "text/plain": [
       "<IPython.core.display.Markdown object>"
      ]
     },
     "metadata": {},
     "output_type": "display_data"
    }
   ],
   "source": [
    "# Настройки ядра\n",
    "_b5.path_to_save_ = './models' # Директория для сохранения файла\n",
    "_b5.chunk_size_ = 2000000 # Размер загрузки файла из сети за 1 шаг\n",
    "\n",
    "url = _b5.weights_for_big5_['text'][corpus]['nn']['sberdisk']\n",
    "\n",
    "res_load_text_model_weights_nn_fi = _b5.load_text_model_weights_nn(\n",
    "    url = url, # Полный путь к файлу с весами нейросетевой модели\n",
    "    force_reload = True, # Принудительная загрузка файла с весами нейросетевой модели из сети\n",
    "    out = True, # Отображение\n",
    "    runtime = True, # Подсчет времени выполнения\n",
    "    run = True # Блокировка выполнения\n",
    ")"
   ]
  },
  {
   "cell_type": "markdown",
   "metadata": {},
   "source": [
    "### Анализ мультимодальной информации (формирование, загрузка весов моделей, получение оценок персональных качеств)"
   ]
  },
  {
   "cell_type": "markdown",
   "metadata": {},
   "source": [
    "#### Формирование нейросетевой архитектуры модели для получения оценок персональных качеств\n",
    "\n",
    "> - `_b5.avt_model_b5_` - Нейросетевая модель **tf.keras.Model** для получения оценок персональных качеств"
   ]
  },
  {
   "cell_type": "code",
   "execution_count": 22,
   "metadata": {},
   "outputs": [
    {
     "data": {
      "text/markdown": [
       "<span style=\"color:#333\">**[</span><span style=\"color:#1776D2\">2023-12-15 07:02:00</span><span style=\"color:#333\">]</span> <span style=\"color:#333\">Формирование нейросетевой архитектуры модели для получения  оценок персональных качеств (мультимодальное объединение) ...</span>** "
      ],
      "text/plain": [
       "<IPython.core.display.Markdown object>"
      ]
     },
     "metadata": {},
     "output_type": "display_data"
    },
    {
     "data": {
      "text/markdown": [
       "<span style=\"color:#333\">**--- Время выполнения: 0.212 сек. ---**</span>"
      ],
      "text/plain": [
       "<IPython.core.display.Markdown object>"
      ]
     },
     "metadata": {},
     "output_type": "display_data"
    }
   ],
   "source": [
    "res_load_avt_model_b5 = _b5.load_avt_model_b5(\n",
    "    show_summary = False, # Отображение сформированной нейросетевой архитектуры модели\n",
    "    out = True, # Отображение\n",
    "    runtime = True, # Подсчет времени выполнения\n",
    "    run = True # Блокировка выполнения\n",
    ")"
   ]
  },
  {
   "cell_type": "markdown",
   "metadata": {},
   "source": [
    "#### Загрузка весов нейросетевой модели для получения оценок персональных качеств\n",
    "\n",
    "> - `_b5.avt_model_b5_` - Нейросетевая модель **tf.keras.Model** для получения оценок персональных качеств"
   ]
  },
  {
   "cell_type": "code",
   "execution_count": 23,
   "metadata": {},
   "outputs": [
    {
     "data": {
      "text/markdown": [
       "<span style=\"color:#333\">**[</span><span style=\"color:#1776D2\">2023-12-15 07:02:01</span><span style=\"color:#333\">]</span> <span style=\"color:#333\">Загрузка весов нейросетевой модели для получения оценок персональных качеств (мультимодальное объединение) ...</span>** "
      ],
      "text/plain": [
       "<IPython.core.display.Markdown object>"
      ]
     },
     "metadata": {},
     "output_type": "display_data"
    },
    {
     "data": {
      "text/markdown": [
       "<span style=\"color:#333\">**[</span><span style=\"color:#1776D2\">2023-12-15 07:02:01</span><span style=\"color:#333\">]</span> <span style=\"color:#333\">Загрузка файла \"<span style=\"color:#1776D2\">avt_fi_2023-12-03_11-36-51.h5</span>\"</span>** "
      ],
      "text/plain": [
       "<IPython.core.display.Markdown object>"
      ]
     },
     "metadata": {},
     "output_type": "display_data"
    },
    {
     "data": {
      "text/markdown": [
       "<span style=\"color:#333\">**--- Время выполнения: 0.295 сек. ---**</span>"
      ],
      "text/plain": [
       "<IPython.core.display.Markdown object>"
      ]
     },
     "metadata": {},
     "output_type": "display_data"
    }
   ],
   "source": [
    "# Настройки ядра\n",
    "_b5.path_to_save_ = './models' # Директория для сохранения файла\n",
    "_b5.chunk_size_ = 2000000 # Размер загрузки файла из сети за 1 шаг\n",
    "\n",
    "url = _b5.weights_for_big5_['avt'][corpus]['b5']['sberdisk']\n",
    "\n",
    "res_load_avt_model_weights_b5 = _b5.load_avt_model_weights_b5(\n",
    "    url = url,\n",
    "    force_reload = False, # Принудительная загрузка файла с весами нейросетевой модели из сети\n",
    "    out = True, # Отображение\n",
    "    runtime = True, # Подсчет времени выполнения\n",
    "    run = True # Блокировка выполнения\n",
    ")"
   ]
  },
  {
   "cell_type": "markdown",
   "metadata": {},
   "source": [
    "#### Получение прогнозов (мультимодальное объединение)\n",
    "\n",
    "> - `_b5.df_files_` - DataFrame с данными\n",
    "> - `_b5.df_accuracy_` - DataFrame с результатами вычисления точности"
   ]
  },
  {
   "cell_type": "code",
   "execution_count": 24,
   "metadata": {},
   "outputs": [
    {
     "data": {
      "text/markdown": [
       "<span style=\"color:#333\">**[</span><span style=\"color:#1776D2\">2023-12-15 10:22:11</span><span style=\"color:#333\">]</span> <span style=\"color:#333\">Извлечение признаков (экспертных и нейросетевых) из текста ...</span>** "
      ],
      "text/plain": [
       "<IPython.core.display.Markdown object>"
      ]
     },
     "metadata": {},
     "output_type": "display_data"
    },
    {
     "data": {
      "text/markdown": [
       "<span style=\"color:#333\">**[</span><span style=\"color:#1776D2\">2023-12-15 10:22:14</span><span style=\"color:#333\">]</span> <span style=\"color:#333\">Получение прогнозов и вычисление точности (мультимодальное объединение) ...</span>**<p><span style=\"color:#333\">&nbsp;&nbsp;&nbsp;&nbsp;2000 из 2000 (100.0%) ... test80_25\\_Q4wOgixh7E.004.mp4 ...</span></p>"
      ],
      "text/plain": [
       "<IPython.core.display.Markdown object>"
      ]
     },
     "metadata": {},
     "output_type": "display_data"
    },
    {
     "data": {
      "text/html": [
       "<div>\n",
       "<style scoped>\n",
       "    .dataframe tbody tr th:only-of-type {\n",
       "        vertical-align: middle;\n",
       "    }\n",
       "\n",
       "    .dataframe tbody tr th {\n",
       "        vertical-align: top;\n",
       "    }\n",
       "\n",
       "    .dataframe thead th {\n",
       "        text-align: right;\n",
       "    }\n",
       "</style>\n",
       "<table border=\"1\" class=\"dataframe\">\n",
       "  <thead>\n",
       "    <tr style=\"text-align: right;\">\n",
       "      <th></th>\n",
       "      <th>Path</th>\n",
       "      <th>Openness</th>\n",
       "      <th>Conscientiousness</th>\n",
       "      <th>Extraversion</th>\n",
       "      <th>Agreeableness</th>\n",
       "      <th>Non-Neuroticism</th>\n",
       "    </tr>\n",
       "    <tr>\n",
       "      <th>ID</th>\n",
       "      <th></th>\n",
       "      <th></th>\n",
       "      <th></th>\n",
       "      <th></th>\n",
       "      <th></th>\n",
       "      <th></th>\n",
       "    </tr>\n",
       "  </thead>\n",
       "  <tbody>\n",
       "    <tr>\n",
       "      <th>1</th>\n",
       "      <td>E:\\Databases\\FirstImpressionsV2\\test\\test80_01...</td>\n",
       "      <td>0.545377</td>\n",
       "      <td>0.523155</td>\n",
       "      <td>0.456685</td>\n",
       "      <td>0.533811</td>\n",
       "      <td>0.516093</td>\n",
       "    </tr>\n",
       "    <tr>\n",
       "      <th>2</th>\n",
       "      <td>E:\\Databases\\FirstImpressionsV2\\test\\test80_01...</td>\n",
       "      <td>0.520572</td>\n",
       "      <td>0.396216</td>\n",
       "      <td>0.478419</td>\n",
       "      <td>0.528622</td>\n",
       "      <td>0.459169</td>\n",
       "    </tr>\n",
       "    <tr>\n",
       "      <th>3</th>\n",
       "      <td>E:\\Databases\\FirstImpressionsV2\\test\\test80_01...</td>\n",
       "      <td>0.450715</td>\n",
       "      <td>0.491121</td>\n",
       "      <td>0.36674</td>\n",
       "      <td>0.510387</td>\n",
       "      <td>0.414304</td>\n",
       "    </tr>\n",
       "    <tr>\n",
       "      <th>4</th>\n",
       "      <td>E:\\Databases\\FirstImpressionsV2\\test\\test80_01...</td>\n",
       "      <td>0.665193</td>\n",
       "      <td>0.648017</td>\n",
       "      <td>0.640581</td>\n",
       "      <td>0.580625</td>\n",
       "      <td>0.596675</td>\n",
       "    </tr>\n",
       "    <tr>\n",
       "      <th>5</th>\n",
       "      <td>E:\\Databases\\FirstImpressionsV2\\test\\test80_01...</td>\n",
       "      <td>0.669463</td>\n",
       "      <td>0.606313</td>\n",
       "      <td>0.619956</td>\n",
       "      <td>0.653291</td>\n",
       "      <td>0.618665</td>\n",
       "    </tr>\n",
       "    <tr>\n",
       "      <th>6</th>\n",
       "      <td>E:\\Databases\\FirstImpressionsV2\\test\\test80_01...</td>\n",
       "      <td>0.632529</td>\n",
       "      <td>0.722035</td>\n",
       "      <td>0.583922</td>\n",
       "      <td>0.63653</td>\n",
       "      <td>0.603358</td>\n",
       "    </tr>\n",
       "    <tr>\n",
       "      <th>7</th>\n",
       "      <td>E:\\Databases\\FirstImpressionsV2\\test\\test80_01...</td>\n",
       "      <td>0.489579</td>\n",
       "      <td>0.453927</td>\n",
       "      <td>0.373339</td>\n",
       "      <td>0.486156</td>\n",
       "      <td>0.421787</td>\n",
       "    </tr>\n",
       "    <tr>\n",
       "      <th>8</th>\n",
       "      <td>E:\\Databases\\FirstImpressionsV2\\test\\test80_01...</td>\n",
       "      <td>0.59544</td>\n",
       "      <td>0.615519</td>\n",
       "      <td>0.514064</td>\n",
       "      <td>0.627394</td>\n",
       "      <td>0.601345</td>\n",
       "    </tr>\n",
       "    <tr>\n",
       "      <th>9</th>\n",
       "      <td>E:\\Databases\\FirstImpressionsV2\\test\\test80_01...</td>\n",
       "      <td>0.559325</td>\n",
       "      <td>0.50692</td>\n",
       "      <td>0.442211</td>\n",
       "      <td>0.537979</td>\n",
       "      <td>0.499341</td>\n",
       "    </tr>\n",
       "    <tr>\n",
       "      <th>10</th>\n",
       "      <td>E:\\Databases\\FirstImpressionsV2\\test\\test80_01...</td>\n",
       "      <td>0.509495</td>\n",
       "      <td>0.526581</td>\n",
       "      <td>0.406979</td>\n",
       "      <td>0.565923</td>\n",
       "      <td>0.54616</td>\n",
       "    </tr>\n",
       "    <tr>\n",
       "      <th>11</th>\n",
       "      <td>E:\\Databases\\FirstImpressionsV2\\test\\test80_01...</td>\n",
       "      <td>0.599391</td>\n",
       "      <td>0.516418</td>\n",
       "      <td>0.516382</td>\n",
       "      <td>0.589003</td>\n",
       "      <td>0.558064</td>\n",
       "    </tr>\n",
       "    <tr>\n",
       "      <th>12</th>\n",
       "      <td>E:\\Databases\\FirstImpressionsV2\\test\\test80_01...</td>\n",
       "      <td>0.458006</td>\n",
       "      <td>0.496319</td>\n",
       "      <td>0.345605</td>\n",
       "      <td>0.48779</td>\n",
       "      <td>0.448027</td>\n",
       "    </tr>\n",
       "    <tr>\n",
       "      <th>13</th>\n",
       "      <td>E:\\Databases\\FirstImpressionsV2\\test\\test80_01...</td>\n",
       "      <td>0.377578</td>\n",
       "      <td>0.410694</td>\n",
       "      <td>0.283698</td>\n",
       "      <td>0.384478</td>\n",
       "      <td>0.313993</td>\n",
       "    </tr>\n",
       "    <tr>\n",
       "      <th>14</th>\n",
       "      <td>E:\\Databases\\FirstImpressionsV2\\test\\test80_01...</td>\n",
       "      <td>0.563649</td>\n",
       "      <td>0.499573</td>\n",
       "      <td>0.445833</td>\n",
       "      <td>0.454925</td>\n",
       "      <td>0.463903</td>\n",
       "    </tr>\n",
       "    <tr>\n",
       "      <th>15</th>\n",
       "      <td>E:\\Databases\\FirstImpressionsV2\\test\\test80_01...</td>\n",
       "      <td>0.7302</td>\n",
       "      <td>0.784698</td>\n",
       "      <td>0.51636</td>\n",
       "      <td>0.698729</td>\n",
       "      <td>0.713016</td>\n",
       "    </tr>\n",
       "    <tr>\n",
       "      <th>16</th>\n",
       "      <td>E:\\Databases\\FirstImpressionsV2\\test\\test80_01...</td>\n",
       "      <td>0.620163</td>\n",
       "      <td>0.564576</td>\n",
       "      <td>0.556421</td>\n",
       "      <td>0.563072</td>\n",
       "      <td>0.543618</td>\n",
       "    </tr>\n",
       "    <tr>\n",
       "      <th>17</th>\n",
       "      <td>E:\\Databases\\FirstImpressionsV2\\test\\test80_01...</td>\n",
       "      <td>0.603495</td>\n",
       "      <td>0.644997</td>\n",
       "      <td>0.440616</td>\n",
       "      <td>0.603712</td>\n",
       "      <td>0.578639</td>\n",
       "    </tr>\n",
       "    <tr>\n",
       "      <th>18</th>\n",
       "      <td>E:\\Databases\\FirstImpressionsV2\\test\\test80_01...</td>\n",
       "      <td>0.543104</td>\n",
       "      <td>0.489751</td>\n",
       "      <td>0.452691</td>\n",
       "      <td>0.566111</td>\n",
       "      <td>0.520961</td>\n",
       "    </tr>\n",
       "    <tr>\n",
       "      <th>19</th>\n",
       "      <td>E:\\Databases\\FirstImpressionsV2\\test\\test80_01...</td>\n",
       "      <td>0.624445</td>\n",
       "      <td>0.574276</td>\n",
       "      <td>0.609165</td>\n",
       "      <td>0.582815</td>\n",
       "      <td>0.560111</td>\n",
       "    </tr>\n",
       "    <tr>\n",
       "      <th>20</th>\n",
       "      <td>E:\\Databases\\FirstImpressionsV2\\test\\test80_01...</td>\n",
       "      <td>0.658763</td>\n",
       "      <td>0.545697</td>\n",
       "      <td>0.627865</td>\n",
       "      <td>0.61989</td>\n",
       "      <td>0.609391</td>\n",
       "    </tr>\n",
       "    <tr>\n",
       "      <th>21</th>\n",
       "      <td>E:\\Databases\\FirstImpressionsV2\\test\\test80_01...</td>\n",
       "      <td>0.562814</td>\n",
       "      <td>0.493076</td>\n",
       "      <td>0.430422</td>\n",
       "      <td>0.539134</td>\n",
       "      <td>0.502142</td>\n",
       "    </tr>\n",
       "    <tr>\n",
       "      <th>22</th>\n",
       "      <td>E:\\Databases\\FirstImpressionsV2\\test\\test80_01...</td>\n",
       "      <td>0.472688</td>\n",
       "      <td>0.417943</td>\n",
       "      <td>0.423233</td>\n",
       "      <td>0.472491</td>\n",
       "      <td>0.392815</td>\n",
       "    </tr>\n",
       "    <tr>\n",
       "      <th>23</th>\n",
       "      <td>E:\\Databases\\FirstImpressionsV2\\test\\test80_01...</td>\n",
       "      <td>0.43985</td>\n",
       "      <td>0.429655</td>\n",
       "      <td>0.319237</td>\n",
       "      <td>0.420569</td>\n",
       "      <td>0.414306</td>\n",
       "    </tr>\n",
       "    <tr>\n",
       "      <th>24</th>\n",
       "      <td>E:\\Databases\\FirstImpressionsV2\\test\\test80_01...</td>\n",
       "      <td>0.638308</td>\n",
       "      <td>0.632067</td>\n",
       "      <td>0.580016</td>\n",
       "      <td>0.642938</td>\n",
       "      <td>0.603159</td>\n",
       "    </tr>\n",
       "    <tr>\n",
       "      <th>25</th>\n",
       "      <td>E:\\Databases\\FirstImpressionsV2\\test\\test80_01...</td>\n",
       "      <td>0.506815</td>\n",
       "      <td>0.57838</td>\n",
       "      <td>0.367448</td>\n",
       "      <td>0.523856</td>\n",
       "      <td>0.481819</td>\n",
       "    </tr>\n",
       "    <tr>\n",
       "      <th>26</th>\n",
       "      <td>E:\\Databases\\FirstImpressionsV2\\test\\test80_01...</td>\n",
       "      <td>0.517949</td>\n",
       "      <td>0.562723</td>\n",
       "      <td>0.383299</td>\n",
       "      <td>0.483178</td>\n",
       "      <td>0.467141</td>\n",
       "    </tr>\n",
       "    <tr>\n",
       "      <th>27</th>\n",
       "      <td>E:\\Databases\\FirstImpressionsV2\\test\\test80_01...</td>\n",
       "      <td>0.570406</td>\n",
       "      <td>0.441804</td>\n",
       "      <td>0.454944</td>\n",
       "      <td>0.530368</td>\n",
       "      <td>0.512669</td>\n",
       "    </tr>\n",
       "    <tr>\n",
       "      <th>28</th>\n",
       "      <td>E:\\Databases\\FirstImpressionsV2\\test\\test80_01...</td>\n",
       "      <td>0.637813</td>\n",
       "      <td>0.611132</td>\n",
       "      <td>0.607629</td>\n",
       "      <td>0.636313</td>\n",
       "      <td>0.620745</td>\n",
       "    </tr>\n",
       "    <tr>\n",
       "      <th>29</th>\n",
       "      <td>E:\\Databases\\FirstImpressionsV2\\test\\test80_01...</td>\n",
       "      <td>0.572268</td>\n",
       "      <td>0.532781</td>\n",
       "      <td>0.504937</td>\n",
       "      <td>0.575169</td>\n",
       "      <td>0.518609</td>\n",
       "    </tr>\n",
       "    <tr>\n",
       "      <th>30</th>\n",
       "      <td>E:\\Databases\\FirstImpressionsV2\\test\\test80_01...</td>\n",
       "      <td>0.658128</td>\n",
       "      <td>0.598394</td>\n",
       "      <td>0.59656</td>\n",
       "      <td>0.621783</td>\n",
       "      <td>0.612908</td>\n",
       "    </tr>\n",
       "  </tbody>\n",
       "</table>\n",
       "</div>"
      ],
      "text/plain": [
       "                                                 Path  Openness  \\\n",
       "ID                                                                \n",
       "1   E:\\Databases\\FirstImpressionsV2\\test\\test80_01...  0.545377   \n",
       "2   E:\\Databases\\FirstImpressionsV2\\test\\test80_01...  0.520572   \n",
       "3   E:\\Databases\\FirstImpressionsV2\\test\\test80_01...  0.450715   \n",
       "4   E:\\Databases\\FirstImpressionsV2\\test\\test80_01...  0.665193   \n",
       "5   E:\\Databases\\FirstImpressionsV2\\test\\test80_01...  0.669463   \n",
       "6   E:\\Databases\\FirstImpressionsV2\\test\\test80_01...  0.632529   \n",
       "7   E:\\Databases\\FirstImpressionsV2\\test\\test80_01...  0.489579   \n",
       "8   E:\\Databases\\FirstImpressionsV2\\test\\test80_01...   0.59544   \n",
       "9   E:\\Databases\\FirstImpressionsV2\\test\\test80_01...  0.559325   \n",
       "10  E:\\Databases\\FirstImpressionsV2\\test\\test80_01...  0.509495   \n",
       "11  E:\\Databases\\FirstImpressionsV2\\test\\test80_01...  0.599391   \n",
       "12  E:\\Databases\\FirstImpressionsV2\\test\\test80_01...  0.458006   \n",
       "13  E:\\Databases\\FirstImpressionsV2\\test\\test80_01...  0.377578   \n",
       "14  E:\\Databases\\FirstImpressionsV2\\test\\test80_01...  0.563649   \n",
       "15  E:\\Databases\\FirstImpressionsV2\\test\\test80_01...    0.7302   \n",
       "16  E:\\Databases\\FirstImpressionsV2\\test\\test80_01...  0.620163   \n",
       "17  E:\\Databases\\FirstImpressionsV2\\test\\test80_01...  0.603495   \n",
       "18  E:\\Databases\\FirstImpressionsV2\\test\\test80_01...  0.543104   \n",
       "19  E:\\Databases\\FirstImpressionsV2\\test\\test80_01...  0.624445   \n",
       "20  E:\\Databases\\FirstImpressionsV2\\test\\test80_01...  0.658763   \n",
       "21  E:\\Databases\\FirstImpressionsV2\\test\\test80_01...  0.562814   \n",
       "22  E:\\Databases\\FirstImpressionsV2\\test\\test80_01...  0.472688   \n",
       "23  E:\\Databases\\FirstImpressionsV2\\test\\test80_01...   0.43985   \n",
       "24  E:\\Databases\\FirstImpressionsV2\\test\\test80_01...  0.638308   \n",
       "25  E:\\Databases\\FirstImpressionsV2\\test\\test80_01...  0.506815   \n",
       "26  E:\\Databases\\FirstImpressionsV2\\test\\test80_01...  0.517949   \n",
       "27  E:\\Databases\\FirstImpressionsV2\\test\\test80_01...  0.570406   \n",
       "28  E:\\Databases\\FirstImpressionsV2\\test\\test80_01...  0.637813   \n",
       "29  E:\\Databases\\FirstImpressionsV2\\test\\test80_01...  0.572268   \n",
       "30  E:\\Databases\\FirstImpressionsV2\\test\\test80_01...  0.658128   \n",
       "\n",
       "   Conscientiousness Extraversion Agreeableness Non-Neuroticism  \n",
       "ID                                                               \n",
       "1           0.523155     0.456685      0.533811        0.516093  \n",
       "2           0.396216     0.478419      0.528622        0.459169  \n",
       "3           0.491121      0.36674      0.510387        0.414304  \n",
       "4           0.648017     0.640581      0.580625        0.596675  \n",
       "5           0.606313     0.619956      0.653291        0.618665  \n",
       "6           0.722035     0.583922       0.63653        0.603358  \n",
       "7           0.453927     0.373339      0.486156        0.421787  \n",
       "8           0.615519     0.514064      0.627394        0.601345  \n",
       "9            0.50692     0.442211      0.537979        0.499341  \n",
       "10          0.526581     0.406979      0.565923         0.54616  \n",
       "11          0.516418     0.516382      0.589003        0.558064  \n",
       "12          0.496319     0.345605       0.48779        0.448027  \n",
       "13          0.410694     0.283698      0.384478        0.313993  \n",
       "14          0.499573     0.445833      0.454925        0.463903  \n",
       "15          0.784698      0.51636      0.698729        0.713016  \n",
       "16          0.564576     0.556421      0.563072        0.543618  \n",
       "17          0.644997     0.440616      0.603712        0.578639  \n",
       "18          0.489751     0.452691      0.566111        0.520961  \n",
       "19          0.574276     0.609165      0.582815        0.560111  \n",
       "20          0.545697     0.627865       0.61989        0.609391  \n",
       "21          0.493076     0.430422      0.539134        0.502142  \n",
       "22          0.417943     0.423233      0.472491        0.392815  \n",
       "23          0.429655     0.319237      0.420569        0.414306  \n",
       "24          0.632067     0.580016      0.642938        0.603159  \n",
       "25           0.57838     0.367448      0.523856        0.481819  \n",
       "26          0.562723     0.383299      0.483178        0.467141  \n",
       "27          0.441804     0.454944      0.530368        0.512669  \n",
       "28          0.611132     0.607629      0.636313        0.620745  \n",
       "29          0.532781     0.504937      0.575169        0.518609  \n",
       "30          0.598394      0.59656      0.621783        0.612908  "
      ]
     },
     "metadata": {},
     "output_type": "display_data"
    },
    {
     "data": {
      "text/markdown": [
       "<span style=\"color:#333\">**[</span><span style=\"color:#1776D2\">2023-12-15 10:22:14</span><span style=\"color:#333\">]</span> <span style=\"color:#333\">Точность по отдельным персональным качествам личности человека ...</span>** "
      ],
      "text/plain": [
       "<IPython.core.display.Markdown object>"
      ]
     },
     "metadata": {},
     "output_type": "display_data"
    },
    {
     "data": {
      "text/html": [
       "<div>\n",
       "<style scoped>\n",
       "    .dataframe tbody tr th:only-of-type {\n",
       "        vertical-align: middle;\n",
       "    }\n",
       "\n",
       "    .dataframe tbody tr th {\n",
       "        vertical-align: top;\n",
       "    }\n",
       "\n",
       "    .dataframe thead th {\n",
       "        text-align: right;\n",
       "    }\n",
       "</style>\n",
       "<table border=\"1\" class=\"dataframe\">\n",
       "  <thead>\n",
       "    <tr style=\"text-align: right;\">\n",
       "      <th></th>\n",
       "      <th>Openness</th>\n",
       "      <th>Conscientiousness</th>\n",
       "      <th>Extraversion</th>\n",
       "      <th>Agreeableness</th>\n",
       "      <th>Non-Neuroticism</th>\n",
       "      <th>Mean</th>\n",
       "    </tr>\n",
       "    <tr>\n",
       "      <th>Metrics</th>\n",
       "      <th></th>\n",
       "      <th></th>\n",
       "      <th></th>\n",
       "      <th></th>\n",
       "      <th></th>\n",
       "      <th></th>\n",
       "    </tr>\n",
       "  </thead>\n",
       "  <tbody>\n",
       "    <tr>\n",
       "      <th>MAE</th>\n",
       "      <td>0.0758</td>\n",
       "      <td>0.0716</td>\n",
       "      <td>0.0688</td>\n",
       "      <td>0.0752</td>\n",
       "      <td>0.0731</td>\n",
       "      <td>0.0729</td>\n",
       "    </tr>\n",
       "    <tr>\n",
       "      <th>Accuracy</th>\n",
       "      <td>0.9242</td>\n",
       "      <td>0.9284</td>\n",
       "      <td>0.9312</td>\n",
       "      <td>0.9248</td>\n",
       "      <td>0.9269</td>\n",
       "      <td>0.9271</td>\n",
       "    </tr>\n",
       "  </tbody>\n",
       "</table>\n",
       "</div>"
      ],
      "text/plain": [
       "          Openness  Conscientiousness  Extraversion  Agreeableness  \\\n",
       "Metrics                                                              \n",
       "MAE         0.0758             0.0716        0.0688         0.0752   \n",
       "Accuracy    0.9242             0.9284        0.9312         0.9248   \n",
       "\n",
       "          Non-Neuroticism    Mean  \n",
       "Metrics                            \n",
       "MAE                0.0731  0.0729  \n",
       "Accuracy           0.9269  0.9271  "
      ]
     },
     "metadata": {},
     "output_type": "display_data"
    },
    {
     "data": {
      "text/markdown": [
       "<span style=\"color:#333\">**[</span><span style=\"color:#1776D2\">2023-12-15 10:22:14</span><span style=\"color:#333\">]</span> <span style=\"color:#333\">Средняя средних абсолютных ошибок: <span style=\"color:#1776D2\">0.0729</span>, средняя точность: <span style=\"color:#1776D2\">0.9271</span> ...</span>** "
      ],
      "text/plain": [
       "<IPython.core.display.Markdown object>"
      ]
     },
     "metadata": {},
     "output_type": "display_data"
    },
    {
     "data": {
      "text/markdown": [
       "<span style=\"color:#008001\">**Лог файлы успешно сохранены ...**</span>"
      ],
      "text/plain": [
       "<IPython.core.display.Markdown object>"
      ]
     },
     "metadata": {},
     "output_type": "display_data"
    },
    {
     "data": {
      "text/markdown": [
       "<span style=\"color:#333\">**--- Время выполнения: 12013.03 сек. ---**</span>"
      ],
      "text/plain": [
       "<IPython.core.display.Markdown object>"
      ]
     },
     "metadata": {},
     "output_type": "display_data"
    },
    {
     "data": {
      "text/plain": [
       "True"
      ]
     },
     "execution_count": 24,
     "metadata": {},
     "output_type": "execute_result"
    }
   ],
   "source": [
    "# Настройки ядра\n",
    "_b5.path_to_dataset_ = 'E:/Databases/FirstImpressionsV2/test' # Директория набора данных\n",
    "# Директории не входящие в выборку\n",
    "_b5.ignore_dirs_ = []\n",
    "# Названия ключей для DataFrame набора данных\n",
    "_b5.keys_dataset_ = ['Path', 'Openness', 'Conscientiousness', 'Extraversion', 'Agreeableness', 'Non-Neuroticism']\n",
    "_b5.ext_ = ['.mp4'] # Расширения искомых файлов\n",
    "\n",
    "# Полный путь к файлу с верными предсказаниями для подсчета точности\n",
    "url_accuracy = _b5.true_traits_[corpus]['sberdisk']\n",
    "\n",
    "_b5.get_avt_predictions(\n",
    "    depth = 1,         # Глубина иерархии для получения аудио и видеоданных\n",
    "    recursive = False, # Рекурсивный поиск данных\n",
    "    sr = 44100,        # Частота дискретизации\n",
    "    window_audio = 2,  # Размер окна сегмента аудио сигнала (в секундах)\n",
    "    step_audio = 1,    # Шаг сдвига окна сегмента аудио сигнала (в секундах)\n",
    "    reduction_fps = 5, # Понижение кадровой частоты\n",
    "    window_video = 10, # Размер окна сегмента видео сигнала (в секундах)\n",
    "    step_video = 5,    # Шаг сдвига окна сегмента видео сигнала (в секундах)\n",
    "    asr = False,        # Распознавание речи\n",
    "    lang = lang,       # Выбор языка\n",
    "    accuracy = True,   # Вычисление точности\n",
    "    url_accuracy = url_accuracy,\n",
    "    logs = True,       # При необходимости формировать LOG файл\n",
    "    out = True,        # Отображение\n",
    "    runtime = True,    # Подсчет времени выполнения\n",
    "    run = True         # Блокировка выполнения\n",
    ")"
   ]
  }
 ],
 "metadata": {
  "kernelspec": {
   "display_name": "Python 3 (ipykernel)",
   "language": "python",
   "name": "python3"
  },
  "language_info": {
   "codemirror_mode": {
    "name": "ipython",
    "version": 3
   },
   "file_extension": ".py",
   "mimetype": "text/x-python",
   "name": "python",
   "nbconvert_exporter": "python",
   "pygments_lexer": "ipython3",
   "version": "3.9.13"
  }
 },
 "nbformat": 4,
 "nbformat_minor": 4
}
