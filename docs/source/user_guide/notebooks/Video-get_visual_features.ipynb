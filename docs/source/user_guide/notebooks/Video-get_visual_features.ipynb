{
 "cells": [
  {
   "cell_type": "markdown",
   "metadata": {
    "tags": []
   },
   "source": [
    "## Извлечение признаков из визуального сигнала\n",
    "\n",
    "<hr>"
   ]
  },
  {
   "cell_type": "code",
   "execution_count": 1,
   "metadata": {
    "nbsphinx": "hidden",
    "tags": []
   },
   "outputs": [],
   "source": [
    "import os  # Взаимодействие с файловой системой\n",
    "import sys # Доступ к некоторым переменным и функциям Python\n",
    "\n",
    "PATH_TO_SOURCE = os.path.abspath(os.path.dirname(globals()['_dh'][0]))\n",
    "PATH_TO_ROOT = os.path.join(PATH_TO_SOURCE, '..', '..', '..')\n",
    "\n",
    "sys.path.insert(0, os.path.abspath(PATH_TO_ROOT))"
   ]
  },
  {
   "cell_type": "markdown",
   "metadata": {},
   "source": [
    "### Импорт необходимых инструментов"
   ]
  },
  {
   "cell_type": "code",
   "execution_count": 2,
   "metadata": {},
   "outputs": [
    {
     "name": "stderr",
     "output_type": "stream",
     "text": [
      "INFO: Created TensorFlow Lite XNNPACK delegate for CPU.\n"
     ]
    }
   ],
   "source": [
    "from oceanai.modules.lab.build import Run"
   ]
  },
  {
   "cell_type": "markdown",
   "metadata": {},
   "source": [
    "### Сборка"
   ]
  },
  {
   "cell_type": "code",
   "execution_count": 3,
   "metadata": {},
   "outputs": [
    {
     "data": {
      "text/markdown": [
       "<span style=\"color:#FFF\">**[</span><span style=\"color:#1776D2\">2022-12-11 15:02:02</span><span style=\"color:#FFF\">]</span> <span style=\"color:#FFF\">OCEANAI - персональные качества личности человека:</span>**<br /><span style=\"color:#FFF\">&nbsp;&nbsp;&nbsp;&nbsp;Авторы:</span><br /><span style=\"color:#FFF\">&nbsp;&nbsp;&nbsp;&nbsp;&nbsp;&nbsp;&nbsp;&nbsp;Рюмина Елена [<u>ryumina_ev@mail.ru</u>]</span><br /><span style=\"color:#FFF\">&nbsp;&nbsp;&nbsp;&nbsp;&nbsp;&nbsp;&nbsp;&nbsp;Рюмин Дмитрий [<u>dl_03.03.1991@mail.ru</u>]</span><br /><span style=\"color:#FFF\">&nbsp;&nbsp;&nbsp;&nbsp;&nbsp;&nbsp;&nbsp;&nbsp;Карпов Алексей [<u>karpov@iias.spb.su</u>]</span><br /><span style=\"color:#FFF\">&nbsp;&nbsp;&nbsp;&nbsp;Сопровождающие:</span><br /><span style=\"color:#FFF\">&nbsp;&nbsp;&nbsp;&nbsp;&nbsp;&nbsp;&nbsp;&nbsp;Рюмина Елена [<u>ryumina_ev@mail.ru</u>]</span><br /><span style=\"color:#FFF\">&nbsp;&nbsp;&nbsp;&nbsp;&nbsp;&nbsp;&nbsp;&nbsp;Рюмин Дмитрий [<u>dl_03.03.1991@mail.ru</u>]</span><br /><span style=\"color:#FFF\">&nbsp;&nbsp;&nbsp;&nbsp;Версия: <u>1.0.0a2</u></span><br /><span style=\"color:#FFF\">&nbsp;&nbsp;&nbsp;&nbsp;Лицензия: <u>BSD License</u></span></p>"
      ],
      "text/plain": [
       "<IPython.core.display.Markdown object>"
      ]
     },
     "metadata": {},
     "output_type": "display_data"
    }
   ],
   "source": [
    "_b5 = Run(\n",
    "    lang = 'ru', # Язык\n",
    "    color_simple = '#FFF', # Цвет обычного текста (шестнадцатеричный код)\n",
    "    color_info = '#1776D2', # Цвет текста содержащего информацию (шестнадцатеричный код)\n",
    "    color_err = '#FF0000', # Цвет текста содержащего ошибку (шестнадцатеричный код)\n",
    "    color_true = '#008001', # Цвет текста содержащего положительную информацию (шестнадцатеричный код)\n",
    "    bold_text = True, # Жирное начертание текста\n",
    "    num_to_df_display = 30, # Количество строк для отображения в таблицах\n",
    "    text_runtime = 'Время выполнения', # Текст времени выполнения\n",
    "    metadata = True # Отображение информации о библиотеке\n",
    ")"
   ]
  },
  {
   "cell_type": "markdown",
   "metadata": {},
   "source": [
    "### Формирование нейросетевой архитектуры модели"
   ]
  },
  {
   "cell_type": "code",
   "execution_count": 4,
   "metadata": {},
   "outputs": [
    {
     "data": {
      "text/markdown": [
       "<span style=\"color:#FFF\">**[</span><span style=\"color:#1776D2\">2022-12-11 15:02:13</span><span style=\"color:#FFF\">]</span> <span style=\"color:#FFF\">Формирование нейросетевой архитектуры для получения нейросетевых признаков (видео модальность) ...</span>** "
      ],
      "text/plain": [
       "<IPython.core.display.Markdown object>"
      ]
     },
     "metadata": {},
     "output_type": "display_data"
    },
    {
     "data": {
      "text/markdown": [
       "<span style=\"color:#FFF\">**--- Время выполнения: 1.652 сек. ---**</span>"
      ],
      "text/plain": [
       "<IPython.core.display.Markdown object>"
      ]
     },
     "metadata": {},
     "output_type": "display_data"
    }
   ],
   "source": [
    "res_load_video_model_deep_fe = _b5.load_video_model_deep_fe(\n",
    "    show_summary = False, # Отображение сформированной нейросетевой архитектуры модели\n",
    "    out = True, # Отображение\n",
    "    runtime = True, # Подсчет времени выполнения\n",
    "    run = True # Блокировка выполнения\n",
    ")"
   ]
  },
  {
   "cell_type": "markdown",
   "metadata": {},
   "source": [
    "#### Загрузка весов нейросетевой модели"
   ]
  },
  {
   "cell_type": "code",
   "execution_count": 5,
   "metadata": {},
   "outputs": [
    {
     "data": {
      "text/markdown": [
       "<span style=\"color:#FFF\">**[</span><span style=\"color:#1776D2\">2022-12-11 15:02:35</span><span style=\"color:#FFF\">]</span> <span style=\"color:#FFF\">Загрузка весов нейросетевой модели для получения нейросетевых признаков (видео модальность) ...</span>** "
      ],
      "text/plain": [
       "<IPython.core.display.Markdown object>"
      ]
     },
     "metadata": {},
     "output_type": "display_data"
    },
    {
     "data": {
      "text/markdown": [
       "<span style=\"color:#FFF\">**[</span><span style=\"color:#1776D2\">2022-12-11 15:02:41</span><span style=\"color:#FFF\">]</span> <span style=\"color:#FFF\">Загрузка файла \"<span style=\"color:#1776D2\">weights_2022-11-01_12-27-07.h5</span>\" (100.0%) ...</span>** "
      ],
      "text/plain": [
       "<IPython.core.display.Markdown object>"
      ]
     },
     "metadata": {},
     "output_type": "display_data"
    },
    {
     "data": {
      "text/markdown": [
       "<span style=\"color:#FFF\">**--- Время выполнения: 6.227 сек. ---**</span>"
      ],
      "text/plain": [
       "<IPython.core.display.Markdown object>"
      ]
     },
     "metadata": {},
     "output_type": "display_data"
    }
   ],
   "source": [
    "# Настройки ядра\n",
    "_b5.path_to_save_ = './models' # Директория для сохранения файла\n",
    "_b5.chunk_size_ = 2000000 # Размер загрузки файла из сети за 1 шаг\n",
    "\n",
    "url = _b5.weights_for_big5_['video']['fe']['sberdisk']\n",
    "\n",
    "res_load_video_model_weights_deep_fe = _b5.load_video_model_weights_deep_fe(\n",
    "    url = url, # Полный путь к файлу с весами нейросетевой модели\n",
    "    force_reload = True, # Принудительная загрузка файла с весами нейросетевой модели из сети\n",
    "    out = True, # Отображение\n",
    "    runtime = True, # Подсчет времени выполнения\n",
    "    run = True # Блокировка выполнения\n",
    ")"
   ]
  },
  {
   "cell_type": "markdown",
   "metadata": {},
   "source": [
    "### Процесс извлечения визуальных признаков"
   ]
  },
  {
   "cell_type": "code",
   "execution_count": 6,
   "metadata": {},
   "outputs": [
    {
     "data": {
      "text/markdown": [
       "<span style=\"color:#FFF\">**[</span><span style=\"color:#1776D2\">2022-12-11 15:02:57</span><span style=\"color:#FFF\">]</span> <span style=\"color:#FFF\">Извлечение признаков (экспертных и нейросетевых) из визуального сигнала ...</span>** "
      ],
      "text/plain": [
       "<IPython.core.display.Markdown object>"
      ]
     },
     "metadata": {},
     "output_type": "display_data"
    },
    {
     "data": {
      "text/markdown": [
       "<span style=\"color:#FFF\">**[</span><span style=\"color:#1776D2\">2022-12-11 15:03:03</span><span style=\"color:#FFF\">]</span> <span style=\"color:#FFF\">Статистика извлеченных признаков из визуального сигнала:</span>**<br /><span style=\"color:#FFF\">&nbsp;&nbsp;&nbsp;&nbsp;Общее количество сегментов с:</span><br /><span style=\"color:#FFF\">&nbsp;&nbsp;&nbsp;&nbsp;&nbsp;&nbsp;&nbsp;&nbsp;1. экспертными признаками: <u>12</u></span><br /><span style=\"color:#FFF\">&nbsp;&nbsp;&nbsp;&nbsp;&nbsp;&nbsp;&nbsp;&nbsp;2. нейросетевыми признаками: <u>12</u></span><br /><span style=\"color:#FFF\">&nbsp;&nbsp;&nbsp;&nbsp;Размерность матрицы экспертных признаков одного сегмента: <u>10</u> &#10005; <u>115</u></span><br /><span style=\"color:#FFF\">&nbsp;&nbsp;&nbsp;&nbsp;Размерность тензора с нейросетевыми признаками одного сегмента: <u>10</u> &#10005; <u>512</u></span> <br /><span style=\"color:#FFF\">&nbsp;&nbsp;&nbsp;&nbsp;Понижение кадровой частоты: с <u>30</u> до <u>5</u></span> "
      ],
      "text/plain": [
       "<IPython.core.display.Markdown object>"
      ]
     },
     "metadata": {},
     "output_type": "display_data"
    },
    {
     "data": {
      "text/markdown": [
       "<span style=\"color:#FFF\">**--- Время выполнения: 6.222 сек. ---**</span>"
      ],
      "text/plain": [
       "<IPython.core.display.Markdown object>"
      ]
     },
     "metadata": {},
     "output_type": "display_data"
    }
   ],
   "source": [
    "# Настройки ядра\n",
    "# Путь к видеофайлу\n",
    "path = '/Users/dl/GitHub/OCEANAI.private/oceanai/dataset/test80_01/glgfB3vFewc.004.mp4'\n",
    "\n",
    "hc_features, nn_features = _b5.get_visual_features(\n",
    "    path = path, # Путь к видеофайлу\n",
    "    reduction_fps = 5, # Понижение кадровой частоты\n",
    "    window = 10, # Размер окна сегмента сигнала (в кадрах)\n",
    "    step = 5, # Шаг сдвига окна сегмента сигнала (в кадрах)\n",
    "    out = True, # Отображение\n",
    "    runtime = True, # Подсчет времени выполнения\n",
    "    run = True # Блокировка выполнения\n",
    ")"
   ]
  }
 ],
 "metadata": {
  "kernelspec": {
   "display_name": "Python 3 (ipykernel)",
   "language": "python",
   "name": "python3"
  },
  "language_info": {
   "codemirror_mode": {
    "name": "ipython",
    "version": 3
   },
   "file_extension": ".py",
   "mimetype": "text/x-python",
   "name": "python",
   "nbconvert_exporter": "python",
   "pygments_lexer": "ipython3",
   "version": "3.9.13"
  }
 },
 "nbformat": 4,
 "nbformat_minor": 4
}
