{
 "cells": [
  {
   "cell_type": "markdown",
   "metadata": {
    "tags": []
   },
   "source": [
    "## Получение прогнозов по тексту\n",
    "\n",
    "<img src=\"https://raw.githubusercontent.com/aimclub/OCEANAI/main/docs/source/user_guide/notebooks/images/Pipeline_TIA_en.svg\" width=\"100%\" />\n",
    "\n",
    "<hr>"
   ]
  },
  {
   "cell_type": "code",
   "execution_count": 1,
   "metadata": {
    "nbsphinx": "hidden",
    "tags": []
   },
   "outputs": [],
   "source": [
    "import os  # Взаимодействие с файловой системой\n",
    "import sys # Доступ к некоторым переменным и функциям Python\n",
    "\n",
    "PATH_TO_SOURCE = os.path.abspath(os.path.dirname(globals()['_dh'][0]))\n",
    "PATH_TO_ROOT = os.path.join(PATH_TO_SOURCE, '..', '..', '..')\n",
    "\n",
    "sys.path.insert(0, os.path.abspath(PATH_TO_ROOT))"
   ]
  },
  {
   "cell_type": "markdown",
   "metadata": {},
   "source": [
    "### Импорт необходимых инструментов"
   ]
  },
  {
   "cell_type": "code",
   "execution_count": 2,
   "metadata": {},
   "outputs": [],
   "source": [
    "from oceanai.modules.lab.build import Run"
   ]
  },
  {
   "cell_type": "markdown",
   "metadata": {},
   "source": [
    "### Сборка"
   ]
  },
  {
   "cell_type": "code",
   "execution_count": 3,
   "metadata": {},
   "outputs": [
    {
     "data": {
      "text/markdown": [
       "<span style=\"color:#333\">**[</span><span style=\"color:#1776D2\">2024-10-08 19:27:28</span><span style=\"color:#333\">]</span> <span style=\"color:#333\">OCEANAI - персональные качества личности человека:</span>**<br /><span style=\"color:#333\">&nbsp;&nbsp;&nbsp;&nbsp;Авторы:</span><br /><span style=\"color:#333\">&nbsp;&nbsp;&nbsp;&nbsp;&nbsp;&nbsp;&nbsp;&nbsp;Рюмина Елена [<u>ryumina_ev@mail.ru</u>]</span><br /><span style=\"color:#333\">&nbsp;&nbsp;&nbsp;&nbsp;&nbsp;&nbsp;&nbsp;&nbsp;Рюмин Дмитрий [<u>dl_03.03.1991@mail.ru</u>]</span><br /><span style=\"color:#333\">&nbsp;&nbsp;&nbsp;&nbsp;&nbsp;&nbsp;&nbsp;&nbsp;Карпов Алексей [<u>karpov@iias.spb.su</u>]</span><br /><span style=\"color:#333\">&nbsp;&nbsp;&nbsp;&nbsp;Сопровождающие:</span><br /><span style=\"color:#333\">&nbsp;&nbsp;&nbsp;&nbsp;&nbsp;&nbsp;&nbsp;&nbsp;Рюмина Елена [<u>ryumina_ev@mail.ru</u>]</span><br /><span style=\"color:#333\">&nbsp;&nbsp;&nbsp;&nbsp;&nbsp;&nbsp;&nbsp;&nbsp;Рюмин Дмитрий [<u>dl_03.03.1991@mail.ru</u>]</span><br /><span style=\"color:#333\">&nbsp;&nbsp;&nbsp;&nbsp;Версия: <u>1.0.0a40</u></span><br /><span style=\"color:#333\">&nbsp;&nbsp;&nbsp;&nbsp;Лицензия: <u>BSD License</u></span></p>"
      ],
      "text/plain": [
       "<IPython.core.display.Markdown object>"
      ]
     },
     "metadata": {},
     "output_type": "display_data"
    }
   ],
   "source": [
    "_b5 = Run(\n",
    "    lang = 'ru', # Язык\n",
    "    color_simple = '#333', # Цвет обычного текста (шестнадцатеричный код)\n",
    "    color_info = '#1776D2', # Цвет текста содержащего информацию (шестнадцатеричный код)\n",
    "    color_err = '#FF0000', # Цвет текста содержащего ошибку (шестнадцатеричный код)\n",
    "    color_true = '#008001', # Цвет текста содержащего положительную информацию (шестнадцатеричный код)\n",
    "    bold_text = True, # Жирное начертание текста\n",
    "    num_to_df_display = 30, # Количество строк для отображения в таблицах\n",
    "    text_runtime = 'Время выполнения', # Текст времени выполнения\n",
    "    metadata = True # Отображение информации о библиотеке\n",
    ")"
   ]
  },
  {
   "cell_type": "markdown",
   "metadata": {},
   "source": [
    "### Получение и отображение версий установленных библиотек\n",
    "\n",
    "> - `_b5.df_pkgs_` - DataFrame c версиями установленных библиотек"
   ]
  },
  {
   "cell_type": "code",
   "execution_count": 4,
   "metadata": {},
   "outputs": [
    {
     "data": {
      "text/html": [
       "<div>\n",
       "<style scoped>\n",
       "    .dataframe tbody tr th:only-of-type {\n",
       "        vertical-align: middle;\n",
       "    }\n",
       "\n",
       "    .dataframe tbody tr th {\n",
       "        vertical-align: top;\n",
       "    }\n",
       "\n",
       "    .dataframe thead th {\n",
       "        text-align: right;\n",
       "    }\n",
       "</style>\n",
       "<table border=\"1\" class=\"dataframe\">\n",
       "  <thead>\n",
       "    <tr style=\"text-align: right;\">\n",
       "      <th></th>\n",
       "      <th>Package</th>\n",
       "      <th>Version</th>\n",
       "    </tr>\n",
       "  </thead>\n",
       "  <tbody>\n",
       "    <tr>\n",
       "      <th>1</th>\n",
       "      <td>OpenCV</td>\n",
       "      <td>4.10.0</td>\n",
       "    </tr>\n",
       "    <tr>\n",
       "      <th>2</th>\n",
       "      <td>MediaPipe</td>\n",
       "      <td>0.10.14</td>\n",
       "    </tr>\n",
       "    <tr>\n",
       "      <th>3</th>\n",
       "      <td>NumPy</td>\n",
       "      <td>1.26.4</td>\n",
       "    </tr>\n",
       "    <tr>\n",
       "      <th>4</th>\n",
       "      <td>SciPy</td>\n",
       "      <td>1.14.1</td>\n",
       "    </tr>\n",
       "    <tr>\n",
       "      <th>5</th>\n",
       "      <td>Pandas</td>\n",
       "      <td>2.2.3</td>\n",
       "    </tr>\n",
       "    <tr>\n",
       "      <th>6</th>\n",
       "      <td>Scikit-learn</td>\n",
       "      <td>1.5.2</td>\n",
       "    </tr>\n",
       "    <tr>\n",
       "      <th>7</th>\n",
       "      <td>OpenSmile</td>\n",
       "      <td>2.5.0</td>\n",
       "    </tr>\n",
       "    <tr>\n",
       "      <th>8</th>\n",
       "      <td>Librosa</td>\n",
       "      <td>0.10.2.post1</td>\n",
       "    </tr>\n",
       "    <tr>\n",
       "      <th>9</th>\n",
       "      <td>AudioRead</td>\n",
       "      <td>3.0.1</td>\n",
       "    </tr>\n",
       "    <tr>\n",
       "      <th>10</th>\n",
       "      <td>IPython</td>\n",
       "      <td>8.28.0</td>\n",
       "    </tr>\n",
       "    <tr>\n",
       "      <th>11</th>\n",
       "      <td>Requests</td>\n",
       "      <td>2.32.3</td>\n",
       "    </tr>\n",
       "    <tr>\n",
       "      <th>12</th>\n",
       "      <td>JupyterLab</td>\n",
       "      <td>4.2.5</td>\n",
       "    </tr>\n",
       "    <tr>\n",
       "      <th>13</th>\n",
       "      <td>LIWC</td>\n",
       "      <td>0.5.0</td>\n",
       "    </tr>\n",
       "    <tr>\n",
       "      <th>14</th>\n",
       "      <td>Transformers</td>\n",
       "      <td>4.45.1</td>\n",
       "    </tr>\n",
       "    <tr>\n",
       "      <th>15</th>\n",
       "      <td>Sentencepiece</td>\n",
       "      <td>0.2.0</td>\n",
       "    </tr>\n",
       "    <tr>\n",
       "      <th>16</th>\n",
       "      <td>Torch</td>\n",
       "      <td>2.4.1+cu118</td>\n",
       "    </tr>\n",
       "    <tr>\n",
       "      <th>17</th>\n",
       "      <td>Torchaudio</td>\n",
       "      <td>2.4.1+cu118</td>\n",
       "    </tr>\n",
       "    <tr>\n",
       "      <th>18</th>\n",
       "      <td>Torchvision</td>\n",
       "      <td>0.19.1+cu118</td>\n",
       "    </tr>\n",
       "  </tbody>\n",
       "</table>\n",
       "</div>"
      ],
      "text/plain": [
       "          Package       Version\n",
       "1          OpenCV        4.10.0\n",
       "2       MediaPipe       0.10.14\n",
       "3           NumPy        1.26.4\n",
       "4           SciPy        1.14.1\n",
       "5          Pandas         2.2.3\n",
       "6    Scikit-learn         1.5.2\n",
       "7       OpenSmile         2.5.0\n",
       "8         Librosa  0.10.2.post1\n",
       "9       AudioRead         3.0.1\n",
       "10        IPython        8.28.0\n",
       "11       Requests        2.32.3\n",
       "12     JupyterLab         4.2.5\n",
       "13           LIWC         0.5.0\n",
       "14   Transformers        4.45.1\n",
       "15  Sentencepiece         0.2.0\n",
       "16          Torch   2.4.1+cu118\n",
       "17     Torchaudio   2.4.1+cu118\n",
       "18    Torchvision  0.19.1+cu118"
      ]
     },
     "metadata": {},
     "output_type": "display_data"
    },
    {
     "data": {
      "text/markdown": [
       "<span style=\"color:#333\">**--- Время выполнения: 0.004 сек. ---**</span>"
      ],
      "text/plain": [
       "<IPython.core.display.Markdown object>"
      ]
     },
     "metadata": {},
     "output_type": "display_data"
    }
   ],
   "source": [
    "_b5.libs_vers(runtime = True, run = True)"
   ]
  },
  {
   "cell_type": "markdown",
   "metadata": {},
   "source": [
    "### Загрузка словаря с экспертными признаками"
   ]
  },
  {
   "cell_type": "code",
   "execution_count": 5,
   "metadata": {},
   "outputs": [
    {
     "data": {
      "text/markdown": [
       "<span style=\"color:#333\">**[</span><span style=\"color:#1776D2\">2024-10-08 19:27:28</span><span style=\"color:#333\">]</span> <span style=\"color:#333\">Загрузка словаря с экспертными признаками ...</span>** "
      ],
      "text/plain": [
       "<IPython.core.display.Markdown object>"
      ]
     },
     "metadata": {},
     "output_type": "display_data"
    },
    {
     "data": {
      "text/markdown": [
       "<span style=\"color:#333\">**[</span><span style=\"color:#1776D2\">2024-10-08 19:27:28</span><span style=\"color:#333\">]</span> <span style=\"color:#333\">Загрузка файла \"<span style=\"color:#1776D2\">LIWC2007.txt</span>\" 100.0% ...</span>** "
      ],
      "text/plain": [
       "<IPython.core.display.Markdown object>"
      ]
     },
     "metadata": {},
     "output_type": "display_data"
    },
    {
     "data": {
      "text/markdown": [
       "<span style=\"color:#333\">**--- Время выполнения: 0.207 сек. ---**</span>"
      ],
      "text/plain": [
       "<IPython.core.display.Markdown object>"
      ]
     },
     "metadata": {},
     "output_type": "display_data"
    }
   ],
   "source": [
    "# Настройки ядра\n",
    "_b5.path_to_save_ = './models' # Директория для сохранения файла\n",
    "_b5.chunk_size_ = 2000000 # Размер загрузки файла из сети за 1 шаг\n",
    "\n",
    "res_load_text_features = _b5.load_text_features(\n",
    "    force_reload = True, # Принудительная загрузка файла\n",
    "    out = True, # Отображение\n",
    "    runtime = True, # Подсчет времени выполнения\n",
    "    run = True # Блокировка выполнения\n",
    ")"
   ]
  },
  {
   "cell_type": "markdown",
   "metadata": {},
   "source": [
    "### Формирование токенизатора и нейросетевой модели машинного перевода (`RU -> EN`)"
   ]
  },
  {
   "cell_type": "code",
   "execution_count": 6,
   "metadata": {},
   "outputs": [
    {
     "data": {
      "text/markdown": [
       "<span style=\"color:#333\">**[</span><span style=\"color:#1776D2\">2024-10-08 19:27:28</span><span style=\"color:#333\">]</span> <span style=\"color:#333\">Формирование токенизатора и нейросетевой модели машинного перевода ...</span>** "
      ],
      "text/plain": [
       "<IPython.core.display.Markdown object>"
      ]
     },
     "metadata": {},
     "output_type": "display_data"
    },
    {
     "data": {
      "text/markdown": [
       "<span style=\"color:#333\">**--- Время выполнения: 2.458 сек. ---**</span>"
      ],
      "text/plain": [
       "<IPython.core.display.Markdown object>"
      ]
     },
     "metadata": {},
     "output_type": "display_data"
    }
   ],
   "source": [
    "res_setup_translation_model = _b5.setup_translation_model(\n",
    "    out = True, # Отображение\n",
    "    runtime = True, # Подсчет времени выполнения\n",
    "    run = True # Блокировка выполнения\n",
    ")"
   ]
  },
  {
   "cell_type": "markdown",
   "metadata": {},
   "source": [
    "### Формирование токенизатора и нейросетевой модели BERT (`для кодирования слов`)"
   ]
  },
  {
   "cell_type": "code",
   "execution_count": 7,
   "metadata": {},
   "outputs": [
    {
     "data": {
      "text/markdown": [
       "<span style=\"color:#333\">**[</span><span style=\"color:#1776D2\">2024-10-08 19:27:30</span><span style=\"color:#333\">]</span> <span style=\"color:#333\">Формирование токенизатора и нейросетевой модели BERT ...</span>** "
      ],
      "text/plain": [
       "<IPython.core.display.Markdown object>"
      ]
     },
     "metadata": {},
     "output_type": "display_data"
    },
    {
     "data": {
      "text/markdown": [
       "<span style=\"color:#333\">**[</span><span style=\"color:#1776D2\">2024-10-08 19:27:30</span><span style=\"color:#333\">]</span> <span style=\"color:#333\">Загрузка файла \"<span style=\"color:#1776D2\">bert-base-multilingual-cased.zip</span>\"</span>** "
      ],
      "text/plain": [
       "<IPython.core.display.Markdown object>"
      ]
     },
     "metadata": {},
     "output_type": "display_data"
    },
    {
     "data": {
      "text/markdown": [
       "<span style=\"color:#333\">**[</span><span style=\"color:#1776D2\">2024-10-08 19:27:30</span><span style=\"color:#333\">]</span> <span style=\"color:#333\">Формирование токенизатора и нейросетевой модели BERT ...</span>** "
      ],
      "text/plain": [
       "<IPython.core.display.Markdown object>"
      ]
     },
     "metadata": {},
     "output_type": "display_data"
    },
    {
     "data": {
      "text/markdown": [
       "<span style=\"color:#333\">**[</span><span style=\"color:#1776D2\">2024-10-08 19:27:30</span><span style=\"color:#333\">]</span> <span style=\"color:#333\">Загрузка файла \"<span style=\"color:#1776D2\">bert-base-multilingual-cased.zip</span>\"</span>** "
      ],
      "text/plain": [
       "<IPython.core.display.Markdown object>"
      ]
     },
     "metadata": {},
     "output_type": "display_data"
    },
    {
     "data": {
      "text/markdown": [
       "<span style=\"color:#333\">**[</span><span style=\"color:#1776D2\">2024-10-08 19:27:31</span><span style=\"color:#333\">]</span> <span style=\"color:#333\">Разархивирование архива \"<span style=\"color:#1776D2\">bert-base-multilingual-cased.zip</span>\" ...</span>** "
      ],
      "text/plain": [
       "<IPython.core.display.Markdown object>"
      ]
     },
     "metadata": {},
     "output_type": "display_data"
    },
    {
     "data": {
      "text/markdown": [
       "<span style=\"color:#333\">**--- Время выполнения: 0.938 сек. ---**</span>"
      ],
      "text/plain": [
       "<IPython.core.display.Markdown object>"
      ]
     },
     "metadata": {},
     "output_type": "display_data"
    }
   ],
   "source": [
    "# Настройки ядра\n",
    "_b5.path_to_save_ = './models' # Директория для сохранения файла\n",
    "_b5.chunk_size_ = 2000000 # Размер загрузки файла из сети за 1 шаг\n",
    "\n",
    "res_setup_translation_model = _b5.setup_bert_encoder(\n",
    "    force_reload = False, # Принудительная загрузка файла\n",
    "    out = True, # Отображение\n",
    "    runtime = True, # Подсчет времени выполнения\n",
    "    run = True # Блокировка выполнения\n",
    ")"
   ]
  },
  {
   "cell_type": "markdown",
   "metadata": {},
   "source": [
    "### `FI V2`\n",
    "\n",
    "#### Формирование нейросетевой архитектуры модели для получения оценок по экспертным признакам\n",
    "\n",
    "> - `_b5.text_model_hc_` - Нейросетевая модель **nn.Module** для получения оценок по экспертным признакам"
   ]
  },
  {
   "cell_type": "code",
   "execution_count": 8,
   "metadata": {},
   "outputs": [
    {
     "data": {
      "text/markdown": [
       "<span style=\"color:#333\">**[</span><span style=\"color:#1776D2\">2024-10-08 19:27:31</span><span style=\"color:#333\">]</span> <span style=\"color:#333\">Формирование нейросетевой архитектуры модели для получения оценок по экспертным признакам (текстовая модальность) ...</span>** "
      ],
      "text/plain": [
       "<IPython.core.display.Markdown object>"
      ]
     },
     "metadata": {},
     "output_type": "display_data"
    },
    {
     "data": {
      "text/markdown": [
       "<span style=\"color:#333\">**--- Время выполнения: 0.002 сек. ---**</span>"
      ],
      "text/plain": [
       "<IPython.core.display.Markdown object>"
      ]
     },
     "metadata": {},
     "output_type": "display_data"
    }
   ],
   "source": [
    "res_load_text_model_hc_fi = _b5.load_text_model_hc(\n",
    "    corpus = \"fi\", # Корпус для тестирования нейросетевой модели\n",
    "    show_summary = False, # Отображение сформированной нейросетевой архитектуры модели\n",
    "    out = True, # Отображение\n",
    "    runtime = True, # Подсчет времени выполнения\n",
    "    run = True # Блокировка выполнения\n",
    ")"
   ]
  },
  {
   "cell_type": "markdown",
   "metadata": {},
   "source": [
    "#### Загрузка весов нейросетевой модели для получения оценок по экспертным признакам\n",
    "\n",
    "> - `_b5.text_model_hc_` - Нейросетевая модель **nn.Module** для получения оценок по экспертным признакам"
   ]
  },
  {
   "cell_type": "code",
   "execution_count": 9,
   "metadata": {},
   "outputs": [
    {
     "data": {
      "text/markdown": [
       "<span style=\"color:#333\">**[</span><span style=\"color:#1776D2\">2024-10-08 19:27:31</span><span style=\"color:#333\">]</span> <span style=\"color:#333\">Загрузка весов нейросетевой модели для получения оценок по экспертным признакам (текстовая модальность) ...</span>** "
      ],
      "text/plain": [
       "<IPython.core.display.Markdown object>"
      ]
     },
     "metadata": {},
     "output_type": "display_data"
    },
    {
     "data": {
      "text/markdown": [
       "<span style=\"color:#333\">**[</span><span style=\"color:#1776D2\">2024-10-08 19:27:34</span><span style=\"color:#333\">]</span> <span style=\"color:#333\">Загрузка файла \"<span style=\"color:#1776D2\">weights_2023-07-15_10-52-15.pth</span>\" 100.0% ...</span>** "
      ],
      "text/plain": [
       "<IPython.core.display.Markdown object>"
      ]
     },
     "metadata": {},
     "output_type": "display_data"
    },
    {
     "data": {
      "text/markdown": [
       "<span style=\"color:#333\">**--- Время выполнения: 2.426 сек. ---**</span>"
      ],
      "text/plain": [
       "<IPython.core.display.Markdown object>"
      ]
     },
     "metadata": {},
     "output_type": "display_data"
    }
   ],
   "source": [
    "# Настройки ядра\n",
    "_b5.path_to_save_ = './models' # Директория для сохранения файла\n",
    "_b5.chunk_size_ = 2000000 # Размер загрузки файла из сети за 1 шаг\n",
    "\n",
    "url = _b5.weights_for_big5_['text']['fi']['hc']['googledisk']\n",
    "\n",
    "res_load_text_model_weights_hc_fi = _b5.load_text_model_weights_hc(\n",
    "    url = url, # Полный путь к файлу с весами нейросетевой модели\n",
    "    force_reload = True, # Принудительная загрузка файла с весами нейросетевой модели из сети\n",
    "    out = True, # Отображение\n",
    "    runtime = True, # Подсчет времени выполнения\n",
    "    run = True # Блокировка выполнения\n",
    ")"
   ]
  },
  {
   "cell_type": "markdown",
   "metadata": {},
   "source": [
    "#### Формирование нейросетевой архитектуры модели для получения оценок по нейросетевым признакам\n",
    "\n",
    "> - `_b5.text_model_nn_` - Нейросетевая модель **nn.Module** для получения оценок по нейросетевым признакам"
   ]
  },
  {
   "cell_type": "code",
   "execution_count": 10,
   "metadata": {},
   "outputs": [
    {
     "data": {
      "text/markdown": [
       "<span style=\"color:#333\">**[</span><span style=\"color:#1776D2\">2024-10-08 19:27:34</span><span style=\"color:#333\">]</span> <span style=\"color:#333\">Формирование нейросетевой архитектуры для получения оценок по нейросетевым признакам (текстовая модальность) ...</span>** "
      ],
      "text/plain": [
       "<IPython.core.display.Markdown object>"
      ]
     },
     "metadata": {},
     "output_type": "display_data"
    },
    {
     "data": {
      "text/markdown": [
       "<span style=\"color:#333\">**--- Время выполнения: 0.002 сек. ---**</span>"
      ],
      "text/plain": [
       "<IPython.core.display.Markdown object>"
      ]
     },
     "metadata": {},
     "output_type": "display_data"
    }
   ],
   "source": [
    "res_load_text_model_nn_fi = _b5.load_text_model_nn(\n",
    "    corpus = \"fi\", # Корпус для тестирования нейросетевой модели\n",
    "    show_summary = False, # Отображение сформированной нейросетевой архитектуры модели\n",
    "    out = True, # Отображение\n",
    "    runtime = True, # Подсчет времени выполнения\n",
    "    run = True # Блокировка выполнения\n",
    ")"
   ]
  },
  {
   "cell_type": "markdown",
   "metadata": {},
   "source": [
    "#### Загрузка весов нейросетевой модели для получения оценок по нейросетевым признакам\n",
    "\n",
    "> - `_b5.text_model_nn_` - Нейросетевая модель **nn.Module** для получения оценок по нейросетевым признакам"
   ]
  },
  {
   "cell_type": "code",
   "execution_count": 11,
   "metadata": {},
   "outputs": [
    {
     "data": {
      "text/markdown": [
       "<span style=\"color:#333\">**[</span><span style=\"color:#1776D2\">2024-10-08 19:27:34</span><span style=\"color:#333\">]</span> <span style=\"color:#333\">Загрузка весов нейросетевой модели для получения оценок по нейросетевым признакам (текстовая модальность) ...</span>** "
      ],
      "text/plain": [
       "<IPython.core.display.Markdown object>"
      ]
     },
     "metadata": {},
     "output_type": "display_data"
    },
    {
     "data": {
      "text/markdown": [
       "<span style=\"color:#333\">**[</span><span style=\"color:#1776D2\">2024-10-08 19:27:37</span><span style=\"color:#333\">]</span> <span style=\"color:#333\">Загрузка файла \"<span style=\"color:#1776D2\">weights_2023-07-03_15-01-08.pth</span>\" 100.0% ...</span>** "
      ],
      "text/plain": [
       "<IPython.core.display.Markdown object>"
      ]
     },
     "metadata": {},
     "output_type": "display_data"
    },
    {
     "data": {
      "text/markdown": [
       "<span style=\"color:#333\">**--- Время выполнения: 2.99 сек. ---**</span>"
      ],
      "text/plain": [
       "<IPython.core.display.Markdown object>"
      ]
     },
     "metadata": {},
     "output_type": "display_data"
    }
   ],
   "source": [
    "# Настройки ядра\n",
    "_b5.path_to_save_ = './models' # Директория для сохранения файла\n",
    "_b5.chunk_size_ = 2000000 # Размер загрузки файла из сети за 1 шаг\n",
    "\n",
    "url = _b5.weights_for_big5_['text']['fi']['nn']['googledisk']\n",
    "\n",
    "res_load_text_model_weights_nn_fi = _b5.load_text_model_weights_nn(\n",
    "    url = url, # Полный путь к файлу с весами нейросетевой модели\n",
    "    force_reload = True, # Принудительная загрузка файла с весами нейросетевой модели из сети\n",
    "    out = True, # Отображение\n",
    "    runtime = True, # Подсчет времени выполнения\n",
    "    run = True # Блокировка выполнения\n",
    ")"
   ]
  },
  {
   "cell_type": "markdown",
   "metadata": {},
   "source": [
    "#### Формирование нейросетевой архитектуры модели для получения оценок персональных качеств\n",
    "\n",
    "> - `_b5.text_model_b5_` - Нейросетевая модель **nn.Module** для получения оценок персональных качеств"
   ]
  },
  {
   "cell_type": "code",
   "execution_count": 12,
   "metadata": {},
   "outputs": [
    {
     "data": {
      "text/markdown": [
       "<span style=\"color:#333\">**[</span><span style=\"color:#1776D2\">2024-10-08 19:27:37</span><span style=\"color:#333\">]</span> <span style=\"color:#333\">Формирование нейросетевой архитектуры модели для получения  оценок персональных качеств (текстовая модальность) ...</span>** "
      ],
      "text/plain": [
       "<IPython.core.display.Markdown object>"
      ]
     },
     "metadata": {},
     "output_type": "display_data"
    },
    {
     "data": {
      "text/markdown": [
       "<span style=\"color:#333\">**--- Время выполнения: 0.001 сек. ---**</span>"
      ],
      "text/plain": [
       "<IPython.core.display.Markdown object>"
      ]
     },
     "metadata": {},
     "output_type": "display_data"
    }
   ],
   "source": [
    "res_load_text_model_b5 = _b5.load_text_model_b5(\n",
    "    show_summary = False, # Отображение сформированной нейросетевой архитектуры модели\n",
    "    out = True, # Отображение\n",
    "    runtime = True, # Подсчет времени выполнения\n",
    "    run = True # Блокировка выполнения\n",
    ")"
   ]
  },
  {
   "cell_type": "markdown",
   "metadata": {},
   "source": [
    "#### Загрузка весов нейросетевой модели для получения оценок персональных качеств\n",
    "\n",
    "> - `_b5.text_model_b5_` - Нейросетевая модель **nn.Module** для получения оценок персональных качеств"
   ]
  },
  {
   "cell_type": "code",
   "execution_count": 13,
   "metadata": {},
   "outputs": [
    {
     "data": {
      "text/markdown": [
       "<span style=\"color:#333\">**[</span><span style=\"color:#1776D2\">2024-10-08 19:27:37</span><span style=\"color:#333\">]</span> <span style=\"color:#333\">Загрузка весов нейросетевой модели для получения оценок персональных качеств (текстовая модальность) ...</span>** "
      ],
      "text/plain": [
       "<IPython.core.display.Markdown object>"
      ]
     },
     "metadata": {},
     "output_type": "display_data"
    },
    {
     "data": {
      "text/markdown": [
       "<span style=\"color:#333\">**[</span><span style=\"color:#1776D2\">2024-10-08 19:27:39</span><span style=\"color:#333\">]</span> <span style=\"color:#333\">Загрузка файла \"<span style=\"color:#1776D2\">ft_fi_2023-12-09_14-25-13.pth</span>\" 100.0% ...</span>** "
      ],
      "text/plain": [
       "<IPython.core.display.Markdown object>"
      ]
     },
     "metadata": {},
     "output_type": "display_data"
    },
    {
     "data": {
      "text/markdown": [
       "<span style=\"color:#333\">**--- Время выполнения: 2.512 сек. ---**</span>"
      ],
      "text/plain": [
       "<IPython.core.display.Markdown object>"
      ]
     },
     "metadata": {},
     "output_type": "display_data"
    }
   ],
   "source": [
    "# Настройки ядра\n",
    "_b5.path_to_save_ = './models' # Директория для сохранения файла\n",
    "_b5.chunk_size_ = 2000000 # Размер загрузки файла из сети за 1 шаг\n",
    "\n",
    "url = _b5.weights_for_big5_['text']['fi']['b5']['googledisk']\n",
    "\n",
    "res_load_text_model_weights_b5 = _b5.load_text_model_weights_b5(\n",
    "    url = url,\n",
    "    force_reload = False, # Принудительная загрузка файла с весами нейросетевой модели из сети\n",
    "    out = True, # Отображение\n",
    "    runtime = True, # Подсчет времени выполнения\n",
    "    run = True # Блокировка выполнения\n",
    ")"
   ]
  },
  {
   "cell_type": "markdown",
   "metadata": {},
   "source": [
    "#### Получение прогнозов (текстовая модальность)\n",
    "\n",
    "> - `_b5.df_files_` - DataFrame с данными\n",
    "> - `_b5.df_accuracy_` - DataFrame с результатами вычисления точности"
   ]
  },
  {
   "cell_type": "code",
   "execution_count": 14,
   "metadata": {},
   "outputs": [
    {
     "data": {
      "text/markdown": [
       "<span style=\"color:#333\">**[</span><span style=\"color:#1776D2\">2024-10-08 19:41:02</span><span style=\"color:#333\">]</span> <span style=\"color:#333\">Извлечение признаков (экспертных и нейросетевых) из текста ...</span>** "
      ],
      "text/plain": [
       "<IPython.core.display.Markdown object>"
      ]
     },
     "metadata": {},
     "output_type": "display_data"
    },
    {
     "data": {
      "text/markdown": [
       "<span style=\"color:#333\">**[</span><span style=\"color:#1776D2\">2024-10-08 19:41:02</span><span style=\"color:#333\">]</span> <span style=\"color:#333\">Получение прогнозов и вычисление точности (текстовая модальность) ...</span>**<p><span style=\"color:#333\">&nbsp;&nbsp;&nbsp;&nbsp;2000 из 2000 (100.0%) ... test80_25\\_Q4wOgixh7E.004.mp4 ...</span></p>"
      ],
      "text/plain": [
       "<IPython.core.display.Markdown object>"
      ]
     },
     "metadata": {},
     "output_type": "display_data"
    },
    {
     "data": {
      "text/html": [
       "<div>\n",
       "<style scoped>\n",
       "    .dataframe tbody tr th:only-of-type {\n",
       "        vertical-align: middle;\n",
       "    }\n",
       "\n",
       "    .dataframe tbody tr th {\n",
       "        vertical-align: top;\n",
       "    }\n",
       "\n",
       "    .dataframe thead th {\n",
       "        text-align: right;\n",
       "    }\n",
       "</style>\n",
       "<table border=\"1\" class=\"dataframe\">\n",
       "  <thead>\n",
       "    <tr style=\"text-align: right;\">\n",
       "      <th></th>\n",
       "      <th>Path</th>\n",
       "      <th>Openness</th>\n",
       "      <th>Conscientiousness</th>\n",
       "      <th>Extraversion</th>\n",
       "      <th>Agreeableness</th>\n",
       "      <th>Non-Neuroticism</th>\n",
       "    </tr>\n",
       "    <tr>\n",
       "      <th>Person ID</th>\n",
       "      <th></th>\n",
       "      <th></th>\n",
       "      <th></th>\n",
       "      <th></th>\n",
       "      <th></th>\n",
       "      <th></th>\n",
       "    </tr>\n",
       "  </thead>\n",
       "  <tbody>\n",
       "    <tr>\n",
       "      <th>1</th>\n",
       "      <td>13kjwEtSyXc.003.mp4</td>\n",
       "      <td>0.62425</td>\n",
       "      <td>0.588714</td>\n",
       "      <td>0.537081</td>\n",
       "      <td>0.601578</td>\n",
       "      <td>0.586728</td>\n",
       "    </tr>\n",
       "    <tr>\n",
       "      <th>2</th>\n",
       "      <td>1Lv72Si4GnY.000.mp4</td>\n",
       "      <td>0.517981</td>\n",
       "      <td>0.405353</td>\n",
       "      <td>0.44052</td>\n",
       "      <td>0.486153</td>\n",
       "      <td>0.428741</td>\n",
       "    </tr>\n",
       "    <tr>\n",
       "      <th>3</th>\n",
       "      <td>1uC-2TZqplE.003.mp4</td>\n",
       "      <td>0.515809</td>\n",
       "      <td>0.48258</td>\n",
       "      <td>0.418819</td>\n",
       "      <td>0.520685</td>\n",
       "      <td>0.462983</td>\n",
       "    </tr>\n",
       "    <tr>\n",
       "      <th>4</th>\n",
       "      <td>2Z8Xi_DTlpI.000.mp4</td>\n",
       "      <td>0.653289</td>\n",
       "      <td>0.645737</td>\n",
       "      <td>0.561041</td>\n",
       "      <td>0.638437</td>\n",
       "      <td>0.635568</td>\n",
       "    </tr>\n",
       "    <tr>\n",
       "      <th>5</th>\n",
       "      <td>3df_Uk9EmwU.002.mp4</td>\n",
       "      <td>0.67261</td>\n",
       "      <td>0.562898</td>\n",
       "      <td>0.597237</td>\n",
       "      <td>0.618013</td>\n",
       "      <td>0.627053</td>\n",
       "    </tr>\n",
       "    <tr>\n",
       "      <th>6</th>\n",
       "      <td>3gmc2kLV4Bo.003.mp4</td>\n",
       "      <td>0.571253</td>\n",
       "      <td>0.494058</td>\n",
       "      <td>0.477292</td>\n",
       "      <td>0.548054</td>\n",
       "      <td>0.509251</td>\n",
       "    </tr>\n",
       "    <tr>\n",
       "      <th>7</th>\n",
       "      <td>3hKgh9AB3tk.003.mp4</td>\n",
       "      <td>0.578746</td>\n",
       "      <td>0.590573</td>\n",
       "      <td>0.470541</td>\n",
       "      <td>0.579949</td>\n",
       "      <td>0.544828</td>\n",
       "    </tr>\n",
       "    <tr>\n",
       "      <th>8</th>\n",
       "      <td>3S72dDIm1fM.005.mp4</td>\n",
       "      <td>0.547111</td>\n",
       "      <td>0.539819</td>\n",
       "      <td>0.441105</td>\n",
       "      <td>0.55385</td>\n",
       "      <td>0.525304</td>\n",
       "    </tr>\n",
       "    <tr>\n",
       "      <th>9</th>\n",
       "      <td>3tPq9fNOXZQ.000.mp4</td>\n",
       "      <td>0.630349</td>\n",
       "      <td>0.546183</td>\n",
       "      <td>0.548639</td>\n",
       "      <td>0.592516</td>\n",
       "      <td>0.576403</td>\n",
       "    </tr>\n",
       "    <tr>\n",
       "      <th>10</th>\n",
       "      <td>43tayteIFRk.001.mp4</td>\n",
       "      <td>0.64342</td>\n",
       "      <td>0.649916</td>\n",
       "      <td>0.561578</td>\n",
       "      <td>0.631822</td>\n",
       "      <td>0.63633</td>\n",
       "    </tr>\n",
       "    <tr>\n",
       "      <th>11</th>\n",
       "      <td>4RKQGZzPClk.000.mp4</td>\n",
       "      <td>0.610116</td>\n",
       "      <td>0.509349</td>\n",
       "      <td>0.532012</td>\n",
       "      <td>0.562868</td>\n",
       "      <td>0.547921</td>\n",
       "    </tr>\n",
       "    <tr>\n",
       "      <th>12</th>\n",
       "      <td>6zm71IHOCZA.005.mp4</td>\n",
       "      <td>0.501362</td>\n",
       "      <td>0.438311</td>\n",
       "      <td>0.407623</td>\n",
       "      <td>0.493455</td>\n",
       "      <td>0.43261</td>\n",
       "    </tr>\n",
       "    <tr>\n",
       "      <th>13</th>\n",
       "      <td>7qGYGbIg45c.001.mp4</td>\n",
       "      <td>0.516359</td>\n",
       "      <td>0.521557</td>\n",
       "      <td>0.411988</td>\n",
       "      <td>0.535451</td>\n",
       "      <td>0.474974</td>\n",
       "    </tr>\n",
       "    <tr>\n",
       "      <th>14</th>\n",
       "      <td>8YQKwMdiaAE.003.mp4</td>\n",
       "      <td>0.625665</td>\n",
       "      <td>0.595616</td>\n",
       "      <td>0.545001</td>\n",
       "      <td>0.608049</td>\n",
       "      <td>0.601337</td>\n",
       "    </tr>\n",
       "    <tr>\n",
       "      <th>15</th>\n",
       "      <td>9Crw2RtrBcY.005.mp4</td>\n",
       "      <td>0.50607</td>\n",
       "      <td>0.466966</td>\n",
       "      <td>0.428307</td>\n",
       "      <td>0.497129</td>\n",
       "      <td>0.451417</td>\n",
       "    </tr>\n",
       "    <tr>\n",
       "      <th>16</th>\n",
       "      <td>9eNHxfOV2Kg.005.mp4</td>\n",
       "      <td>0.638357</td>\n",
       "      <td>0.564154</td>\n",
       "      <td>0.560847</td>\n",
       "      <td>0.599312</td>\n",
       "      <td>0.594394</td>\n",
       "    </tr>\n",
       "    <tr>\n",
       "      <th>17</th>\n",
       "      <td>9J-KIPMQmqk.002.mp4</td>\n",
       "      <td>0.517384</td>\n",
       "      <td>0.587879</td>\n",
       "      <td>0.392157</td>\n",
       "      <td>0.569742</td>\n",
       "      <td>0.511946</td>\n",
       "    </tr>\n",
       "    <tr>\n",
       "      <th>18</th>\n",
       "      <td>9RfE2-aTvaM.002.mp4</td>\n",
       "      <td>0.58078</td>\n",
       "      <td>0.516229</td>\n",
       "      <td>0.489437</td>\n",
       "      <td>0.557368</td>\n",
       "      <td>0.520621</td>\n",
       "    </tr>\n",
       "    <tr>\n",
       "      <th>19</th>\n",
       "      <td>9_6auSk_wkY.002.mp4</td>\n",
       "      <td>0.545213</td>\n",
       "      <td>0.467215</td>\n",
       "      <td>0.467846</td>\n",
       "      <td>0.518254</td>\n",
       "      <td>0.478097</td>\n",
       "    </tr>\n",
       "    <tr>\n",
       "      <th>20</th>\n",
       "      <td>aaylz9A9K80.000.mp4</td>\n",
       "      <td>0.618926</td>\n",
       "      <td>0.528868</td>\n",
       "      <td>0.535652</td>\n",
       "      <td>0.581195</td>\n",
       "      <td>0.571601</td>\n",
       "    </tr>\n",
       "    <tr>\n",
       "      <th>21</th>\n",
       "      <td>Af_F0IzHK6o.002.mp4</td>\n",
       "      <td>0.584489</td>\n",
       "      <td>0.488611</td>\n",
       "      <td>0.499635</td>\n",
       "      <td>0.537739</td>\n",
       "      <td>0.524559</td>\n",
       "    </tr>\n",
       "    <tr>\n",
       "      <th>22</th>\n",
       "      <td>Ah5PEPT4xbo.000.mp4</td>\n",
       "      <td>0.504269</td>\n",
       "      <td>0.449509</td>\n",
       "      <td>0.427488</td>\n",
       "      <td>0.488253</td>\n",
       "      <td>0.441146</td>\n",
       "    </tr>\n",
       "    <tr>\n",
       "      <th>23</th>\n",
       "      <td>AotbiNsU85A.003.mp4</td>\n",
       "      <td>0.586978</td>\n",
       "      <td>0.591703</td>\n",
       "      <td>0.503008</td>\n",
       "      <td>0.578437</td>\n",
       "      <td>0.566063</td>\n",
       "    </tr>\n",
       "    <tr>\n",
       "      <th>24</th>\n",
       "      <td>BLc_GvsbI1U.001.mp4</td>\n",
       "      <td>0.644585</td>\n",
       "      <td>0.581776</td>\n",
       "      <td>0.558128</td>\n",
       "      <td>0.613248</td>\n",
       "      <td>0.601142</td>\n",
       "    </tr>\n",
       "    <tr>\n",
       "      <th>25</th>\n",
       "      <td>bLOSPQ8MAC8.005.mp4</td>\n",
       "      <td>0.575215</td>\n",
       "      <td>0.517174</td>\n",
       "      <td>0.481076</td>\n",
       "      <td>0.547783</td>\n",
       "      <td>0.5145</td>\n",
       "    </tr>\n",
       "    <tr>\n",
       "      <th>26</th>\n",
       "      <td>bPLhV0PGR50.001.mp4</td>\n",
       "      <td>0.561584</td>\n",
       "      <td>0.594121</td>\n",
       "      <td>0.455785</td>\n",
       "      <td>0.56225</td>\n",
       "      <td>0.535579</td>\n",
       "    </tr>\n",
       "    <tr>\n",
       "      <th>27</th>\n",
       "      <td>bYXRyimxh7A.001.mp4</td>\n",
       "      <td>0.522395</td>\n",
       "      <td>0.468391</td>\n",
       "      <td>0.425713</td>\n",
       "      <td>0.510265</td>\n",
       "      <td>0.450677</td>\n",
       "    </tr>\n",
       "    <tr>\n",
       "      <th>28</th>\n",
       "      <td>ch2BcBv4SdQ.003.mp4</td>\n",
       "      <td>0.642372</td>\n",
       "      <td>0.538192</td>\n",
       "      <td>0.564062</td>\n",
       "      <td>0.602477</td>\n",
       "      <td>0.595606</td>\n",
       "    </tr>\n",
       "    <tr>\n",
       "      <th>29</th>\n",
       "      <td>cpch8WDydcM.004.mp4</td>\n",
       "      <td>0.615539</td>\n",
       "      <td>0.541118</td>\n",
       "      <td>0.522198</td>\n",
       "      <td>0.585264</td>\n",
       "      <td>0.57033</td>\n",
       "    </tr>\n",
       "    <tr>\n",
       "      <th>30</th>\n",
       "      <td>De4i7-FX9Og.002.mp4</td>\n",
       "      <td>0.620014</td>\n",
       "      <td>0.522598</td>\n",
       "      <td>0.543595</td>\n",
       "      <td>0.568719</td>\n",
       "      <td>0.558633</td>\n",
       "    </tr>\n",
       "  </tbody>\n",
       "</table>\n",
       "</div>"
      ],
      "text/plain": [
       "                          Path  Openness Conscientiousness Extraversion  \\\n",
       "Person ID                                                                 \n",
       "1          13kjwEtSyXc.003.mp4   0.62425          0.588714     0.537081   \n",
       "2          1Lv72Si4GnY.000.mp4  0.517981          0.405353      0.44052   \n",
       "3          1uC-2TZqplE.003.mp4  0.515809           0.48258     0.418819   \n",
       "4          2Z8Xi_DTlpI.000.mp4  0.653289          0.645737     0.561041   \n",
       "5          3df_Uk9EmwU.002.mp4   0.67261          0.562898     0.597237   \n",
       "6          3gmc2kLV4Bo.003.mp4  0.571253          0.494058     0.477292   \n",
       "7          3hKgh9AB3tk.003.mp4  0.578746          0.590573     0.470541   \n",
       "8          3S72dDIm1fM.005.mp4  0.547111          0.539819     0.441105   \n",
       "9          3tPq9fNOXZQ.000.mp4  0.630349          0.546183     0.548639   \n",
       "10         43tayteIFRk.001.mp4   0.64342          0.649916     0.561578   \n",
       "11         4RKQGZzPClk.000.mp4  0.610116          0.509349     0.532012   \n",
       "12         6zm71IHOCZA.005.mp4  0.501362          0.438311     0.407623   \n",
       "13         7qGYGbIg45c.001.mp4  0.516359          0.521557     0.411988   \n",
       "14         8YQKwMdiaAE.003.mp4  0.625665          0.595616     0.545001   \n",
       "15         9Crw2RtrBcY.005.mp4   0.50607          0.466966     0.428307   \n",
       "16         9eNHxfOV2Kg.005.mp4  0.638357          0.564154     0.560847   \n",
       "17         9J-KIPMQmqk.002.mp4  0.517384          0.587879     0.392157   \n",
       "18         9RfE2-aTvaM.002.mp4   0.58078          0.516229     0.489437   \n",
       "19         9_6auSk_wkY.002.mp4  0.545213          0.467215     0.467846   \n",
       "20         aaylz9A9K80.000.mp4  0.618926          0.528868     0.535652   \n",
       "21         Af_F0IzHK6o.002.mp4  0.584489          0.488611     0.499635   \n",
       "22         Ah5PEPT4xbo.000.mp4  0.504269          0.449509     0.427488   \n",
       "23         AotbiNsU85A.003.mp4  0.586978          0.591703     0.503008   \n",
       "24         BLc_GvsbI1U.001.mp4  0.644585          0.581776     0.558128   \n",
       "25         bLOSPQ8MAC8.005.mp4  0.575215          0.517174     0.481076   \n",
       "26         bPLhV0PGR50.001.mp4  0.561584          0.594121     0.455785   \n",
       "27         bYXRyimxh7A.001.mp4  0.522395          0.468391     0.425713   \n",
       "28         ch2BcBv4SdQ.003.mp4  0.642372          0.538192     0.564062   \n",
       "29         cpch8WDydcM.004.mp4  0.615539          0.541118     0.522198   \n",
       "30         De4i7-FX9Og.002.mp4  0.620014          0.522598     0.543595   \n",
       "\n",
       "          Agreeableness Non-Neuroticism  \n",
       "Person ID                                \n",
       "1              0.601578        0.586728  \n",
       "2              0.486153        0.428741  \n",
       "3              0.520685        0.462983  \n",
       "4              0.638437        0.635568  \n",
       "5              0.618013        0.627053  \n",
       "6              0.548054        0.509251  \n",
       "7              0.579949        0.544828  \n",
       "8               0.55385        0.525304  \n",
       "9              0.592516        0.576403  \n",
       "10             0.631822         0.63633  \n",
       "11             0.562868        0.547921  \n",
       "12             0.493455         0.43261  \n",
       "13             0.535451        0.474974  \n",
       "14             0.608049        0.601337  \n",
       "15             0.497129        0.451417  \n",
       "16             0.599312        0.594394  \n",
       "17             0.569742        0.511946  \n",
       "18             0.557368        0.520621  \n",
       "19             0.518254        0.478097  \n",
       "20             0.581195        0.571601  \n",
       "21             0.537739        0.524559  \n",
       "22             0.488253        0.441146  \n",
       "23             0.578437        0.566063  \n",
       "24             0.613248        0.601142  \n",
       "25             0.547783          0.5145  \n",
       "26              0.56225        0.535579  \n",
       "27             0.510265        0.450677  \n",
       "28             0.602477        0.595606  \n",
       "29             0.585264         0.57033  \n",
       "30             0.568719        0.558633  "
      ]
     },
     "metadata": {},
     "output_type": "display_data"
    },
    {
     "data": {
      "text/markdown": [
       "<span style=\"color:#333\">**[</span><span style=\"color:#1776D2\">2024-10-08 19:41:02</span><span style=\"color:#333\">]</span> <span style=\"color:#333\">Точность по отдельным персональным качествам личности человека ...</span>** "
      ],
      "text/plain": [
       "<IPython.core.display.Markdown object>"
      ]
     },
     "metadata": {},
     "output_type": "display_data"
    },
    {
     "data": {
      "text/html": [
       "<div>\n",
       "<style scoped>\n",
       "    .dataframe tbody tr th:only-of-type {\n",
       "        vertical-align: middle;\n",
       "    }\n",
       "\n",
       "    .dataframe tbody tr th {\n",
       "        vertical-align: top;\n",
       "    }\n",
       "\n",
       "    .dataframe thead th {\n",
       "        text-align: right;\n",
       "    }\n",
       "</style>\n",
       "<table border=\"1\" class=\"dataframe\">\n",
       "  <thead>\n",
       "    <tr style=\"text-align: right;\">\n",
       "      <th></th>\n",
       "      <th>Openness</th>\n",
       "      <th>Conscientiousness</th>\n",
       "      <th>Extraversion</th>\n",
       "      <th>Agreeableness</th>\n",
       "      <th>Non-Neuroticism</th>\n",
       "      <th>Mean</th>\n",
       "    </tr>\n",
       "    <tr>\n",
       "      <th>Metrics</th>\n",
       "      <th></th>\n",
       "      <th></th>\n",
       "      <th></th>\n",
       "      <th></th>\n",
       "      <th></th>\n",
       "      <th></th>\n",
       "    </tr>\n",
       "  </thead>\n",
       "  <tbody>\n",
       "    <tr>\n",
       "      <th>MAE</th>\n",
       "      <td>0.1096</td>\n",
       "      <td>0.1137</td>\n",
       "      <td>0.115</td>\n",
       "      <td>0.102</td>\n",
       "      <td>0.1152</td>\n",
       "      <td>0.1111</td>\n",
       "    </tr>\n",
       "    <tr>\n",
       "      <th>Accuracy</th>\n",
       "      <td>0.8904</td>\n",
       "      <td>0.8863</td>\n",
       "      <td>0.885</td>\n",
       "      <td>0.898</td>\n",
       "      <td>0.8848</td>\n",
       "      <td>0.8889</td>\n",
       "    </tr>\n",
       "  </tbody>\n",
       "</table>\n",
       "</div>"
      ],
      "text/plain": [
       "          Openness  Conscientiousness  Extraversion  Agreeableness  \\\n",
       "Metrics                                                              \n",
       "MAE         0.1096             0.1137         0.115          0.102   \n",
       "Accuracy    0.8904             0.8863         0.885          0.898   \n",
       "\n",
       "          Non-Neuroticism    Mean  \n",
       "Metrics                            \n",
       "MAE                0.1152  0.1111  \n",
       "Accuracy           0.8848  0.8889  "
      ]
     },
     "metadata": {},
     "output_type": "display_data"
    },
    {
     "data": {
      "text/markdown": [
       "<span style=\"color:#333\">**[</span><span style=\"color:#1776D2\">2024-10-08 19:41:02</span><span style=\"color:#333\">]</span> <span style=\"color:#333\">Средняя средних абсолютных ошибок: <span style=\"color:#1776D2\">0.1111</span>, средняя точность: <span style=\"color:#1776D2\">0.8889</span> ...</span>** "
      ],
      "text/plain": [
       "<IPython.core.display.Markdown object>"
      ]
     },
     "metadata": {},
     "output_type": "display_data"
    },
    {
     "data": {
      "text/markdown": [
       "<span style=\"color:#008001\">**Лог файлы успешно сохранены ...**</span>"
      ],
      "text/plain": [
       "<IPython.core.display.Markdown object>"
      ]
     },
     "metadata": {},
     "output_type": "display_data"
    },
    {
     "data": {
      "text/markdown": [
       "<span style=\"color:#333\">**--- Время выполнения: 802.932 сек. ---**</span>"
      ],
      "text/plain": [
       "<IPython.core.display.Markdown object>"
      ]
     },
     "metadata": {},
     "output_type": "display_data"
    }
   ],
   "source": [
    "# Настройки ядра\n",
    "_b5.path_to_dataset_ = 'E:/Databases/FirstImpressionsV2/test' # Директория набора данных\n",
    "# Директории не входящие в выборку\n",
    "_b5.ignore_dirs_ = []\n",
    "# Названия ключей для DataFrame набора данных\n",
    "_b5.keys_dataset_ = ['Path', 'Openness', 'Conscientiousness', 'Extraversion', 'Agreeableness', 'Non-Neuroticism']\n",
    "_b5.ext_ = ['.mp4'] # Расширения искомых файлов\n",
    "_b5.path_to_logs_ = './logs' # Директория для сохранения LOG файлов\n",
    "\n",
    "# Полный путь к файлу с верными предсказаниями для подсчета точности\n",
    "url_accuracy = _b5.true_traits_['fi']['googledisk']\n",
    "\n",
    "res_get_text_union_predictions = _b5.get_text_union_predictions(\n",
    "    depth = 1,         # Глубина иерархии для получения видеоданных\n",
    "    recursive = False, # Рекурсивный поиск данных\n",
    "    asr = True,        # Распознавание речи\n",
    "    lang = 'en',       # Выбор языка\n",
    "    accuracy = True,   # Вычисление точности\n",
    "    url_accuracy = url_accuracy,\n",
    "    logs = True,       # При необходимости формировать LOG файл\n",
    "    out = True,        # Отображение\n",
    "    runtime = True,    # Подсчет времени выполнения\n",
    "    run = True         # Блокировка выполнения\n",
    ")"
   ]
  }
 ],
 "metadata": {
  "kernelspec": {
   "display_name": "Python 3 (ipykernel)",
   "language": "python",
   "name": "python3"
  },
  "language_info": {
   "codemirror_mode": {
    "name": "ipython",
    "version": 3
   },
   "file_extension": ".py",
   "mimetype": "text/x-python",
   "name": "python",
   "nbconvert_exporter": "python",
   "pygments_lexer": "ipython3",
   "version": "3.10.11"
  }
 },
 "nbformat": 4,
 "nbformat_minor": 4
}
