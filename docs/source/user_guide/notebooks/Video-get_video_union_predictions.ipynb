{
 "cells": [
  {
   "cell_type": "markdown",
   "metadata": {
    "tags": []
   },
   "source": [
    "## Получение прогнозов по видео\n",
    "\n",
    "<img src=\"https://raw.githubusercontent.com/aimclub/OCEANAI/main/docs/source/user_guide/notebooks/images/Pipeline_VIA_ru.svg\" width=\"100%\" />\n",
    "\n",
    "<hr>"
   ]
  },
  {
   "cell_type": "code",
   "execution_count": 1,
   "metadata": {
    "nbsphinx": "hidden",
    "tags": []
   },
   "outputs": [],
   "source": [
    "import os  # Взаимодействие с файловой системой\n",
    "import sys # Доступ к некоторым переменным и функциям Python\n",
    "\n",
    "PATH_TO_SOURCE = os.path.abspath(os.path.dirname(globals()['_dh'][0]))\n",
    "PATH_TO_ROOT = os.path.join(PATH_TO_SOURCE, '..', '..', '..')\n",
    "\n",
    "sys.path.insert(0, os.path.abspath(PATH_TO_ROOT))"
   ]
  },
  {
   "cell_type": "markdown",
   "metadata": {},
   "source": [
    "### Импорт необходимых инструментов"
   ]
  },
  {
   "cell_type": "code",
   "execution_count": 2,
   "metadata": {},
   "outputs": [],
   "source": [
    "from oceanai.modules.lab.build import Run"
   ]
  },
  {
   "cell_type": "markdown",
   "metadata": {},
   "source": [
    "### Сборка"
   ]
  },
  {
   "cell_type": "code",
   "execution_count": 3,
   "metadata": {},
   "outputs": [
    {
     "data": {
      "text/markdown": [
       "<span style=\"color:#333\">**[</span><span style=\"color:#1776D2\">2023-12-14 21:05:26</span><span style=\"color:#333\">]</span> <span style=\"color:#333\">OCEANAI - персональные качества личности человека:</span>**<br /><span style=\"color:#333\">&nbsp;&nbsp;&nbsp;&nbsp;Авторы:</span><br /><span style=\"color:#333\">&nbsp;&nbsp;&nbsp;&nbsp;&nbsp;&nbsp;&nbsp;&nbsp;Рюмина Елена [<u>ryumina_ev@mail.ru</u>]</span><br /><span style=\"color:#333\">&nbsp;&nbsp;&nbsp;&nbsp;&nbsp;&nbsp;&nbsp;&nbsp;Рюмин Дмитрий [<u>dl_03.03.1991@mail.ru</u>]</span><br /><span style=\"color:#333\">&nbsp;&nbsp;&nbsp;&nbsp;&nbsp;&nbsp;&nbsp;&nbsp;Карпов Алексей [<u>karpov@iias.spb.su</u>]</span><br /><span style=\"color:#333\">&nbsp;&nbsp;&nbsp;&nbsp;Сопровождающие:</span><br /><span style=\"color:#333\">&nbsp;&nbsp;&nbsp;&nbsp;&nbsp;&nbsp;&nbsp;&nbsp;Рюмина Елена [<u>ryumina_ev@mail.ru</u>]</span><br /><span style=\"color:#333\">&nbsp;&nbsp;&nbsp;&nbsp;&nbsp;&nbsp;&nbsp;&nbsp;Рюмин Дмитрий [<u>dl_03.03.1991@mail.ru</u>]</span><br /><span style=\"color:#333\">&nbsp;&nbsp;&nbsp;&nbsp;Версия: <u>1.0.0a16</u></span><br /><span style=\"color:#333\">&nbsp;&nbsp;&nbsp;&nbsp;Лицензия: <u>BSD License</u></span></p>"
      ],
      "text/plain": [
       "<IPython.core.display.Markdown object>"
      ]
     },
     "metadata": {},
     "output_type": "display_data"
    }
   ],
   "source": [
    "_b5 = Run(\n",
    "    lang = 'ru', # Язык\n",
    "    color_simple = '#333', # Цвет обычного текста (шестнадцатеричный код)\n",
    "    color_info = '#1776D2', # Цвет текста содержащего информацию (шестнадцатеричный код)\n",
    "    color_err = '#FF0000', # Цвет текста содержащего ошибку (шестнадцатеричный код)\n",
    "    color_true = '#008001', # Цвет текста содержащего положительную информацию (шестнадцатеричный код)\n",
    "    bold_text = True, # Жирное начертание текста\n",
    "    num_to_df_display = 30, # Количество строк для отображения в таблицах\n",
    "    text_runtime = 'Время выполнения', # Текст времени выполнения\n",
    "    metadata = True # Отображение информации о библиотеке\n",
    ")"
   ]
  },
  {
   "cell_type": "markdown",
   "metadata": {},
   "source": [
    "### Получение и отображение версий установленных библиотек\n",
    "\n",
    "> - `_b5.df_pkgs_` - DataFrame c версиями установленных библиотек"
   ]
  },
  {
   "cell_type": "code",
   "execution_count": 4,
   "metadata": {},
   "outputs": [
    {
     "data": {
      "text/html": [
       "<div>\n",
       "<style scoped>\n",
       "    .dataframe tbody tr th:only-of-type {\n",
       "        vertical-align: middle;\n",
       "    }\n",
       "\n",
       "    .dataframe tbody tr th {\n",
       "        vertical-align: top;\n",
       "    }\n",
       "\n",
       "    .dataframe thead th {\n",
       "        text-align: right;\n",
       "    }\n",
       "</style>\n",
       "<table border=\"1\" class=\"dataframe\">\n",
       "  <thead>\n",
       "    <tr style=\"text-align: right;\">\n",
       "      <th></th>\n",
       "      <th>Package</th>\n",
       "      <th>Version</th>\n",
       "    </tr>\n",
       "  </thead>\n",
       "  <tbody>\n",
       "    <tr>\n",
       "      <th>1</th>\n",
       "      <td>TensorFlow</td>\n",
       "      <td>2.15.0</td>\n",
       "    </tr>\n",
       "    <tr>\n",
       "      <th>2</th>\n",
       "      <td>Keras</td>\n",
       "      <td>2.15.0</td>\n",
       "    </tr>\n",
       "    <tr>\n",
       "      <th>3</th>\n",
       "      <td>OpenCV</td>\n",
       "      <td>4.8.1</td>\n",
       "    </tr>\n",
       "    <tr>\n",
       "      <th>4</th>\n",
       "      <td>MediaPipe</td>\n",
       "      <td>0.9.0</td>\n",
       "    </tr>\n",
       "    <tr>\n",
       "      <th>5</th>\n",
       "      <td>NumPy</td>\n",
       "      <td>1.26.2</td>\n",
       "    </tr>\n",
       "    <tr>\n",
       "      <th>6</th>\n",
       "      <td>SciPy</td>\n",
       "      <td>1.11.4</td>\n",
       "    </tr>\n",
       "    <tr>\n",
       "      <th>7</th>\n",
       "      <td>Pandas</td>\n",
       "      <td>2.1.3</td>\n",
       "    </tr>\n",
       "    <tr>\n",
       "      <th>8</th>\n",
       "      <td>Scikit-learn</td>\n",
       "      <td>1.3.2</td>\n",
       "    </tr>\n",
       "    <tr>\n",
       "      <th>9</th>\n",
       "      <td>OpenSmile</td>\n",
       "      <td>2.5.0</td>\n",
       "    </tr>\n",
       "    <tr>\n",
       "      <th>10</th>\n",
       "      <td>Librosa</td>\n",
       "      <td>0.10.1</td>\n",
       "    </tr>\n",
       "    <tr>\n",
       "      <th>11</th>\n",
       "      <td>AudioRead</td>\n",
       "      <td>3.0.1</td>\n",
       "    </tr>\n",
       "    <tr>\n",
       "      <th>12</th>\n",
       "      <td>IPython</td>\n",
       "      <td>8.18.1</td>\n",
       "    </tr>\n",
       "    <tr>\n",
       "      <th>13</th>\n",
       "      <td>PyMediaInfo</td>\n",
       "      <td>6.1.0</td>\n",
       "    </tr>\n",
       "    <tr>\n",
       "      <th>14</th>\n",
       "      <td>Requests</td>\n",
       "      <td>2.31.0</td>\n",
       "    </tr>\n",
       "    <tr>\n",
       "      <th>15</th>\n",
       "      <td>JupyterLab</td>\n",
       "      <td>4.0.9</td>\n",
       "    </tr>\n",
       "    <tr>\n",
       "      <th>16</th>\n",
       "      <td>LIWC</td>\n",
       "      <td>0.5.0</td>\n",
       "    </tr>\n",
       "    <tr>\n",
       "      <th>17</th>\n",
       "      <td>Transformers</td>\n",
       "      <td>4.36.0</td>\n",
       "    </tr>\n",
       "    <tr>\n",
       "      <th>18</th>\n",
       "      <td>Sentencepiece</td>\n",
       "      <td>0.1.99</td>\n",
       "    </tr>\n",
       "    <tr>\n",
       "      <th>19</th>\n",
       "      <td>Torch</td>\n",
       "      <td>2.0.1+cpu</td>\n",
       "    </tr>\n",
       "    <tr>\n",
       "      <th>20</th>\n",
       "      <td>Torchaudio</td>\n",
       "      <td>2.0.2+cpu</td>\n",
       "    </tr>\n",
       "  </tbody>\n",
       "</table>\n",
       "</div>"
      ],
      "text/plain": [
       "          Package    Version\n",
       "1      TensorFlow     2.15.0\n",
       "2           Keras     2.15.0\n",
       "3          OpenCV      4.8.1\n",
       "4       MediaPipe      0.9.0\n",
       "5           NumPy     1.26.2\n",
       "6           SciPy     1.11.4\n",
       "7          Pandas      2.1.3\n",
       "8    Scikit-learn      1.3.2\n",
       "9       OpenSmile      2.5.0\n",
       "10        Librosa     0.10.1\n",
       "11      AudioRead      3.0.1\n",
       "12        IPython     8.18.1\n",
       "13    PyMediaInfo      6.1.0\n",
       "14       Requests     2.31.0\n",
       "15     JupyterLab      4.0.9\n",
       "16           LIWC      0.5.0\n",
       "17   Transformers     4.36.0\n",
       "18  Sentencepiece     0.1.99\n",
       "19          Torch  2.0.1+cpu\n",
       "20     Torchaudio  2.0.2+cpu"
      ]
     },
     "metadata": {},
     "output_type": "display_data"
    },
    {
     "data": {
      "text/markdown": [
       "<span style=\"color:#333\">**--- Время выполнения: 0.005 сек. ---**</span>"
      ],
      "text/plain": [
       "<IPython.core.display.Markdown object>"
      ]
     },
     "metadata": {},
     "output_type": "display_data"
    }
   ],
   "source": [
    "_b5.libs_vers(runtime = True, run = True)"
   ]
  },
  {
   "cell_type": "markdown",
   "metadata": {},
   "source": [
    "### Формирование нейросетевой архитектуры модели для получения оценок по экспертным признакам\n",
    "\n",
    "> - `_b5.video_model_hc_` - Нейросетевая модель **tf.keras.Model** для получения оценок по экспертным признакам"
   ]
  },
  {
   "cell_type": "code",
   "execution_count": 5,
   "metadata": {},
   "outputs": [
    {
     "data": {
      "text/markdown": [
       "<span style=\"color:#333\">**[</span><span style=\"color:#1776D2\">2023-12-14 21:05:26</span><span style=\"color:#333\">]</span> <span style=\"color:#333\">Формирование нейросетевой архитектуры модели для получения оценок по экспертным признакам (видео модальность) ...</span>** "
      ],
      "text/plain": [
       "<IPython.core.display.Markdown object>"
      ]
     },
     "metadata": {},
     "output_type": "display_data"
    },
    {
     "data": {
      "text/markdown": [
       "<span style=\"color:#333\">**--- Время выполнения: 0.321 сек. ---**</span>"
      ],
      "text/plain": [
       "<IPython.core.display.Markdown object>"
      ]
     },
     "metadata": {},
     "output_type": "display_data"
    }
   ],
   "source": [
    "res_load_video_model_hc = _b5.load_video_model_hc(\n",
    "    lang = 'en',\n",
    "    show_summary = False, # Отображение сформированной нейросетевой архитектуры модели\n",
    "    out = True, # Отображение\n",
    "    runtime = True, # Подсчет времени выполнения\n",
    "    run = True # Блокировка выполнения\n",
    ")"
   ]
  },
  {
   "cell_type": "markdown",
   "metadata": {},
   "source": [
    "### Загрузка весов нейросетевой модели для получения оценок по экспертным признакам\n",
    "\n",
    "> - `_b5.video_model_hc_` - Нейросетевая модель **tf.keras.Model** для получения оценок по экспертным признакам"
   ]
  },
  {
   "cell_type": "code",
   "execution_count": 6,
   "metadata": {},
   "outputs": [
    {
     "data": {
      "text/markdown": [
       "<span style=\"color:#333\">**[</span><span style=\"color:#1776D2\">2023-12-14 21:05:27</span><span style=\"color:#333\">]</span> <span style=\"color:#333\">Загрузка весов нейросетевой модели для получения оценок по экспертным признакам (видео модальность) ...</span>** "
      ],
      "text/plain": [
       "<IPython.core.display.Markdown object>"
      ]
     },
     "metadata": {},
     "output_type": "display_data"
    },
    {
     "data": {
      "text/markdown": [
       "<span style=\"color:#333\">**[</span><span style=\"color:#1776D2\">2023-12-14 21:05:27</span><span style=\"color:#333\">]</span> <span style=\"color:#333\">Загрузка файла \"<span style=\"color:#1776D2\">weights_2022-08-27_18-53-35.h5</span>\" 100.0% ...</span>** "
      ],
      "text/plain": [
       "<IPython.core.display.Markdown object>"
      ]
     },
     "metadata": {},
     "output_type": "display_data"
    },
    {
     "data": {
      "text/markdown": [
       "<span style=\"color:#333\">**--- Время выполнения: 0.249 сек. ---**</span>"
      ],
      "text/plain": [
       "<IPython.core.display.Markdown object>"
      ]
     },
     "metadata": {},
     "output_type": "display_data"
    }
   ],
   "source": [
    "# Настройки ядра\n",
    "_b5.path_to_save_ = './models' # Директория для сохранения файла\n",
    "_b5.chunk_size_ = 2000000 # Размер загрузки файла из сети за 1 шаг\n",
    "\n",
    "url = _b5.weights_for_big5_['video']['fi']['hc']['sberdisk']\n",
    "\n",
    "res_load_video_model_weights_hc = _b5.load_video_model_weights_hc(\n",
    "    url = url, # Полный путь к файлу с весами нейросетевой модели\n",
    "    force_reload = True, # Принудительная загрузка файла с весами нейросетевой модели из сети\n",
    "    out = True, # Отображение\n",
    "    runtime = True, # Подсчет времени выполнения\n",
    "    run = True # Блокировка выполнения\n",
    ")"
   ]
  },
  {
   "cell_type": "markdown",
   "metadata": {},
   "source": [
    "### Формирование нейросетевой архитектуры для получения нейросетевых признаков\n",
    "\n",
    "> - `_b5.video_model_deep_fe_` - Нейросетевая модель **tf.keras.Model** для получения нейросетевых признаков"
   ]
  },
  {
   "cell_type": "code",
   "execution_count": 7,
   "metadata": {},
   "outputs": [
    {
     "data": {
      "text/markdown": [
       "<span style=\"color:#333\">**[</span><span style=\"color:#1776D2\">2023-12-14 21:05:27</span><span style=\"color:#333\">]</span> <span style=\"color:#333\">Формирование нейросетевой архитектуры для получения нейросетевых признаков (видео модальность) ...</span>** "
      ],
      "text/plain": [
       "<IPython.core.display.Markdown object>"
      ]
     },
     "metadata": {},
     "output_type": "display_data"
    },
    {
     "data": {
      "text/markdown": [
       "<span style=\"color:#333\">**--- Время выполнения: 0.823 сек. ---**</span>"
      ],
      "text/plain": [
       "<IPython.core.display.Markdown object>"
      ]
     },
     "metadata": {},
     "output_type": "display_data"
    }
   ],
   "source": [
    "res_load_video_model_deep_fe = _b5.load_video_model_deep_fe(\n",
    "    show_summary = False, # Отображение сформированной нейросетевой архитектуры модели\n",
    "    out = True, # Отображение\n",
    "    runtime = True, # Подсчет времени выполнения\n",
    "    run = True # Блокировка выполнения\n",
    ")"
   ]
  },
  {
   "cell_type": "markdown",
   "metadata": {},
   "source": [
    "### Загрузка весов нейросетевой модели для получения нейросетевых признаков\n",
    "\n",
    "> - `_b5.video_model_deep_fe_` - Нейросетевая модель **tf.keras.Model** для получения нейросетевых признаков"
   ]
  },
  {
   "cell_type": "code",
   "execution_count": 8,
   "metadata": {},
   "outputs": [
    {
     "data": {
      "text/markdown": [
       "<span style=\"color:#333\">**[</span><span style=\"color:#1776D2\">2023-12-14 21:05:28</span><span style=\"color:#333\">]</span> <span style=\"color:#333\">Загрузка весов нейросетевой модели для получения нейросетевых признаков (видео модальность) ...</span>** "
      ],
      "text/plain": [
       "<IPython.core.display.Markdown object>"
      ]
     },
     "metadata": {},
     "output_type": "display_data"
    },
    {
     "data": {
      "text/markdown": [
       "<span style=\"color:#333\">**[</span><span style=\"color:#1776D2\">2023-12-14 21:05:31</span><span style=\"color:#333\">]</span> <span style=\"color:#333\">Загрузка файла \"<span style=\"color:#1776D2\">weights_2022-11-01_12-27-07.h5</span>\" 100.0% ...</span>** "
      ],
      "text/plain": [
       "<IPython.core.display.Markdown object>"
      ]
     },
     "metadata": {},
     "output_type": "display_data"
    },
    {
     "data": {
      "text/markdown": [
       "<span style=\"color:#333\">**--- Время выполнения: 3.342 сек. ---**</span>"
      ],
      "text/plain": [
       "<IPython.core.display.Markdown object>"
      ]
     },
     "metadata": {},
     "output_type": "display_data"
    }
   ],
   "source": [
    "# Настройки ядра\n",
    "_b5.path_to_save_ = './models' # Директория для сохранения файла\n",
    "_b5.chunk_size_ = 2000000 # Размер загрузки файла из сети за 1 шаг\n",
    "\n",
    "url = _b5.weights_for_big5_['video']['fi']['fe']['sberdisk']\n",
    "\n",
    "res_load_video_model_weights_deep_fe = _b5.load_video_model_weights_deep_fe(\n",
    "    url = url, # Полный путь к файлу с весами нейросетевой модели\n",
    "    force_reload = True, # Принудительная загрузка файла с весами нейросетевой модели из сети\n",
    "    out = True, # Отображение\n",
    "    runtime = True, # Подсчет времени выполнения\n",
    "    run = True # Блокировка выполнения\n",
    ")"
   ]
  },
  {
   "cell_type": "markdown",
   "metadata": {},
   "source": [
    "### Формирование нейросетевой архитектуры модели для получения оценок по нейросетевым признакам\n",
    "\n",
    "> - `_b5.video_model_nn_` - Нейросетевая модель **tf.keras.Model** для получения оценок по нейросетевым признакам"
   ]
  },
  {
   "cell_type": "code",
   "execution_count": 9,
   "metadata": {},
   "outputs": [
    {
     "data": {
      "text/markdown": [
       "<span style=\"color:#333\">**[</span><span style=\"color:#1776D2\">2023-12-14 21:05:31</span><span style=\"color:#333\">]</span> <span style=\"color:#333\">Формирование нейросетевой архитектуры для получения оценок по нейросетевым признакам (видео модальность) ...</span>** "
      ],
      "text/plain": [
       "<IPython.core.display.Markdown object>"
      ]
     },
     "metadata": {},
     "output_type": "display_data"
    },
    {
     "data": {
      "text/markdown": [
       "<span style=\"color:#333\">**--- Время выполнения: 0.708 сек. ---**</span>"
      ],
      "text/plain": [
       "<IPython.core.display.Markdown object>"
      ]
     },
     "metadata": {},
     "output_type": "display_data"
    }
   ],
   "source": [
    "res_load_video_model_nn = _b5.load_video_model_nn(\n",
    "    show_summary = False, # Отображение сформированной нейросетевой архитектуры модели\n",
    "    out = True, # Отображение\n",
    "    runtime = True, # Подсчет времени выполнения\n",
    "    run = True # Блокировка выполнения\n",
    ")"
   ]
  },
  {
   "cell_type": "markdown",
   "metadata": {},
   "source": [
    "### Загрузка весов нейросетевой модели для получения оценок по нейросетевым признакам\n",
    "\n",
    "> - `_b5.video_model_nn_` - Нейросетевая модель **tf.keras.Model** для получения оценок по нейросетевым признакам"
   ]
  },
  {
   "cell_type": "code",
   "execution_count": 10,
   "metadata": {},
   "outputs": [
    {
     "data": {
      "text/markdown": [
       "<span style=\"color:#333\">**[</span><span style=\"color:#1776D2\">2023-12-14 21:05:32</span><span style=\"color:#333\">]</span> <span style=\"color:#333\">Загрузка весов нейросетевой модели для получения оценок по нейросетевым признакам (видео модальность) ...</span>** "
      ],
      "text/plain": [
       "<IPython.core.display.Markdown object>"
      ]
     },
     "metadata": {},
     "output_type": "display_data"
    },
    {
     "data": {
      "text/markdown": [
       "<span style=\"color:#333\">**[</span><span style=\"color:#1776D2\">2023-12-14 21:05:32</span><span style=\"color:#333\">]</span> <span style=\"color:#333\">Загрузка файла \"<span style=\"color:#1776D2\">weights_2022-03-22_16-31-48.h5</span>\"</span>** "
      ],
      "text/plain": [
       "<IPython.core.display.Markdown object>"
      ]
     },
     "metadata": {},
     "output_type": "display_data"
    },
    {
     "data": {
      "text/markdown": [
       "<span style=\"color:#333\">**--- Время выполнения: 0.209 сек. ---**</span>"
      ],
      "text/plain": [
       "<IPython.core.display.Markdown object>"
      ]
     },
     "metadata": {},
     "output_type": "display_data"
    }
   ],
   "source": [
    "# Настройки ядра\n",
    "_b5.path_to_save_ = './models' # Директория для сохранения файла\n",
    "_b5.chunk_size_ = 2000000 # Размер загрузки файла из сети за 1 шаг\n",
    "\n",
    "url = _b5.weights_for_big5_['video']['fi']['nn']['sberdisk']\n",
    "\n",
    "res_load_video_model_weights_nn = _b5.load_video_model_weights_nn(\n",
    "    url = url, # Полный путь к файлу с весами нейросетевой модели\n",
    "    force_reload = False, # Принудительная загрузка файла с весами нейросетевой модели из сети\n",
    "    out = True, # Отображение\n",
    "    runtime = True, # Подсчет времени выполнения\n",
    "    run = True # Блокировка выполнения\n",
    ")"
   ]
  },
  {
   "cell_type": "markdown",
   "metadata": {},
   "source": [
    "### Формирование нейросетевых архитектур моделей для получения результатов оценки персональных качеств\n",
    "\n",
    "> - `_b5.video_models_b5_` - Нейросетевые модели **tf.keras.Model** для получения результатов оценки персональных качеств"
   ]
  },
  {
   "cell_type": "code",
   "execution_count": 11,
   "metadata": {},
   "outputs": [
    {
     "data": {
      "text/markdown": [
       "<span style=\"color:#333\">**[</span><span style=\"color:#1776D2\">2023-12-14 21:05:32</span><span style=\"color:#333\">]</span> <span style=\"color:#333\">Формирование нейросетевых архитектур моделей для получения результатов оценки персональных качеств (видео модальность) ...</span>** "
      ],
      "text/plain": [
       "<IPython.core.display.Markdown object>"
      ]
     },
     "metadata": {},
     "output_type": "display_data"
    },
    {
     "data": {
      "text/markdown": [
       "<span style=\"color:#333\">**--- Время выполнения: 0.046 сек. ---**</span>"
      ],
      "text/plain": [
       "<IPython.core.display.Markdown object>"
      ]
     },
     "metadata": {},
     "output_type": "display_data"
    }
   ],
   "source": [
    "res_load_video_models_b5 = _b5.load_video_models_b5(\n",
    "    show_summary = False, # Отображение сформированной нейросетевой архитектуры модели\n",
    "    out = True, # Отображение\n",
    "    runtime = True, # Подсчет времени выполнения\n",
    "    run = True # Блокировка выполнения\n",
    ")"
   ]
  },
  {
   "cell_type": "markdown",
   "metadata": {},
   "source": [
    "### Загрузка весов нейросетевых моделей для получения результатов оценки персональных качеств\n",
    "\n",
    "> - `_b5.video_models_b5_` - Нейросетевые модели **tf.keras.Model** для получения результатов оценки персональных качеств"
   ]
  },
  {
   "cell_type": "code",
   "execution_count": 12,
   "metadata": {},
   "outputs": [
    {
     "data": {
      "text/markdown": [
       "<span style=\"color:#333\">**[</span><span style=\"color:#1776D2\">2023-12-14 21:05:32</span><span style=\"color:#333\">]</span> <span style=\"color:#333\">Загрузка весов нейросетевых моделей для получения результатов оценки персональных качеств (видео модальность) ...</span>** "
      ],
      "text/plain": [
       "<IPython.core.display.Markdown object>"
      ]
     },
     "metadata": {},
     "output_type": "display_data"
    },
    {
     "data": {
      "text/markdown": [
       "<span style=\"color:#333\">**[</span><span style=\"color:#1776D2\">2023-12-14 21:05:32</span><span style=\"color:#333\">]</span> <span style=\"color:#333\">Загрузка файла \"<span style=\"color:#1776D2\">weights_2022-06-15_16-46-30.h5</span>\"</span>**  <span style=\"color:#333\">**Открытость опыту**</span>"
      ],
      "text/plain": [
       "<IPython.core.display.Markdown object>"
      ]
     },
     "metadata": {},
     "output_type": "display_data"
    },
    {
     "data": {
      "text/markdown": [
       "<span style=\"color:#333\">**[</span><span style=\"color:#1776D2\">2023-12-14 21:05:32</span><span style=\"color:#333\">]</span> <span style=\"color:#333\">Загрузка файла \"<span style=\"color:#1776D2\">weights_2022-06-15_16-48-50.h5</span>\"</span>**  <span style=\"color:#333\">**Добросовестность**</span>"
      ],
      "text/plain": [
       "<IPython.core.display.Markdown object>"
      ]
     },
     "metadata": {},
     "output_type": "display_data"
    },
    {
     "data": {
      "text/markdown": [
       "<span style=\"color:#333\">**[</span><span style=\"color:#1776D2\">2023-12-14 21:05:33</span><span style=\"color:#333\">]</span> <span style=\"color:#333\">Загрузка файла \"<span style=\"color:#1776D2\">weights_2022-06-15_16-54-06.h5</span>\"</span>**  <span style=\"color:#333\">**Экстраверсия**</span>"
      ],
      "text/plain": [
       "<IPython.core.display.Markdown object>"
      ]
     },
     "metadata": {},
     "output_type": "display_data"
    },
    {
     "data": {
      "text/markdown": [
       "<span style=\"color:#333\">**[</span><span style=\"color:#1776D2\">2023-12-14 21:05:33</span><span style=\"color:#333\">]</span> <span style=\"color:#333\">Загрузка файла \"<span style=\"color:#1776D2\">weights_2022-06-15_17-02-03.h5</span>\"</span>**  <span style=\"color:#333\">**Доброжелательность**</span>"
      ],
      "text/plain": [
       "<IPython.core.display.Markdown object>"
      ]
     },
     "metadata": {},
     "output_type": "display_data"
    },
    {
     "data": {
      "text/markdown": [
       "<span style=\"color:#333\">**[</span><span style=\"color:#1776D2\">2023-12-14 21:05:33</span><span style=\"color:#333\">]</span> <span style=\"color:#333\">Загрузка файла \"<span style=\"color:#1776D2\">weights_2022-06-15_17-06-15.h5</span>\"</span>**  <span style=\"color:#333\">**Эмоциональная стабильность**</span>"
      ],
      "text/plain": [
       "<IPython.core.display.Markdown object>"
      ]
     },
     "metadata": {},
     "output_type": "display_data"
    },
    {
     "data": {
      "text/markdown": [
       "<span style=\"color:#333\">**--- Время выполнения: 1.013 сек. ---**</span>"
      ],
      "text/plain": [
       "<IPython.core.display.Markdown object>"
      ]
     },
     "metadata": {},
     "output_type": "display_data"
    }
   ],
   "source": [
    "# Настройки ядра\n",
    "_b5.path_to_save_ = './models' # Директория для сохранения файла\n",
    "_b5.chunk_size_ = 2000000 # Размер загрузки файла из сети за 1 шаг\n",
    "\n",
    "url_openness = _b5.weights_for_big5_['video']['fi']['b5']['openness']['sberdisk']\n",
    "url_conscientiousness = _b5.weights_for_big5_['video']['fi']['b5']['conscientiousness']['sberdisk']\n",
    "url_extraversion = _b5.weights_for_big5_['video']['fi']['b5']['extraversion']['sberdisk']\n",
    "url_agreeableness = _b5.weights_for_big5_['video']['fi']['b5']['agreeableness']['sberdisk']\n",
    "url_non_neuroticism = _b5.weights_for_big5_['video']['fi']['b5']['non_neuroticism']['sberdisk']\n",
    "\n",
    "res_load_video_models_weights_b5 = _b5.load_video_models_weights_b5(\n",
    "    url_openness = url_openness, # Открытость опыту\n",
    "    url_conscientiousness = url_conscientiousness, # Добросовестность\n",
    "    url_extraversion = url_extraversion, # Экстраверсия\n",
    "    url_agreeableness = url_agreeableness, # Доброжелательность\n",
    "    url_non_neuroticism = url_non_neuroticism, # Нейротизм\n",
    "    force_reload = False, # Принудительная загрузка файла с весами нейросетевой модели из сети\n",
    "    out = True, # Отображение\n",
    "    runtime = True, # Подсчет времени выполнения\n",
    "    run = True # Блокировка выполнения\n",
    ")"
   ]
  },
  {
   "cell_type": "markdown",
   "metadata": {},
   "source": [
    "### Получение прогнозов (видео модальность)\n",
    "\n",
    "> - `_b5.df_files_` - DataFrame с данными\n",
    "> - `_b5.df_accuracy_` - DataFrame с результатами вычисления точности"
   ]
  },
  {
   "cell_type": "code",
   "execution_count": 13,
   "metadata": {},
   "outputs": [
    {
     "data": {
      "text/markdown": [
       "<span style=\"color:#333\">**[</span><span style=\"color:#1776D2\">2023-12-14 22:24:55</span><span style=\"color:#333\">]</span> <span style=\"color:#333\">Получение прогнозов и вычисление точности (видео модальность) ...</span>**<p><span style=\"color:#333\">&nbsp;&nbsp;&nbsp;&nbsp;2000 из 2000 (100.0%) ... test80_25\\_Q4wOgixh7E.004.mp4 ...</span></p>"
      ],
      "text/plain": [
       "<IPython.core.display.Markdown object>"
      ]
     },
     "metadata": {},
     "output_type": "display_data"
    },
    {
     "data": {
      "text/html": [
       "<div>\n",
       "<style scoped>\n",
       "    .dataframe tbody tr th:only-of-type {\n",
       "        vertical-align: middle;\n",
       "    }\n",
       "\n",
       "    .dataframe tbody tr th {\n",
       "        vertical-align: top;\n",
       "    }\n",
       "\n",
       "    .dataframe thead th {\n",
       "        text-align: right;\n",
       "    }\n",
       "</style>\n",
       "<table border=\"1\" class=\"dataframe\">\n",
       "  <thead>\n",
       "    <tr style=\"text-align: right;\">\n",
       "      <th></th>\n",
       "      <th>Path</th>\n",
       "      <th>Openness</th>\n",
       "      <th>Conscientiousness</th>\n",
       "      <th>Extraversion</th>\n",
       "      <th>Agreeableness</th>\n",
       "      <th>Non-Neuroticism</th>\n",
       "    </tr>\n",
       "    <tr>\n",
       "      <th>ID</th>\n",
       "      <th></th>\n",
       "      <th></th>\n",
       "      <th></th>\n",
       "      <th></th>\n",
       "      <th></th>\n",
       "      <th></th>\n",
       "    </tr>\n",
       "  </thead>\n",
       "  <tbody>\n",
       "    <tr>\n",
       "      <th>1</th>\n",
       "      <td>E:\\Databases\\FirstImpressionsV2\\test\\test80_01...</td>\n",
       "      <td>0.526971</td>\n",
       "      <td>0.460063</td>\n",
       "      <td>0.422793</td>\n",
       "      <td>0.502726</td>\n",
       "      <td>0.450519</td>\n",
       "    </tr>\n",
       "    <tr>\n",
       "      <th>2</th>\n",
       "      <td>E:\\Databases\\FirstImpressionsV2\\test\\test80_01...</td>\n",
       "      <td>0.559385</td>\n",
       "      <td>0.432843</td>\n",
       "      <td>0.504231</td>\n",
       "      <td>0.578673</td>\n",
       "      <td>0.513424</td>\n",
       "    </tr>\n",
       "    <tr>\n",
       "      <th>3</th>\n",
       "      <td>E:\\Databases\\FirstImpressionsV2\\test\\test80_01...</td>\n",
       "      <td>0.466969</td>\n",
       "      <td>0.51701</td>\n",
       "      <td>0.331863</td>\n",
       "      <td>0.451395</td>\n",
       "      <td>0.406188</td>\n",
       "    </tr>\n",
       "    <tr>\n",
       "      <th>4</th>\n",
       "      <td>E:\\Databases\\FirstImpressionsV2\\test\\test80_01...</td>\n",
       "      <td>0.626113</td>\n",
       "      <td>0.597363</td>\n",
       "      <td>0.564068</td>\n",
       "      <td>0.574056</td>\n",
       "      <td>0.589245</td>\n",
       "    </tr>\n",
       "    <tr>\n",
       "      <th>5</th>\n",
       "      <td>E:\\Databases\\FirstImpressionsV2\\test\\test80_01...</td>\n",
       "      <td>0.5925</td>\n",
       "      <td>0.507246</td>\n",
       "      <td>0.505394</td>\n",
       "      <td>0.585405</td>\n",
       "      <td>0.493066</td>\n",
       "    </tr>\n",
       "    <tr>\n",
       "      <th>6</th>\n",
       "      <td>E:\\Databases\\FirstImpressionsV2\\test\\test80_01...</td>\n",
       "      <td>0.671855</td>\n",
       "      <td>0.642559</td>\n",
       "      <td>0.614689</td>\n",
       "      <td>0.613508</td>\n",
       "      <td>0.619511</td>\n",
       "    </tr>\n",
       "    <tr>\n",
       "      <th>7</th>\n",
       "      <td>E:\\Databases\\FirstImpressionsV2\\test\\test80_01...</td>\n",
       "      <td>0.411555</td>\n",
       "      <td>0.394029</td>\n",
       "      <td>0.329323</td>\n",
       "      <td>0.488684</td>\n",
       "      <td>0.39105</td>\n",
       "    </tr>\n",
       "    <tr>\n",
       "      <th>8</th>\n",
       "      <td>E:\\Databases\\FirstImpressionsV2\\test\\test80_01...</td>\n",
       "      <td>0.583696</td>\n",
       "      <td>0.568682</td>\n",
       "      <td>0.505574</td>\n",
       "      <td>0.625314</td>\n",
       "      <td>0.587337</td>\n",
       "    </tr>\n",
       "    <tr>\n",
       "      <th>9</th>\n",
       "      <td>E:\\Databases\\FirstImpressionsV2\\test\\test80_01...</td>\n",
       "      <td>0.551353</td>\n",
       "      <td>0.450333</td>\n",
       "      <td>0.449763</td>\n",
       "      <td>0.495501</td>\n",
       "      <td>0.438009</td>\n",
       "    </tr>\n",
       "    <tr>\n",
       "      <th>10</th>\n",
       "      <td>E:\\Databases\\FirstImpressionsV2\\test\\test80_01...</td>\n",
       "      <td>0.575084</td>\n",
       "      <td>0.517972</td>\n",
       "      <td>0.46315</td>\n",
       "      <td>0.582468</td>\n",
       "      <td>0.537961</td>\n",
       "    </tr>\n",
       "    <tr>\n",
       "      <th>11</th>\n",
       "      <td>E:\\Databases\\FirstImpressionsV2\\test\\test80_01...</td>\n",
       "      <td>0.559182</td>\n",
       "      <td>0.398618</td>\n",
       "      <td>0.433806</td>\n",
       "      <td>0.480592</td>\n",
       "      <td>0.492383</td>\n",
       "    </tr>\n",
       "    <tr>\n",
       "      <th>12</th>\n",
       "      <td>E:\\Databases\\FirstImpressionsV2\\test\\test80_01...</td>\n",
       "      <td>0.50948</td>\n",
       "      <td>0.432549</td>\n",
       "      <td>0.3319</td>\n",
       "      <td>0.495221</td>\n",
       "      <td>0.486891</td>\n",
       "    </tr>\n",
       "    <tr>\n",
       "      <th>13</th>\n",
       "      <td>E:\\Databases\\FirstImpressionsV2\\test\\test80_01...</td>\n",
       "      <td>0.330026</td>\n",
       "      <td>0.322635</td>\n",
       "      <td>0.235595</td>\n",
       "      <td>0.369766</td>\n",
       "      <td>0.25056</td>\n",
       "    </tr>\n",
       "    <tr>\n",
       "      <th>14</th>\n",
       "      <td>E:\\Databases\\FirstImpressionsV2\\test\\test80_01...</td>\n",
       "      <td>0.649351</td>\n",
       "      <td>0.550074</td>\n",
       "      <td>0.502858</td>\n",
       "      <td>0.526621</td>\n",
       "      <td>0.566755</td>\n",
       "    </tr>\n",
       "    <tr>\n",
       "      <th>15</th>\n",
       "      <td>E:\\Databases\\FirstImpressionsV2\\test\\test80_01...</td>\n",
       "      <td>0.651914</td>\n",
       "      <td>0.83048</td>\n",
       "      <td>0.535514</td>\n",
       "      <td>0.695223</td>\n",
       "      <td>0.734383</td>\n",
       "    </tr>\n",
       "    <tr>\n",
       "      <th>16</th>\n",
       "      <td>E:\\Databases\\FirstImpressionsV2\\test\\test80_01...</td>\n",
       "      <td>0.523986</td>\n",
       "      <td>0.435594</td>\n",
       "      <td>0.382946</td>\n",
       "      <td>0.41001</td>\n",
       "      <td>0.466265</td>\n",
       "    </tr>\n",
       "    <tr>\n",
       "      <th>17</th>\n",
       "      <td>E:\\Databases\\FirstImpressionsV2\\test\\test80_01...</td>\n",
       "      <td>0.575113</td>\n",
       "      <td>0.678301</td>\n",
       "      <td>0.468646</td>\n",
       "      <td>0.602139</td>\n",
       "      <td>0.626021</td>\n",
       "    </tr>\n",
       "    <tr>\n",
       "      <th>18</th>\n",
       "      <td>E:\\Databases\\FirstImpressionsV2\\test\\test80_01...</td>\n",
       "      <td>0.566349</td>\n",
       "      <td>0.558975</td>\n",
       "      <td>0.462116</td>\n",
       "      <td>0.606252</td>\n",
       "      <td>0.569516</td>\n",
       "    </tr>\n",
       "    <tr>\n",
       "      <th>19</th>\n",
       "      <td>E:\\Databases\\FirstImpressionsV2\\test\\test80_01...</td>\n",
       "      <td>0.672282</td>\n",
       "      <td>0.6552</td>\n",
       "      <td>0.656699</td>\n",
       "      <td>0.627328</td>\n",
       "      <td>0.663199</td>\n",
       "    </tr>\n",
       "    <tr>\n",
       "      <th>20</th>\n",
       "      <td>E:\\Databases\\FirstImpressionsV2\\test\\test80_01...</td>\n",
       "      <td>0.684442</td>\n",
       "      <td>0.602593</td>\n",
       "      <td>0.680469</td>\n",
       "      <td>0.635343</td>\n",
       "      <td>0.652304</td>\n",
       "    </tr>\n",
       "    <tr>\n",
       "      <th>21</th>\n",
       "      <td>E:\\Databases\\FirstImpressionsV2\\test\\test80_01...</td>\n",
       "      <td>0.550788</td>\n",
       "      <td>0.492015</td>\n",
       "      <td>0.404885</td>\n",
       "      <td>0.562745</td>\n",
       "      <td>0.478233</td>\n",
       "    </tr>\n",
       "    <tr>\n",
       "      <th>22</th>\n",
       "      <td>E:\\Databases\\FirstImpressionsV2\\test\\test80_01...</td>\n",
       "      <td>0.525446</td>\n",
       "      <td>0.469039</td>\n",
       "      <td>0.428517</td>\n",
       "      <td>0.491442</td>\n",
       "      <td>0.45359</td>\n",
       "    </tr>\n",
       "    <tr>\n",
       "      <th>23</th>\n",
       "      <td>E:\\Databases\\FirstImpressionsV2\\test\\test80_01...</td>\n",
       "      <td>0.473489</td>\n",
       "      <td>0.442729</td>\n",
       "      <td>0.353017</td>\n",
       "      <td>0.447929</td>\n",
       "      <td>0.358706</td>\n",
       "    </tr>\n",
       "    <tr>\n",
       "      <th>24</th>\n",
       "      <td>E:\\Databases\\FirstImpressionsV2\\test\\test80_01...</td>\n",
       "      <td>0.667829</td>\n",
       "      <td>0.655159</td>\n",
       "      <td>0.603695</td>\n",
       "      <td>0.630121</td>\n",
       "      <td>0.614812</td>\n",
       "    </tr>\n",
       "    <tr>\n",
       "      <th>25</th>\n",
       "      <td>E:\\Databases\\FirstImpressionsV2\\test\\test80_01...</td>\n",
       "      <td>0.469207</td>\n",
       "      <td>0.594029</td>\n",
       "      <td>0.364701</td>\n",
       "      <td>0.522734</td>\n",
       "      <td>0.481228</td>\n",
       "    </tr>\n",
       "    <tr>\n",
       "      <th>26</th>\n",
       "      <td>E:\\Databases\\FirstImpressionsV2\\test\\test80_01...</td>\n",
       "      <td>0.625514</td>\n",
       "      <td>0.641622</td>\n",
       "      <td>0.514204</td>\n",
       "      <td>0.547718</td>\n",
       "      <td>0.54766</td>\n",
       "    </tr>\n",
       "    <tr>\n",
       "      <th>27</th>\n",
       "      <td>E:\\Databases\\FirstImpressionsV2\\test\\test80_01...</td>\n",
       "      <td>0.568821</td>\n",
       "      <td>0.524382</td>\n",
       "      <td>0.475687</td>\n",
       "      <td>0.520644</td>\n",
       "      <td>0.531275</td>\n",
       "    </tr>\n",
       "    <tr>\n",
       "      <th>28</th>\n",
       "      <td>E:\\Databases\\FirstImpressionsV2\\test\\test80_01...</td>\n",
       "      <td>0.696397</td>\n",
       "      <td>0.665074</td>\n",
       "      <td>0.70902</td>\n",
       "      <td>0.655993</td>\n",
       "      <td>0.689747</td>\n",
       "    </tr>\n",
       "    <tr>\n",
       "      <th>29</th>\n",
       "      <td>E:\\Databases\\FirstImpressionsV2\\test\\test80_01...</td>\n",
       "      <td>0.578405</td>\n",
       "      <td>0.577321</td>\n",
       "      <td>0.487293</td>\n",
       "      <td>0.557221</td>\n",
       "      <td>0.52153</td>\n",
       "    </tr>\n",
       "    <tr>\n",
       "      <th>30</th>\n",
       "      <td>E:\\Databases\\FirstImpressionsV2\\test\\test80_01...</td>\n",
       "      <td>0.637576</td>\n",
       "      <td>0.587702</td>\n",
       "      <td>0.614512</td>\n",
       "      <td>0.637398</td>\n",
       "      <td>0.613861</td>\n",
       "    </tr>\n",
       "  </tbody>\n",
       "</table>\n",
       "</div>"
      ],
      "text/plain": [
       "                                                 Path  Openness  \\\n",
       "ID                                                                \n",
       "1   E:\\Databases\\FirstImpressionsV2\\test\\test80_01...  0.526971   \n",
       "2   E:\\Databases\\FirstImpressionsV2\\test\\test80_01...  0.559385   \n",
       "3   E:\\Databases\\FirstImpressionsV2\\test\\test80_01...  0.466969   \n",
       "4   E:\\Databases\\FirstImpressionsV2\\test\\test80_01...  0.626113   \n",
       "5   E:\\Databases\\FirstImpressionsV2\\test\\test80_01...    0.5925   \n",
       "6   E:\\Databases\\FirstImpressionsV2\\test\\test80_01...  0.671855   \n",
       "7   E:\\Databases\\FirstImpressionsV2\\test\\test80_01...  0.411555   \n",
       "8   E:\\Databases\\FirstImpressionsV2\\test\\test80_01...  0.583696   \n",
       "9   E:\\Databases\\FirstImpressionsV2\\test\\test80_01...  0.551353   \n",
       "10  E:\\Databases\\FirstImpressionsV2\\test\\test80_01...  0.575084   \n",
       "11  E:\\Databases\\FirstImpressionsV2\\test\\test80_01...  0.559182   \n",
       "12  E:\\Databases\\FirstImpressionsV2\\test\\test80_01...   0.50948   \n",
       "13  E:\\Databases\\FirstImpressionsV2\\test\\test80_01...  0.330026   \n",
       "14  E:\\Databases\\FirstImpressionsV2\\test\\test80_01...  0.649351   \n",
       "15  E:\\Databases\\FirstImpressionsV2\\test\\test80_01...  0.651914   \n",
       "16  E:\\Databases\\FirstImpressionsV2\\test\\test80_01...  0.523986   \n",
       "17  E:\\Databases\\FirstImpressionsV2\\test\\test80_01...  0.575113   \n",
       "18  E:\\Databases\\FirstImpressionsV2\\test\\test80_01...  0.566349   \n",
       "19  E:\\Databases\\FirstImpressionsV2\\test\\test80_01...  0.672282   \n",
       "20  E:\\Databases\\FirstImpressionsV2\\test\\test80_01...  0.684442   \n",
       "21  E:\\Databases\\FirstImpressionsV2\\test\\test80_01...  0.550788   \n",
       "22  E:\\Databases\\FirstImpressionsV2\\test\\test80_01...  0.525446   \n",
       "23  E:\\Databases\\FirstImpressionsV2\\test\\test80_01...  0.473489   \n",
       "24  E:\\Databases\\FirstImpressionsV2\\test\\test80_01...  0.667829   \n",
       "25  E:\\Databases\\FirstImpressionsV2\\test\\test80_01...  0.469207   \n",
       "26  E:\\Databases\\FirstImpressionsV2\\test\\test80_01...  0.625514   \n",
       "27  E:\\Databases\\FirstImpressionsV2\\test\\test80_01...  0.568821   \n",
       "28  E:\\Databases\\FirstImpressionsV2\\test\\test80_01...  0.696397   \n",
       "29  E:\\Databases\\FirstImpressionsV2\\test\\test80_01...  0.578405   \n",
       "30  E:\\Databases\\FirstImpressionsV2\\test\\test80_01...  0.637576   \n",
       "\n",
       "   Conscientiousness Extraversion Agreeableness Non-Neuroticism  \n",
       "ID                                                               \n",
       "1           0.460063     0.422793      0.502726        0.450519  \n",
       "2           0.432843     0.504231      0.578673        0.513424  \n",
       "3            0.51701     0.331863      0.451395        0.406188  \n",
       "4           0.597363     0.564068      0.574056        0.589245  \n",
       "5           0.507246     0.505394      0.585405        0.493066  \n",
       "6           0.642559     0.614689      0.613508        0.619511  \n",
       "7           0.394029     0.329323      0.488684         0.39105  \n",
       "8           0.568682     0.505574      0.625314        0.587337  \n",
       "9           0.450333     0.449763      0.495501        0.438009  \n",
       "10          0.517972      0.46315      0.582468        0.537961  \n",
       "11          0.398618     0.433806      0.480592        0.492383  \n",
       "12          0.432549       0.3319      0.495221        0.486891  \n",
       "13          0.322635     0.235595      0.369766         0.25056  \n",
       "14          0.550074     0.502858      0.526621        0.566755  \n",
       "15           0.83048     0.535514      0.695223        0.734383  \n",
       "16          0.435594     0.382946       0.41001        0.466265  \n",
       "17          0.678301     0.468646      0.602139        0.626021  \n",
       "18          0.558975     0.462116      0.606252        0.569516  \n",
       "19            0.6552     0.656699      0.627328        0.663199  \n",
       "20          0.602593     0.680469      0.635343        0.652304  \n",
       "21          0.492015     0.404885      0.562745        0.478233  \n",
       "22          0.469039     0.428517      0.491442         0.45359  \n",
       "23          0.442729     0.353017      0.447929        0.358706  \n",
       "24          0.655159     0.603695      0.630121        0.614812  \n",
       "25          0.594029     0.364701      0.522734        0.481228  \n",
       "26          0.641622     0.514204      0.547718         0.54766  \n",
       "27          0.524382     0.475687      0.520644        0.531275  \n",
       "28          0.665074      0.70902      0.655993        0.689747  \n",
       "29          0.577321     0.487293      0.557221         0.52153  \n",
       "30          0.587702     0.614512      0.637398        0.613861  "
      ]
     },
     "metadata": {},
     "output_type": "display_data"
    },
    {
     "data": {
      "text/markdown": [
       "<span style=\"color:#333\">**[</span><span style=\"color:#1776D2\">2023-12-14 22:24:55</span><span style=\"color:#333\">]</span> <span style=\"color:#333\">Точность по отдельным персональным качествам личности человека ...</span>** "
      ],
      "text/plain": [
       "<IPython.core.display.Markdown object>"
      ]
     },
     "metadata": {},
     "output_type": "display_data"
    },
    {
     "data": {
      "text/html": [
       "<div>\n",
       "<style scoped>\n",
       "    .dataframe tbody tr th:only-of-type {\n",
       "        vertical-align: middle;\n",
       "    }\n",
       "\n",
       "    .dataframe tbody tr th {\n",
       "        vertical-align: top;\n",
       "    }\n",
       "\n",
       "    .dataframe thead th {\n",
       "        text-align: right;\n",
       "    }\n",
       "</style>\n",
       "<table border=\"1\" class=\"dataframe\">\n",
       "  <thead>\n",
       "    <tr style=\"text-align: right;\">\n",
       "      <th></th>\n",
       "      <th>Openness</th>\n",
       "      <th>Conscientiousness</th>\n",
       "      <th>Extraversion</th>\n",
       "      <th>Agreeableness</th>\n",
       "      <th>Non-Neuroticism</th>\n",
       "      <th>Mean</th>\n",
       "    </tr>\n",
       "    <tr>\n",
       "      <th>Metrics</th>\n",
       "      <th></th>\n",
       "      <th></th>\n",
       "      <th></th>\n",
       "      <th></th>\n",
       "      <th></th>\n",
       "      <th></th>\n",
       "    </tr>\n",
       "  </thead>\n",
       "  <tbody>\n",
       "    <tr>\n",
       "      <th>MAE</th>\n",
       "      <td>0.0873</td>\n",
       "      <td>0.082</td>\n",
       "      <td>0.0805</td>\n",
       "      <td>0.087</td>\n",
       "      <td>0.0872</td>\n",
       "      <td>0.0848</td>\n",
       "    </tr>\n",
       "    <tr>\n",
       "      <th>Accuracy</th>\n",
       "      <td>0.9127</td>\n",
       "      <td>0.918</td>\n",
       "      <td>0.9195</td>\n",
       "      <td>0.913</td>\n",
       "      <td>0.9128</td>\n",
       "      <td>0.9152</td>\n",
       "    </tr>\n",
       "  </tbody>\n",
       "</table>\n",
       "</div>"
      ],
      "text/plain": [
       "          Openness  Conscientiousness  Extraversion  Agreeableness  \\\n",
       "Metrics                                                              \n",
       "MAE         0.0873              0.082        0.0805          0.087   \n",
       "Accuracy    0.9127              0.918        0.9195          0.913   \n",
       "\n",
       "          Non-Neuroticism    Mean  \n",
       "Metrics                            \n",
       "MAE                0.0872  0.0848  \n",
       "Accuracy           0.9128  0.9152  "
      ]
     },
     "metadata": {},
     "output_type": "display_data"
    },
    {
     "data": {
      "text/markdown": [
       "<span style=\"color:#333\">**[</span><span style=\"color:#1776D2\">2023-12-14 22:24:55</span><span style=\"color:#333\">]</span> <span style=\"color:#333\">Средняя средних абсолютных ошибок: <span style=\"color:#1776D2\">0.0848</span>, средняя точность: <span style=\"color:#1776D2\">0.9152</span> ...</span>** "
      ],
      "text/plain": [
       "<IPython.core.display.Markdown object>"
      ]
     },
     "metadata": {},
     "output_type": "display_data"
    },
    {
     "data": {
      "text/markdown": [
       "<span style=\"color:#008001\">**Лог файлы успешно сохранены ...**</span>"
      ],
      "text/plain": [
       "<IPython.core.display.Markdown object>"
      ]
     },
     "metadata": {},
     "output_type": "display_data"
    },
    {
     "data": {
      "text/markdown": [
       "<span style=\"color:#333\">**--- Время выполнения: 4762.254 сек. ---**</span>"
      ],
      "text/plain": [
       "<IPython.core.display.Markdown object>"
      ]
     },
     "metadata": {},
     "output_type": "display_data"
    }
   ],
   "source": [
    "# Настройки ядра\n",
    "_b5.path_to_dataset_ = 'E:/Databases/FirstImpressionsV2/test' # Директория набора данных\n",
    "# Директории не входящие в выборку\n",
    "_b5.ignore_dirs_ = []\n",
    "# Названия ключей для DataFrame набора данных\n",
    "_b5.keys_dataset_ = ['Path', 'Openness', 'Conscientiousness', 'Extraversion', 'Agreeableness', 'Non-Neuroticism']\n",
    "_b5.ext_ = ['.mp4'] # Расширения искомых файлов\n",
    "_b5.path_to_logs_ = './logs' # Директория для сохранения LOG файлов\n",
    "\n",
    "# Полный путь к файлу с верными предсказаниями для подсчета точности\n",
    "url_accuracy = _b5.true_traits_['fi']['sberdisk']\n",
    "\n",
    "res_get_video_union_predictions = _b5.get_video_union_predictions(\n",
    "    depth = 1,         # Глубина иерархии для получения аудио и видеоданных\n",
    "    recursive = False, # Рекурсивный поиск данных\n",
    "    reduction_fps = 5, # Понижение кадровой частоты\n",
    "    window = 10,       # Размер окна сегмента сигнала (в секундах)\n",
    "    step = 5,          # Шаг сдвига окна сегмента сигнала (в секундах)\n",
    "    lang = 'en',\n",
    "    accuracy = True,   # Вычисление точности\n",
    "    url_accuracy = url_accuracy,\n",
    "    logs = True,       # При необходимости формировать LOG файл\n",
    "    out = True,        # Отображение\n",
    "    runtime = True,    # Подсчет времени выполнения\n",
    "    run = True         # Блокировка выполнения\n",
    ")"
   ]
  }
 ],
 "metadata": {
  "kernelspec": {
   "display_name": "Python 3 (ipykernel)",
   "language": "python",
   "name": "python3"
  },
  "language_info": {
   "codemirror_mode": {
    "name": "ipython",
    "version": 3
   },
   "file_extension": ".py",
   "mimetype": "text/x-python",
   "name": "python",
   "nbconvert_exporter": "python",
   "pygments_lexer": "ipython3",
   "version": "3.9.13"
  }
 },
 "nbformat": 4,
 "nbformat_minor": 4
}
