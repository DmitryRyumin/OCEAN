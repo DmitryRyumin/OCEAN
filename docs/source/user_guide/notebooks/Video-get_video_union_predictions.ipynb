{
 "cells": [
  {
   "cell_type": "markdown",
   "metadata": {
    "tags": []
   },
   "source": [
    "## Получения прогнозов по видео\n",
    "\n",
    "<hr>"
   ]
  },
  {
   "cell_type": "code",
   "execution_count": 1,
   "metadata": {
    "nbsphinx": "hidden",
    "tags": []
   },
   "outputs": [],
   "source": [
    "import os  # Взаимодействие с файловой системой\n",
    "import sys # Доступ к некоторым переменным и функциям Python\n",
    "\n",
    "PATH_TO_SOURCE = os.path.abspath(os.path.dirname(globals()['_dh'][0]))\n",
    "PATH_TO_ROOT = os.path.join(PATH_TO_SOURCE, '..', '..', '..')\n",
    "\n",
    "sys.path.insert(0, os.path.abspath(PATH_TO_ROOT))"
   ]
  },
  {
   "cell_type": "markdown",
   "metadata": {},
   "source": [
    "### Импорт необходимых инструментов"
   ]
  },
  {
   "cell_type": "code",
   "execution_count": 2,
   "metadata": {},
   "outputs": [
    {
     "name": "stderr",
     "output_type": "stream",
     "text": [
      "INFO: Created TensorFlow Lite XNNPACK delegate for CPU.\n"
     ]
    }
   ],
   "source": [
    "from oceanai.modules.lab.build import Run"
   ]
  },
  {
   "cell_type": "markdown",
   "metadata": {},
   "source": [
    "### Сборка"
   ]
  },
  {
   "cell_type": "code",
   "execution_count": 3,
   "metadata": {},
   "outputs": [
    {
     "data": {
      "text/markdown": [
       "<span style=\"color:#FFF\">**[</span><span style=\"color:#1776D2\">2022-12-11 16:46:22</span><span style=\"color:#FFF\">]</span> <span style=\"color:#FFF\">OCEANAI - персональные качества личности человека:</span>**<br /><span style=\"color:#FFF\">&nbsp;&nbsp;&nbsp;&nbsp;Авторы:</span><br /><span style=\"color:#FFF\">&nbsp;&nbsp;&nbsp;&nbsp;&nbsp;&nbsp;&nbsp;&nbsp;Рюмина Елена [<u>ryumina_ev@mail.ru</u>]</span><br /><span style=\"color:#FFF\">&nbsp;&nbsp;&nbsp;&nbsp;&nbsp;&nbsp;&nbsp;&nbsp;Рюмин Дмитрий [<u>dl_03.03.1991@mail.ru</u>]</span><br /><span style=\"color:#FFF\">&nbsp;&nbsp;&nbsp;&nbsp;&nbsp;&nbsp;&nbsp;&nbsp;Карпов Алексей [<u>karpov@iias.spb.su</u>]</span><br /><span style=\"color:#FFF\">&nbsp;&nbsp;&nbsp;&nbsp;Сопровождающие:</span><br /><span style=\"color:#FFF\">&nbsp;&nbsp;&nbsp;&nbsp;&nbsp;&nbsp;&nbsp;&nbsp;Рюмина Елена [<u>ryumina_ev@mail.ru</u>]</span><br /><span style=\"color:#FFF\">&nbsp;&nbsp;&nbsp;&nbsp;&nbsp;&nbsp;&nbsp;&nbsp;Рюмин Дмитрий [<u>dl_03.03.1991@mail.ru</u>]</span><br /><span style=\"color:#FFF\">&nbsp;&nbsp;&nbsp;&nbsp;Версия: <u>1.0.0a2</u></span><br /><span style=\"color:#FFF\">&nbsp;&nbsp;&nbsp;&nbsp;Лицензия: <u>BSD License</u></span></p>"
      ],
      "text/plain": [
       "<IPython.core.display.Markdown object>"
      ]
     },
     "metadata": {},
     "output_type": "display_data"
    }
   ],
   "source": [
    "_b5 = Run(\n",
    "    lang = 'ru', # Язык\n",
    "    color_simple = '#FFF', # Цвет обычного текста (шестнадцатеричный код)\n",
    "    color_info = '#1776D2', # Цвет текста содержащего информацию (шестнадцатеричный код)\n",
    "    color_err = '#FF0000', # Цвет текста содержащего ошибку (шестнадцатеричный код)\n",
    "    color_true = '#008001', # Цвет текста содержащего положительную информацию (шестнадцатеричный код)\n",
    "    bold_text = True, # Жирное начертание текста\n",
    "    num_to_df_display = 30, # Количество строк для отображения в таблицах\n",
    "    text_runtime = 'Время выполнения', # Текст времени выполнения\n",
    "    metadata = True # Отображение информации о библиотеке\n",
    ")"
   ]
  },
  {
   "cell_type": "markdown",
   "metadata": {},
   "source": [
    "### Получение и отображение версий установленных библиотек\n",
    "\n",
    "> - `_b5.df_pkgs_` - DataFrame c версиями установленных библиотек"
   ]
  },
  {
   "cell_type": "code",
   "execution_count": 4,
   "metadata": {},
   "outputs": [
    {
     "data": {
      "text/html": [
       "<div>\n",
       "<style scoped>\n",
       "    .dataframe tbody tr th:only-of-type {\n",
       "        vertical-align: middle;\n",
       "    }\n",
       "\n",
       "    .dataframe tbody tr th {\n",
       "        vertical-align: top;\n",
       "    }\n",
       "\n",
       "    .dataframe thead th {\n",
       "        text-align: right;\n",
       "    }\n",
       "</style>\n",
       "<table border=\"1\" class=\"dataframe\">\n",
       "  <thead>\n",
       "    <tr style=\"text-align: right;\">\n",
       "      <th></th>\n",
       "      <th>Package</th>\n",
       "      <th>Version</th>\n",
       "    </tr>\n",
       "  </thead>\n",
       "  <tbody>\n",
       "    <tr>\n",
       "      <th>1</th>\n",
       "      <td>TensorFlow</td>\n",
       "      <td>2.11.0</td>\n",
       "    </tr>\n",
       "    <tr>\n",
       "      <th>2</th>\n",
       "      <td>Keras</td>\n",
       "      <td>2.11.0</td>\n",
       "    </tr>\n",
       "    <tr>\n",
       "      <th>3</th>\n",
       "      <td>OpenCV</td>\n",
       "      <td>4.6.0</td>\n",
       "    </tr>\n",
       "    <tr>\n",
       "      <th>4</th>\n",
       "      <td>MediaPipe</td>\n",
       "      <td>0.9.0</td>\n",
       "    </tr>\n",
       "    <tr>\n",
       "      <th>5</th>\n",
       "      <td>NumPy</td>\n",
       "      <td>1.23.5</td>\n",
       "    </tr>\n",
       "    <tr>\n",
       "      <th>6</th>\n",
       "      <td>SciPy</td>\n",
       "      <td>1.9.3</td>\n",
       "    </tr>\n",
       "    <tr>\n",
       "      <th>7</th>\n",
       "      <td>Pandas</td>\n",
       "      <td>1.5.2</td>\n",
       "    </tr>\n",
       "    <tr>\n",
       "      <th>8</th>\n",
       "      <td>Scikit-learn</td>\n",
       "      <td>1.1.3</td>\n",
       "    </tr>\n",
       "    <tr>\n",
       "      <th>9</th>\n",
       "      <td>OpenSmile</td>\n",
       "      <td>2.4.1</td>\n",
       "    </tr>\n",
       "    <tr>\n",
       "      <th>10</th>\n",
       "      <td>Librosa</td>\n",
       "      <td>0.9.2</td>\n",
       "    </tr>\n",
       "    <tr>\n",
       "      <th>11</th>\n",
       "      <td>AudioRead</td>\n",
       "      <td>3.0.0</td>\n",
       "    </tr>\n",
       "    <tr>\n",
       "      <th>12</th>\n",
       "      <td>IPython</td>\n",
       "      <td>8.7.0</td>\n",
       "    </tr>\n",
       "    <tr>\n",
       "      <th>13</th>\n",
       "      <td>PyMediaInfo</td>\n",
       "      <td>6.0.1</td>\n",
       "    </tr>\n",
       "    <tr>\n",
       "      <th>14</th>\n",
       "      <td>Requests</td>\n",
       "      <td>2.28.1</td>\n",
       "    </tr>\n",
       "    <tr>\n",
       "      <th>15</th>\n",
       "      <td>JupyterLab</td>\n",
       "      <td>3.5.0</td>\n",
       "    </tr>\n",
       "  </tbody>\n",
       "</table>\n",
       "</div>"
      ],
      "text/plain": [
       "         Package Version\n",
       "1     TensorFlow  2.11.0\n",
       "2          Keras  2.11.0\n",
       "3         OpenCV   4.6.0\n",
       "4      MediaPipe   0.9.0\n",
       "5          NumPy  1.23.5\n",
       "6          SciPy   1.9.3\n",
       "7         Pandas   1.5.2\n",
       "8   Scikit-learn   1.1.3\n",
       "9      OpenSmile   2.4.1\n",
       "10       Librosa   0.9.2\n",
       "11     AudioRead   3.0.0\n",
       "12       IPython   8.7.0\n",
       "13   PyMediaInfo   6.0.1\n",
       "14      Requests  2.28.1\n",
       "15    JupyterLab   3.5.0"
      ]
     },
     "metadata": {},
     "output_type": "display_data"
    },
    {
     "data": {
      "text/markdown": [
       "<span style=\"color:#FFF\">**--- Время выполнения: 0.007 сек. ---**</span>"
      ],
      "text/plain": [
       "<IPython.core.display.Markdown object>"
      ]
     },
     "metadata": {},
     "output_type": "display_data"
    }
   ],
   "source": [
    "_b5.libs_vers(runtime = True, run = True)"
   ]
  },
  {
   "cell_type": "markdown",
   "metadata": {},
   "source": [
    "### Формирование нейросетевой архитектуры модели для получения оценок по экспертным признакам\n",
    "\n",
    "> - `_b5.video_model_hc_` - Нейросетевая модель **tf.keras.Model** для получения оценок по экспертным признакам"
   ]
  },
  {
   "cell_type": "code",
   "execution_count": 5,
   "metadata": {},
   "outputs": [
    {
     "data": {
      "text/markdown": [
       "<span style=\"color:#FFF\">**[</span><span style=\"color:#1776D2\">2022-12-11 16:46:22</span><span style=\"color:#FFF\">]</span> <span style=\"color:#FFF\">Формирование нейросетевой архитектуры модели для получения оценок по экспертным признакам (видео модальность) ...</span>** "
      ],
      "text/plain": [
       "<IPython.core.display.Markdown object>"
      ]
     },
     "metadata": {},
     "output_type": "display_data"
    },
    {
     "data": {
      "text/markdown": [
       "<span style=\"color:#FFF\">**--- Время выполнения: 0.55 сек. ---**</span>"
      ],
      "text/plain": [
       "<IPython.core.display.Markdown object>"
      ]
     },
     "metadata": {},
     "output_type": "display_data"
    }
   ],
   "source": [
    "res_load_video_model_hc = _b5.load_video_model_hc(\n",
    "    show_summary = False, # Отображение сформированной нейросетевой архитектуры модели\n",
    "    out = True, # Отображение\n",
    "    runtime = True, # Подсчет времени выполнения\n",
    "    run = True # Блокировка выполнения\n",
    ")"
   ]
  },
  {
   "cell_type": "markdown",
   "metadata": {},
   "source": [
    "#### Загрузка весов нейросетевой модели для получения оценок по экспертным признакам\n",
    "\n",
    "> - `_b5.video_model_hc_` - Нейросетевая модель **tf.keras.Model** для получения оценок по экспертным признакам"
   ]
  },
  {
   "cell_type": "code",
   "execution_count": 6,
   "metadata": {},
   "outputs": [
    {
     "data": {
      "text/markdown": [
       "<span style=\"color:#FFF\">**[</span><span style=\"color:#1776D2\">2022-12-11 16:46:23</span><span style=\"color:#FFF\">]</span> <span style=\"color:#FFF\">Загрузка весов нейросетевой модели для получения оценок по экспертным признакам (видео модальность) ...</span>** "
      ],
      "text/plain": [
       "<IPython.core.display.Markdown object>"
      ]
     },
     "metadata": {},
     "output_type": "display_data"
    },
    {
     "data": {
      "text/markdown": [
       "<span style=\"color:#FFF\">**[</span><span style=\"color:#1776D2\">2022-12-11 16:46:23</span><span style=\"color:#FFF\">]</span> <span style=\"color:#FFF\">Загрузка файла \"<span style=\"color:#1776D2\">weights_2022-08-27_18-53-35.h5</span>\" (100.0%) ...</span>** "
      ],
      "text/plain": [
       "<IPython.core.display.Markdown object>"
      ]
     },
     "metadata": {},
     "output_type": "display_data"
    },
    {
     "data": {
      "text/markdown": [
       "<span style=\"color:#FFF\">**--- Время выполнения: 0.299 сек. ---**</span>"
      ],
      "text/plain": [
       "<IPython.core.display.Markdown object>"
      ]
     },
     "metadata": {},
     "output_type": "display_data"
    }
   ],
   "source": [
    "# Настройки ядра\n",
    "_b5.path_to_save_ = './models' # Директория для сохранения файла\n",
    "_b5.chunk_size_ = 2000000 # Размер загрузки файла из сети за 1 шаг\n",
    "\n",
    "url = _b5.weights_for_big5_['video']['hc']['sberdisk']\n",
    "\n",
    "res_load_video_model_weights_hc = _b5.load_video_model_weights_hc(\n",
    "    url = url, # Полный путь к файлу с весами нейросетевой модели\n",
    "    force_reload = True, # Принудительная загрузка файла с весами нейросетевой модели из сети\n",
    "    out = True, # Отображение\n",
    "    runtime = True, # Подсчет времени выполнения\n",
    "    run = True # Блокировка выполнения\n",
    ")"
   ]
  },
  {
   "cell_type": "markdown",
   "metadata": {},
   "source": [
    "### Формирование нейросетевой архитектуры для получения нейросетевых признаков\n",
    "\n",
    "> - `_b5.video_model_deep_fe_` - Нейросетевая модель **tf.keras.Model** для получения нейросетевых признаков"
   ]
  },
  {
   "cell_type": "code",
   "execution_count": 7,
   "metadata": {},
   "outputs": [
    {
     "data": {
      "text/markdown": [
       "<span style=\"color:#FFF\">**[</span><span style=\"color:#1776D2\">2022-12-11 16:46:23</span><span style=\"color:#FFF\">]</span> <span style=\"color:#FFF\">Формирование нейросетевой архитектуры для получения нейросетевых признаков (видео модальность) ...</span>** "
      ],
      "text/plain": [
       "<IPython.core.display.Markdown object>"
      ]
     },
     "metadata": {},
     "output_type": "display_data"
    },
    {
     "data": {
      "text/markdown": [
       "<span style=\"color:#FFF\">**--- Время выполнения: 1.143 сек. ---**</span>"
      ],
      "text/plain": [
       "<IPython.core.display.Markdown object>"
      ]
     },
     "metadata": {},
     "output_type": "display_data"
    }
   ],
   "source": [
    "res_load_video_model_deep_fe = _b5.load_video_model_deep_fe(\n",
    "    show_summary = False, # Отображение сформированной нейросетевой архитектуры модели\n",
    "    out = True, # Отображение\n",
    "    runtime = True, # Подсчет времени выполнения\n",
    "    run = True # Блокировка выполнения\n",
    ")"
   ]
  },
  {
   "cell_type": "markdown",
   "metadata": {},
   "source": [
    "#### Загрузка весов нейросетевой модели для получения нейросетевых признаков\n",
    "\n",
    "> - `_b5.video_model_deep_fe_` - Нейросетевая модель **tf.keras.Model** для получения нейросетевых признаков"
   ]
  },
  {
   "cell_type": "code",
   "execution_count": 8,
   "metadata": {},
   "outputs": [
    {
     "data": {
      "text/markdown": [
       "<span style=\"color:#FFF\">**[</span><span style=\"color:#1776D2\">2022-12-11 16:46:24</span><span style=\"color:#FFF\">]</span> <span style=\"color:#FFF\">Загрузка весов нейросетевой модели для получения нейросетевых признаков (видео модальность) ...</span>** "
      ],
      "text/plain": [
       "<IPython.core.display.Markdown object>"
      ]
     },
     "metadata": {},
     "output_type": "display_data"
    },
    {
     "data": {
      "text/markdown": [
       "<span style=\"color:#FFF\">**[</span><span style=\"color:#1776D2\">2022-12-11 16:46:29</span><span style=\"color:#FFF\">]</span> <span style=\"color:#FFF\">Загрузка файла \"<span style=\"color:#1776D2\">weights_2022-11-01_12-27-07.h5</span>\" (100.0%) ...</span>** "
      ],
      "text/plain": [
       "<IPython.core.display.Markdown object>"
      ]
     },
     "metadata": {},
     "output_type": "display_data"
    },
    {
     "data": {
      "text/markdown": [
       "<span style=\"color:#FFF\">**--- Время выполнения: 4.649 сек. ---**</span>"
      ],
      "text/plain": [
       "<IPython.core.display.Markdown object>"
      ]
     },
     "metadata": {},
     "output_type": "display_data"
    }
   ],
   "source": [
    "# Настройки ядра\n",
    "_b5.path_to_save_ = './models' # Директория для сохранения файла\n",
    "_b5.chunk_size_ = 2000000 # Размер загрузки файла из сети за 1 шаг\n",
    "\n",
    "url = _b5.weights_for_big5_['video']['fe']['sberdisk']\n",
    "\n",
    "res_load_video_model_weights_deep_fe = _b5.load_video_model_weights_deep_fe(\n",
    "    url = url, # Полный путь к файлу с весами нейросетевой модели\n",
    "    force_reload = True, # Принудительная загрузка файла с весами нейросетевой модели из сети\n",
    "    out = True, # Отображение\n",
    "    runtime = True, # Подсчет времени выполнения\n",
    "    run = True # Блокировка выполнения\n",
    ")"
   ]
  },
  {
   "cell_type": "markdown",
   "metadata": {},
   "source": [
    "### Формирование нейросетевой архитектуры модели для получения оценок по нейросетевым признакам\n",
    "\n",
    "> - `_b5.video_model_nn_` - Нейросетевая модель **tf.keras.Model** для получения оценок по нейросетевым признакам"
   ]
  },
  {
   "cell_type": "code",
   "execution_count": 9,
   "metadata": {},
   "outputs": [
    {
     "data": {
      "text/markdown": [
       "<span style=\"color:#FFF\">**[</span><span style=\"color:#1776D2\">2022-12-11 16:46:29</span><span style=\"color:#FFF\">]</span> <span style=\"color:#FFF\">Формирование нейросетевой архитектуры для получения оценок по нейросетевым признакам (видео модальность) ...</span>** "
      ],
      "text/plain": [
       "<IPython.core.display.Markdown object>"
      ]
     },
     "metadata": {},
     "output_type": "display_data"
    },
    {
     "data": {
      "text/markdown": [
       "<span style=\"color:#FFF\">**--- Время выполнения: 2.0 сек. ---**</span>"
      ],
      "text/plain": [
       "<IPython.core.display.Markdown object>"
      ]
     },
     "metadata": {},
     "output_type": "display_data"
    }
   ],
   "source": [
    "res_load_video_model_nn = _b5.load_video_model_nn(\n",
    "    show_summary = False, # Отображение сформированной нейросетевой архитектуры модели\n",
    "    out = True, # Отображение\n",
    "    runtime = True, # Подсчет времени выполнения\n",
    "    run = True # Блокировка выполнения\n",
    ")"
   ]
  },
  {
   "cell_type": "markdown",
   "metadata": {},
   "source": [
    "#### Загрузка весов нейросетевой модели для получения оценок по нейросетевым признакам\n",
    "\n",
    "> - `_b5.video_model_nn_` - Нейросетевая модель **tf.keras.Model** для получения оценок по нейросетевым признакам"
   ]
  },
  {
   "cell_type": "code",
   "execution_count": 10,
   "metadata": {},
   "outputs": [
    {
     "data": {
      "text/markdown": [
       "<span style=\"color:#FFF\">**[</span><span style=\"color:#1776D2\">2022-12-11 16:46:31</span><span style=\"color:#FFF\">]</span> <span style=\"color:#FFF\">Загрузка весов нейросетевой модели для получения оценок по нейросетевым признакам (видео модальность) ...</span>** "
      ],
      "text/plain": [
       "<IPython.core.display.Markdown object>"
      ]
     },
     "metadata": {},
     "output_type": "display_data"
    },
    {
     "data": {
      "text/markdown": [
       "<span style=\"color:#FFF\">**[</span><span style=\"color:#1776D2\">2022-12-11 16:46:31</span><span style=\"color:#FFF\">]</span> <span style=\"color:#FFF\">Загрузка файла \"<span style=\"color:#1776D2\">weights_2022-03-22_16-31-48.h5</span>\"</span>** "
      ],
      "text/plain": [
       "<IPython.core.display.Markdown object>"
      ]
     },
     "metadata": {},
     "output_type": "display_data"
    },
    {
     "data": {
      "text/markdown": [
       "<span style=\"color:#FFF\">**--- Время выполнения: 0.221 сек. ---**</span>"
      ],
      "text/plain": [
       "<IPython.core.display.Markdown object>"
      ]
     },
     "metadata": {},
     "output_type": "display_data"
    }
   ],
   "source": [
    "# Настройки ядра\n",
    "_b5.path_to_save_ = './models' # Директория для сохранения файла\n",
    "_b5.chunk_size_ = 2000000 # Размер загрузки файла из сети за 1 шаг\n",
    "\n",
    "url = _b5.weights_for_big5_['video']['nn']['sberdisk']\n",
    "\n",
    "res_load_video_model_weights_nn = _b5.load_video_model_weights_nn(\n",
    "    url = url, # Полный путь к файлу с весами нейросетевой модели\n",
    "    force_reload = False, # Принудительная загрузка файла с весами нейросетевой модели из сети\n",
    "    out = True, # Отображение\n",
    "    runtime = True, # Подсчет времени выполнения\n",
    "    run = True # Блокировка выполнения\n",
    ")"
   ]
  },
  {
   "cell_type": "markdown",
   "metadata": {},
   "source": [
    "### Формирование нейросетевых архитектур моделей для получения результатов оценки персональных качеств\n",
    "\n",
    "> - `_b5.video_models_b5_` - Нейросетевые модели **tf.keras.Model** для получения результатов оценки персональных качеств"
   ]
  },
  {
   "cell_type": "code",
   "execution_count": 11,
   "metadata": {},
   "outputs": [
    {
     "data": {
      "text/markdown": [
       "<span style=\"color:#FFF\">**[</span><span style=\"color:#1776D2\">2022-12-11 16:46:31</span><span style=\"color:#FFF\">]</span> <span style=\"color:#FFF\">Формирование нейросетевых архитектур моделей для получения результатов оценки персональных качеств (видео модальность) ...</span>** "
      ],
      "text/plain": [
       "<IPython.core.display.Markdown object>"
      ]
     },
     "metadata": {},
     "output_type": "display_data"
    },
    {
     "data": {
      "text/markdown": [
       "<span style=\"color:#FFF\">**--- Время выполнения: 0.104 сек. ---**</span>"
      ],
      "text/plain": [
       "<IPython.core.display.Markdown object>"
      ]
     },
     "metadata": {},
     "output_type": "display_data"
    }
   ],
   "source": [
    "res_load_video_models_b5 = _b5.load_video_models_b5(\n",
    "    show_summary = False, # Отображение сформированной нейросетевой архитектуры модели\n",
    "    out = True, # Отображение\n",
    "    runtime = True, # Подсчет времени выполнения\n",
    "    run = True # Блокировка выполнения\n",
    ")"
   ]
  },
  {
   "cell_type": "markdown",
   "metadata": {},
   "source": [
    "#### Загрузка весов нейросетевых моделей для получения результатов оценки персональных качеств\n",
    "\n",
    "> - `_b5.video_models_b5_` - Нейросетевые модели **tf.keras.Model** для получения результатов оценки персональных качеств"
   ]
  },
  {
   "cell_type": "code",
   "execution_count": 12,
   "metadata": {},
   "outputs": [
    {
     "data": {
      "text/markdown": [
       "<span style=\"color:#FFF\">**[</span><span style=\"color:#1776D2\">2022-12-11 16:46:31</span><span style=\"color:#FFF\">]</span> <span style=\"color:#FFF\">Загрузка весов нейросетевых моделей для получения результатов оценки персональных качеств (видео модальность) ...</span>** "
      ],
      "text/plain": [
       "<IPython.core.display.Markdown object>"
      ]
     },
     "metadata": {},
     "output_type": "display_data"
    },
    {
     "data": {
      "text/markdown": [
       "<span style=\"color:#FFF\">**[</span><span style=\"color:#1776D2\">2022-12-11 16:46:31</span><span style=\"color:#FFF\">]</span> <span style=\"color:#FFF\">Загрузка файла \"<span style=\"color:#1776D2\">weights_2022-06-15_16-46-30.h5</span>\"</span>**  <span style=\"color:#FFF\">**Открытость опыту**</span>"
      ],
      "text/plain": [
       "<IPython.core.display.Markdown object>"
      ]
     },
     "metadata": {},
     "output_type": "display_data"
    },
    {
     "data": {
      "text/markdown": [
       "<span style=\"color:#FFF\">**[</span><span style=\"color:#1776D2\">2022-12-11 16:46:32</span><span style=\"color:#FFF\">]</span> <span style=\"color:#FFF\">Загрузка файла \"<span style=\"color:#1776D2\">weights_2022-06-15_16-48-50.h5</span>\"</span>**  <span style=\"color:#FFF\">**Добросовестность**</span>"
      ],
      "text/plain": [
       "<IPython.core.display.Markdown object>"
      ]
     },
     "metadata": {},
     "output_type": "display_data"
    },
    {
     "data": {
      "text/markdown": [
       "<span style=\"color:#FFF\">**[</span><span style=\"color:#1776D2\">2022-12-11 16:46:32</span><span style=\"color:#FFF\">]</span> <span style=\"color:#FFF\">Загрузка файла \"<span style=\"color:#1776D2\">weights_2022-06-15_16-54-06.h5</span>\"</span>**  <span style=\"color:#FFF\">**Экстраверсия**</span>"
      ],
      "text/plain": [
       "<IPython.core.display.Markdown object>"
      ]
     },
     "metadata": {},
     "output_type": "display_data"
    },
    {
     "data": {
      "text/markdown": [
       "<span style=\"color:#FFF\">**[</span><span style=\"color:#1776D2\">2022-12-11 16:46:32</span><span style=\"color:#FFF\">]</span> <span style=\"color:#FFF\">Загрузка файла \"<span style=\"color:#1776D2\">weights_2022-06-15_17-02-03.h5</span>\"</span>**  <span style=\"color:#FFF\">**Доброжелательность**</span>"
      ],
      "text/plain": [
       "<IPython.core.display.Markdown object>"
      ]
     },
     "metadata": {},
     "output_type": "display_data"
    },
    {
     "data": {
      "text/markdown": [
       "<span style=\"color:#FFF\">**[</span><span style=\"color:#1776D2\">2022-12-11 16:46:32</span><span style=\"color:#FFF\">]</span> <span style=\"color:#FFF\">Загрузка файла \"<span style=\"color:#1776D2\">weights_2022-06-15_17-06-15.h5</span>\"</span>**  <span style=\"color:#FFF\">**Нейротизм**</span>"
      ],
      "text/plain": [
       "<IPython.core.display.Markdown object>"
      ]
     },
     "metadata": {},
     "output_type": "display_data"
    },
    {
     "data": {
      "text/markdown": [
       "<span style=\"color:#FFF\">**--- Время выполнения: 0.636 сек. ---**</span>"
      ],
      "text/plain": [
       "<IPython.core.display.Markdown object>"
      ]
     },
     "metadata": {},
     "output_type": "display_data"
    }
   ],
   "source": [
    "# Настройки ядра\n",
    "_b5.path_to_save_ = './models' # Директория для сохранения файла\n",
    "_b5.chunk_size_ = 2000000 # Размер загрузки файла из сети за 1 шаг\n",
    "\n",
    "url_openness = _b5.weights_for_big5_['video']['b5']['openness']['sberdisk']\n",
    "url_conscientiousness = _b5.weights_for_big5_['video']['b5']['conscientiousness']['sberdisk']\n",
    "url_extraversion = _b5.weights_for_big5_['video']['b5']['extraversion']['sberdisk']\n",
    "url_agreeableness = _b5.weights_for_big5_['video']['b5']['agreeableness']['sberdisk']\n",
    "url_neuroticism = _b5.weights_for_big5_['video']['b5']['neuroticism']['sberdisk']\n",
    "\n",
    "res_load_video_models_weights_b5 = _b5.load_video_models_weights_b5(\n",
    "    url_openness = url_openness, # Открытость опыту\n",
    "    url_conscientiousness = url_conscientiousness, # Добросовестность\n",
    "    url_extraversion = url_extraversion, # Экстраверсия\n",
    "    url_agreeableness = url_agreeableness, # Доброжелательность\n",
    "    url_neuroticism = url_neuroticism, # Нейротизм\n",
    "    force_reload = False, # Принудительная загрузка файла с весами нейросетевой модели из сети\n",
    "    out = True, # Отображение\n",
    "    runtime = True, # Подсчет времени выполнения\n",
    "    run = True # Блокировка выполнения\n",
    ")"
   ]
  },
  {
   "cell_type": "markdown",
   "metadata": {},
   "source": [
    "#### Получение прогнозов (аудио модальность)\n",
    "\n",
    "> - `_b5.df_files_` - DataFrame с данными\n",
    "> - `_b5.df_accuracy_` - DataFrame с результатами вычисления точности"
   ]
  },
  {
   "cell_type": "code",
   "execution_count": 13,
   "metadata": {},
   "outputs": [
    {
     "data": {
      "text/markdown": [
       "<span style=\"color:#FFF\">**[</span><span style=\"color:#1776D2\">2022-12-11 21:03:52</span><span style=\"color:#FFF\">]</span> <span style=\"color:#FFF\">Получение прогнозов и вычисление точности (видео модальность) ...</span>**<p><span style=\"color:#FFF\">&nbsp;&nbsp;&nbsp;&nbsp;2000 из 2000 (100.0%) ... test/test80_04/yw-2AGeAjFc.000.mp4 ...</span></p>"
      ],
      "text/plain": [
       "<IPython.core.display.Markdown object>"
      ]
     },
     "metadata": {},
     "output_type": "display_data"
    },
    {
     "data": {
      "text/html": [
       "<div>\n",
       "<style scoped>\n",
       "    .dataframe tbody tr th:only-of-type {\n",
       "        vertical-align: middle;\n",
       "    }\n",
       "\n",
       "    .dataframe tbody tr th {\n",
       "        vertical-align: top;\n",
       "    }\n",
       "\n",
       "    .dataframe thead th {\n",
       "        text-align: right;\n",
       "    }\n",
       "</style>\n",
       "<table border=\"1\" class=\"dataframe\">\n",
       "  <thead>\n",
       "    <tr style=\"text-align: right;\">\n",
       "      <th></th>\n",
       "      <th>Path</th>\n",
       "      <th>Openness</th>\n",
       "      <th>Conscientiousness</th>\n",
       "      <th>Extraversion</th>\n",
       "      <th>Agreeableness</th>\n",
       "      <th>Neuroticism</th>\n",
       "    </tr>\n",
       "    <tr>\n",
       "      <th>ID</th>\n",
       "      <th></th>\n",
       "      <th></th>\n",
       "      <th></th>\n",
       "      <th></th>\n",
       "      <th></th>\n",
       "      <th></th>\n",
       "    </tr>\n",
       "  </thead>\n",
       "  <tbody>\n",
       "    <tr>\n",
       "      <th>1</th>\n",
       "      <td>/Users/dl/GitHub/OCEANAI.private/oceanai/datas...</td>\n",
       "      <td>0.608291</td>\n",
       "      <td>0.588899</td>\n",
       "      <td>0.501183</td>\n",
       "      <td>0.582908</td>\n",
       "      <td>0.576623</td>\n",
       "    </tr>\n",
       "    <tr>\n",
       "      <th>2</th>\n",
       "      <td>/Users/dl/GitHub/OCEANAI.private/oceanai/datas...</td>\n",
       "      <td>0.661451</td>\n",
       "      <td>0.578297</td>\n",
       "      <td>0.593245</td>\n",
       "      <td>0.589372</td>\n",
       "      <td>0.59824</td>\n",
       "    </tr>\n",
       "    <tr>\n",
       "      <th>3</th>\n",
       "      <td>/Users/dl/GitHub/OCEANAI.private/oceanai/datas...</td>\n",
       "      <td>0.527108</td>\n",
       "      <td>0.459685</td>\n",
       "      <td>0.418835</td>\n",
       "      <td>0.520207</td>\n",
       "      <td>0.42901</td>\n",
       "    </tr>\n",
       "    <tr>\n",
       "      <th>4</th>\n",
       "      <td>/Users/dl/GitHub/OCEANAI.private/oceanai/datas...</td>\n",
       "      <td>0.604264</td>\n",
       "      <td>0.65761</td>\n",
       "      <td>0.517209</td>\n",
       "      <td>0.65528</td>\n",
       "      <td>0.593034</td>\n",
       "    </tr>\n",
       "    <tr>\n",
       "      <th>5</th>\n",
       "      <td>/Users/dl/GitHub/OCEANAI.private/oceanai/datas...</td>\n",
       "      <td>0.505877</td>\n",
       "      <td>0.455019</td>\n",
       "      <td>0.389953</td>\n",
       "      <td>0.529122</td>\n",
       "      <td>0.462579</td>\n",
       "    </tr>\n",
       "    <tr>\n",
       "      <th>6</th>\n",
       "      <td>/Users/dl/GitHub/OCEANAI.private/oceanai/datas...</td>\n",
       "      <td>0.579816</td>\n",
       "      <td>0.396078</td>\n",
       "      <td>0.412173</td>\n",
       "      <td>0.509535</td>\n",
       "      <td>0.44431</td>\n",
       "    </tr>\n",
       "    <tr>\n",
       "      <th>7</th>\n",
       "      <td>/Users/dl/GitHub/OCEANAI.private/oceanai/datas...</td>\n",
       "      <td>0.636979</td>\n",
       "      <td>0.565163</td>\n",
       "      <td>0.596547</td>\n",
       "      <td>0.581199</td>\n",
       "      <td>0.594057</td>\n",
       "    </tr>\n",
       "    <tr>\n",
       "      <th>8</th>\n",
       "      <td>/Users/dl/GitHub/OCEANAI.private/oceanai/datas...</td>\n",
       "      <td>0.489927</td>\n",
       "      <td>0.459276</td>\n",
       "      <td>0.401972</td>\n",
       "      <td>0.529253</td>\n",
       "      <td>0.475732</td>\n",
       "    </tr>\n",
       "    <tr>\n",
       "      <th>9</th>\n",
       "      <td>/Users/dl/GitHub/OCEANAI.private/oceanai/datas...</td>\n",
       "      <td>0.459953</td>\n",
       "      <td>0.602312</td>\n",
       "      <td>0.345716</td>\n",
       "      <td>0.555249</td>\n",
       "      <td>0.465719</td>\n",
       "    </tr>\n",
       "    <tr>\n",
       "      <th>10</th>\n",
       "      <td>/Users/dl/GitHub/OCEANAI.private/oceanai/datas...</td>\n",
       "      <td>0.661356</td>\n",
       "      <td>0.53626</td>\n",
       "      <td>0.592904</td>\n",
       "      <td>0.668499</td>\n",
       "      <td>0.640769</td>\n",
       "    </tr>\n",
       "    <tr>\n",
       "      <th>11</th>\n",
       "      <td>/Users/dl/GitHub/OCEANAI.private/oceanai/datas...</td>\n",
       "      <td>0.676824</td>\n",
       "      <td>0.670385</td>\n",
       "      <td>0.624558</td>\n",
       "      <td>0.632891</td>\n",
       "      <td>0.645098</td>\n",
       "    </tr>\n",
       "    <tr>\n",
       "      <th>12</th>\n",
       "      <td>/Users/dl/GitHub/OCEANAI.private/oceanai/datas...</td>\n",
       "      <td>0.380311</td>\n",
       "      <td>0.292063</td>\n",
       "      <td>0.26858</td>\n",
       "      <td>0.377671</td>\n",
       "      <td>0.270471</td>\n",
       "    </tr>\n",
       "    <tr>\n",
       "      <th>13</th>\n",
       "      <td>/Users/dl/GitHub/OCEANAI.private/oceanai/datas...</td>\n",
       "      <td>0.669534</td>\n",
       "      <td>0.512284</td>\n",
       "      <td>0.435214</td>\n",
       "      <td>0.478462</td>\n",
       "      <td>0.478063</td>\n",
       "    </tr>\n",
       "    <tr>\n",
       "      <th>14</th>\n",
       "      <td>/Users/dl/GitHub/OCEANAI.private/oceanai/datas...</td>\n",
       "      <td>0.597146</td>\n",
       "      <td>0.663032</td>\n",
       "      <td>0.5282</td>\n",
       "      <td>0.647053</td>\n",
       "      <td>0.620368</td>\n",
       "    </tr>\n",
       "    <tr>\n",
       "      <th>15</th>\n",
       "      <td>/Users/dl/GitHub/OCEANAI.private/oceanai/datas...</td>\n",
       "      <td>0.512098</td>\n",
       "      <td>0.45855</td>\n",
       "      <td>0.39145</td>\n",
       "      <td>0.469369</td>\n",
       "      <td>0.427472</td>\n",
       "    </tr>\n",
       "    <tr>\n",
       "      <th>16</th>\n",
       "      <td>/Users/dl/GitHub/OCEANAI.private/oceanai/datas...</td>\n",
       "      <td>0.55148</td>\n",
       "      <td>0.439325</td>\n",
       "      <td>0.441604</td>\n",
       "      <td>0.488599</td>\n",
       "      <td>0.448521</td>\n",
       "    </tr>\n",
       "    <tr>\n",
       "      <th>17</th>\n",
       "      <td>/Users/dl/GitHub/OCEANAI.private/oceanai/datas...</td>\n",
       "      <td>0.507806</td>\n",
       "      <td>0.485112</td>\n",
       "      <td>0.401344</td>\n",
       "      <td>0.546405</td>\n",
       "      <td>0.463422</td>\n",
       "    </tr>\n",
       "    <tr>\n",
       "      <th>18</th>\n",
       "      <td>/Users/dl/GitHub/OCEANAI.private/oceanai/datas...</td>\n",
       "      <td>0.53634</td>\n",
       "      <td>0.556031</td>\n",
       "      <td>0.502185</td>\n",
       "      <td>0.607919</td>\n",
       "      <td>0.528054</td>\n",
       "    </tr>\n",
       "    <tr>\n",
       "      <th>19</th>\n",
       "      <td>/Users/dl/GitHub/OCEANAI.private/oceanai/datas...</td>\n",
       "      <td>0.441206</td>\n",
       "      <td>0.327241</td>\n",
       "      <td>0.300706</td>\n",
       "      <td>0.376834</td>\n",
       "      <td>0.315691</td>\n",
       "    </tr>\n",
       "    <tr>\n",
       "      <th>20</th>\n",
       "      <td>/Users/dl/GitHub/OCEANAI.private/oceanai/datas...</td>\n",
       "      <td>0.543785</td>\n",
       "      <td>0.496215</td>\n",
       "      <td>0.461758</td>\n",
       "      <td>0.543176</td>\n",
       "      <td>0.511415</td>\n",
       "    </tr>\n",
       "    <tr>\n",
       "      <th>21</th>\n",
       "      <td>/Users/dl/GitHub/OCEANAI.private/oceanai/datas...</td>\n",
       "      <td>0.607067</td>\n",
       "      <td>0.737411</td>\n",
       "      <td>0.455133</td>\n",
       "      <td>0.647487</td>\n",
       "      <td>0.644389</td>\n",
       "    </tr>\n",
       "    <tr>\n",
       "      <th>22</th>\n",
       "      <td>/Users/dl/GitHub/OCEANAI.private/oceanai/datas...</td>\n",
       "      <td>0.622571</td>\n",
       "      <td>0.541001</td>\n",
       "      <td>0.550565</td>\n",
       "      <td>0.59144</td>\n",
       "      <td>0.557298</td>\n",
       "    </tr>\n",
       "    <tr>\n",
       "      <th>23</th>\n",
       "      <td>/Users/dl/GitHub/OCEANAI.private/oceanai/datas...</td>\n",
       "      <td>0.493816</td>\n",
       "      <td>0.413649</td>\n",
       "      <td>0.420854</td>\n",
       "      <td>0.467975</td>\n",
       "      <td>0.428532</td>\n",
       "    </tr>\n",
       "    <tr>\n",
       "      <th>24</th>\n",
       "      <td>/Users/dl/GitHub/OCEANAI.private/oceanai/datas...</td>\n",
       "      <td>0.436601</td>\n",
       "      <td>0.403559</td>\n",
       "      <td>0.36628</td>\n",
       "      <td>0.463585</td>\n",
       "      <td>0.402131</td>\n",
       "    </tr>\n",
       "    <tr>\n",
       "      <th>25</th>\n",
       "      <td>/Users/dl/GitHub/OCEANAI.private/oceanai/datas...</td>\n",
       "      <td>0.648608</td>\n",
       "      <td>0.696656</td>\n",
       "      <td>0.558988</td>\n",
       "      <td>0.602866</td>\n",
       "      <td>0.605066</td>\n",
       "    </tr>\n",
       "    <tr>\n",
       "      <th>26</th>\n",
       "      <td>/Users/dl/GitHub/OCEANAI.private/oceanai/datas...</td>\n",
       "      <td>0.621685</td>\n",
       "      <td>0.375665</td>\n",
       "      <td>0.446427</td>\n",
       "      <td>0.520072</td>\n",
       "      <td>0.486112</td>\n",
       "    </tr>\n",
       "    <tr>\n",
       "      <th>27</th>\n",
       "      <td>/Users/dl/GitHub/OCEANAI.private/oceanai/datas...</td>\n",
       "      <td>0.551339</td>\n",
       "      <td>0.574673</td>\n",
       "      <td>0.459378</td>\n",
       "      <td>0.561397</td>\n",
       "      <td>0.479306</td>\n",
       "    </tr>\n",
       "    <tr>\n",
       "      <th>28</th>\n",
       "      <td>/Users/dl/GitHub/OCEANAI.private/oceanai/datas...</td>\n",
       "      <td>0.679971</td>\n",
       "      <td>0.635061</td>\n",
       "      <td>0.610862</td>\n",
       "      <td>0.612292</td>\n",
       "      <td>0.624674</td>\n",
       "    </tr>\n",
       "    <tr>\n",
       "      <th>29</th>\n",
       "      <td>/Users/dl/GitHub/OCEANAI.private/oceanai/datas...</td>\n",
       "      <td>0.660572</td>\n",
       "      <td>0.664394</td>\n",
       "      <td>0.581625</td>\n",
       "      <td>0.617902</td>\n",
       "      <td>0.626589</td>\n",
       "    </tr>\n",
       "    <tr>\n",
       "      <th>30</th>\n",
       "      <td>/Users/dl/GitHub/OCEANAI.private/oceanai/datas...</td>\n",
       "      <td>0.457011</td>\n",
       "      <td>0.357742</td>\n",
       "      <td>0.369294</td>\n",
       "      <td>0.450881</td>\n",
       "      <td>0.392082</td>\n",
       "    </tr>\n",
       "  </tbody>\n",
       "</table>\n",
       "</div>"
      ],
      "text/plain": [
       "                                                 Path  Openness  \\\n",
       "ID                                                                \n",
       "1   /Users/dl/GitHub/OCEANAI.private/oceanai/datas...  0.608291   \n",
       "2   /Users/dl/GitHub/OCEANAI.private/oceanai/datas...  0.661451   \n",
       "3   /Users/dl/GitHub/OCEANAI.private/oceanai/datas...  0.527108   \n",
       "4   /Users/dl/GitHub/OCEANAI.private/oceanai/datas...  0.604264   \n",
       "5   /Users/dl/GitHub/OCEANAI.private/oceanai/datas...  0.505877   \n",
       "6   /Users/dl/GitHub/OCEANAI.private/oceanai/datas...  0.579816   \n",
       "7   /Users/dl/GitHub/OCEANAI.private/oceanai/datas...  0.636979   \n",
       "8   /Users/dl/GitHub/OCEANAI.private/oceanai/datas...  0.489927   \n",
       "9   /Users/dl/GitHub/OCEANAI.private/oceanai/datas...  0.459953   \n",
       "10  /Users/dl/GitHub/OCEANAI.private/oceanai/datas...  0.661356   \n",
       "11  /Users/dl/GitHub/OCEANAI.private/oceanai/datas...  0.676824   \n",
       "12  /Users/dl/GitHub/OCEANAI.private/oceanai/datas...  0.380311   \n",
       "13  /Users/dl/GitHub/OCEANAI.private/oceanai/datas...  0.669534   \n",
       "14  /Users/dl/GitHub/OCEANAI.private/oceanai/datas...  0.597146   \n",
       "15  /Users/dl/GitHub/OCEANAI.private/oceanai/datas...  0.512098   \n",
       "16  /Users/dl/GitHub/OCEANAI.private/oceanai/datas...   0.55148   \n",
       "17  /Users/dl/GitHub/OCEANAI.private/oceanai/datas...  0.507806   \n",
       "18  /Users/dl/GitHub/OCEANAI.private/oceanai/datas...   0.53634   \n",
       "19  /Users/dl/GitHub/OCEANAI.private/oceanai/datas...  0.441206   \n",
       "20  /Users/dl/GitHub/OCEANAI.private/oceanai/datas...  0.543785   \n",
       "21  /Users/dl/GitHub/OCEANAI.private/oceanai/datas...  0.607067   \n",
       "22  /Users/dl/GitHub/OCEANAI.private/oceanai/datas...  0.622571   \n",
       "23  /Users/dl/GitHub/OCEANAI.private/oceanai/datas...  0.493816   \n",
       "24  /Users/dl/GitHub/OCEANAI.private/oceanai/datas...  0.436601   \n",
       "25  /Users/dl/GitHub/OCEANAI.private/oceanai/datas...  0.648608   \n",
       "26  /Users/dl/GitHub/OCEANAI.private/oceanai/datas...  0.621685   \n",
       "27  /Users/dl/GitHub/OCEANAI.private/oceanai/datas...  0.551339   \n",
       "28  /Users/dl/GitHub/OCEANAI.private/oceanai/datas...  0.679971   \n",
       "29  /Users/dl/GitHub/OCEANAI.private/oceanai/datas...  0.660572   \n",
       "30  /Users/dl/GitHub/OCEANAI.private/oceanai/datas...  0.457011   \n",
       "\n",
       "   Conscientiousness Extraversion Agreeableness Neuroticism  \n",
       "ID                                                           \n",
       "1           0.588899     0.501183      0.582908    0.576623  \n",
       "2           0.578297     0.593245      0.589372     0.59824  \n",
       "3           0.459685     0.418835      0.520207     0.42901  \n",
       "4            0.65761     0.517209       0.65528    0.593034  \n",
       "5           0.455019     0.389953      0.529122    0.462579  \n",
       "6           0.396078     0.412173      0.509535     0.44431  \n",
       "7           0.565163     0.596547      0.581199    0.594057  \n",
       "8           0.459276     0.401972      0.529253    0.475732  \n",
       "9           0.602312     0.345716      0.555249    0.465719  \n",
       "10           0.53626     0.592904      0.668499    0.640769  \n",
       "11          0.670385     0.624558      0.632891    0.645098  \n",
       "12          0.292063      0.26858      0.377671    0.270471  \n",
       "13          0.512284     0.435214      0.478462    0.478063  \n",
       "14          0.663032       0.5282      0.647053    0.620368  \n",
       "15           0.45855      0.39145      0.469369    0.427472  \n",
       "16          0.439325     0.441604      0.488599    0.448521  \n",
       "17          0.485112     0.401344      0.546405    0.463422  \n",
       "18          0.556031     0.502185      0.607919    0.528054  \n",
       "19          0.327241     0.300706      0.376834    0.315691  \n",
       "20          0.496215     0.461758      0.543176    0.511415  \n",
       "21          0.737411     0.455133      0.647487    0.644389  \n",
       "22          0.541001     0.550565       0.59144    0.557298  \n",
       "23          0.413649     0.420854      0.467975    0.428532  \n",
       "24          0.403559      0.36628      0.463585    0.402131  \n",
       "25          0.696656     0.558988      0.602866    0.605066  \n",
       "26          0.375665     0.446427      0.520072    0.486112  \n",
       "27          0.574673     0.459378      0.561397    0.479306  \n",
       "28          0.635061     0.610862      0.612292    0.624674  \n",
       "29          0.664394     0.581625      0.617902    0.626589  \n",
       "30          0.357742     0.369294      0.450881    0.392082  "
      ]
     },
     "metadata": {},
     "output_type": "display_data"
    },
    {
     "data": {
      "text/markdown": [
       "<span style=\"color:#FFF\">**[</span><span style=\"color:#1776D2\">2022-12-11 21:03:52</span><span style=\"color:#FFF\">]</span> <span style=\"color:#FFF\">Точность по отдельным персональным качествам личности человека ...</span>** "
      ],
      "text/plain": [
       "<IPython.core.display.Markdown object>"
      ]
     },
     "metadata": {},
     "output_type": "display_data"
    },
    {
     "data": {
      "text/html": [
       "<div>\n",
       "<style scoped>\n",
       "    .dataframe tbody tr th:only-of-type {\n",
       "        vertical-align: middle;\n",
       "    }\n",
       "\n",
       "    .dataframe tbody tr th {\n",
       "        vertical-align: top;\n",
       "    }\n",
       "\n",
       "    .dataframe thead th {\n",
       "        text-align: right;\n",
       "    }\n",
       "</style>\n",
       "<table border=\"1\" class=\"dataframe\">\n",
       "  <thead>\n",
       "    <tr style=\"text-align: right;\">\n",
       "      <th></th>\n",
       "      <th>Openness</th>\n",
       "      <th>Conscientiousness</th>\n",
       "      <th>Extraversion</th>\n",
       "      <th>Agreeableness</th>\n",
       "      <th>Neuroticism</th>\n",
       "      <th>Mean</th>\n",
       "    </tr>\n",
       "    <tr>\n",
       "      <th>Metrics</th>\n",
       "      <th></th>\n",
       "      <th></th>\n",
       "      <th></th>\n",
       "      <th></th>\n",
       "      <th></th>\n",
       "      <th></th>\n",
       "    </tr>\n",
       "  </thead>\n",
       "  <tbody>\n",
       "    <tr>\n",
       "      <th>MAE</th>\n",
       "      <td>0.0873</td>\n",
       "      <td>0.0819</td>\n",
       "      <td>0.0805</td>\n",
       "      <td>0.087</td>\n",
       "      <td>0.0872</td>\n",
       "      <td>0.0848</td>\n",
       "    </tr>\n",
       "    <tr>\n",
       "      <th>Accuracy</th>\n",
       "      <td>0.9127</td>\n",
       "      <td>0.9181</td>\n",
       "      <td>0.9195</td>\n",
       "      <td>0.913</td>\n",
       "      <td>0.9128</td>\n",
       "      <td>0.9152</td>\n",
       "    </tr>\n",
       "  </tbody>\n",
       "</table>\n",
       "</div>"
      ],
      "text/plain": [
       "          Openness  Conscientiousness  Extraversion  Agreeableness  \\\n",
       "Metrics                                                              \n",
       "MAE         0.0873             0.0819        0.0805          0.087   \n",
       "Accuracy    0.9127             0.9181        0.9195          0.913   \n",
       "\n",
       "          Neuroticism    Mean  \n",
       "Metrics                        \n",
       "MAE            0.0872  0.0848  \n",
       "Accuracy       0.9128  0.9152  "
      ]
     },
     "metadata": {},
     "output_type": "display_data"
    },
    {
     "data": {
      "text/markdown": [
       "<span style=\"color:#FFF\">**[</span><span style=\"color:#1776D2\">2022-12-11 21:03:52</span><span style=\"color:#FFF\">]</span> <span style=\"color:#FFF\">Средняя средних абсолютных ошибок: <span style=\"color:#1776D2\">0.0848</span>, средняя точность: <span style=\"color:#1776D2\">0.9152</span> ...</span>** "
      ],
      "text/plain": [
       "<IPython.core.display.Markdown object>"
      ]
     },
     "metadata": {},
     "output_type": "display_data"
    },
    {
     "data": {
      "text/markdown": [
       "<span style=\"color:#008001\">**Лог файлы успешно сохранены ...**</span>"
      ],
      "text/plain": [
       "<IPython.core.display.Markdown object>"
      ]
     },
     "metadata": {},
     "output_type": "display_data"
    },
    {
     "data": {
      "text/markdown": [
       "<span style=\"color:#FFF\">**--- Время выполнения: 15440.126 сек. ---**</span>"
      ],
      "text/plain": [
       "<IPython.core.display.Markdown object>"
      ]
     },
     "metadata": {},
     "output_type": "display_data"
    }
   ],
   "source": [
    "# Настройки ядра\n",
    "_b5.path_to_dataset_ = '/Users/dl/GitHub/OCEANAI.private/oceanai/dataset/First_Impression' # Директория набора данных\n",
    "# Директории не входящие в выборку\n",
    "_b5.ignore_dirs_ = []\n",
    "# Названия ключей для DataFrame набора данных\n",
    "_b5.keys_dataset_ = ['Path', 'Openness', 'Conscientiousness', 'Extraversion', 'Agreeableness', 'Neuroticism']\n",
    "_b5.ext_ = ['.mp4'] # Расширения искомых файлов\n",
    "_b5.path_to_logs_ = './logs' # Директория для сохранения LOG файлов\n",
    "\n",
    "# Полный путь к файлу с верными предсказаниями для подсчета точности\n",
    "url_accuracy = _b5.true_traits_['sberdisk']\n",
    "\n",
    "res_get_video_union_predictions = _b5.get_video_union_predictions(\n",
    "    depth = 2,         # Глубина иерархии для получения аудио и видеоданных\n",
    "    recursive = False, # Рекурсивный поиск данных\n",
    "    reduction_fps = 5, # Понижение кадровой частоты\n",
    "    window = 10,       # Размер окна сегмента сигнала (в секундах)\n",
    "    step = 5,          # Шаг сдвига окна сегмента сигнала (в секундах)\n",
    "    accuracy = True,   # Вычисление точности\n",
    "    url_accuracy = url_accuracy,\n",
    "    logs = True,       # При необходимости формировать LOG файл\n",
    "    out = True,        # Отображение\n",
    "    runtime = True,    # Подсчет времени выполнения\n",
    "    run = True         # Блокировка выполнения\n",
    ")"
   ]
  }
 ],
 "metadata": {
  "kernelspec": {
   "display_name": "Python 3 (ipykernel)",
   "language": "python",
   "name": "python3"
  },
  "language_info": {
   "codemirror_mode": {
    "name": "ipython",
    "version": 3
   },
   "file_extension": ".py",
   "mimetype": "text/x-python",
   "name": "python",
   "nbconvert_exporter": "python",
   "pygments_lexer": "ipython3",
   "version": "3.9.13"
  }
 },
 "nbformat": 4,
 "nbformat_minor": 4
}
