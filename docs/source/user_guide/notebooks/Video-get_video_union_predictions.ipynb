{
 "cells": [
  {
   "cell_type": "markdown",
   "metadata": {
    "tags": []
   },
   "source": [
    "## Получения прогнозов по видео\n",
    "\n",
    "<hr>"
   ]
  },
  {
   "cell_type": "code",
   "execution_count": 1,
   "metadata": {
    "nbsphinx": "hidden",
    "tags": []
   },
   "outputs": [],
   "source": [
    "import os  # Взаимодействие с файловой системой\n",
    "import sys # Доступ к некоторым переменным и функциям Python\n",
    "\n",
    "PATH_TO_SOURCE = os.path.abspath(os.path.dirname(globals()['_dh'][0]))\n",
    "PATH_TO_ROOT = os.path.join(PATH_TO_SOURCE, '..', '..', '..')\n",
    "\n",
    "sys.path.insert(0, os.path.abspath(PATH_TO_ROOT))"
   ]
  },
  {
   "cell_type": "markdown",
   "metadata": {},
   "source": [
    "### Импорт необходимых инструментов"
   ]
  },
  {
   "cell_type": "code",
   "execution_count": 2,
   "metadata": {},
   "outputs": [],
   "source": [
    "from oceanai.modules.lab.build import Run"
   ]
  },
  {
   "cell_type": "markdown",
   "metadata": {},
   "source": [
    "### Сборка"
   ]
  },
  {
   "cell_type": "code",
   "execution_count": 3,
   "metadata": {},
   "outputs": [
    {
     "data": {
      "text/markdown": [
       "<span style=\"color:#333\">**[</span><span style=\"color:#1776D2\">2023-12-10 19:00:07</span><span style=\"color:#333\">]</span> <span style=\"color:#333\">OCEANAI - персональные качества личности человека:</span>**<br /><span style=\"color:#333\">&nbsp;&nbsp;&nbsp;&nbsp;Авторы:</span><br /><span style=\"color:#333\">&nbsp;&nbsp;&nbsp;&nbsp;&nbsp;&nbsp;&nbsp;&nbsp;Рюмина Елена [<u>ryumina_ev@mail.ru</u>]</span><br /><span style=\"color:#333\">&nbsp;&nbsp;&nbsp;&nbsp;&nbsp;&nbsp;&nbsp;&nbsp;Рюмин Дмитрий [<u>dl_03.03.1991@mail.ru</u>]</span><br /><span style=\"color:#333\">&nbsp;&nbsp;&nbsp;&nbsp;&nbsp;&nbsp;&nbsp;&nbsp;Карпов Алексей [<u>karpov@iias.spb.su</u>]</span><br /><span style=\"color:#333\">&nbsp;&nbsp;&nbsp;&nbsp;Сопровождающие:</span><br /><span style=\"color:#333\">&nbsp;&nbsp;&nbsp;&nbsp;&nbsp;&nbsp;&nbsp;&nbsp;Рюмина Елена [<u>ryumina_ev@mail.ru</u>]</span><br /><span style=\"color:#333\">&nbsp;&nbsp;&nbsp;&nbsp;&nbsp;&nbsp;&nbsp;&nbsp;Рюмин Дмитрий [<u>dl_03.03.1991@mail.ru</u>]</span><br /><span style=\"color:#333\">&nbsp;&nbsp;&nbsp;&nbsp;Версия: <u>1.0.0a5</u></span><br /><span style=\"color:#333\">&nbsp;&nbsp;&nbsp;&nbsp;Лицензия: <u>BSD License</u></span></p>"
      ],
      "text/plain": [
       "<IPython.core.display.Markdown object>"
      ]
     },
     "metadata": {},
     "output_type": "display_data"
    }
   ],
   "source": [
    "_b5 = Run(\n",
    "    lang = 'ru', # Язык\n",
    "    color_simple = '#333', # Цвет обычного текста (шестнадцатеричный код)\n",
    "    color_info = '#1776D2', # Цвет текста содержащего информацию (шестнадцатеричный код)\n",
    "    color_err = '#FF0000', # Цвет текста содержащего ошибку (шестнадцатеричный код)\n",
    "    color_true = '#008001', # Цвет текста содержащего положительную информацию (шестнадцатеричный код)\n",
    "    bold_text = True, # Жирное начертание текста\n",
    "    num_to_df_display = 30, # Количество строк для отображения в таблицах\n",
    "    text_runtime = 'Время выполнения', # Текст времени выполнения\n",
    "    metadata = True # Отображение информации о библиотеке\n",
    ")"
   ]
  },
  {
   "cell_type": "markdown",
   "metadata": {},
   "source": [
    "### Получение и отображение версий установленных библиотек\n",
    "\n",
    "> - `_b5.df_pkgs_` - DataFrame c версиями установленных библиотек"
   ]
  },
  {
   "cell_type": "code",
   "execution_count": 4,
   "metadata": {},
   "outputs": [
    {
     "data": {
      "text/html": [
       "<div>\n",
       "<style scoped>\n",
       "    .dataframe tbody tr th:only-of-type {\n",
       "        vertical-align: middle;\n",
       "    }\n",
       "\n",
       "    .dataframe tbody tr th {\n",
       "        vertical-align: top;\n",
       "    }\n",
       "\n",
       "    .dataframe thead th {\n",
       "        text-align: right;\n",
       "    }\n",
       "</style>\n",
       "<table border=\"1\" class=\"dataframe\">\n",
       "  <thead>\n",
       "    <tr style=\"text-align: right;\">\n",
       "      <th></th>\n",
       "      <th>Package</th>\n",
       "      <th>Version</th>\n",
       "    </tr>\n",
       "  </thead>\n",
       "  <tbody>\n",
       "    <tr>\n",
       "      <th>1</th>\n",
       "      <td>TensorFlow</td>\n",
       "      <td>2.10.0</td>\n",
       "    </tr>\n",
       "    <tr>\n",
       "      <th>2</th>\n",
       "      <td>Keras</td>\n",
       "      <td>2.10.0</td>\n",
       "    </tr>\n",
       "    <tr>\n",
       "      <th>3</th>\n",
       "      <td>OpenCV</td>\n",
       "      <td>4.8.1</td>\n",
       "    </tr>\n",
       "    <tr>\n",
       "      <th>4</th>\n",
       "      <td>MediaPipe</td>\n",
       "      <td>0.9.0</td>\n",
       "    </tr>\n",
       "    <tr>\n",
       "      <th>5</th>\n",
       "      <td>NumPy</td>\n",
       "      <td>1.26.2</td>\n",
       "    </tr>\n",
       "    <tr>\n",
       "      <th>6</th>\n",
       "      <td>SciPy</td>\n",
       "      <td>1.11.4</td>\n",
       "    </tr>\n",
       "    <tr>\n",
       "      <th>7</th>\n",
       "      <td>Pandas</td>\n",
       "      <td>2.1.3</td>\n",
       "    </tr>\n",
       "    <tr>\n",
       "      <th>8</th>\n",
       "      <td>Scikit-learn</td>\n",
       "      <td>1.3.2</td>\n",
       "    </tr>\n",
       "    <tr>\n",
       "      <th>9</th>\n",
       "      <td>OpenSmile</td>\n",
       "      <td>2.5.0</td>\n",
       "    </tr>\n",
       "    <tr>\n",
       "      <th>10</th>\n",
       "      <td>Librosa</td>\n",
       "      <td>0.10.1</td>\n",
       "    </tr>\n",
       "    <tr>\n",
       "      <th>11</th>\n",
       "      <td>AudioRead</td>\n",
       "      <td>3.0.1</td>\n",
       "    </tr>\n",
       "    <tr>\n",
       "      <th>12</th>\n",
       "      <td>IPython</td>\n",
       "      <td>8.18.1</td>\n",
       "    </tr>\n",
       "    <tr>\n",
       "      <th>13</th>\n",
       "      <td>PyMediaInfo</td>\n",
       "      <td>6.1.0</td>\n",
       "    </tr>\n",
       "    <tr>\n",
       "      <th>14</th>\n",
       "      <td>Requests</td>\n",
       "      <td>2.31.0</td>\n",
       "    </tr>\n",
       "    <tr>\n",
       "      <th>15</th>\n",
       "      <td>JupyterLab</td>\n",
       "      <td>4.0.9</td>\n",
       "    </tr>\n",
       "    <tr>\n",
       "      <th>16</th>\n",
       "      <td>LIWC</td>\n",
       "      <td>0.5.0</td>\n",
       "    </tr>\n",
       "    <tr>\n",
       "      <th>17</th>\n",
       "      <td>Transformers</td>\n",
       "      <td>4.24.0</td>\n",
       "    </tr>\n",
       "    <tr>\n",
       "      <th>18</th>\n",
       "      <td>Sentencepiece</td>\n",
       "      <td>0.1.99</td>\n",
       "    </tr>\n",
       "    <tr>\n",
       "      <th>19</th>\n",
       "      <td>Torch</td>\n",
       "      <td>2.0.1+cpu</td>\n",
       "    </tr>\n",
       "    <tr>\n",
       "      <th>20</th>\n",
       "      <td>Torchaudio</td>\n",
       "      <td>2.0.2+cpu</td>\n",
       "    </tr>\n",
       "  </tbody>\n",
       "</table>\n",
       "</div>"
      ],
      "text/plain": [
       "          Package    Version\n",
       "1      TensorFlow     2.10.0\n",
       "2           Keras     2.10.0\n",
       "3          OpenCV      4.8.1\n",
       "4       MediaPipe      0.9.0\n",
       "5           NumPy     1.26.2\n",
       "6           SciPy     1.11.4\n",
       "7          Pandas      2.1.3\n",
       "8    Scikit-learn      1.3.2\n",
       "9       OpenSmile      2.5.0\n",
       "10        Librosa     0.10.1\n",
       "11      AudioRead      3.0.1\n",
       "12        IPython     8.18.1\n",
       "13    PyMediaInfo      6.1.0\n",
       "14       Requests     2.31.0\n",
       "15     JupyterLab      4.0.9\n",
       "16           LIWC      0.5.0\n",
       "17   Transformers     4.24.0\n",
       "18  Sentencepiece     0.1.99\n",
       "19          Torch  2.0.1+cpu\n",
       "20     Torchaudio  2.0.2+cpu"
      ]
     },
     "metadata": {},
     "output_type": "display_data"
    },
    {
     "data": {
      "text/markdown": [
       "<span style=\"color:#333\">**--- Время выполнения: 0.006 сек. ---**</span>"
      ],
      "text/plain": [
       "<IPython.core.display.Markdown object>"
      ]
     },
     "metadata": {},
     "output_type": "display_data"
    }
   ],
   "source": [
    "_b5.libs_vers(runtime = True, run = True)"
   ]
  },
  {
   "cell_type": "markdown",
   "metadata": {},
   "source": [
    "### Формирование нейросетевой архитектуры модели для получения оценок по экспертным признакам\n",
    "\n",
    "> - `_b5.video_model_hc_` - Нейросетевая модель **tf.keras.Model** для получения оценок по экспертным признакам"
   ]
  },
  {
   "cell_type": "code",
   "execution_count": 5,
   "metadata": {},
   "outputs": [
    {
     "data": {
      "text/markdown": [
       "<span style=\"color:#333\">**[</span><span style=\"color:#1776D2\">2023-12-10 19:00:07</span><span style=\"color:#333\">]</span> <span style=\"color:#333\">Формирование нейросетевой архитектуры модели для получения оценок по экспертным признакам (видео модальность) ...</span>** "
      ],
      "text/plain": [
       "<IPython.core.display.Markdown object>"
      ]
     },
     "metadata": {},
     "output_type": "display_data"
    },
    {
     "data": {
      "text/markdown": [
       "<span style=\"color:#333\">**--- Время выполнения: 0.777 сек. ---**</span>"
      ],
      "text/plain": [
       "<IPython.core.display.Markdown object>"
      ]
     },
     "metadata": {},
     "output_type": "display_data"
    }
   ],
   "source": [
    "res_load_video_model_hc = _b5.load_video_model_hc(\n",
    "    lang = 'en',\n",
    "    show_summary = False, # Отображение сформированной нейросетевой архитектуры модели\n",
    "    out = True, # Отображение\n",
    "    runtime = True, # Подсчет времени выполнения\n",
    "    run = True # Блокировка выполнения\n",
    ")"
   ]
  },
  {
   "cell_type": "markdown",
   "metadata": {},
   "source": [
    "### Загрузка весов нейросетевой модели для получения оценок по экспертным признакам\n",
    "\n",
    "> - `_b5.video_model_hc_` - Нейросетевая модель **tf.keras.Model** для получения оценок по экспертным признакам"
   ]
  },
  {
   "cell_type": "code",
   "execution_count": 6,
   "metadata": {},
   "outputs": [
    {
     "data": {
      "text/markdown": [
       "<span style=\"color:#333\">**[</span><span style=\"color:#1776D2\">2023-12-10 19:00:08</span><span style=\"color:#333\">]</span> <span style=\"color:#333\">Загрузка весов нейросетевой модели для получения оценок по экспертным признакам (видео модальность) ...</span>** "
      ],
      "text/plain": [
       "<IPython.core.display.Markdown object>"
      ]
     },
     "metadata": {},
     "output_type": "display_data"
    },
    {
     "data": {
      "text/markdown": [
       "<span style=\"color:#333\">**[</span><span style=\"color:#1776D2\">2023-12-10 19:00:08</span><span style=\"color:#333\">]</span> <span style=\"color:#333\">Загрузка файла \"<span style=\"color:#1776D2\">weights_2022-08-27_18-53-35.h5</span>\" 100.0% ...</span>** "
      ],
      "text/plain": [
       "<IPython.core.display.Markdown object>"
      ]
     },
     "metadata": {},
     "output_type": "display_data"
    },
    {
     "data": {
      "text/markdown": [
       "<span style=\"color:#333\">**--- Время выполнения: 0.285 сек. ---**</span>"
      ],
      "text/plain": [
       "<IPython.core.display.Markdown object>"
      ]
     },
     "metadata": {},
     "output_type": "display_data"
    }
   ],
   "source": [
    "# Настройки ядра\n",
    "_b5.path_to_save_ = './models' # Директория для сохранения файла\n",
    "_b5.chunk_size_ = 2000000 # Размер загрузки файла из сети за 1 шаг\n",
    "\n",
    "url = _b5.weights_for_big5_['video']['fi']['hc']['sberdisk']\n",
    "\n",
    "res_load_video_model_weights_hc = _b5.load_video_model_weights_hc(\n",
    "    url = url, # Полный путь к файлу с весами нейросетевой модели\n",
    "    force_reload = True, # Принудительная загрузка файла с весами нейросетевой модели из сети\n",
    "    out = True, # Отображение\n",
    "    runtime = True, # Подсчет времени выполнения\n",
    "    run = True # Блокировка выполнения\n",
    ")"
   ]
  },
  {
   "cell_type": "markdown",
   "metadata": {},
   "source": [
    "### Формирование нейросетевой архитектуры для получения нейросетевых признаков\n",
    "\n",
    "> - `_b5.video_model_deep_fe_` - Нейросетевая модель **tf.keras.Model** для получения нейросетевых признаков"
   ]
  },
  {
   "cell_type": "code",
   "execution_count": 7,
   "metadata": {},
   "outputs": [
    {
     "data": {
      "text/markdown": [
       "<span style=\"color:#333\">**[</span><span style=\"color:#1776D2\">2023-12-10 19:00:08</span><span style=\"color:#333\">]</span> <span style=\"color:#333\">Формирование нейросетевой архитектуры для получения нейросетевых признаков (видео модальность) ...</span>** "
      ],
      "text/plain": [
       "<IPython.core.display.Markdown object>"
      ]
     },
     "metadata": {},
     "output_type": "display_data"
    },
    {
     "data": {
      "text/markdown": [
       "<span style=\"color:#333\">**--- Время выполнения: 0.58 сек. ---**</span>"
      ],
      "text/plain": [
       "<IPython.core.display.Markdown object>"
      ]
     },
     "metadata": {},
     "output_type": "display_data"
    }
   ],
   "source": [
    "res_load_video_model_deep_fe = _b5.load_video_model_deep_fe(\n",
    "    show_summary = False, # Отображение сформированной нейросетевой архитектуры модели\n",
    "    out = True, # Отображение\n",
    "    runtime = True, # Подсчет времени выполнения\n",
    "    run = True # Блокировка выполнения\n",
    ")"
   ]
  },
  {
   "cell_type": "markdown",
   "metadata": {},
   "source": [
    "### Загрузка весов нейросетевой модели для получения нейросетевых признаков\n",
    "\n",
    "> - `_b5.video_model_deep_fe_` - Нейросетевая модель **tf.keras.Model** для получения нейросетевых признаков"
   ]
  },
  {
   "cell_type": "code",
   "execution_count": 8,
   "metadata": {},
   "outputs": [
    {
     "data": {
      "text/markdown": [
       "<span style=\"color:#333\">**[</span><span style=\"color:#1776D2\">2023-12-10 19:00:09</span><span style=\"color:#333\">]</span> <span style=\"color:#333\">Загрузка весов нейросетевой модели для получения нейросетевых признаков (видео модальность) ...</span>** "
      ],
      "text/plain": [
       "<IPython.core.display.Markdown object>"
      ]
     },
     "metadata": {},
     "output_type": "display_data"
    },
    {
     "data": {
      "text/markdown": [
       "<span style=\"color:#333\">**[</span><span style=\"color:#1776D2\">2023-12-10 19:00:13</span><span style=\"color:#333\">]</span> <span style=\"color:#333\">Загрузка файла \"<span style=\"color:#1776D2\">weights_2022-11-01_12-27-07.h5</span>\" 100.0% ...</span>** "
      ],
      "text/plain": [
       "<IPython.core.display.Markdown object>"
      ]
     },
     "metadata": {},
     "output_type": "display_data"
    },
    {
     "data": {
      "text/markdown": [
       "<span style=\"color:#333\">**--- Время выполнения: 4.324 сек. ---**</span>"
      ],
      "text/plain": [
       "<IPython.core.display.Markdown object>"
      ]
     },
     "metadata": {},
     "output_type": "display_data"
    }
   ],
   "source": [
    "# Настройки ядра\n",
    "_b5.path_to_save_ = './models' # Директория для сохранения файла\n",
    "_b5.chunk_size_ = 2000000 # Размер загрузки файла из сети за 1 шаг\n",
    "\n",
    "url = _b5.weights_for_big5_['video']['fi']['fe']['sberdisk']\n",
    "\n",
    "res_load_video_model_weights_deep_fe = _b5.load_video_model_weights_deep_fe(\n",
    "    url = url, # Полный путь к файлу с весами нейросетевой модели\n",
    "    force_reload = True, # Принудительная загрузка файла с весами нейросетевой модели из сети\n",
    "    out = True, # Отображение\n",
    "    runtime = True, # Подсчет времени выполнения\n",
    "    run = True # Блокировка выполнения\n",
    ")"
   ]
  },
  {
   "cell_type": "markdown",
   "metadata": {},
   "source": [
    "### Формирование нейросетевой архитектуры модели для получения оценок по нейросетевым признакам\n",
    "\n",
    "> - `_b5.video_model_nn_` - Нейросетевая модель **tf.keras.Model** для получения оценок по нейросетевым признакам"
   ]
  },
  {
   "cell_type": "code",
   "execution_count": 9,
   "metadata": {},
   "outputs": [
    {
     "data": {
      "text/markdown": [
       "<span style=\"color:#333\">**[</span><span style=\"color:#1776D2\">2023-12-10 19:00:13</span><span style=\"color:#333\">]</span> <span style=\"color:#333\">Формирование нейросетевой архитектуры для получения оценок по нейросетевым признакам (видео модальность) ...</span>** "
      ],
      "text/plain": [
       "<IPython.core.display.Markdown object>"
      ]
     },
     "metadata": {},
     "output_type": "display_data"
    },
    {
     "data": {
      "text/markdown": [
       "<span style=\"color:#333\">**--- Время выполнения: 1.202 сек. ---**</span>"
      ],
      "text/plain": [
       "<IPython.core.display.Markdown object>"
      ]
     },
     "metadata": {},
     "output_type": "display_data"
    }
   ],
   "source": [
    "res_load_video_model_nn = _b5.load_video_model_nn(\n",
    "    show_summary = False, # Отображение сформированной нейросетевой архитектуры модели\n",
    "    out = True, # Отображение\n",
    "    runtime = True, # Подсчет времени выполнения\n",
    "    run = True # Блокировка выполнения\n",
    ")"
   ]
  },
  {
   "cell_type": "markdown",
   "metadata": {},
   "source": [
    "### Загрузка весов нейросетевой модели для получения оценок по нейросетевым признакам\n",
    "\n",
    "> - `_b5.video_model_nn_` - Нейросетевая модель **tf.keras.Model** для получения оценок по нейросетевым признакам"
   ]
  },
  {
   "cell_type": "code",
   "execution_count": 10,
   "metadata": {},
   "outputs": [
    {
     "data": {
      "text/markdown": [
       "<span style=\"color:#333\">**[</span><span style=\"color:#1776D2\">2023-12-10 19:00:14</span><span style=\"color:#333\">]</span> <span style=\"color:#333\">Загрузка весов нейросетевой модели для получения оценок по нейросетевым признакам (видео модальность) ...</span>** "
      ],
      "text/plain": [
       "<IPython.core.display.Markdown object>"
      ]
     },
     "metadata": {},
     "output_type": "display_data"
    },
    {
     "data": {
      "text/markdown": [
       "<span style=\"color:#333\">**[</span><span style=\"color:#1776D2\">2023-12-10 19:00:15</span><span style=\"color:#333\">]</span> <span style=\"color:#333\">Загрузка файла \"<span style=\"color:#1776D2\">weights_2022-03-22_16-31-48.h5</span>\"</span>** "
      ],
      "text/plain": [
       "<IPython.core.display.Markdown object>"
      ]
     },
     "metadata": {},
     "output_type": "display_data"
    },
    {
     "data": {
      "text/markdown": [
       "<span style=\"color:#333\">**--- Время выполнения: 0.2 сек. ---**</span>"
      ],
      "text/plain": [
       "<IPython.core.display.Markdown object>"
      ]
     },
     "metadata": {},
     "output_type": "display_data"
    }
   ],
   "source": [
    "# Настройки ядра\n",
    "_b5.path_to_save_ = './models' # Директория для сохранения файла\n",
    "_b5.chunk_size_ = 2000000 # Размер загрузки файла из сети за 1 шаг\n",
    "\n",
    "url = _b5.weights_for_big5_['video']['fi']['nn']['sberdisk']\n",
    "\n",
    "res_load_video_model_weights_nn = _b5.load_video_model_weights_nn(\n",
    "    url = url, # Полный путь к файлу с весами нейросетевой модели\n",
    "    force_reload = False, # Принудительная загрузка файла с весами нейросетевой модели из сети\n",
    "    out = True, # Отображение\n",
    "    runtime = True, # Подсчет времени выполнения\n",
    "    run = True # Блокировка выполнения\n",
    ")"
   ]
  },
  {
   "cell_type": "markdown",
   "metadata": {},
   "source": [
    "### Формирование нейросетевых архитектур моделей для получения результатов оценки персональных качеств\n",
    "\n",
    "> - `_b5.video_models_b5_` - Нейросетевые модели **tf.keras.Model** для получения результатов оценки персональных качеств"
   ]
  },
  {
   "cell_type": "code",
   "execution_count": 11,
   "metadata": {},
   "outputs": [
    {
     "data": {
      "text/markdown": [
       "<span style=\"color:#333\">**[</span><span style=\"color:#1776D2\">2023-12-10 19:00:15</span><span style=\"color:#333\">]</span> <span style=\"color:#333\">Формирование нейросетевых архитектур моделей для получения результатов оценки персональных качеств (видео модальность) ...</span>** "
      ],
      "text/plain": [
       "<IPython.core.display.Markdown object>"
      ]
     },
     "metadata": {},
     "output_type": "display_data"
    },
    {
     "data": {
      "text/markdown": [
       "<span style=\"color:#333\">**--- Время выполнения: 0.049 сек. ---**</span>"
      ],
      "text/plain": [
       "<IPython.core.display.Markdown object>"
      ]
     },
     "metadata": {},
     "output_type": "display_data"
    }
   ],
   "source": [
    "res_load_video_models_b5 = _b5.load_video_models_b5(\n",
    "    show_summary = False, # Отображение сформированной нейросетевой архитектуры модели\n",
    "    out = True, # Отображение\n",
    "    runtime = True, # Подсчет времени выполнения\n",
    "    run = True # Блокировка выполнения\n",
    ")"
   ]
  },
  {
   "cell_type": "markdown",
   "metadata": {},
   "source": [
    "### Загрузка весов нейросетевых моделей для получения результатов оценки персональных качеств\n",
    "\n",
    "> - `_b5.video_models_b5_` - Нейросетевые модели **tf.keras.Model** для получения результатов оценки персональных качеств"
   ]
  },
  {
   "cell_type": "code",
   "execution_count": 12,
   "metadata": {},
   "outputs": [
    {
     "data": {
      "text/markdown": [
       "<span style=\"color:#333\">**[</span><span style=\"color:#1776D2\">2023-12-10 19:00:15</span><span style=\"color:#333\">]</span> <span style=\"color:#333\">Загрузка весов нейросетевых моделей для получения результатов оценки персональных качеств (видео модальность) ...</span>** "
      ],
      "text/plain": [
       "<IPython.core.display.Markdown object>"
      ]
     },
     "metadata": {},
     "output_type": "display_data"
    },
    {
     "data": {
      "text/markdown": [
       "<span style=\"color:#333\">**[</span><span style=\"color:#1776D2\">2023-12-10 19:00:15</span><span style=\"color:#333\">]</span> <span style=\"color:#333\">Загрузка файла \"<span style=\"color:#1776D2\">weights_2022-06-15_16-46-30.h5</span>\"</span>**  <span style=\"color:#333\">**Открытость опыту**</span>"
      ],
      "text/plain": [
       "<IPython.core.display.Markdown object>"
      ]
     },
     "metadata": {},
     "output_type": "display_data"
    },
    {
     "data": {
      "text/markdown": [
       "<span style=\"color:#333\">**[</span><span style=\"color:#1776D2\">2023-12-10 19:00:15</span><span style=\"color:#333\">]</span> <span style=\"color:#333\">Загрузка файла \"<span style=\"color:#1776D2\">weights_2022-06-15_16-48-50.h5</span>\"</span>**  <span style=\"color:#333\">**Добросовестность**</span>"
      ],
      "text/plain": [
       "<IPython.core.display.Markdown object>"
      ]
     },
     "metadata": {},
     "output_type": "display_data"
    },
    {
     "data": {
      "text/markdown": [
       "<span style=\"color:#333\">**[</span><span style=\"color:#1776D2\">2023-12-10 19:00:15</span><span style=\"color:#333\">]</span> <span style=\"color:#333\">Загрузка файла \"<span style=\"color:#1776D2\">weights_2022-06-15_16-54-06.h5</span>\"</span>**  <span style=\"color:#333\">**Экстраверсия**</span>"
      ],
      "text/plain": [
       "<IPython.core.display.Markdown object>"
      ]
     },
     "metadata": {},
     "output_type": "display_data"
    },
    {
     "data": {
      "text/markdown": [
       "<span style=\"color:#333\">**[</span><span style=\"color:#1776D2\">2023-12-10 19:00:15</span><span style=\"color:#333\">]</span> <span style=\"color:#333\">Загрузка файла \"<span style=\"color:#1776D2\">weights_2022-06-15_17-02-03.h5</span>\"</span>**  <span style=\"color:#333\">**Доброжелательность**</span>"
      ],
      "text/plain": [
       "<IPython.core.display.Markdown object>"
      ]
     },
     "metadata": {},
     "output_type": "display_data"
    },
    {
     "data": {
      "text/markdown": [
       "<span style=\"color:#333\">**[</span><span style=\"color:#1776D2\">2023-12-10 19:00:15</span><span style=\"color:#333\">]</span> <span style=\"color:#333\">Загрузка файла \"<span style=\"color:#1776D2\">weights_2022-06-15_17-06-15.h5</span>\"</span>**  <span style=\"color:#333\">**Нейротизм**</span>"
      ],
      "text/plain": [
       "<IPython.core.display.Markdown object>"
      ]
     },
     "metadata": {},
     "output_type": "display_data"
    },
    {
     "data": {
      "text/markdown": [
       "<span style=\"color:#333\">**--- Время выполнения: 0.714 сек. ---**</span>"
      ],
      "text/plain": [
       "<IPython.core.display.Markdown object>"
      ]
     },
     "metadata": {},
     "output_type": "display_data"
    }
   ],
   "source": [
    "# Настройки ядра\n",
    "_b5.path_to_save_ = './models' # Директория для сохранения файла\n",
    "_b5.chunk_size_ = 2000000 # Размер загрузки файла из сети за 1 шаг\n",
    "\n",
    "url_openness = _b5.weights_for_big5_['video']['fi']['b5']['openness']['sberdisk']\n",
    "url_conscientiousness = _b5.weights_for_big5_['video']['fi']['b5']['conscientiousness']['sberdisk']\n",
    "url_extraversion = _b5.weights_for_big5_['video']['fi']['b5']['extraversion']['sberdisk']\n",
    "url_agreeableness = _b5.weights_for_big5_['video']['fi']['b5']['agreeableness']['sberdisk']\n",
    "url_neuroticism = _b5.weights_for_big5_['video']['fi']['b5']['neuroticism']['sberdisk']\n",
    "\n",
    "res_load_video_models_weights_b5 = _b5.load_video_models_weights_b5(\n",
    "    url_openness = url_openness, # Открытость опыту\n",
    "    url_conscientiousness = url_conscientiousness, # Добросовестность\n",
    "    url_extraversion = url_extraversion, # Экстраверсия\n",
    "    url_agreeableness = url_agreeableness, # Доброжелательность\n",
    "    url_neuroticism = url_neuroticism, # Нейротизм\n",
    "    force_reload = False, # Принудительная загрузка файла с весами нейросетевой модели из сети\n",
    "    out = True, # Отображение\n",
    "    runtime = True, # Подсчет времени выполнения\n",
    "    run = True # Блокировка выполнения\n",
    ")"
   ]
  },
  {
   "cell_type": "markdown",
   "metadata": {},
   "source": [
    "### Получение прогнозов (видео модальность)\n",
    "\n",
    "> - `_b5.df_files_` - DataFrame с данными\n",
    "> - `_b5.df_accuracy_` - DataFrame с результатами вычисления точности"
   ]
  },
  {
   "cell_type": "code",
   "execution_count": 13,
   "metadata": {},
   "outputs": [
    {
     "data": {
      "text/markdown": [
       "<span style=\"color:#333\">**[</span><span style=\"color:#1776D2\">2023-12-10 19:39:47</span><span style=\"color:#333\">]</span> <span style=\"color:#333\">Получение прогнозов и вычисление точности (видео модальность) ...</span>**<p><span style=\"color:#333\">&nbsp;&nbsp;&nbsp;&nbsp;2000 из 2000 (100.0%) ... test80_25\\_Q4wOgixh7E.004.mp4 ...</span></p>"
      ],
      "text/plain": [
       "<IPython.core.display.Markdown object>"
      ]
     },
     "metadata": {},
     "output_type": "display_data"
    },
    {
     "data": {
      "text/html": [
       "<div>\n",
       "<style scoped>\n",
       "    .dataframe tbody tr th:only-of-type {\n",
       "        vertical-align: middle;\n",
       "    }\n",
       "\n",
       "    .dataframe tbody tr th {\n",
       "        vertical-align: top;\n",
       "    }\n",
       "\n",
       "    .dataframe thead th {\n",
       "        text-align: right;\n",
       "    }\n",
       "</style>\n",
       "<table border=\"1\" class=\"dataframe\">\n",
       "  <thead>\n",
       "    <tr style=\"text-align: right;\">\n",
       "      <th></th>\n",
       "      <th>Path</th>\n",
       "      <th>Openness</th>\n",
       "      <th>Conscientiousness</th>\n",
       "      <th>Extraversion</th>\n",
       "      <th>Agreeableness</th>\n",
       "      <th>Neuroticism</th>\n",
       "    </tr>\n",
       "    <tr>\n",
       "      <th>ID</th>\n",
       "      <th></th>\n",
       "      <th></th>\n",
       "      <th></th>\n",
       "      <th></th>\n",
       "      <th></th>\n",
       "      <th></th>\n",
       "    </tr>\n",
       "  </thead>\n",
       "  <tbody>\n",
       "    <tr>\n",
       "      <th>1</th>\n",
       "      <td>E:\\Databases\\FirstImpressionsV2\\test\\test80_01...</td>\n",
       "      <td>0.527125</td>\n",
       "      <td>0.460323</td>\n",
       "      <td>0.422916</td>\n",
       "      <td>0.502899</td>\n",
       "      <td>0.450719</td>\n",
       "    </tr>\n",
       "    <tr>\n",
       "      <th>2</th>\n",
       "      <td>E:\\Databases\\FirstImpressionsV2\\test\\test80_01...</td>\n",
       "      <td>0.559083</td>\n",
       "      <td>0.432637</td>\n",
       "      <td>0.503995</td>\n",
       "      <td>0.578493</td>\n",
       "      <td>0.513186</td>\n",
       "    </tr>\n",
       "    <tr>\n",
       "      <th>3</th>\n",
       "      <td>E:\\Databases\\FirstImpressionsV2\\test\\test80_01...</td>\n",
       "      <td>0.46688</td>\n",
       "      <td>0.517016</td>\n",
       "      <td>0.331784</td>\n",
       "      <td>0.451296</td>\n",
       "      <td>0.40613</td>\n",
       "    </tr>\n",
       "    <tr>\n",
       "      <th>4</th>\n",
       "      <td>E:\\Databases\\FirstImpressionsV2\\test\\test80_01...</td>\n",
       "      <td>0.626261</td>\n",
       "      <td>0.597585</td>\n",
       "      <td>0.564264</td>\n",
       "      <td>0.57414</td>\n",
       "      <td>0.589433</td>\n",
       "    </tr>\n",
       "    <tr>\n",
       "      <th>5</th>\n",
       "      <td>E:\\Databases\\FirstImpressionsV2\\test\\test80_01...</td>\n",
       "      <td>0.592707</td>\n",
       "      <td>0.507347</td>\n",
       "      <td>0.505665</td>\n",
       "      <td>0.585533</td>\n",
       "      <td>0.493232</td>\n",
       "    </tr>\n",
       "    <tr>\n",
       "      <th>6</th>\n",
       "      <td>E:\\Databases\\FirstImpressionsV2\\test\\test80_01...</td>\n",
       "      <td>0.671835</td>\n",
       "      <td>0.64247</td>\n",
       "      <td>0.614605</td>\n",
       "      <td>0.613452</td>\n",
       "      <td>0.61946</td>\n",
       "    </tr>\n",
       "    <tr>\n",
       "      <th>7</th>\n",
       "      <td>E:\\Databases\\FirstImpressionsV2\\test\\test80_01...</td>\n",
       "      <td>0.411725</td>\n",
       "      <td>0.394052</td>\n",
       "      <td>0.329424</td>\n",
       "      <td>0.488724</td>\n",
       "      <td>0.391151</td>\n",
       "    </tr>\n",
       "    <tr>\n",
       "      <th>8</th>\n",
       "      <td>E:\\Databases\\FirstImpressionsV2\\test\\test80_01...</td>\n",
       "      <td>0.583736</td>\n",
       "      <td>0.56864</td>\n",
       "      <td>0.505483</td>\n",
       "      <td>0.625266</td>\n",
       "      <td>0.587266</td>\n",
       "    </tr>\n",
       "    <tr>\n",
       "      <th>9</th>\n",
       "      <td>E:\\Databases\\FirstImpressionsV2\\test\\test80_01...</td>\n",
       "      <td>0.551371</td>\n",
       "      <td>0.450305</td>\n",
       "      <td>0.44983</td>\n",
       "      <td>0.495537</td>\n",
       "      <td>0.438053</td>\n",
       "    </tr>\n",
       "    <tr>\n",
       "      <th>10</th>\n",
       "      <td>E:\\Databases\\FirstImpressionsV2\\test\\test80_01...</td>\n",
       "      <td>0.575112</td>\n",
       "      <td>0.517999</td>\n",
       "      <td>0.463191</td>\n",
       "      <td>0.582493</td>\n",
       "      <td>0.537954</td>\n",
       "    </tr>\n",
       "    <tr>\n",
       "      <th>11</th>\n",
       "      <td>E:\\Databases\\FirstImpressionsV2\\test\\test80_01...</td>\n",
       "      <td>0.559178</td>\n",
       "      <td>0.398729</td>\n",
       "      <td>0.433888</td>\n",
       "      <td>0.48064</td>\n",
       "      <td>0.492446</td>\n",
       "    </tr>\n",
       "    <tr>\n",
       "      <th>12</th>\n",
       "      <td>E:\\Databases\\FirstImpressionsV2\\test\\test80_01...</td>\n",
       "      <td>0.509459</td>\n",
       "      <td>0.432437</td>\n",
       "      <td>0.331873</td>\n",
       "      <td>0.495156</td>\n",
       "      <td>0.486784</td>\n",
       "    </tr>\n",
       "    <tr>\n",
       "      <th>13</th>\n",
       "      <td>E:\\Databases\\FirstImpressionsV2\\test\\test80_01...</td>\n",
       "      <td>0.330106</td>\n",
       "      <td>0.32269</td>\n",
       "      <td>0.235657</td>\n",
       "      <td>0.369774</td>\n",
       "      <td>0.250613</td>\n",
       "    </tr>\n",
       "    <tr>\n",
       "      <th>14</th>\n",
       "      <td>E:\\Databases\\FirstImpressionsV2\\test\\test80_01...</td>\n",
       "      <td>0.649442</td>\n",
       "      <td>0.550213</td>\n",
       "      <td>0.50291</td>\n",
       "      <td>0.526651</td>\n",
       "      <td>0.566825</td>\n",
       "    </tr>\n",
       "    <tr>\n",
       "      <th>15</th>\n",
       "      <td>E:\\Databases\\FirstImpressionsV2\\test\\test80_01...</td>\n",
       "      <td>0.651922</td>\n",
       "      <td>0.830514</td>\n",
       "      <td>0.535553</td>\n",
       "      <td>0.695261</td>\n",
       "      <td>0.734431</td>\n",
       "    </tr>\n",
       "    <tr>\n",
       "      <th>16</th>\n",
       "      <td>E:\\Databases\\FirstImpressionsV2\\test\\test80_01...</td>\n",
       "      <td>0.524071</td>\n",
       "      <td>0.435595</td>\n",
       "      <td>0.382996</td>\n",
       "      <td>0.409973</td>\n",
       "      <td>0.466324</td>\n",
       "    </tr>\n",
       "    <tr>\n",
       "      <th>17</th>\n",
       "      <td>E:\\Databases\\FirstImpressionsV2\\test\\test80_01...</td>\n",
       "      <td>0.575157</td>\n",
       "      <td>0.678379</td>\n",
       "      <td>0.468697</td>\n",
       "      <td>0.602201</td>\n",
       "      <td>0.626107</td>\n",
       "    </tr>\n",
       "    <tr>\n",
       "      <th>18</th>\n",
       "      <td>E:\\Databases\\FirstImpressionsV2\\test\\test80_01...</td>\n",
       "      <td>0.566413</td>\n",
       "      <td>0.559065</td>\n",
       "      <td>0.46215</td>\n",
       "      <td>0.606297</td>\n",
       "      <td>0.56962</td>\n",
       "    </tr>\n",
       "    <tr>\n",
       "      <th>19</th>\n",
       "      <td>E:\\Databases\\FirstImpressionsV2\\test\\test80_01...</td>\n",
       "      <td>0.67226</td>\n",
       "      <td>0.655209</td>\n",
       "      <td>0.656646</td>\n",
       "      <td>0.627287</td>\n",
       "      <td>0.663156</td>\n",
       "    </tr>\n",
       "    <tr>\n",
       "      <th>20</th>\n",
       "      <td>E:\\Databases\\FirstImpressionsV2\\test\\test80_01...</td>\n",
       "      <td>0.684459</td>\n",
       "      <td>0.602659</td>\n",
       "      <td>0.680509</td>\n",
       "      <td>0.635369</td>\n",
       "      <td>0.65236</td>\n",
       "    </tr>\n",
       "    <tr>\n",
       "      <th>21</th>\n",
       "      <td>E:\\Databases\\FirstImpressionsV2\\test\\test80_01...</td>\n",
       "      <td>0.550732</td>\n",
       "      <td>0.491935</td>\n",
       "      <td>0.404899</td>\n",
       "      <td>0.562696</td>\n",
       "      <td>0.478207</td>\n",
       "    </tr>\n",
       "    <tr>\n",
       "      <th>22</th>\n",
       "      <td>E:\\Databases\\FirstImpressionsV2\\test\\test80_01...</td>\n",
       "      <td>0.525543</td>\n",
       "      <td>0.469154</td>\n",
       "      <td>0.428601</td>\n",
       "      <td>0.491485</td>\n",
       "      <td>0.453687</td>\n",
       "    </tr>\n",
       "    <tr>\n",
       "      <th>23</th>\n",
       "      <td>E:\\Databases\\FirstImpressionsV2\\test\\test80_01...</td>\n",
       "      <td>0.473496</td>\n",
       "      <td>0.44274</td>\n",
       "      <td>0.353015</td>\n",
       "      <td>0.44791</td>\n",
       "      <td>0.358689</td>\n",
       "    </tr>\n",
       "    <tr>\n",
       "      <th>24</th>\n",
       "      <td>E:\\Databases\\FirstImpressionsV2\\test\\test80_01...</td>\n",
       "      <td>0.667798</td>\n",
       "      <td>0.655176</td>\n",
       "      <td>0.603693</td>\n",
       "      <td>0.630097</td>\n",
       "      <td>0.614783</td>\n",
       "    </tr>\n",
       "    <tr>\n",
       "      <th>25</th>\n",
       "      <td>E:\\Databases\\FirstImpressionsV2\\test\\test80_01...</td>\n",
       "      <td>0.469222</td>\n",
       "      <td>0.59405</td>\n",
       "      <td>0.364709</td>\n",
       "      <td>0.522723</td>\n",
       "      <td>0.481267</td>\n",
       "    </tr>\n",
       "    <tr>\n",
       "      <th>26</th>\n",
       "      <td>E:\\Databases\\FirstImpressionsV2\\test\\test80_01...</td>\n",
       "      <td>0.62542</td>\n",
       "      <td>0.641533</td>\n",
       "      <td>0.514117</td>\n",
       "      <td>0.547696</td>\n",
       "      <td>0.547597</td>\n",
       "    </tr>\n",
       "    <tr>\n",
       "      <th>27</th>\n",
       "      <td>E:\\Databases\\FirstImpressionsV2\\test\\test80_01...</td>\n",
       "      <td>0.568961</td>\n",
       "      <td>0.524567</td>\n",
       "      <td>0.475858</td>\n",
       "      <td>0.520737</td>\n",
       "      <td>0.531384</td>\n",
       "    </tr>\n",
       "    <tr>\n",
       "      <th>28</th>\n",
       "      <td>E:\\Databases\\FirstImpressionsV2\\test\\test80_01...</td>\n",
       "      <td>0.696369</td>\n",
       "      <td>0.665137</td>\n",
       "      <td>0.709017</td>\n",
       "      <td>0.655957</td>\n",
       "      <td>0.689757</td>\n",
       "    </tr>\n",
       "    <tr>\n",
       "      <th>29</th>\n",
       "      <td>E:\\Databases\\FirstImpressionsV2\\test\\test80_01...</td>\n",
       "      <td>0.578405</td>\n",
       "      <td>0.577333</td>\n",
       "      <td>0.487305</td>\n",
       "      <td>0.557214</td>\n",
       "      <td>0.521572</td>\n",
       "    </tr>\n",
       "    <tr>\n",
       "      <th>30</th>\n",
       "      <td>E:\\Databases\\FirstImpressionsV2\\test\\test80_01...</td>\n",
       "      <td>0.637729</td>\n",
       "      <td>0.587779</td>\n",
       "      <td>0.614648</td>\n",
       "      <td>0.637426</td>\n",
       "      <td>0.613966</td>\n",
       "    </tr>\n",
       "  </tbody>\n",
       "</table>\n",
       "</div>"
      ],
      "text/plain": [
       "                                                 Path  Openness  \\\n",
       "ID                                                                \n",
       "1   E:\\Databases\\FirstImpressionsV2\\test\\test80_01...  0.527125   \n",
       "2   E:\\Databases\\FirstImpressionsV2\\test\\test80_01...  0.559083   \n",
       "3   E:\\Databases\\FirstImpressionsV2\\test\\test80_01...   0.46688   \n",
       "4   E:\\Databases\\FirstImpressionsV2\\test\\test80_01...  0.626261   \n",
       "5   E:\\Databases\\FirstImpressionsV2\\test\\test80_01...  0.592707   \n",
       "6   E:\\Databases\\FirstImpressionsV2\\test\\test80_01...  0.671835   \n",
       "7   E:\\Databases\\FirstImpressionsV2\\test\\test80_01...  0.411725   \n",
       "8   E:\\Databases\\FirstImpressionsV2\\test\\test80_01...  0.583736   \n",
       "9   E:\\Databases\\FirstImpressionsV2\\test\\test80_01...  0.551371   \n",
       "10  E:\\Databases\\FirstImpressionsV2\\test\\test80_01...  0.575112   \n",
       "11  E:\\Databases\\FirstImpressionsV2\\test\\test80_01...  0.559178   \n",
       "12  E:\\Databases\\FirstImpressionsV2\\test\\test80_01...  0.509459   \n",
       "13  E:\\Databases\\FirstImpressionsV2\\test\\test80_01...  0.330106   \n",
       "14  E:\\Databases\\FirstImpressionsV2\\test\\test80_01...  0.649442   \n",
       "15  E:\\Databases\\FirstImpressionsV2\\test\\test80_01...  0.651922   \n",
       "16  E:\\Databases\\FirstImpressionsV2\\test\\test80_01...  0.524071   \n",
       "17  E:\\Databases\\FirstImpressionsV2\\test\\test80_01...  0.575157   \n",
       "18  E:\\Databases\\FirstImpressionsV2\\test\\test80_01...  0.566413   \n",
       "19  E:\\Databases\\FirstImpressionsV2\\test\\test80_01...   0.67226   \n",
       "20  E:\\Databases\\FirstImpressionsV2\\test\\test80_01...  0.684459   \n",
       "21  E:\\Databases\\FirstImpressionsV2\\test\\test80_01...  0.550732   \n",
       "22  E:\\Databases\\FirstImpressionsV2\\test\\test80_01...  0.525543   \n",
       "23  E:\\Databases\\FirstImpressionsV2\\test\\test80_01...  0.473496   \n",
       "24  E:\\Databases\\FirstImpressionsV2\\test\\test80_01...  0.667798   \n",
       "25  E:\\Databases\\FirstImpressionsV2\\test\\test80_01...  0.469222   \n",
       "26  E:\\Databases\\FirstImpressionsV2\\test\\test80_01...   0.62542   \n",
       "27  E:\\Databases\\FirstImpressionsV2\\test\\test80_01...  0.568961   \n",
       "28  E:\\Databases\\FirstImpressionsV2\\test\\test80_01...  0.696369   \n",
       "29  E:\\Databases\\FirstImpressionsV2\\test\\test80_01...  0.578405   \n",
       "30  E:\\Databases\\FirstImpressionsV2\\test\\test80_01...  0.637729   \n",
       "\n",
       "   Conscientiousness Extraversion Agreeableness Neuroticism  \n",
       "ID                                                           \n",
       "1           0.460323     0.422916      0.502899    0.450719  \n",
       "2           0.432637     0.503995      0.578493    0.513186  \n",
       "3           0.517016     0.331784      0.451296     0.40613  \n",
       "4           0.597585     0.564264       0.57414    0.589433  \n",
       "5           0.507347     0.505665      0.585533    0.493232  \n",
       "6            0.64247     0.614605      0.613452     0.61946  \n",
       "7           0.394052     0.329424      0.488724    0.391151  \n",
       "8            0.56864     0.505483      0.625266    0.587266  \n",
       "9           0.450305      0.44983      0.495537    0.438053  \n",
       "10          0.517999     0.463191      0.582493    0.537954  \n",
       "11          0.398729     0.433888       0.48064    0.492446  \n",
       "12          0.432437     0.331873      0.495156    0.486784  \n",
       "13           0.32269     0.235657      0.369774    0.250613  \n",
       "14          0.550213      0.50291      0.526651    0.566825  \n",
       "15          0.830514     0.535553      0.695261    0.734431  \n",
       "16          0.435595     0.382996      0.409973    0.466324  \n",
       "17          0.678379     0.468697      0.602201    0.626107  \n",
       "18          0.559065      0.46215      0.606297     0.56962  \n",
       "19          0.655209     0.656646      0.627287    0.663156  \n",
       "20          0.602659     0.680509      0.635369     0.65236  \n",
       "21          0.491935     0.404899      0.562696    0.478207  \n",
       "22          0.469154     0.428601      0.491485    0.453687  \n",
       "23           0.44274     0.353015       0.44791    0.358689  \n",
       "24          0.655176     0.603693      0.630097    0.614783  \n",
       "25           0.59405     0.364709      0.522723    0.481267  \n",
       "26          0.641533     0.514117      0.547696    0.547597  \n",
       "27          0.524567     0.475858      0.520737    0.531384  \n",
       "28          0.665137     0.709017      0.655957    0.689757  \n",
       "29          0.577333     0.487305      0.557214    0.521572  \n",
       "30          0.587779     0.614648      0.637426    0.613966  "
      ]
     },
     "metadata": {},
     "output_type": "display_data"
    },
    {
     "data": {
      "text/markdown": [
       "<span style=\"color:#333\">**[</span><span style=\"color:#1776D2\">2023-12-10 19:39:47</span><span style=\"color:#333\">]</span> <span style=\"color:#333\">Точность по отдельным персональным качествам личности человека ...</span>** "
      ],
      "text/plain": [
       "<IPython.core.display.Markdown object>"
      ]
     },
     "metadata": {},
     "output_type": "display_data"
    },
    {
     "data": {
      "text/html": [
       "<div>\n",
       "<style scoped>\n",
       "    .dataframe tbody tr th:only-of-type {\n",
       "        vertical-align: middle;\n",
       "    }\n",
       "\n",
       "    .dataframe tbody tr th {\n",
       "        vertical-align: top;\n",
       "    }\n",
       "\n",
       "    .dataframe thead th {\n",
       "        text-align: right;\n",
       "    }\n",
       "</style>\n",
       "<table border=\"1\" class=\"dataframe\">\n",
       "  <thead>\n",
       "    <tr style=\"text-align: right;\">\n",
       "      <th></th>\n",
       "      <th>Openness</th>\n",
       "      <th>Conscientiousness</th>\n",
       "      <th>Extraversion</th>\n",
       "      <th>Agreeableness</th>\n",
       "      <th>Neuroticism</th>\n",
       "      <th>Mean</th>\n",
       "    </tr>\n",
       "    <tr>\n",
       "      <th>Metrics</th>\n",
       "      <th></th>\n",
       "      <th></th>\n",
       "      <th></th>\n",
       "      <th></th>\n",
       "      <th></th>\n",
       "      <th></th>\n",
       "    </tr>\n",
       "  </thead>\n",
       "  <tbody>\n",
       "    <tr>\n",
       "      <th>MAE</th>\n",
       "      <td>0.0873</td>\n",
       "      <td>0.082</td>\n",
       "      <td>0.0805</td>\n",
       "      <td>0.087</td>\n",
       "      <td>0.0872</td>\n",
       "      <td>0.0848</td>\n",
       "    </tr>\n",
       "    <tr>\n",
       "      <th>Accuracy</th>\n",
       "      <td>0.9127</td>\n",
       "      <td>0.918</td>\n",
       "      <td>0.9195</td>\n",
       "      <td>0.913</td>\n",
       "      <td>0.9128</td>\n",
       "      <td>0.9152</td>\n",
       "    </tr>\n",
       "  </tbody>\n",
       "</table>\n",
       "</div>"
      ],
      "text/plain": [
       "          Openness  Conscientiousness  Extraversion  Agreeableness  \\\n",
       "Metrics                                                              \n",
       "MAE         0.0873              0.082        0.0805          0.087   \n",
       "Accuracy    0.9127              0.918        0.9195          0.913   \n",
       "\n",
       "          Neuroticism    Mean  \n",
       "Metrics                        \n",
       "MAE            0.0872  0.0848  \n",
       "Accuracy       0.9128  0.9152  "
      ]
     },
     "metadata": {},
     "output_type": "display_data"
    },
    {
     "data": {
      "text/markdown": [
       "<span style=\"color:#333\">**[</span><span style=\"color:#1776D2\">2023-12-10 19:39:47</span><span style=\"color:#333\">]</span> <span style=\"color:#333\">Средняя средних абсолютных ошибок: <span style=\"color:#1776D2\">0.0848</span>, средняя точность: <span style=\"color:#1776D2\">0.9152</span> ...</span>** "
      ],
      "text/plain": [
       "<IPython.core.display.Markdown object>"
      ]
     },
     "metadata": {},
     "output_type": "display_data"
    },
    {
     "data": {
      "text/markdown": [
       "<span style=\"color:#008001\">**Лог файлы успешно сохранены ...**</span>"
      ],
      "text/plain": [
       "<IPython.core.display.Markdown object>"
      ]
     },
     "metadata": {},
     "output_type": "display_data"
    },
    {
     "data": {
      "text/markdown": [
       "<span style=\"color:#333\">**--- Время выполнения: 2371.345 сек. ---**</span>"
      ],
      "text/plain": [
       "<IPython.core.display.Markdown object>"
      ]
     },
     "metadata": {},
     "output_type": "display_data"
    }
   ],
   "source": [
    "# Настройки ядра\n",
    "_b5.path_to_dataset_ = 'E:/Databases/FirstImpressionsV2/test' # Директория набора данных\n",
    "# Директории не входящие в выборку\n",
    "_b5.ignore_dirs_ = []\n",
    "# Названия ключей для DataFrame набора данных\n",
    "_b5.keys_dataset_ = ['Path', 'Openness', 'Conscientiousness', 'Extraversion', 'Agreeableness', 'Neuroticism']\n",
    "_b5.ext_ = ['.mp4'] # Расширения искомых файлов\n",
    "_b5.path_to_logs_ = './logs' # Директория для сохранения LOG файлов\n",
    "\n",
    "# Полный путь к файлу с верными предсказаниями для подсчета точности\n",
    "url_accuracy = _b5.true_traits_['fi']['sberdisk']\n",
    "\n",
    "res_get_video_union_predictions = _b5.get_video_union_predictions(\n",
    "    depth = 1,         # Глубина иерархии для получения аудио и видеоданных\n",
    "    recursive = False, # Рекурсивный поиск данных\n",
    "    reduction_fps = 5, # Понижение кадровой частоты\n",
    "    window = 10,       # Размер окна сегмента сигнала (в секундах)\n",
    "    step = 5,          # Шаг сдвига окна сегмента сигнала (в секундах)\n",
    "    lang = 'en',\n",
    "    accuracy = True,   # Вычисление точности\n",
    "    url_accuracy = url_accuracy,\n",
    "    logs = True,       # При необходимости формировать LOG файл\n",
    "    out = True,        # Отображение\n",
    "    runtime = True,    # Подсчет времени выполнения\n",
    "    run = True         # Блокировка выполнения\n",
    ")"
   ]
  },
  {
   "cell_type": "code",
   "execution_count": null,
   "metadata": {},
   "outputs": [],
   "source": []
  }
 ],
 "metadata": {
  "kernelspec": {
   "display_name": "Python 3 (ipykernel)",
   "language": "python",
   "name": "python3"
  },
  "language_info": {
   "codemirror_mode": {
    "name": "ipython",
    "version": 3
   },
   "file_extension": ".py",
   "mimetype": "text/x-python",
   "name": "python",
   "nbconvert_exporter": "python",
   "pygments_lexer": "ipython3",
   "version": "3.9.13"
  }
 },
 "nbformat": 4,
 "nbformat_minor": 4
}
