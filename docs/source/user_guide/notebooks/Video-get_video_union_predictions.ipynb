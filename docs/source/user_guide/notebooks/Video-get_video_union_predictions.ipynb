{
 "cells": [
  {
   "cell_type": "markdown",
   "metadata": {
    "tags": []
   },
   "source": [
    "## Получение прогнозов по видео\n",
    "\n",
    "<img src=\"https://raw.githubusercontent.com/aimclub/OCEANAI/main/docs/source/user_guide/notebooks/images/Pipeline_VIA_en.svg\" width=\"100%\" />\n",
    "\n",
    "<hr>"
   ]
  },
  {
   "cell_type": "code",
   "execution_count": 1,
   "metadata": {
    "nbsphinx": "hidden",
    "tags": []
   },
   "outputs": [],
   "source": [
    "import os  # Взаимодействие с файловой системой\n",
    "import sys # Доступ к некоторым переменным и функциям Python\n",
    "\n",
    "PATH_TO_SOURCE = os.path.abspath(os.path.dirname(globals()['_dh'][0]))\n",
    "PATH_TO_ROOT = os.path.join(PATH_TO_SOURCE, '..', '..', '..')\n",
    "\n",
    "sys.path.insert(0, os.path.abspath(PATH_TO_ROOT))"
   ]
  },
  {
   "cell_type": "markdown",
   "metadata": {},
   "source": [
    "### Импорт необходимых инструментов"
   ]
  },
  {
   "cell_type": "code",
   "execution_count": 2,
   "metadata": {},
   "outputs": [],
   "source": [
    "from oceanai.modules.lab.build import Run"
   ]
  },
  {
   "cell_type": "markdown",
   "metadata": {},
   "source": [
    "### Сборка"
   ]
  },
  {
   "cell_type": "code",
   "execution_count": 3,
   "metadata": {},
   "outputs": [
    {
     "data": {
      "text/markdown": [
       "<span style=\"color:#333\">**[</span><span style=\"color:#1776D2\">2024-10-08 16:35:32</span><span style=\"color:#333\">]</span> <span style=\"color:#333\">OCEANAI - персональные качества личности человека:</span>**<br /><span style=\"color:#333\">&nbsp;&nbsp;&nbsp;&nbsp;Авторы:</span><br /><span style=\"color:#333\">&nbsp;&nbsp;&nbsp;&nbsp;&nbsp;&nbsp;&nbsp;&nbsp;Рюмина Елена [<u>ryumina_ev@mail.ru</u>]</span><br /><span style=\"color:#333\">&nbsp;&nbsp;&nbsp;&nbsp;&nbsp;&nbsp;&nbsp;&nbsp;Рюмин Дмитрий [<u>dl_03.03.1991@mail.ru</u>]</span><br /><span style=\"color:#333\">&nbsp;&nbsp;&nbsp;&nbsp;&nbsp;&nbsp;&nbsp;&nbsp;Карпов Алексей [<u>karpov@iias.spb.su</u>]</span><br /><span style=\"color:#333\">&nbsp;&nbsp;&nbsp;&nbsp;Сопровождающие:</span><br /><span style=\"color:#333\">&nbsp;&nbsp;&nbsp;&nbsp;&nbsp;&nbsp;&nbsp;&nbsp;Рюмина Елена [<u>ryumina_ev@mail.ru</u>]</span><br /><span style=\"color:#333\">&nbsp;&nbsp;&nbsp;&nbsp;&nbsp;&nbsp;&nbsp;&nbsp;Рюмин Дмитрий [<u>dl_03.03.1991@mail.ru</u>]</span><br /><span style=\"color:#333\">&nbsp;&nbsp;&nbsp;&nbsp;Версия: <u>1.0.0a40</u></span><br /><span style=\"color:#333\">&nbsp;&nbsp;&nbsp;&nbsp;Лицензия: <u>BSD License</u></span></p>"
      ],
      "text/plain": [
       "<IPython.core.display.Markdown object>"
      ]
     },
     "metadata": {},
     "output_type": "display_data"
    }
   ],
   "source": [
    "_b5 = Run(\n",
    "    lang = 'ru', # Язык\n",
    "    color_simple = '#333', # Цвет обычного текста (шестнадцатеричный код)\n",
    "    color_info = '#1776D2', # Цвет текста содержащего информацию (шестнадцатеричный код)\n",
    "    color_err = '#FF0000', # Цвет текста содержащего ошибку (шестнадцатеричный код)\n",
    "    color_true = '#008001', # Цвет текста содержащего положительную информацию (шестнадцатеричный код)\n",
    "    bold_text = True, # Жирное начертание текста\n",
    "    num_to_df_display = 30, # Количество строк для отображения в таблицах\n",
    "    text_runtime = 'Время выполнения', # Текст времени выполнения\n",
    "    metadata = True # Отображение информации о библиотеке\n",
    ")"
   ]
  },
  {
   "cell_type": "markdown",
   "metadata": {},
   "source": [
    "### Получение и отображение версий установленных библиотек\n",
    "\n",
    "> - `_b5.df_pkgs_` - DataFrame c версиями установленных библиотек"
   ]
  },
  {
   "cell_type": "code",
   "execution_count": 4,
   "metadata": {},
   "outputs": [
    {
     "data": {
      "text/html": [
       "<div>\n",
       "<style scoped>\n",
       "    .dataframe tbody tr th:only-of-type {\n",
       "        vertical-align: middle;\n",
       "    }\n",
       "\n",
       "    .dataframe tbody tr th {\n",
       "        vertical-align: top;\n",
       "    }\n",
       "\n",
       "    .dataframe thead th {\n",
       "        text-align: right;\n",
       "    }\n",
       "</style>\n",
       "<table border=\"1\" class=\"dataframe\">\n",
       "  <thead>\n",
       "    <tr style=\"text-align: right;\">\n",
       "      <th></th>\n",
       "      <th>Package</th>\n",
       "      <th>Version</th>\n",
       "    </tr>\n",
       "  </thead>\n",
       "  <tbody>\n",
       "    <tr>\n",
       "      <th>1</th>\n",
       "      <td>OpenCV</td>\n",
       "      <td>4.10.0</td>\n",
       "    </tr>\n",
       "    <tr>\n",
       "      <th>2</th>\n",
       "      <td>MediaPipe</td>\n",
       "      <td>0.10.14</td>\n",
       "    </tr>\n",
       "    <tr>\n",
       "      <th>3</th>\n",
       "      <td>NumPy</td>\n",
       "      <td>1.26.4</td>\n",
       "    </tr>\n",
       "    <tr>\n",
       "      <th>4</th>\n",
       "      <td>SciPy</td>\n",
       "      <td>1.14.1</td>\n",
       "    </tr>\n",
       "    <tr>\n",
       "      <th>5</th>\n",
       "      <td>Pandas</td>\n",
       "      <td>2.2.3</td>\n",
       "    </tr>\n",
       "    <tr>\n",
       "      <th>6</th>\n",
       "      <td>Scikit-learn</td>\n",
       "      <td>1.5.2</td>\n",
       "    </tr>\n",
       "    <tr>\n",
       "      <th>7</th>\n",
       "      <td>OpenSmile</td>\n",
       "      <td>2.5.0</td>\n",
       "    </tr>\n",
       "    <tr>\n",
       "      <th>8</th>\n",
       "      <td>Librosa</td>\n",
       "      <td>0.10.2.post1</td>\n",
       "    </tr>\n",
       "    <tr>\n",
       "      <th>9</th>\n",
       "      <td>AudioRead</td>\n",
       "      <td>3.0.1</td>\n",
       "    </tr>\n",
       "    <tr>\n",
       "      <th>10</th>\n",
       "      <td>IPython</td>\n",
       "      <td>8.28.0</td>\n",
       "    </tr>\n",
       "    <tr>\n",
       "      <th>11</th>\n",
       "      <td>Requests</td>\n",
       "      <td>2.32.3</td>\n",
       "    </tr>\n",
       "    <tr>\n",
       "      <th>12</th>\n",
       "      <td>JupyterLab</td>\n",
       "      <td>4.2.5</td>\n",
       "    </tr>\n",
       "    <tr>\n",
       "      <th>13</th>\n",
       "      <td>LIWC</td>\n",
       "      <td>0.5.0</td>\n",
       "    </tr>\n",
       "    <tr>\n",
       "      <th>14</th>\n",
       "      <td>Transformers</td>\n",
       "      <td>4.45.1</td>\n",
       "    </tr>\n",
       "    <tr>\n",
       "      <th>15</th>\n",
       "      <td>Sentencepiece</td>\n",
       "      <td>0.2.0</td>\n",
       "    </tr>\n",
       "    <tr>\n",
       "      <th>16</th>\n",
       "      <td>Torch</td>\n",
       "      <td>2.4.1+cu118</td>\n",
       "    </tr>\n",
       "    <tr>\n",
       "      <th>17</th>\n",
       "      <td>Torchaudio</td>\n",
       "      <td>2.4.1+cu118</td>\n",
       "    </tr>\n",
       "    <tr>\n",
       "      <th>18</th>\n",
       "      <td>Torchvision</td>\n",
       "      <td>0.19.1+cu118</td>\n",
       "    </tr>\n",
       "  </tbody>\n",
       "</table>\n",
       "</div>"
      ],
      "text/plain": [
       "          Package       Version\n",
       "1          OpenCV        4.10.0\n",
       "2       MediaPipe       0.10.14\n",
       "3           NumPy        1.26.4\n",
       "4           SciPy        1.14.1\n",
       "5          Pandas         2.2.3\n",
       "6    Scikit-learn         1.5.2\n",
       "7       OpenSmile         2.5.0\n",
       "8         Librosa  0.10.2.post1\n",
       "9       AudioRead         3.0.1\n",
       "10        IPython        8.28.0\n",
       "11       Requests        2.32.3\n",
       "12     JupyterLab         4.2.5\n",
       "13           LIWC         0.5.0\n",
       "14   Transformers        4.45.1\n",
       "15  Sentencepiece         0.2.0\n",
       "16          Torch   2.4.1+cu118\n",
       "17     Torchaudio   2.4.1+cu118\n",
       "18    Torchvision  0.19.1+cu118"
      ]
     },
     "metadata": {},
     "output_type": "display_data"
    },
    {
     "data": {
      "text/markdown": [
       "<span style=\"color:#333\">**--- Время выполнения: 0.002 сек. ---**</span>"
      ],
      "text/plain": [
       "<IPython.core.display.Markdown object>"
      ]
     },
     "metadata": {},
     "output_type": "display_data"
    }
   ],
   "source": [
    "_b5.libs_vers(runtime = True, run = True)"
   ]
  },
  {
   "cell_type": "markdown",
   "metadata": {},
   "source": [
    "### Формирование нейросетевой архитектуры модели для получения оценок по экспертным признакам\n",
    "\n",
    "> - `_b5.video_model_hc_` - Нейросетевая модель **nn.Module** для получения оценок по экспертным признакам"
   ]
  },
  {
   "cell_type": "code",
   "execution_count": 5,
   "metadata": {},
   "outputs": [
    {
     "data": {
      "text/markdown": [
       "<span style=\"color:#333\">**[</span><span style=\"color:#1776D2\">2024-10-08 16:35:32</span><span style=\"color:#333\">]</span> <span style=\"color:#333\">Формирование нейросетевой архитектуры модели для получения оценок по экспертным признакам (видео модальность) ...</span>** "
      ],
      "text/plain": [
       "<IPython.core.display.Markdown object>"
      ]
     },
     "metadata": {},
     "output_type": "display_data"
    },
    {
     "data": {
      "text/markdown": [
       "<span style=\"color:#333\">**--- Время выполнения: 0.002 сек. ---**</span>"
      ],
      "text/plain": [
       "<IPython.core.display.Markdown object>"
      ]
     },
     "metadata": {},
     "output_type": "display_data"
    }
   ],
   "source": [
    "res_load_video_model_hc = _b5.load_video_model_hc(\n",
    "    lang = 'en',\n",
    "    show_summary = False, # Отображение сформированной нейросетевой архитектуры модели\n",
    "    out = True, # Отображение\n",
    "    runtime = True, # Подсчет времени выполнения\n",
    "    run = True # Блокировка выполнения\n",
    ")"
   ]
  },
  {
   "cell_type": "markdown",
   "metadata": {},
   "source": [
    "### Загрузка весов нейросетевой модели для получения оценок по экспертным признакам\n",
    "\n",
    "> - `_b5.video_model_hc_` - Нейросетевая модель **nn.Module** для получения оценок по экспертным признакам"
   ]
  },
  {
   "cell_type": "code",
   "execution_count": 6,
   "metadata": {},
   "outputs": [
    {
     "data": {
      "text/markdown": [
       "<span style=\"color:#333\">**[</span><span style=\"color:#1776D2\">2024-10-08 16:35:32</span><span style=\"color:#333\">]</span> <span style=\"color:#333\">Загрузка весов нейросетевой модели для получения оценок по экспертным признакам (видео модальность) ...</span>** "
      ],
      "text/plain": [
       "<IPython.core.display.Markdown object>"
      ]
     },
     "metadata": {},
     "output_type": "display_data"
    },
    {
     "data": {
      "text/markdown": [
       "<span style=\"color:#333\">**[</span><span style=\"color:#1776D2\">2024-10-08 16:35:35</span><span style=\"color:#333\">]</span> <span style=\"color:#333\">Загрузка файла \"<span style=\"color:#1776D2\">weights_2022-08-27_18-53-35.pth</span>\" 100.0% ...</span>** "
      ],
      "text/plain": [
       "<IPython.core.display.Markdown object>"
      ]
     },
     "metadata": {},
     "output_type": "display_data"
    },
    {
     "data": {
      "text/markdown": [
       "<span style=\"color:#333\">**--- Время выполнения: 2.727 сек. ---**</span>"
      ],
      "text/plain": [
       "<IPython.core.display.Markdown object>"
      ]
     },
     "metadata": {},
     "output_type": "display_data"
    }
   ],
   "source": [
    "# Настройки ядра\n",
    "_b5.path_to_save_ = './models' # Директория для сохранения файла\n",
    "_b5.chunk_size_ = 2000000 # Размер загрузки файла из сети за 1 шаг\n",
    "\n",
    "url = _b5.weights_for_big5_['video']['fi']['hc']['googledisk']\n",
    "\n",
    "res_load_video_model_weights_hc = _b5.load_video_model_weights_hc(\n",
    "    url = url, # Полный путь к файлу с весами нейросетевой модели\n",
    "    force_reload = True, # Принудительная загрузка файла с весами нейросетевой модели из сети\n",
    "    out = True, # Отображение\n",
    "    runtime = True, # Подсчет времени выполнения\n",
    "    run = True # Блокировка выполнения\n",
    ")"
   ]
  },
  {
   "cell_type": "markdown",
   "metadata": {},
   "source": [
    "### Формирование нейросетевой архитектуры для получения нейросетевых признаков\n",
    "\n",
    "> - `_b5.video_model_deep_fe_` - Нейросетевая модель **nn.Module** для получения нейросетевых признаков"
   ]
  },
  {
   "cell_type": "code",
   "execution_count": 7,
   "metadata": {},
   "outputs": [
    {
     "data": {
      "text/markdown": [
       "<span style=\"color:#333\">**[</span><span style=\"color:#1776D2\">2024-10-08 16:35:35</span><span style=\"color:#333\">]</span> <span style=\"color:#333\">Формирование нейросетевой архитектуры для получения нейросетевых признаков (видео модальность) ...</span>** "
      ],
      "text/plain": [
       "<IPython.core.display.Markdown object>"
      ]
     },
     "metadata": {},
     "output_type": "display_data"
    },
    {
     "data": {
      "text/markdown": [
       "<span style=\"color:#333\">**--- Время выполнения: 0.109 сек. ---**</span>"
      ],
      "text/plain": [
       "<IPython.core.display.Markdown object>"
      ]
     },
     "metadata": {},
     "output_type": "display_data"
    }
   ],
   "source": [
    "res_load_video_model_deep_fe = _b5.load_video_model_deep_fe(\n",
    "    show_summary = False, # Отображение сформированной нейросетевой архитектуры модели\n",
    "    out = True, # Отображение\n",
    "    runtime = True, # Подсчет времени выполнения\n",
    "    run = True # Блокировка выполнения\n",
    ")"
   ]
  },
  {
   "cell_type": "markdown",
   "metadata": {},
   "source": [
    "### Загрузка весов нейросетевой модели для получения нейросетевых признаков\n",
    "\n",
    "> - `_b5.video_model_deep_fe_` - Нейросетевая модель **nn.Module** для получения нейросетевых признаков"
   ]
  },
  {
   "cell_type": "code",
   "execution_count": 8,
   "metadata": {},
   "outputs": [
    {
     "data": {
      "text/markdown": [
       "<span style=\"color:#333\">**[</span><span style=\"color:#1776D2\">2024-10-08 16:35:35</span><span style=\"color:#333\">]</span> <span style=\"color:#333\">Загрузка весов нейросетевой модели для получения нейросетевых признаков (видео модальность) ...</span>** "
      ],
      "text/plain": [
       "<IPython.core.display.Markdown object>"
      ]
     },
     "metadata": {},
     "output_type": "display_data"
    },
    {
     "data": {
      "text/markdown": [
       "<span style=\"color:#333\">**[</span><span style=\"color:#1776D2\">2024-10-08 16:35:39</span><span style=\"color:#333\">]</span> <span style=\"color:#333\">Загрузка файла \"<span style=\"color:#1776D2\">weights_2022-11-01_12-27-07.pth</span>\" 100.0% ...</span>** "
      ],
      "text/plain": [
       "<IPython.core.display.Markdown object>"
      ]
     },
     "metadata": {},
     "output_type": "display_data"
    },
    {
     "data": {
      "text/markdown": [
       "<span style=\"color:#333\">**--- Время выполнения: 3.878 сек. ---**</span>"
      ],
      "text/plain": [
       "<IPython.core.display.Markdown object>"
      ]
     },
     "metadata": {},
     "output_type": "display_data"
    }
   ],
   "source": [
    "# Настройки ядра\n",
    "_b5.path_to_save_ = './models' # Директория для сохранения файла\n",
    "_b5.chunk_size_ = 2000000 # Размер загрузки файла из сети за 1 шаг\n",
    "\n",
    "url = _b5.weights_for_big5_['video']['fi']['fe']['googledisk']\n",
    "\n",
    "res_load_video_model_weights_deep_fe = _b5.load_video_model_weights_deep_fe(\n",
    "    url = url, # Полный путь к файлу с весами нейросетевой модели\n",
    "    force_reload = True, # Принудительная загрузка файла с весами нейросетевой модели из сети\n",
    "    out = True, # Отображение\n",
    "    runtime = True, # Подсчет времени выполнения\n",
    "    run = True # Блокировка выполнения\n",
    ")"
   ]
  },
  {
   "cell_type": "markdown",
   "metadata": {},
   "source": [
    "### Формирование нейросетевой архитектуры модели для получения оценок по нейросетевым признакам\n",
    "\n",
    "> - `_b5.video_model_nn_` - Нейросетевая модель **nn.Module** для получения оценок по нейросетевым признакам"
   ]
  },
  {
   "cell_type": "code",
   "execution_count": 9,
   "metadata": {},
   "outputs": [
    {
     "data": {
      "text/markdown": [
       "<span style=\"color:#333\">**[</span><span style=\"color:#1776D2\">2024-10-08 16:35:39</span><span style=\"color:#333\">]</span> <span style=\"color:#333\">Формирование нейросетевой архитектуры для получения оценок по нейросетевым признакам (видео модальность) ...</span>** "
      ],
      "text/plain": [
       "<IPython.core.display.Markdown object>"
      ]
     },
     "metadata": {},
     "output_type": "display_data"
    },
    {
     "data": {
      "text/markdown": [
       "<span style=\"color:#333\">**--- Время выполнения: 0.023 сек. ---**</span>"
      ],
      "text/plain": [
       "<IPython.core.display.Markdown object>"
      ]
     },
     "metadata": {},
     "output_type": "display_data"
    }
   ],
   "source": [
    "res_load_video_model_nn = _b5.load_video_model_nn(\n",
    "    show_summary = False, # Отображение сформированной нейросетевой архитектуры модели\n",
    "    out = True, # Отображение\n",
    "    runtime = True, # Подсчет времени выполнения\n",
    "    run = True # Блокировка выполнения\n",
    ")"
   ]
  },
  {
   "cell_type": "markdown",
   "metadata": {},
   "source": [
    "### Загрузка весов нейросетевой модели для получения оценок по нейросетевым признакам\n",
    "\n",
    "> - `_b5.video_model_nn_` - Нейросетевая модель **nn.Module** для получения оценок по нейросетевым признакам"
   ]
  },
  {
   "cell_type": "code",
   "execution_count": 10,
   "metadata": {},
   "outputs": [
    {
     "data": {
      "text/markdown": [
       "<span style=\"color:#333\">**[</span><span style=\"color:#1776D2\">2024-10-08 16:35:39</span><span style=\"color:#333\">]</span> <span style=\"color:#333\">Загрузка весов нейросетевой модели для получения оценок по нейросетевым признакам (видео модальность) ...</span>** "
      ],
      "text/plain": [
       "<IPython.core.display.Markdown object>"
      ]
     },
     "metadata": {},
     "output_type": "display_data"
    },
    {
     "data": {
      "text/markdown": [
       "<span style=\"color:#333\">**[</span><span style=\"color:#1776D2\">2024-10-08 16:35:42</span><span style=\"color:#333\">]</span> <span style=\"color:#333\">Загрузка файла \"<span style=\"color:#1776D2\">weights_2022-03-22_16-31-48.pth</span>\"</span>** "
      ],
      "text/plain": [
       "<IPython.core.display.Markdown object>"
      ]
     },
     "metadata": {},
     "output_type": "display_data"
    },
    {
     "data": {
      "text/markdown": [
       "<span style=\"color:#333\">**--- Время выполнения: 2.816 сек. ---**</span>"
      ],
      "text/plain": [
       "<IPython.core.display.Markdown object>"
      ]
     },
     "metadata": {},
     "output_type": "display_data"
    }
   ],
   "source": [
    "# Настройки ядра\n",
    "_b5.path_to_save_ = './models' # Директория для сохранения файла\n",
    "_b5.chunk_size_ = 2000000 # Размер загрузки файла из сети за 1 шаг\n",
    "\n",
    "url = _b5.weights_for_big5_['video']['fi']['nn']['googledisk']\n",
    "\n",
    "res_load_video_model_weights_nn = _b5.load_video_model_weights_nn(\n",
    "    url = url, # Полный путь к файлу с весами нейросетевой модели\n",
    "    force_reload = False, # Принудительная загрузка файла с весами нейросетевой модели из сети\n",
    "    out = True, # Отображение\n",
    "    runtime = True, # Подсчет времени выполнения\n",
    "    run = True # Блокировка выполнения\n",
    ")"
   ]
  },
  {
   "cell_type": "markdown",
   "metadata": {},
   "source": [
    "### Формирование нейросетевых архитектур моделей для получения результатов оценки персональных качеств\n",
    "\n",
    "> - `_b5.video_models_b5_` - Нейросетевые модели **nn.Module** для получения результатов оценки персональных качеств"
   ]
  },
  {
   "cell_type": "code",
   "execution_count": 11,
   "metadata": {},
   "outputs": [
    {
     "data": {
      "text/markdown": [
       "<span style=\"color:#333\">**[</span><span style=\"color:#1776D2\">2024-10-08 16:35:43</span><span style=\"color:#333\">]</span> <span style=\"color:#333\">Формирование нейросетевых архитектур моделей для получения результатов оценки персональных качеств (видео модальность) ...</span>** "
      ],
      "text/plain": [
       "<IPython.core.display.Markdown object>"
      ]
     },
     "metadata": {},
     "output_type": "display_data"
    },
    {
     "data": {
      "text/markdown": [
       "<span style=\"color:#333\">**--- Время выполнения: 0.002 сек. ---**</span>"
      ],
      "text/plain": [
       "<IPython.core.display.Markdown object>"
      ]
     },
     "metadata": {},
     "output_type": "display_data"
    }
   ],
   "source": [
    "res_load_video_models_b5 = _b5.load_video_models_b5(\n",
    "    show_summary = False, # Отображение сформированной нейросетевой архитектуры модели\n",
    "    out = True, # Отображение\n",
    "    runtime = True, # Подсчет времени выполнения\n",
    "    run = True # Блокировка выполнения\n",
    ")"
   ]
  },
  {
   "cell_type": "markdown",
   "metadata": {},
   "source": [
    "### Загрузка весов нейросетевых моделей для получения результатов оценки персональных качеств\n",
    "\n",
    "> - `_b5.video_models_b5_` - Нейросетевые модели **nn.Module** для получения результатов оценки персональных качеств"
   ]
  },
  {
   "cell_type": "code",
   "execution_count": 12,
   "metadata": {},
   "outputs": [
    {
     "data": {
      "text/markdown": [
       "<span style=\"color:#333\">**[</span><span style=\"color:#1776D2\">2024-10-08 16:35:45</span><span style=\"color:#333\">]</span> <span style=\"color:#333\">Загрузка весов нейросетевых моделей для получения результатов оценки персональных качеств (видео модальность) ...</span>** "
      ],
      "text/plain": [
       "<IPython.core.display.Markdown object>"
      ]
     },
     "metadata": {},
     "output_type": "display_data"
    },
    {
     "data": {
      "text/markdown": [
       "<span style=\"color:#333\">**[</span><span style=\"color:#1776D2\">2024-10-08 16:35:48</span><span style=\"color:#333\">]</span> <span style=\"color:#333\">Загрузка файла \"<span style=\"color:#1776D2\">weights_2022-06-15_16-46-30.pth</span>\"</span>**  <span style=\"color:#333\">**Открытость опыту**</span>"
      ],
      "text/plain": [
       "<IPython.core.display.Markdown object>"
      ]
     },
     "metadata": {},
     "output_type": "display_data"
    },
    {
     "data": {
      "text/markdown": [
       "<span style=\"color:#333\">**[</span><span style=\"color:#1776D2\">2024-10-08 16:35:50</span><span style=\"color:#333\">]</span> <span style=\"color:#333\">Загрузка файла \"<span style=\"color:#1776D2\">weights_2022-06-15_16-48-50.pth</span>\"</span>**  <span style=\"color:#333\">**Добросовестность**</span>"
      ],
      "text/plain": [
       "<IPython.core.display.Markdown object>"
      ]
     },
     "metadata": {},
     "output_type": "display_data"
    },
    {
     "data": {
      "text/markdown": [
       "<span style=\"color:#333\">**[</span><span style=\"color:#1776D2\">2024-10-08 16:35:52</span><span style=\"color:#333\">]</span> <span style=\"color:#333\">Загрузка файла \"<span style=\"color:#1776D2\">weights_2022-06-15_16-54-06.pth</span>\"</span>**  <span style=\"color:#333\">**Экстраверсия**</span>"
      ],
      "text/plain": [
       "<IPython.core.display.Markdown object>"
      ]
     },
     "metadata": {},
     "output_type": "display_data"
    },
    {
     "data": {
      "text/markdown": [
       "<span style=\"color:#333\">**[</span><span style=\"color:#1776D2\">2024-10-08 16:35:54</span><span style=\"color:#333\">]</span> <span style=\"color:#333\">Загрузка файла \"<span style=\"color:#1776D2\">weights_2022-06-15_17-02-03.pth</span>\"</span>**  <span style=\"color:#333\">**Доброжелательность**</span>"
      ],
      "text/plain": [
       "<IPython.core.display.Markdown object>"
      ]
     },
     "metadata": {},
     "output_type": "display_data"
    },
    {
     "data": {
      "text/markdown": [
       "<span style=\"color:#333\">**[</span><span style=\"color:#1776D2\">2024-10-08 16:35:57</span><span style=\"color:#333\">]</span> <span style=\"color:#333\">Загрузка файла \"<span style=\"color:#1776D2\">weights_2022-06-15_17-06-15.pth</span>\"</span>**  <span style=\"color:#333\">**Эмоциональная стабильность**</span>"
      ],
      "text/plain": [
       "<IPython.core.display.Markdown object>"
      ]
     },
     "metadata": {},
     "output_type": "display_data"
    },
    {
     "data": {
      "text/markdown": [
       "<span style=\"color:#333\">**--- Время выполнения: 11.525 сек. ---**</span>"
      ],
      "text/plain": [
       "<IPython.core.display.Markdown object>"
      ]
     },
     "metadata": {},
     "output_type": "display_data"
    }
   ],
   "source": [
    "# Настройки ядра\n",
    "_b5.path_to_save_ = './models' # Директория для сохранения файла\n",
    "_b5.chunk_size_ = 2000000 # Размер загрузки файла из сети за 1 шаг\n",
    "\n",
    "url_openness = _b5.weights_for_big5_['video']['fi']['b5']['openness']['googledisk']\n",
    "url_conscientiousness = _b5.weights_for_big5_['video']['fi']['b5']['conscientiousness']['googledisk']\n",
    "url_extraversion = _b5.weights_for_big5_['video']['fi']['b5']['extraversion']['googledisk']\n",
    "url_agreeableness = _b5.weights_for_big5_['video']['fi']['b5']['agreeableness']['googledisk']\n",
    "url_non_neuroticism = _b5.weights_for_big5_['video']['fi']['b5']['non_neuroticism']['googledisk']\n",
    "\n",
    "res_load_video_models_weights_b5 = _b5.load_video_models_weights_b5(\n",
    "    url_openness = url_openness, # Открытость опыту\n",
    "    url_conscientiousness = url_conscientiousness, # Добросовестность\n",
    "    url_extraversion = url_extraversion, # Экстраверсия\n",
    "    url_agreeableness = url_agreeableness, # Доброжелательность\n",
    "    url_non_neuroticism = url_non_neuroticism, # Нейротизм\n",
    "    force_reload = False, # Принудительная загрузка файла с весами нейросетевой модели из сети\n",
    "    out = True, # Отображение\n",
    "    runtime = True, # Подсчет времени выполнения\n",
    "    run = True # Блокировка выполнения\n",
    ")"
   ]
  },
  {
   "cell_type": "markdown",
   "metadata": {},
   "source": [
    "### Получение прогнозов (видео модальность)\n",
    "\n",
    "> - `_b5.df_files_` - DataFrame с данными\n",
    "> - `_b5.df_accuracy_` - DataFrame с результатами вычисления точности"
   ]
  },
  {
   "cell_type": "code",
   "execution_count": 13,
   "metadata": {},
   "outputs": [
    {
     "data": {
      "text/markdown": [
       "<span style=\"color:#333\">**[</span><span style=\"color:#1776D2\">2024-10-08 17:23:11</span><span style=\"color:#333\">]</span> <span style=\"color:#333\">Получение прогнозов и вычисление точности (видео модальность) ...</span>**<p><span style=\"color:#333\">&nbsp;&nbsp;&nbsp;&nbsp;2000 из 2000 (100.0%) ... test80_25\\_Q4wOgixh7E.004.mp4 ...</span></p>"
      ],
      "text/plain": [
       "<IPython.core.display.Markdown object>"
      ]
     },
     "metadata": {},
     "output_type": "display_data"
    },
    {
     "data": {
      "text/html": [
       "<div>\n",
       "<style scoped>\n",
       "    .dataframe tbody tr th:only-of-type {\n",
       "        vertical-align: middle;\n",
       "    }\n",
       "\n",
       "    .dataframe tbody tr th {\n",
       "        vertical-align: top;\n",
       "    }\n",
       "\n",
       "    .dataframe thead th {\n",
       "        text-align: right;\n",
       "    }\n",
       "</style>\n",
       "<table border=\"1\" class=\"dataframe\">\n",
       "  <thead>\n",
       "    <tr style=\"text-align: right;\">\n",
       "      <th></th>\n",
       "      <th>Path</th>\n",
       "      <th>Openness</th>\n",
       "      <th>Conscientiousness</th>\n",
       "      <th>Extraversion</th>\n",
       "      <th>Agreeableness</th>\n",
       "      <th>Non-Neuroticism</th>\n",
       "    </tr>\n",
       "    <tr>\n",
       "      <th>Person ID</th>\n",
       "      <th></th>\n",
       "      <th></th>\n",
       "      <th></th>\n",
       "      <th></th>\n",
       "      <th></th>\n",
       "      <th></th>\n",
       "    </tr>\n",
       "  </thead>\n",
       "  <tbody>\n",
       "    <tr>\n",
       "      <th>1</th>\n",
       "      <td>13kjwEtSyXc.003.mp4</td>\n",
       "      <td>0.528491</td>\n",
       "      <td>0.461952</td>\n",
       "      <td>0.423844</td>\n",
       "      <td>0.504062</td>\n",
       "      <td>0.451862</td>\n",
       "    </tr>\n",
       "    <tr>\n",
       "      <th>2</th>\n",
       "      <td>1Lv72Si4GnY.000.mp4</td>\n",
       "      <td>0.556622</td>\n",
       "      <td>0.432502</td>\n",
       "      <td>0.502193</td>\n",
       "      <td>0.578062</td>\n",
       "      <td>0.512365</td>\n",
       "    </tr>\n",
       "    <tr>\n",
       "      <th>3</th>\n",
       "      <td>1uC-2TZqplE.003.mp4</td>\n",
       "      <td>0.465167</td>\n",
       "      <td>0.518381</td>\n",
       "      <td>0.331894</td>\n",
       "      <td>0.453452</td>\n",
       "      <td>0.407971</td>\n",
       "    </tr>\n",
       "    <tr>\n",
       "      <th>4</th>\n",
       "      <td>2Z8Xi_DTlpI.000.mp4</td>\n",
       "      <td>0.62796</td>\n",
       "      <td>0.599573</td>\n",
       "      <td>0.564308</td>\n",
       "      <td>0.574992</td>\n",
       "      <td>0.591495</td>\n",
       "    </tr>\n",
       "    <tr>\n",
       "      <th>5</th>\n",
       "      <td>3df_Uk9EmwU.002.mp4</td>\n",
       "      <td>0.582687</td>\n",
       "      <td>0.505265</td>\n",
       "      <td>0.497748</td>\n",
       "      <td>0.579352</td>\n",
       "      <td>0.484003</td>\n",
       "    </tr>\n",
       "    <tr>\n",
       "      <th>6</th>\n",
       "      <td>3gmc2kLV4Bo.003.mp4</td>\n",
       "      <td>0.673677</td>\n",
       "      <td>0.64423</td>\n",
       "      <td>0.622223</td>\n",
       "      <td>0.617483</td>\n",
       "      <td>0.624848</td>\n",
       "    </tr>\n",
       "    <tr>\n",
       "      <th>7</th>\n",
       "      <td>3hKgh9AB3tk.003.mp4</td>\n",
       "      <td>0.41655</td>\n",
       "      <td>0.394264</td>\n",
       "      <td>0.328741</td>\n",
       "      <td>0.487896</td>\n",
       "      <td>0.392852</td>\n",
       "    </tr>\n",
       "    <tr>\n",
       "      <th>8</th>\n",
       "      <td>3S72dDIm1fM.005.mp4</td>\n",
       "      <td>0.582322</td>\n",
       "      <td>0.568466</td>\n",
       "      <td>0.501585</td>\n",
       "      <td>0.624629</td>\n",
       "      <td>0.587418</td>\n",
       "    </tr>\n",
       "    <tr>\n",
       "      <th>9</th>\n",
       "      <td>3tPq9fNOXZQ.000.mp4</td>\n",
       "      <td>0.549069</td>\n",
       "      <td>0.451225</td>\n",
       "      <td>0.44713</td>\n",
       "      <td>0.493269</td>\n",
       "      <td>0.43745</td>\n",
       "    </tr>\n",
       "    <tr>\n",
       "      <th>10</th>\n",
       "      <td>43tayteIFRk.001.mp4</td>\n",
       "      <td>0.571851</td>\n",
       "      <td>0.507518</td>\n",
       "      <td>0.456708</td>\n",
       "      <td>0.57585</td>\n",
       "      <td>0.52462</td>\n",
       "    </tr>\n",
       "    <tr>\n",
       "      <th>11</th>\n",
       "      <td>4RKQGZzPClk.000.mp4</td>\n",
       "      <td>0.563701</td>\n",
       "      <td>0.402969</td>\n",
       "      <td>0.438301</td>\n",
       "      <td>0.482963</td>\n",
       "      <td>0.497794</td>\n",
       "    </tr>\n",
       "    <tr>\n",
       "      <th>12</th>\n",
       "      <td>6zm71IHOCZA.005.mp4</td>\n",
       "      <td>0.508313</td>\n",
       "      <td>0.436114</td>\n",
       "      <td>0.333626</td>\n",
       "      <td>0.497906</td>\n",
       "      <td>0.489626</td>\n",
       "    </tr>\n",
       "    <tr>\n",
       "      <th>13</th>\n",
       "      <td>7qGYGbIg45c.001.mp4</td>\n",
       "      <td>0.333581</td>\n",
       "      <td>0.329381</td>\n",
       "      <td>0.238896</td>\n",
       "      <td>0.375451</td>\n",
       "      <td>0.254064</td>\n",
       "    </tr>\n",
       "    <tr>\n",
       "      <th>14</th>\n",
       "      <td>8YQKwMdiaAE.003.mp4</td>\n",
       "      <td>0.65042</td>\n",
       "      <td>0.551177</td>\n",
       "      <td>0.505542</td>\n",
       "      <td>0.531723</td>\n",
       "      <td>0.572215</td>\n",
       "    </tr>\n",
       "    <tr>\n",
       "      <th>15</th>\n",
       "      <td>9Crw2RtrBcY.005.mp4</td>\n",
       "      <td>0.655932</td>\n",
       "      <td>0.834232</td>\n",
       "      <td>0.537374</td>\n",
       "      <td>0.695053</td>\n",
       "      <td>0.73809</td>\n",
       "    </tr>\n",
       "    <tr>\n",
       "      <th>16</th>\n",
       "      <td>9eNHxfOV2Kg.005.mp4</td>\n",
       "      <td>0.523257</td>\n",
       "      <td>0.446606</td>\n",
       "      <td>0.387457</td>\n",
       "      <td>0.417878</td>\n",
       "      <td>0.464942</td>\n",
       "    </tr>\n",
       "    <tr>\n",
       "      <th>17</th>\n",
       "      <td>9J-KIPMQmqk.002.mp4</td>\n",
       "      <td>0.57973</td>\n",
       "      <td>0.680401</td>\n",
       "      <td>0.474162</td>\n",
       "      <td>0.606024</td>\n",
       "      <td>0.633491</td>\n",
       "    </tr>\n",
       "    <tr>\n",
       "      <th>18</th>\n",
       "      <td>9RfE2-aTvaM.002.mp4</td>\n",
       "      <td>0.572572</td>\n",
       "      <td>0.564212</td>\n",
       "      <td>0.468839</td>\n",
       "      <td>0.611467</td>\n",
       "      <td>0.576528</td>\n",
       "    </tr>\n",
       "    <tr>\n",
       "      <th>19</th>\n",
       "      <td>9_6auSk_wkY.002.mp4</td>\n",
       "      <td>0.669528</td>\n",
       "      <td>0.661192</td>\n",
       "      <td>0.654868</td>\n",
       "      <td>0.627607</td>\n",
       "      <td>0.662564</td>\n",
       "    </tr>\n",
       "    <tr>\n",
       "      <th>20</th>\n",
       "      <td>aaylz9A9K80.000.mp4</td>\n",
       "      <td>0.685854</td>\n",
       "      <td>0.600825</td>\n",
       "      <td>0.681677</td>\n",
       "      <td>0.63356</td>\n",
       "      <td>0.65243</td>\n",
       "    </tr>\n",
       "    <tr>\n",
       "      <th>21</th>\n",
       "      <td>Af_F0IzHK6o.002.mp4</td>\n",
       "      <td>0.552855</td>\n",
       "      <td>0.491443</td>\n",
       "      <td>0.404893</td>\n",
       "      <td>0.563796</td>\n",
       "      <td>0.482746</td>\n",
       "    </tr>\n",
       "    <tr>\n",
       "      <th>22</th>\n",
       "      <td>Ah5PEPT4xbo.000.mp4</td>\n",
       "      <td>0.530697</td>\n",
       "      <td>0.474127</td>\n",
       "      <td>0.433119</td>\n",
       "      <td>0.493364</td>\n",
       "      <td>0.461316</td>\n",
       "    </tr>\n",
       "    <tr>\n",
       "      <th>23</th>\n",
       "      <td>AotbiNsU85A.003.mp4</td>\n",
       "      <td>0.469729</td>\n",
       "      <td>0.443068</td>\n",
       "      <td>0.352539</td>\n",
       "      <td>0.448632</td>\n",
       "      <td>0.355868</td>\n",
       "    </tr>\n",
       "    <tr>\n",
       "      <th>24</th>\n",
       "      <td>BLc_GvsbI1U.001.mp4</td>\n",
       "      <td>0.669096</td>\n",
       "      <td>0.655879</td>\n",
       "      <td>0.604209</td>\n",
       "      <td>0.630514</td>\n",
       "      <td>0.615415</td>\n",
       "    </tr>\n",
       "    <tr>\n",
       "      <th>25</th>\n",
       "      <td>bLOSPQ8MAC8.005.mp4</td>\n",
       "      <td>0.470269</td>\n",
       "      <td>0.6047</td>\n",
       "      <td>0.364384</td>\n",
       "      <td>0.52608</td>\n",
       "      <td>0.486426</td>\n",
       "    </tr>\n",
       "    <tr>\n",
       "      <th>26</th>\n",
       "      <td>bPLhV0PGR50.001.mp4</td>\n",
       "      <td>0.623001</td>\n",
       "      <td>0.642355</td>\n",
       "      <td>0.513129</td>\n",
       "      <td>0.548652</td>\n",
       "      <td>0.543819</td>\n",
       "    </tr>\n",
       "    <tr>\n",
       "      <th>27</th>\n",
       "      <td>bYXRyimxh7A.001.mp4</td>\n",
       "      <td>0.568158</td>\n",
       "      <td>0.529724</td>\n",
       "      <td>0.476992</td>\n",
       "      <td>0.523437</td>\n",
       "      <td>0.528825</td>\n",
       "    </tr>\n",
       "    <tr>\n",
       "      <th>28</th>\n",
       "      <td>ch2BcBv4SdQ.003.mp4</td>\n",
       "      <td>0.698074</td>\n",
       "      <td>0.670137</td>\n",
       "      <td>0.713394</td>\n",
       "      <td>0.658508</td>\n",
       "      <td>0.693174</td>\n",
       "    </tr>\n",
       "    <tr>\n",
       "      <th>29</th>\n",
       "      <td>cpch8WDydcM.004.mp4</td>\n",
       "      <td>0.579871</td>\n",
       "      <td>0.58113</td>\n",
       "      <td>0.489795</td>\n",
       "      <td>0.561388</td>\n",
       "      <td>0.523101</td>\n",
       "    </tr>\n",
       "    <tr>\n",
       "      <th>30</th>\n",
       "      <td>De4i7-FX9Og.002.mp4</td>\n",
       "      <td>0.639268</td>\n",
       "      <td>0.58747</td>\n",
       "      <td>0.61394</td>\n",
       "      <td>0.636822</td>\n",
       "      <td>0.613017</td>\n",
       "    </tr>\n",
       "  </tbody>\n",
       "</table>\n",
       "</div>"
      ],
      "text/plain": [
       "                          Path  Openness Conscientiousness Extraversion  \\\n",
       "Person ID                                                                 \n",
       "1          13kjwEtSyXc.003.mp4  0.528491          0.461952     0.423844   \n",
       "2          1Lv72Si4GnY.000.mp4  0.556622          0.432502     0.502193   \n",
       "3          1uC-2TZqplE.003.mp4  0.465167          0.518381     0.331894   \n",
       "4          2Z8Xi_DTlpI.000.mp4   0.62796          0.599573     0.564308   \n",
       "5          3df_Uk9EmwU.002.mp4  0.582687          0.505265     0.497748   \n",
       "6          3gmc2kLV4Bo.003.mp4  0.673677           0.64423     0.622223   \n",
       "7          3hKgh9AB3tk.003.mp4   0.41655          0.394264     0.328741   \n",
       "8          3S72dDIm1fM.005.mp4  0.582322          0.568466     0.501585   \n",
       "9          3tPq9fNOXZQ.000.mp4  0.549069          0.451225      0.44713   \n",
       "10         43tayteIFRk.001.mp4  0.571851          0.507518     0.456708   \n",
       "11         4RKQGZzPClk.000.mp4  0.563701          0.402969     0.438301   \n",
       "12         6zm71IHOCZA.005.mp4  0.508313          0.436114     0.333626   \n",
       "13         7qGYGbIg45c.001.mp4  0.333581          0.329381     0.238896   \n",
       "14         8YQKwMdiaAE.003.mp4   0.65042          0.551177     0.505542   \n",
       "15         9Crw2RtrBcY.005.mp4  0.655932          0.834232     0.537374   \n",
       "16         9eNHxfOV2Kg.005.mp4  0.523257          0.446606     0.387457   \n",
       "17         9J-KIPMQmqk.002.mp4   0.57973          0.680401     0.474162   \n",
       "18         9RfE2-aTvaM.002.mp4  0.572572          0.564212     0.468839   \n",
       "19         9_6auSk_wkY.002.mp4  0.669528          0.661192     0.654868   \n",
       "20         aaylz9A9K80.000.mp4  0.685854          0.600825     0.681677   \n",
       "21         Af_F0IzHK6o.002.mp4  0.552855          0.491443     0.404893   \n",
       "22         Ah5PEPT4xbo.000.mp4  0.530697          0.474127     0.433119   \n",
       "23         AotbiNsU85A.003.mp4  0.469729          0.443068     0.352539   \n",
       "24         BLc_GvsbI1U.001.mp4  0.669096          0.655879     0.604209   \n",
       "25         bLOSPQ8MAC8.005.mp4  0.470269            0.6047     0.364384   \n",
       "26         bPLhV0PGR50.001.mp4  0.623001          0.642355     0.513129   \n",
       "27         bYXRyimxh7A.001.mp4  0.568158          0.529724     0.476992   \n",
       "28         ch2BcBv4SdQ.003.mp4  0.698074          0.670137     0.713394   \n",
       "29         cpch8WDydcM.004.mp4  0.579871           0.58113     0.489795   \n",
       "30         De4i7-FX9Og.002.mp4  0.639268           0.58747      0.61394   \n",
       "\n",
       "          Agreeableness Non-Neuroticism  \n",
       "Person ID                                \n",
       "1              0.504062        0.451862  \n",
       "2              0.578062        0.512365  \n",
       "3              0.453452        0.407971  \n",
       "4              0.574992        0.591495  \n",
       "5              0.579352        0.484003  \n",
       "6              0.617483        0.624848  \n",
       "7              0.487896        0.392852  \n",
       "8              0.624629        0.587418  \n",
       "9              0.493269         0.43745  \n",
       "10              0.57585         0.52462  \n",
       "11             0.482963        0.497794  \n",
       "12             0.497906        0.489626  \n",
       "13             0.375451        0.254064  \n",
       "14             0.531723        0.572215  \n",
       "15             0.695053         0.73809  \n",
       "16             0.417878        0.464942  \n",
       "17             0.606024        0.633491  \n",
       "18             0.611467        0.576528  \n",
       "19             0.627607        0.662564  \n",
       "20              0.63356         0.65243  \n",
       "21             0.563796        0.482746  \n",
       "22             0.493364        0.461316  \n",
       "23             0.448632        0.355868  \n",
       "24             0.630514        0.615415  \n",
       "25              0.52608        0.486426  \n",
       "26             0.548652        0.543819  \n",
       "27             0.523437        0.528825  \n",
       "28             0.658508        0.693174  \n",
       "29             0.561388        0.523101  \n",
       "30             0.636822        0.613017  "
      ]
     },
     "metadata": {},
     "output_type": "display_data"
    },
    {
     "data": {
      "text/markdown": [
       "<span style=\"color:#333\">**[</span><span style=\"color:#1776D2\">2024-10-08 17:23:11</span><span style=\"color:#333\">]</span> <span style=\"color:#333\">Точность по отдельным персональным качествам личности человека ...</span>** "
      ],
      "text/plain": [
       "<IPython.core.display.Markdown object>"
      ]
     },
     "metadata": {},
     "output_type": "display_data"
    },
    {
     "data": {
      "text/html": [
       "<div>\n",
       "<style scoped>\n",
       "    .dataframe tbody tr th:only-of-type {\n",
       "        vertical-align: middle;\n",
       "    }\n",
       "\n",
       "    .dataframe tbody tr th {\n",
       "        vertical-align: top;\n",
       "    }\n",
       "\n",
       "    .dataframe thead th {\n",
       "        text-align: right;\n",
       "    }\n",
       "</style>\n",
       "<table border=\"1\" class=\"dataframe\">\n",
       "  <thead>\n",
       "    <tr style=\"text-align: right;\">\n",
       "      <th></th>\n",
       "      <th>Openness</th>\n",
       "      <th>Conscientiousness</th>\n",
       "      <th>Extraversion</th>\n",
       "      <th>Agreeableness</th>\n",
       "      <th>Non-Neuroticism</th>\n",
       "      <th>Mean</th>\n",
       "    </tr>\n",
       "    <tr>\n",
       "      <th>Metrics</th>\n",
       "      <th></th>\n",
       "      <th></th>\n",
       "      <th></th>\n",
       "      <th></th>\n",
       "      <th></th>\n",
       "      <th></th>\n",
       "    </tr>\n",
       "  </thead>\n",
       "  <tbody>\n",
       "    <tr>\n",
       "      <th>MAE</th>\n",
       "      <td>0.0872</td>\n",
       "      <td>0.0821</td>\n",
       "      <td>0.0805</td>\n",
       "      <td>0.087</td>\n",
       "      <td>0.0872</td>\n",
       "      <td>0.0848</td>\n",
       "    </tr>\n",
       "    <tr>\n",
       "      <th>Accuracy</th>\n",
       "      <td>0.9128</td>\n",
       "      <td>0.9179</td>\n",
       "      <td>0.9195</td>\n",
       "      <td>0.913</td>\n",
       "      <td>0.9128</td>\n",
       "      <td>0.9152</td>\n",
       "    </tr>\n",
       "  </tbody>\n",
       "</table>\n",
       "</div>"
      ],
      "text/plain": [
       "          Openness  Conscientiousness  Extraversion  Agreeableness  \\\n",
       "Metrics                                                              \n",
       "MAE         0.0872             0.0821        0.0805          0.087   \n",
       "Accuracy    0.9128             0.9179        0.9195          0.913   \n",
       "\n",
       "          Non-Neuroticism    Mean  \n",
       "Metrics                            \n",
       "MAE                0.0872  0.0848  \n",
       "Accuracy           0.9128  0.9152  "
      ]
     },
     "metadata": {},
     "output_type": "display_data"
    },
    {
     "data": {
      "text/markdown": [
       "<span style=\"color:#333\">**[</span><span style=\"color:#1776D2\">2024-10-08 17:23:11</span><span style=\"color:#333\">]</span> <span style=\"color:#333\">Средняя средних абсолютных ошибок: <span style=\"color:#1776D2\">0.0848</span>, средняя точность: <span style=\"color:#1776D2\">0.9152</span> ...</span>** "
      ],
      "text/plain": [
       "<IPython.core.display.Markdown object>"
      ]
     },
     "metadata": {},
     "output_type": "display_data"
    },
    {
     "data": {
      "text/markdown": [
       "<span style=\"color:#008001\">**Лог файлы успешно сохранены ...**</span>"
      ],
      "text/plain": [
       "<IPython.core.display.Markdown object>"
      ]
     },
     "metadata": {},
     "output_type": "display_data"
    },
    {
     "data": {
      "text/markdown": [
       "<span style=\"color:#333\">**--- Время выполнения: 2637.585 сек. ---**</span>"
      ],
      "text/plain": [
       "<IPython.core.display.Markdown object>"
      ]
     },
     "metadata": {},
     "output_type": "display_data"
    }
   ],
   "source": [
    "# Настройки ядра\n",
    "_b5.path_to_dataset_ = 'E:/Databases/FirstImpressionsV2/test' # Директория набора данных\n",
    "# Директории не входящие в выборку\n",
    "_b5.ignore_dirs_ = []\n",
    "# Названия ключей для DataFrame набора данных\n",
    "_b5.keys_dataset_ = ['Path', 'Openness', 'Conscientiousness', 'Extraversion', 'Agreeableness', 'Non-Neuroticism']\n",
    "_b5.ext_ = ['.mp4'] # Расширения искомых файлов\n",
    "_b5.path_to_logs_ = './logs' # Директория для сохранения LOG файлов\n",
    "\n",
    "# Полный путь к файлу с верными предсказаниями для подсчета точности\n",
    "url_accuracy = _b5.true_traits_['fi']['googledisk']\n",
    "\n",
    "res_get_video_union_predictions = _b5.get_video_union_predictions(\n",
    "    depth = 1,         # Глубина иерархии для получения аудио и видеоданных\n",
    "    recursive = False, # Рекурсивный поиск данных\n",
    "    reduction_fps = 5, # Понижение кадровой частоты\n",
    "    window = 10,       # Размер окна сегмента сигнала (в секундах)\n",
    "    step = 5,          # Шаг сдвига окна сегмента сигнала (в секундах)\n",
    "    lang = 'en',\n",
    "    accuracy = True,   # Вычисление точности\n",
    "    url_accuracy = url_accuracy,\n",
    "    logs = True,       # При необходимости формировать LOG файл\n",
    "    out = True,        # Отображение\n",
    "    runtime = True,    # Подсчет времени выполнения\n",
    "    run = True         # Блокировка выполнения\n",
    ")"
   ]
  }
 ],
 "metadata": {
  "kernelspec": {
   "display_name": "Python 3 (ipykernel)",
   "language": "python",
   "name": "python3"
  },
  "language_info": {
   "codemirror_mode": {
    "name": "ipython",
    "version": 3
   },
   "file_extension": ".py",
   "mimetype": "text/x-python",
   "name": "python",
   "nbconvert_exporter": "python",
   "pygments_lexer": "ipython3",
   "version": "3.10.11"
  }
 },
 "nbformat": 4,
 "nbformat_minor": 4
}
