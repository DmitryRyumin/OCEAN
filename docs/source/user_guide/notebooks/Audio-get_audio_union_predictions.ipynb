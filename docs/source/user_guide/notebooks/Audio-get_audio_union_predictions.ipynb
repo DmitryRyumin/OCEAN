{
 "cells": [
  {
   "cell_type": "markdown",
   "metadata": {
    "tags": []
   },
   "source": [
    "## Получения прогнозов по аудио\n",
    "\n",
    "<hr>"
   ]
  },
  {
   "cell_type": "code",
   "execution_count": 1,
   "metadata": {
    "nbsphinx": "hidden",
    "tags": []
   },
   "outputs": [],
   "source": [
    "import os  # Взаимодействие с файловой системой\n",
    "import sys # Доступ к некоторым переменным и функциям Python\n",
    "\n",
    "PATH_TO_SOURCE = os.path.abspath(os.path.dirname(globals()['_dh'][0]))\n",
    "PATH_TO_ROOT = os.path.join(PATH_TO_SOURCE, '..', '..', '..')\n",
    "\n",
    "sys.path.insert(0, os.path.abspath(PATH_TO_ROOT))"
   ]
  },
  {
   "cell_type": "markdown",
   "metadata": {},
   "source": [
    "### Импорт необходимых инструментов"
   ]
  },
  {
   "cell_type": "code",
   "execution_count": 2,
   "metadata": {},
   "outputs": [
    {
     "name": "stderr",
     "output_type": "stream",
     "text": [
      "INFO: Created TensorFlow Lite XNNPACK delegate for CPU.\n"
     ]
    }
   ],
   "source": [
    "from oceanai.modules.lab.build import Run"
   ]
  },
  {
   "cell_type": "markdown",
   "metadata": {},
   "source": [
    "### Сборка"
   ]
  },
  {
   "cell_type": "code",
   "execution_count": 3,
   "metadata": {},
   "outputs": [
    {
     "data": {
      "text/markdown": [
       "<span style=\"color:#FFF\">**[</span><span style=\"color:#1776D2\">2022-12-11 13:29:26</span><span style=\"color:#FFF\">]</span> <span style=\"color:#FFF\">OCEANAI - персональные качества личности человека:</span>**<br /><span style=\"color:#FFF\">&nbsp;&nbsp;&nbsp;&nbsp;Авторы:</span><br /><span style=\"color:#FFF\">&nbsp;&nbsp;&nbsp;&nbsp;&nbsp;&nbsp;&nbsp;&nbsp;Рюмина Елена [<u>ryumina_ev@mail.ru</u>]</span><br /><span style=\"color:#FFF\">&nbsp;&nbsp;&nbsp;&nbsp;&nbsp;&nbsp;&nbsp;&nbsp;Рюмин Дмитрий [<u>dl_03.03.1991@mail.ru</u>]</span><br /><span style=\"color:#FFF\">&nbsp;&nbsp;&nbsp;&nbsp;&nbsp;&nbsp;&nbsp;&nbsp;Карпов Алексей [<u>karpov@iias.spb.su</u>]</span><br /><span style=\"color:#FFF\">&nbsp;&nbsp;&nbsp;&nbsp;Сопровождающие:</span><br /><span style=\"color:#FFF\">&nbsp;&nbsp;&nbsp;&nbsp;&nbsp;&nbsp;&nbsp;&nbsp;Рюмина Елена [<u>ryumina_ev@mail.ru</u>]</span><br /><span style=\"color:#FFF\">&nbsp;&nbsp;&nbsp;&nbsp;&nbsp;&nbsp;&nbsp;&nbsp;Рюмин Дмитрий [<u>dl_03.03.1991@mail.ru</u>]</span><br /><span style=\"color:#FFF\">&nbsp;&nbsp;&nbsp;&nbsp;Версия: <u>1.0.0a2</u></span><br /><span style=\"color:#FFF\">&nbsp;&nbsp;&nbsp;&nbsp;Лицензия: <u>BSD License</u></span></p>"
      ],
      "text/plain": [
       "<IPython.core.display.Markdown object>"
      ]
     },
     "metadata": {},
     "output_type": "display_data"
    }
   ],
   "source": [
    "_b5 = Run(\n",
    "    lang = 'ru', # Язык\n",
    "    color_simple = '#FFF', # Цвет обычного текста (шестнадцатеричный код)\n",
    "    color_info = '#1776D2', # Цвет текста содержащего информацию (шестнадцатеричный код)\n",
    "    color_err = '#FF0000', # Цвет текста содержащего ошибку (шестнадцатеричный код)\n",
    "    color_true = '#008001', # Цвет текста содержащего положительную информацию (шестнадцатеричный код)\n",
    "    bold_text = True, # Жирное начертание текста\n",
    "    num_to_df_display = 30, # Количество строк для отображения в таблицах\n",
    "    text_runtime = 'Время выполнения', # Текст времени выполнения\n",
    "    metadata = True # Отображение информации о библиотеке\n",
    ")"
   ]
  },
  {
   "cell_type": "markdown",
   "metadata": {},
   "source": [
    "### Получение и отображение версий установленных библиотек\n",
    "\n",
    "> - `_b5.df_pkgs_` - DataFrame c версиями установленных библиотек"
   ]
  },
  {
   "cell_type": "code",
   "execution_count": 4,
   "metadata": {},
   "outputs": [
    {
     "data": {
      "text/html": [
       "<div>\n",
       "<style scoped>\n",
       "    .dataframe tbody tr th:only-of-type {\n",
       "        vertical-align: middle;\n",
       "    }\n",
       "\n",
       "    .dataframe tbody tr th {\n",
       "        vertical-align: top;\n",
       "    }\n",
       "\n",
       "    .dataframe thead th {\n",
       "        text-align: right;\n",
       "    }\n",
       "</style>\n",
       "<table border=\"1\" class=\"dataframe\">\n",
       "  <thead>\n",
       "    <tr style=\"text-align: right;\">\n",
       "      <th></th>\n",
       "      <th>Package</th>\n",
       "      <th>Version</th>\n",
       "    </tr>\n",
       "  </thead>\n",
       "  <tbody>\n",
       "    <tr>\n",
       "      <th>1</th>\n",
       "      <td>TensorFlow</td>\n",
       "      <td>2.11.0</td>\n",
       "    </tr>\n",
       "    <tr>\n",
       "      <th>2</th>\n",
       "      <td>Keras</td>\n",
       "      <td>2.11.0</td>\n",
       "    </tr>\n",
       "    <tr>\n",
       "      <th>3</th>\n",
       "      <td>OpenCV</td>\n",
       "      <td>4.6.0</td>\n",
       "    </tr>\n",
       "    <tr>\n",
       "      <th>4</th>\n",
       "      <td>MediaPipe</td>\n",
       "      <td>0.9.0</td>\n",
       "    </tr>\n",
       "    <tr>\n",
       "      <th>5</th>\n",
       "      <td>NumPy</td>\n",
       "      <td>1.23.5</td>\n",
       "    </tr>\n",
       "    <tr>\n",
       "      <th>6</th>\n",
       "      <td>SciPy</td>\n",
       "      <td>1.9.3</td>\n",
       "    </tr>\n",
       "    <tr>\n",
       "      <th>7</th>\n",
       "      <td>Pandas</td>\n",
       "      <td>1.5.2</td>\n",
       "    </tr>\n",
       "    <tr>\n",
       "      <th>8</th>\n",
       "      <td>Scikit-learn</td>\n",
       "      <td>1.1.3</td>\n",
       "    </tr>\n",
       "    <tr>\n",
       "      <th>9</th>\n",
       "      <td>OpenSmile</td>\n",
       "      <td>2.4.1</td>\n",
       "    </tr>\n",
       "    <tr>\n",
       "      <th>10</th>\n",
       "      <td>Librosa</td>\n",
       "      <td>0.9.2</td>\n",
       "    </tr>\n",
       "    <tr>\n",
       "      <th>11</th>\n",
       "      <td>AudioRead</td>\n",
       "      <td>3.0.0</td>\n",
       "    </tr>\n",
       "    <tr>\n",
       "      <th>12</th>\n",
       "      <td>IPython</td>\n",
       "      <td>8.7.0</td>\n",
       "    </tr>\n",
       "    <tr>\n",
       "      <th>13</th>\n",
       "      <td>PyMediaInfo</td>\n",
       "      <td>6.0.1</td>\n",
       "    </tr>\n",
       "    <tr>\n",
       "      <th>14</th>\n",
       "      <td>Requests</td>\n",
       "      <td>2.28.1</td>\n",
       "    </tr>\n",
       "    <tr>\n",
       "      <th>15</th>\n",
       "      <td>JupyterLab</td>\n",
       "      <td>3.5.0</td>\n",
       "    </tr>\n",
       "  </tbody>\n",
       "</table>\n",
       "</div>"
      ],
      "text/plain": [
       "         Package Version\n",
       "1     TensorFlow  2.11.0\n",
       "2          Keras  2.11.0\n",
       "3         OpenCV   4.6.0\n",
       "4      MediaPipe   0.9.0\n",
       "5          NumPy  1.23.5\n",
       "6          SciPy   1.9.3\n",
       "7         Pandas   1.5.2\n",
       "8   Scikit-learn   1.1.3\n",
       "9      OpenSmile   2.4.1\n",
       "10       Librosa   0.9.2\n",
       "11     AudioRead   3.0.0\n",
       "12       IPython   8.7.0\n",
       "13   PyMediaInfo   6.0.1\n",
       "14      Requests  2.28.1\n",
       "15    JupyterLab   3.5.0"
      ]
     },
     "metadata": {},
     "output_type": "display_data"
    },
    {
     "data": {
      "text/markdown": [
       "<span style=\"color:#FFF\">**--- Время выполнения: 0.007 сек. ---**</span>"
      ],
      "text/plain": [
       "<IPython.core.display.Markdown object>"
      ]
     },
     "metadata": {},
     "output_type": "display_data"
    }
   ],
   "source": [
    "_b5.libs_vers(runtime = True, run = True)"
   ]
  },
  {
   "cell_type": "markdown",
   "metadata": {},
   "source": [
    "### Формирование нейросетевой архитектуры модели для получения оценок по экспертным признакам\n",
    "\n",
    "> - `_b5.audio_model_hc_` - Нейросетевая модель **tf.keras.Model** для получения оценок по экспертным признакам"
   ]
  },
  {
   "cell_type": "code",
   "execution_count": 5,
   "metadata": {},
   "outputs": [
    {
     "data": {
      "text/markdown": [
       "<span style=\"color:#FFF\">**[</span><span style=\"color:#1776D2\">2022-12-11 13:29:28</span><span style=\"color:#FFF\">]</span> <span style=\"color:#FFF\">Формирование нейросетевой архитектуры модели для получения оценок по экспертным признакам (аудио модальность) ...</span>** "
      ],
      "text/plain": [
       "<IPython.core.display.Markdown object>"
      ]
     },
     "metadata": {},
     "output_type": "display_data"
    },
    {
     "data": {
      "text/markdown": [
       "<span style=\"color:#FFF\">**--- Время выполнения: 0.488 сек. ---**</span>"
      ],
      "text/plain": [
       "<IPython.core.display.Markdown object>"
      ]
     },
     "metadata": {},
     "output_type": "display_data"
    }
   ],
   "source": [
    "res_load_audio_model_hc = _b5.load_audio_model_hc(\n",
    "    show_summary = False, # Отображение сформированной нейросетевой архитектуры модели\n",
    "    out = True, # Отображение\n",
    "    runtime = True, # Подсчет времени выполнения\n",
    "    run = True # Блокировка выполнения\n",
    ")"
   ]
  },
  {
   "cell_type": "markdown",
   "metadata": {},
   "source": [
    "#### Загрузка весов нейросетевой модели для получения оценок по экспертным признакам\n",
    "\n",
    "> - `_b5.audio_model_hc_` - Нейросетевая модель **tf.keras.Model** для получения оценок по экспертным признакам"
   ]
  },
  {
   "cell_type": "code",
   "execution_count": 6,
   "metadata": {},
   "outputs": [
    {
     "data": {
      "text/markdown": [
       "<span style=\"color:#FFF\">**[</span><span style=\"color:#1776D2\">2022-12-11 13:29:29</span><span style=\"color:#FFF\">]</span> <span style=\"color:#FFF\">Загрузка весов нейросетевой модели для получения оценок по экспертным признакам (аудио модальность) ...</span>** "
      ],
      "text/plain": [
       "<IPython.core.display.Markdown object>"
      ]
     },
     "metadata": {},
     "output_type": "display_data"
    },
    {
     "data": {
      "text/markdown": [
       "<span style=\"color:#FFF\">**[</span><span style=\"color:#1776D2\">2022-12-11 13:29:29</span><span style=\"color:#FFF\">]</span> <span style=\"color:#FFF\">Загрузка файла \"<span style=\"color:#1776D2\">weights_2022-05-05_11-27-55.h5</span>\" (100.0%) ...</span>** "
      ],
      "text/plain": [
       "<IPython.core.display.Markdown object>"
      ]
     },
     "metadata": {},
     "output_type": "display_data"
    },
    {
     "data": {
      "text/markdown": [
       "<span style=\"color:#FFF\">**--- Время выполнения: 0.241 сек. ---**</span>"
      ],
      "text/plain": [
       "<IPython.core.display.Markdown object>"
      ]
     },
     "metadata": {},
     "output_type": "display_data"
    }
   ],
   "source": [
    "# Настройки ядра\n",
    "_b5.path_to_save_ = './models' # Директория для сохранения файла\n",
    "_b5.chunk_size_ = 2000000 # Размер загрузки файла из сети за 1 шаг\n",
    "\n",
    "url = _b5.weights_for_big5_['audio']['hc']['sberdisk']\n",
    "\n",
    "res_load_audio_model_weights_hc = _b5.load_audio_model_weights_hc(\n",
    "    url = url, # Полный путь к файлу с весами нейросетевой модели\n",
    "    force_reload = True, # Принудительная загрузка файла с весами нейросетевой модели из сети\n",
    "    out = True, # Отображение\n",
    "    runtime = True, # Подсчет времени выполнения\n",
    "    run = True # Блокировка выполнения\n",
    ")"
   ]
  },
  {
   "cell_type": "markdown",
   "metadata": {},
   "source": [
    "### Формирование нейросетевой архитектуры модели для получения оценок по нейросетевым признакам\n",
    "\n",
    "> - `_b5.audio_model_nn_` - Нейросетевая модель **tf.keras.Model** для получения оценок по нейросетевым признакам"
   ]
  },
  {
   "cell_type": "code",
   "execution_count": 7,
   "metadata": {},
   "outputs": [
    {
     "data": {
      "text/markdown": [
       "<span style=\"color:#FFF\">**[</span><span style=\"color:#1776D2\">2022-12-11 13:29:30</span><span style=\"color:#FFF\">]</span> <span style=\"color:#FFF\">Формирование нейросетевой архитектуры для получения оценок по нейросетевым признакам (аудио модальность) ...</span>** "
      ],
      "text/plain": [
       "<IPython.core.display.Markdown object>"
      ]
     },
     "metadata": {},
     "output_type": "display_data"
    },
    {
     "data": {
      "text/markdown": [
       "<span style=\"color:#FFF\">**--- Время выполнения: 0.321 сек. ---**</span>"
      ],
      "text/plain": [
       "<IPython.core.display.Markdown object>"
      ]
     },
     "metadata": {},
     "output_type": "display_data"
    }
   ],
   "source": [
    "res_load_audio_model_nn = _b5.load_audio_model_nn(\n",
    "    show_summary = False, # Отображение сформированной нейросетевой архитектуры модели\n",
    "    out = True, # Отображение\n",
    "    runtime = True, # Подсчет времени выполнения\n",
    "    run = True # Блокировка выполнения\n",
    ")"
   ]
  },
  {
   "cell_type": "markdown",
   "metadata": {},
   "source": [
    "#### Загрузка весов нейросетевой модели для получения оценок по нейросетевым признакам\n",
    "\n",
    "> - `_b5.audio_model_nn_` - Нейросетевая модель **tf.keras.Model** для получения оценок по нейросетевым признакам"
   ]
  },
  {
   "cell_type": "code",
   "execution_count": 8,
   "metadata": {},
   "outputs": [
    {
     "data": {
      "text/markdown": [
       "<span style=\"color:#FFF\">**[</span><span style=\"color:#1776D2\">2022-12-11 13:29:30</span><span style=\"color:#FFF\">]</span> <span style=\"color:#FFF\">Загрузка весов нейросетевой модели для получения оценок по нейросетевым признакам (аудио модальность) ...</span>** "
      ],
      "text/plain": [
       "<IPython.core.display.Markdown object>"
      ]
     },
     "metadata": {},
     "output_type": "display_data"
    },
    {
     "data": {
      "text/markdown": [
       "<span style=\"color:#FFF\">**[</span><span style=\"color:#1776D2\">2022-12-11 13:29:31</span><span style=\"color:#FFF\">]</span> <span style=\"color:#FFF\">Загрузка файла \"<span style=\"color:#1776D2\">weights_2022-05-03_07-46-14.h5</span>\"</span>** "
      ],
      "text/plain": [
       "<IPython.core.display.Markdown object>"
      ]
     },
     "metadata": {},
     "output_type": "display_data"
    },
    {
     "data": {
      "text/markdown": [
       "<span style=\"color:#FFF\">**--- Время выполнения: 0.349 сек. ---**</span>"
      ],
      "text/plain": [
       "<IPython.core.display.Markdown object>"
      ]
     },
     "metadata": {},
     "output_type": "display_data"
    }
   ],
   "source": [
    "# Настройки ядра\n",
    "_b5.path_to_save_ = './models' # Директория для сохранения файла\n",
    "_b5.chunk_size_ = 2000000 # Размер загрузки файла из сети за 1 шаг\n",
    "\n",
    "url = _b5.weights_for_big5_['audio']['nn']['sberdisk']\n",
    "\n",
    "res_load_audio_model_weights_nn = _b5.load_audio_model_weights_nn(\n",
    "    url = url, # Полный путь к файлу с весами нейросетевой модели\n",
    "    force_reload = False, # Принудительная загрузка файла с весами нейросетевой модели из сети\n",
    "    out = True, # Отображение\n",
    "    runtime = True, # Подсчет времени выполнения\n",
    "    run = True # Блокировка выполнения\n",
    ")"
   ]
  },
  {
   "cell_type": "markdown",
   "metadata": {},
   "source": [
    "### Формирование нейросетевых архитектур моделей для получения результатов оценки персональных качеств\n",
    "\n",
    "> - `_b5.audio_models_b5_` - Нейросетевые модели **tf.keras.Model** для получения результатов оценки персональных качеств"
   ]
  },
  {
   "cell_type": "code",
   "execution_count": 9,
   "metadata": {},
   "outputs": [
    {
     "data": {
      "text/markdown": [
       "<span style=\"color:#FFF\">**[</span><span style=\"color:#1776D2\">2022-12-11 13:29:31</span><span style=\"color:#FFF\">]</span> <span style=\"color:#FFF\">Формирование нейросетевых архитектур моделей для получения результатов оценки персональных качеств (аудио модальность) ...</span>** "
      ],
      "text/plain": [
       "<IPython.core.display.Markdown object>"
      ]
     },
     "metadata": {},
     "output_type": "display_data"
    },
    {
     "data": {
      "text/markdown": [
       "<span style=\"color:#FFF\">**--- Время выполнения: 0.086 сек. ---**</span>"
      ],
      "text/plain": [
       "<IPython.core.display.Markdown object>"
      ]
     },
     "metadata": {},
     "output_type": "display_data"
    }
   ],
   "source": [
    "res_load_audio_models_b5 = _b5.load_audio_models_b5(\n",
    "    show_summary = False, # Отображение сформированной нейросетевой архитектуры модели\n",
    "    out = True, # Отображение\n",
    "    runtime = True, # Подсчет времени выполнения\n",
    "    run = True # Блокировка выполнения\n",
    ")"
   ]
  },
  {
   "cell_type": "markdown",
   "metadata": {},
   "source": [
    "#### Загрузка весов нейросетевых моделей для получения результатов оценки персональных качеств\n",
    "\n",
    "> - `_b5.audio_models_b5_` - Нейросетевые модели **tf.keras.Model** для получения результатов оценки персональных качеств"
   ]
  },
  {
   "cell_type": "code",
   "execution_count": 10,
   "metadata": {},
   "outputs": [
    {
     "data": {
      "text/markdown": [
       "<span style=\"color:#FFF\">**[</span><span style=\"color:#1776D2\">2022-12-11 13:29:32</span><span style=\"color:#FFF\">]</span> <span style=\"color:#FFF\">Загрузка весов нейросетевых моделей для получения результатов оценки персональных качеств (аудио модальность) ...</span>** "
      ],
      "text/plain": [
       "<IPython.core.display.Markdown object>"
      ]
     },
     "metadata": {},
     "output_type": "display_data"
    },
    {
     "data": {
      "text/markdown": [
       "<span style=\"color:#FFF\">**[</span><span style=\"color:#1776D2\">2022-12-11 13:29:33</span><span style=\"color:#FFF\">]</span> <span style=\"color:#FFF\">Загрузка файла \"<span style=\"color:#1776D2\">weights_2022-06-15_16-16-20.h5</span>\"</span>**  <span style=\"color:#FFF\">**Открытость опыту**</span>"
      ],
      "text/plain": [
       "<IPython.core.display.Markdown object>"
      ]
     },
     "metadata": {},
     "output_type": "display_data"
    },
    {
     "data": {
      "text/markdown": [
       "<span style=\"color:#FFF\">**[</span><span style=\"color:#1776D2\">2022-12-11 13:29:33</span><span style=\"color:#FFF\">]</span> <span style=\"color:#FFF\">Загрузка файла \"<span style=\"color:#1776D2\">weights_2022-06-15_16-21-57.h5</span>\"</span>**  <span style=\"color:#FFF\">**Добросовестность**</span>"
      ],
      "text/plain": [
       "<IPython.core.display.Markdown object>"
      ]
     },
     "metadata": {},
     "output_type": "display_data"
    },
    {
     "data": {
      "text/markdown": [
       "<span style=\"color:#FFF\">**[</span><span style=\"color:#1776D2\">2022-12-11 13:29:33</span><span style=\"color:#FFF\">]</span> <span style=\"color:#FFF\">Загрузка файла \"<span style=\"color:#1776D2\">weights_2022-06-15_16-26-41.h5</span>\"</span>**  <span style=\"color:#FFF\">**Экстраверсия**</span>"
      ],
      "text/plain": [
       "<IPython.core.display.Markdown object>"
      ]
     },
     "metadata": {},
     "output_type": "display_data"
    },
    {
     "data": {
      "text/markdown": [
       "<span style=\"color:#FFF\">**[</span><span style=\"color:#1776D2\">2022-12-11 13:29:33</span><span style=\"color:#FFF\">]</span> <span style=\"color:#FFF\">Загрузка файла \"<span style=\"color:#1776D2\">weights_2022-06-15_16-32-51.h5</span>\"</span>**  <span style=\"color:#FFF\">**Доброжелательность**</span>"
      ],
      "text/plain": [
       "<IPython.core.display.Markdown object>"
      ]
     },
     "metadata": {},
     "output_type": "display_data"
    },
    {
     "data": {
      "text/markdown": [
       "<span style=\"color:#FFF\">**[</span><span style=\"color:#1776D2\">2022-12-11 13:29:33</span><span style=\"color:#FFF\">]</span> <span style=\"color:#FFF\">Загрузка файла \"<span style=\"color:#1776D2\">weights_2022-06-15_16-37-46.h5</span>\"</span>**  <span style=\"color:#FFF\">**Нейротизм**</span>"
      ],
      "text/plain": [
       "<IPython.core.display.Markdown object>"
      ]
     },
     "metadata": {},
     "output_type": "display_data"
    },
    {
     "data": {
      "text/markdown": [
       "<span style=\"color:#FFF\">**--- Время выполнения: 1.112 сек. ---**</span>"
      ],
      "text/plain": [
       "<IPython.core.display.Markdown object>"
      ]
     },
     "metadata": {},
     "output_type": "display_data"
    }
   ],
   "source": [
    "# Настройки ядра\n",
    "_b5.path_to_save_ = './models' # Директория для сохранения файла\n",
    "_b5.chunk_size_ = 2000000 # Размер загрузки файла из сети за 1 шаг\n",
    "\n",
    "url_openness = _b5.weights_for_big5_['audio']['b5']['openness']['sberdisk']\n",
    "url_conscientiousness = _b5.weights_for_big5_['audio']['b5']['conscientiousness']['sberdisk']\n",
    "url_extraversion = _b5.weights_for_big5_['audio']['b5']['extraversion']['sberdisk']\n",
    "url_agreeableness = _b5.weights_for_big5_['audio']['b5']['agreeableness']['sberdisk']\n",
    "url_neuroticism = _b5.weights_for_big5_['audio']['b5']['neuroticism']['sberdisk']\n",
    "\n",
    "res_load_audio_models_weights_b5 = _b5.load_audio_models_weights_b5(\n",
    "    url_openness = url_openness, # Открытость опыту\n",
    "    url_conscientiousness = url_conscientiousness, # Добросовестность\n",
    "    url_extraversion = url_extraversion, # Экстраверсия\n",
    "    url_agreeableness = url_agreeableness, # Доброжелательность\n",
    "    url_neuroticism = url_neuroticism, # Нейротизм\n",
    "    force_reload = False, # Принудительная загрузка файла с весами нейросетевой модели из сети\n",
    "    out = True, # Отображение\n",
    "    runtime = True, # Подсчет времени выполнения\n",
    "    run = True # Блокировка выполнения\n",
    ")"
   ]
  },
  {
   "cell_type": "markdown",
   "metadata": {},
   "source": [
    "#### Получение прогнозов (аудио модальность)\n",
    "\n",
    "> - `_b5.df_files_` - DataFrame с данными\n",
    "> - `_b5.df_accuracy_` - DataFrame с результатами вычисления точности"
   ]
  },
  {
   "cell_type": "code",
   "execution_count": 11,
   "metadata": {},
   "outputs": [
    {
     "data": {
      "text/markdown": [
       "<span style=\"color:#FFF\">**[</span><span style=\"color:#1776D2\">2022-12-11 16:38:24</span><span style=\"color:#FFF\">]</span> <span style=\"color:#FFF\">Получение прогнозов и вычисление точности (аудио модальность) ...</span>**<p><span style=\"color:#FFF\">&nbsp;&nbsp;&nbsp;&nbsp;2000 из 2000 (100.0%) ... test/test80_04/yw-2AGeAjFc.000.mp4 ...</span></p>"
      ],
      "text/plain": [
       "<IPython.core.display.Markdown object>"
      ]
     },
     "metadata": {},
     "output_type": "display_data"
    },
    {
     "data": {
      "text/html": [
       "<div>\n",
       "<style scoped>\n",
       "    .dataframe tbody tr th:only-of-type {\n",
       "        vertical-align: middle;\n",
       "    }\n",
       "\n",
       "    .dataframe tbody tr th {\n",
       "        vertical-align: top;\n",
       "    }\n",
       "\n",
       "    .dataframe thead th {\n",
       "        text-align: right;\n",
       "    }\n",
       "</style>\n",
       "<table border=\"1\" class=\"dataframe\">\n",
       "  <thead>\n",
       "    <tr style=\"text-align: right;\">\n",
       "      <th></th>\n",
       "      <th>Path</th>\n",
       "      <th>Openness</th>\n",
       "      <th>Conscientiousness</th>\n",
       "      <th>Extraversion</th>\n",
       "      <th>Agreeableness</th>\n",
       "      <th>Neuroticism</th>\n",
       "    </tr>\n",
       "    <tr>\n",
       "      <th>ID</th>\n",
       "      <th></th>\n",
       "      <th></th>\n",
       "      <th></th>\n",
       "      <th></th>\n",
       "      <th></th>\n",
       "      <th></th>\n",
       "    </tr>\n",
       "  </thead>\n",
       "  <tbody>\n",
       "    <tr>\n",
       "      <th>1</th>\n",
       "      <td>/Users/dl/GitHub/OCEANAI.private/oceanai/datas...</td>\n",
       "      <td>0.580848</td>\n",
       "      <td>0.630131</td>\n",
       "      <td>0.519087</td>\n",
       "      <td>0.609549</td>\n",
       "      <td>0.579506</td>\n",
       "    </tr>\n",
       "    <tr>\n",
       "      <th>2</th>\n",
       "      <td>/Users/dl/GitHub/OCEANAI.private/oceanai/datas...</td>\n",
       "      <td>0.654725</td>\n",
       "      <td>0.559279</td>\n",
       "      <td>0.578751</td>\n",
       "      <td>0.584158</td>\n",
       "      <td>0.598739</td>\n",
       "    </tr>\n",
       "    <tr>\n",
       "      <th>3</th>\n",
       "      <td>/Users/dl/GitHub/OCEANAI.private/oceanai/datas...</td>\n",
       "      <td>0.564628</td>\n",
       "      <td>0.504815</td>\n",
       "      <td>0.43932</td>\n",
       "      <td>0.495241</td>\n",
       "      <td>0.483705</td>\n",
       "    </tr>\n",
       "    <tr>\n",
       "      <th>4</th>\n",
       "      <td>/Users/dl/GitHub/OCEANAI.private/oceanai/datas...</td>\n",
       "      <td>0.562646</td>\n",
       "      <td>0.55742</td>\n",
       "      <td>0.466788</td>\n",
       "      <td>0.603639</td>\n",
       "      <td>0.548445</td>\n",
       "    </tr>\n",
       "    <tr>\n",
       "      <th>5</th>\n",
       "      <td>/Users/dl/GitHub/OCEANAI.private/oceanai/datas...</td>\n",
       "      <td>0.432838</td>\n",
       "      <td>0.470253</td>\n",
       "      <td>0.312317</td>\n",
       "      <td>0.483643</td>\n",
       "      <td>0.395308</td>\n",
       "    </tr>\n",
       "    <tr>\n",
       "      <th>6</th>\n",
       "      <td>/Users/dl/GitHub/OCEANAI.private/oceanai/datas...</td>\n",
       "      <td>0.521636</td>\n",
       "      <td>0.327752</td>\n",
       "      <td>0.4199</td>\n",
       "      <td>0.505384</td>\n",
       "      <td>0.458006</td>\n",
       "    </tr>\n",
       "    <tr>\n",
       "      <th>7</th>\n",
       "      <td>/Users/dl/GitHub/OCEANAI.private/oceanai/datas...</td>\n",
       "      <td>0.649079</td>\n",
       "      <td>0.580775</td>\n",
       "      <td>0.588617</td>\n",
       "      <td>0.599929</td>\n",
       "      <td>0.600879</td>\n",
       "    </tr>\n",
       "    <tr>\n",
       "      <th>8</th>\n",
       "      <td>/Users/dl/GitHub/OCEANAI.private/oceanai/datas...</td>\n",
       "      <td>0.493297</td>\n",
       "      <td>0.464521</td>\n",
       "      <td>0.383389</td>\n",
       "      <td>0.530964</td>\n",
       "      <td>0.463623</td>\n",
       "    </tr>\n",
       "    <tr>\n",
       "      <th>9</th>\n",
       "      <td>/Users/dl/GitHub/OCEANAI.private/oceanai/datas...</td>\n",
       "      <td>0.545468</td>\n",
       "      <td>0.652589</td>\n",
       "      <td>0.413575</td>\n",
       "      <td>0.589123</td>\n",
       "      <td>0.563162</td>\n",
       "    </tr>\n",
       "    <tr>\n",
       "      <th>10</th>\n",
       "      <td>/Users/dl/GitHub/OCEANAI.private/oceanai/datas...</td>\n",
       "      <td>0.58628</td>\n",
       "      <td>0.556503</td>\n",
       "      <td>0.50338</td>\n",
       "      <td>0.598864</td>\n",
       "      <td>0.567244</td>\n",
       "    </tr>\n",
       "    <tr>\n",
       "      <th>11</th>\n",
       "      <td>/Users/dl/GitHub/OCEANAI.private/oceanai/datas...</td>\n",
       "      <td>0.677925</td>\n",
       "      <td>0.563496</td>\n",
       "      <td>0.607601</td>\n",
       "      <td>0.565226</td>\n",
       "      <td>0.619508</td>\n",
       "    </tr>\n",
       "    <tr>\n",
       "      <th>12</th>\n",
       "      <td>/Users/dl/GitHub/OCEANAI.private/oceanai/datas...</td>\n",
       "      <td>0.378909</td>\n",
       "      <td>0.316546</td>\n",
       "      <td>0.284389</td>\n",
       "      <td>0.378099</td>\n",
       "      <td>0.293085</td>\n",
       "    </tr>\n",
       "    <tr>\n",
       "      <th>13</th>\n",
       "      <td>/Users/dl/GitHub/OCEANAI.private/oceanai/datas...</td>\n",
       "      <td>0.672759</td>\n",
       "      <td>0.62473</td>\n",
       "      <td>0.60319</td>\n",
       "      <td>0.576192</td>\n",
       "      <td>0.614379</td>\n",
       "    </tr>\n",
       "    <tr>\n",
       "      <th>14</th>\n",
       "      <td>/Users/dl/GitHub/OCEANAI.private/oceanai/datas...</td>\n",
       "      <td>0.564954</td>\n",
       "      <td>0.597847</td>\n",
       "      <td>0.448187</td>\n",
       "      <td>0.579541</td>\n",
       "      <td>0.538029</td>\n",
       "    </tr>\n",
       "    <tr>\n",
       "      <th>15</th>\n",
       "      <td>/Users/dl/GitHub/OCEANAI.private/oceanai/datas...</td>\n",
       "      <td>0.530195</td>\n",
       "      <td>0.397114</td>\n",
       "      <td>0.408241</td>\n",
       "      <td>0.504969</td>\n",
       "      <td>0.443448</td>\n",
       "    </tr>\n",
       "    <tr>\n",
       "      <th>16</th>\n",
       "      <td>/Users/dl/GitHub/OCEANAI.private/oceanai/datas...</td>\n",
       "      <td>0.555995</td>\n",
       "      <td>0.467313</td>\n",
       "      <td>0.439247</td>\n",
       "      <td>0.497909</td>\n",
       "      <td>0.473777</td>\n",
       "    </tr>\n",
       "    <tr>\n",
       "      <th>17</th>\n",
       "      <td>/Users/dl/GitHub/OCEANAI.private/oceanai/datas...</td>\n",
       "      <td>0.419877</td>\n",
       "      <td>0.391101</td>\n",
       "      <td>0.323222</td>\n",
       "      <td>0.472682</td>\n",
       "      <td>0.372186</td>\n",
       "    </tr>\n",
       "    <tr>\n",
       "      <th>18</th>\n",
       "      <td>/Users/dl/GitHub/OCEANAI.private/oceanai/datas...</td>\n",
       "      <td>0.530055</td>\n",
       "      <td>0.582513</td>\n",
       "      <td>0.469843</td>\n",
       "      <td>0.58085</td>\n",
       "      <td>0.524885</td>\n",
       "    </tr>\n",
       "    <tr>\n",
       "      <th>19</th>\n",
       "      <td>/Users/dl/GitHub/OCEANAI.private/oceanai/datas...</td>\n",
       "      <td>0.309387</td>\n",
       "      <td>0.302351</td>\n",
       "      <td>0.229749</td>\n",
       "      <td>0.369611</td>\n",
       "      <td>0.261843</td>\n",
       "    </tr>\n",
       "    <tr>\n",
       "      <th>20</th>\n",
       "      <td>/Users/dl/GitHub/OCEANAI.private/oceanai/datas...</td>\n",
       "      <td>0.694416</td>\n",
       "      <td>0.542589</td>\n",
       "      <td>0.632709</td>\n",
       "      <td>0.62136</td>\n",
       "      <td>0.646265</td>\n",
       "    </tr>\n",
       "    <tr>\n",
       "      <th>21</th>\n",
       "      <td>/Users/dl/GitHub/OCEANAI.private/oceanai/datas...</td>\n",
       "      <td>0.571939</td>\n",
       "      <td>0.680475</td>\n",
       "      <td>0.454604</td>\n",
       "      <td>0.627491</td>\n",
       "      <td>0.585784</td>\n",
       "    </tr>\n",
       "    <tr>\n",
       "      <th>22</th>\n",
       "      <td>/Users/dl/GitHub/OCEANAI.private/oceanai/datas...</td>\n",
       "      <td>0.532513</td>\n",
       "      <td>0.417848</td>\n",
       "      <td>0.452427</td>\n",
       "      <td>0.540927</td>\n",
       "      <td>0.476165</td>\n",
       "    </tr>\n",
       "    <tr>\n",
       "      <th>23</th>\n",
       "      <td>/Users/dl/GitHub/OCEANAI.private/oceanai/datas...</td>\n",
       "      <td>0.435522</td>\n",
       "      <td>0.316189</td>\n",
       "      <td>0.311295</td>\n",
       "      <td>0.404756</td>\n",
       "      <td>0.310729</td>\n",
       "    </tr>\n",
       "    <tr>\n",
       "      <th>24</th>\n",
       "      <td>/Users/dl/GitHub/OCEANAI.private/oceanai/datas...</td>\n",
       "      <td>0.532055</td>\n",
       "      <td>0.461321</td>\n",
       "      <td>0.439302</td>\n",
       "      <td>0.534</td>\n",
       "      <td>0.486265</td>\n",
       "    </tr>\n",
       "    <tr>\n",
       "      <th>25</th>\n",
       "      <td>/Users/dl/GitHub/OCEANAI.private/oceanai/datas...</td>\n",
       "      <td>0.606636</td>\n",
       "      <td>0.625848</td>\n",
       "      <td>0.52061</td>\n",
       "      <td>0.585452</td>\n",
       "      <td>0.584234</td>\n",
       "    </tr>\n",
       "    <tr>\n",
       "      <th>26</th>\n",
       "      <td>/Users/dl/GitHub/OCEANAI.private/oceanai/datas...</td>\n",
       "      <td>0.584816</td>\n",
       "      <td>0.452911</td>\n",
       "      <td>0.482944</td>\n",
       "      <td>0.565758</td>\n",
       "      <td>0.528316</td>\n",
       "    </tr>\n",
       "    <tr>\n",
       "      <th>27</th>\n",
       "      <td>/Users/dl/GitHub/OCEANAI.private/oceanai/datas...</td>\n",
       "      <td>0.569676</td>\n",
       "      <td>0.5434</td>\n",
       "      <td>0.462279</td>\n",
       "      <td>0.584065</td>\n",
       "      <td>0.537379</td>\n",
       "    </tr>\n",
       "    <tr>\n",
       "      <th>28</th>\n",
       "      <td>/Users/dl/GitHub/OCEANAI.private/oceanai/datas...</td>\n",
       "      <td>0.683583</td>\n",
       "      <td>0.599207</td>\n",
       "      <td>0.637354</td>\n",
       "      <td>0.635036</td>\n",
       "      <td>0.644833</td>\n",
       "    </tr>\n",
       "    <tr>\n",
       "      <th>29</th>\n",
       "      <td>/Users/dl/GitHub/OCEANAI.private/oceanai/datas...</td>\n",
       "      <td>0.598938</td>\n",
       "      <td>0.499659</td>\n",
       "      <td>0.533561</td>\n",
       "      <td>0.564757</td>\n",
       "      <td>0.536988</td>\n",
       "    </tr>\n",
       "    <tr>\n",
       "      <th>30</th>\n",
       "      <td>/Users/dl/GitHub/OCEANAI.private/oceanai/datas...</td>\n",
       "      <td>0.459243</td>\n",
       "      <td>0.453036</td>\n",
       "      <td>0.375749</td>\n",
       "      <td>0.484915</td>\n",
       "      <td>0.414552</td>\n",
       "    </tr>\n",
       "  </tbody>\n",
       "</table>\n",
       "</div>"
      ],
      "text/plain": [
       "                                                 Path  Openness  \\\n",
       "ID                                                                \n",
       "1   /Users/dl/GitHub/OCEANAI.private/oceanai/datas...  0.580848   \n",
       "2   /Users/dl/GitHub/OCEANAI.private/oceanai/datas...  0.654725   \n",
       "3   /Users/dl/GitHub/OCEANAI.private/oceanai/datas...  0.564628   \n",
       "4   /Users/dl/GitHub/OCEANAI.private/oceanai/datas...  0.562646   \n",
       "5   /Users/dl/GitHub/OCEANAI.private/oceanai/datas...  0.432838   \n",
       "6   /Users/dl/GitHub/OCEANAI.private/oceanai/datas...  0.521636   \n",
       "7   /Users/dl/GitHub/OCEANAI.private/oceanai/datas...  0.649079   \n",
       "8   /Users/dl/GitHub/OCEANAI.private/oceanai/datas...  0.493297   \n",
       "9   /Users/dl/GitHub/OCEANAI.private/oceanai/datas...  0.545468   \n",
       "10  /Users/dl/GitHub/OCEANAI.private/oceanai/datas...   0.58628   \n",
       "11  /Users/dl/GitHub/OCEANAI.private/oceanai/datas...  0.677925   \n",
       "12  /Users/dl/GitHub/OCEANAI.private/oceanai/datas...  0.378909   \n",
       "13  /Users/dl/GitHub/OCEANAI.private/oceanai/datas...  0.672759   \n",
       "14  /Users/dl/GitHub/OCEANAI.private/oceanai/datas...  0.564954   \n",
       "15  /Users/dl/GitHub/OCEANAI.private/oceanai/datas...  0.530195   \n",
       "16  /Users/dl/GitHub/OCEANAI.private/oceanai/datas...  0.555995   \n",
       "17  /Users/dl/GitHub/OCEANAI.private/oceanai/datas...  0.419877   \n",
       "18  /Users/dl/GitHub/OCEANAI.private/oceanai/datas...  0.530055   \n",
       "19  /Users/dl/GitHub/OCEANAI.private/oceanai/datas...  0.309387   \n",
       "20  /Users/dl/GitHub/OCEANAI.private/oceanai/datas...  0.694416   \n",
       "21  /Users/dl/GitHub/OCEANAI.private/oceanai/datas...  0.571939   \n",
       "22  /Users/dl/GitHub/OCEANAI.private/oceanai/datas...  0.532513   \n",
       "23  /Users/dl/GitHub/OCEANAI.private/oceanai/datas...  0.435522   \n",
       "24  /Users/dl/GitHub/OCEANAI.private/oceanai/datas...  0.532055   \n",
       "25  /Users/dl/GitHub/OCEANAI.private/oceanai/datas...  0.606636   \n",
       "26  /Users/dl/GitHub/OCEANAI.private/oceanai/datas...  0.584816   \n",
       "27  /Users/dl/GitHub/OCEANAI.private/oceanai/datas...  0.569676   \n",
       "28  /Users/dl/GitHub/OCEANAI.private/oceanai/datas...  0.683583   \n",
       "29  /Users/dl/GitHub/OCEANAI.private/oceanai/datas...  0.598938   \n",
       "30  /Users/dl/GitHub/OCEANAI.private/oceanai/datas...  0.459243   \n",
       "\n",
       "   Conscientiousness Extraversion Agreeableness Neuroticism  \n",
       "ID                                                           \n",
       "1           0.630131     0.519087      0.609549    0.579506  \n",
       "2           0.559279     0.578751      0.584158    0.598739  \n",
       "3           0.504815      0.43932      0.495241    0.483705  \n",
       "4            0.55742     0.466788      0.603639    0.548445  \n",
       "5           0.470253     0.312317      0.483643    0.395308  \n",
       "6           0.327752       0.4199      0.505384    0.458006  \n",
       "7           0.580775     0.588617      0.599929    0.600879  \n",
       "8           0.464521     0.383389      0.530964    0.463623  \n",
       "9           0.652589     0.413575      0.589123    0.563162  \n",
       "10          0.556503      0.50338      0.598864    0.567244  \n",
       "11          0.563496     0.607601      0.565226    0.619508  \n",
       "12          0.316546     0.284389      0.378099    0.293085  \n",
       "13           0.62473      0.60319      0.576192    0.614379  \n",
       "14          0.597847     0.448187      0.579541    0.538029  \n",
       "15          0.397114     0.408241      0.504969    0.443448  \n",
       "16          0.467313     0.439247      0.497909    0.473777  \n",
       "17          0.391101     0.323222      0.472682    0.372186  \n",
       "18          0.582513     0.469843       0.58085    0.524885  \n",
       "19          0.302351     0.229749      0.369611    0.261843  \n",
       "20          0.542589     0.632709       0.62136    0.646265  \n",
       "21          0.680475     0.454604      0.627491    0.585784  \n",
       "22          0.417848     0.452427      0.540927    0.476165  \n",
       "23          0.316189     0.311295      0.404756    0.310729  \n",
       "24          0.461321     0.439302         0.534    0.486265  \n",
       "25          0.625848      0.52061      0.585452    0.584234  \n",
       "26          0.452911     0.482944      0.565758    0.528316  \n",
       "27            0.5434     0.462279      0.584065    0.537379  \n",
       "28          0.599207     0.637354      0.635036    0.644833  \n",
       "29          0.499659     0.533561      0.564757    0.536988  \n",
       "30          0.453036     0.375749      0.484915    0.414552  "
      ]
     },
     "metadata": {},
     "output_type": "display_data"
    },
    {
     "data": {
      "text/markdown": [
       "<span style=\"color:#FFF\">**[</span><span style=\"color:#1776D2\">2022-12-11 16:38:24</span><span style=\"color:#FFF\">]</span> <span style=\"color:#FFF\">Точность по отдельным персональным качествам личности человека ...</span>** "
      ],
      "text/plain": [
       "<IPython.core.display.Markdown object>"
      ]
     },
     "metadata": {},
     "output_type": "display_data"
    },
    {
     "data": {
      "text/html": [
       "<div>\n",
       "<style scoped>\n",
       "    .dataframe tbody tr th:only-of-type {\n",
       "        vertical-align: middle;\n",
       "    }\n",
       "\n",
       "    .dataframe tbody tr th {\n",
       "        vertical-align: top;\n",
       "    }\n",
       "\n",
       "    .dataframe thead th {\n",
       "        text-align: right;\n",
       "    }\n",
       "</style>\n",
       "<table border=\"1\" class=\"dataframe\">\n",
       "  <thead>\n",
       "    <tr style=\"text-align: right;\">\n",
       "      <th></th>\n",
       "      <th>Openness</th>\n",
       "      <th>Conscientiousness</th>\n",
       "      <th>Extraversion</th>\n",
       "      <th>Agreeableness</th>\n",
       "      <th>Neuroticism</th>\n",
       "      <th>Mean</th>\n",
       "    </tr>\n",
       "    <tr>\n",
       "      <th>Metrics</th>\n",
       "      <th></th>\n",
       "      <th></th>\n",
       "      <th></th>\n",
       "      <th></th>\n",
       "      <th></th>\n",
       "      <th></th>\n",
       "    </tr>\n",
       "  </thead>\n",
       "  <tbody>\n",
       "    <tr>\n",
       "      <th>MAE</th>\n",
       "      <td>0.0917</td>\n",
       "      <td>0.0923</td>\n",
       "      <td>0.0934</td>\n",
       "      <td>0.0921</td>\n",
       "      <td>0.0941</td>\n",
       "      <td>0.0927</td>\n",
       "    </tr>\n",
       "    <tr>\n",
       "      <th>Accuracy</th>\n",
       "      <td>0.9083</td>\n",
       "      <td>0.9077</td>\n",
       "      <td>0.9066</td>\n",
       "      <td>0.9079</td>\n",
       "      <td>0.9059</td>\n",
       "      <td>0.9073</td>\n",
       "    </tr>\n",
       "  </tbody>\n",
       "</table>\n",
       "</div>"
      ],
      "text/plain": [
       "          Openness  Conscientiousness  Extraversion  Agreeableness  \\\n",
       "Metrics                                                              \n",
       "MAE         0.0917             0.0923        0.0934         0.0921   \n",
       "Accuracy    0.9083             0.9077        0.9066         0.9079   \n",
       "\n",
       "          Neuroticism    Mean  \n",
       "Metrics                        \n",
       "MAE            0.0941  0.0927  \n",
       "Accuracy       0.9059  0.9073  "
      ]
     },
     "metadata": {},
     "output_type": "display_data"
    },
    {
     "data": {
      "text/markdown": [
       "<span style=\"color:#FFF\">**[</span><span style=\"color:#1776D2\">2022-12-11 16:38:24</span><span style=\"color:#FFF\">]</span> <span style=\"color:#FFF\">Средняя средних абсолютных ошибок: <span style=\"color:#1776D2\">0.0927</span>, средняя точность: <span style=\"color:#1776D2\">0.9073</span> ...</span>** "
      ],
      "text/plain": [
       "<IPython.core.display.Markdown object>"
      ]
     },
     "metadata": {},
     "output_type": "display_data"
    },
    {
     "data": {
      "text/markdown": [
       "<span style=\"color:#008001\">**Лог файлы успешно сохранены ...**</span>"
      ],
      "text/plain": [
       "<IPython.core.display.Markdown object>"
      ]
     },
     "metadata": {},
     "output_type": "display_data"
    },
    {
     "data": {
      "text/markdown": [
       "<span style=\"color:#FFF\">**--- Время выполнения: 11330.888 сек. ---**</span>"
      ],
      "text/plain": [
       "<IPython.core.display.Markdown object>"
      ]
     },
     "metadata": {},
     "output_type": "display_data"
    }
   ],
   "source": [
    "# Настройки ядра\n",
    "_b5.path_to_dataset_ = '/Users/dl/GitHub/OCEANAI.private/oceanai/dataset/First_Impression' # Директория набора данных\n",
    "# Директории не входящие в выборку\n",
    "_b5.ignore_dirs_ = []\n",
    "# Названия ключей для DataFrame набора данных\n",
    "_b5.keys_dataset_ = ['Path', 'Openness', 'Conscientiousness', 'Extraversion', 'Agreeableness', 'Neuroticism']\n",
    "_b5.ext_ = ['.mp4'] # Расширения искомых файлов\n",
    "_b5.path_to_logs_ = './logs' # Директория для сохранения LOG файлов\n",
    "\n",
    "# Полный путь к файлу с верными предсказаниями для подсчета точности\n",
    "url_accuracy = _b5.true_traits_['sberdisk']\n",
    "\n",
    "res_get_audio_union_predictions = _b5.get_audio_union_predictions(\n",
    "    depth = 2,         # Глубина иерархии для получения аудио и видеоданных\n",
    "    recursive = False, # Рекурсивный поиск данных\n",
    "    sr = 44100,        # Частота дискретизации\n",
    "    window = 2,        # Размер окна сегмента сигнала (в секундах)\n",
    "    step = 1,          # Шаг сдвига окна сегмента сигнала (в секундах)\n",
    "    accuracy = True,   # Вычисление точности\n",
    "    url_accuracy = url_accuracy,\n",
    "    logs = True,      # При необходимости формировать LOG файл\n",
    "    out = True,        # Отображение\n",
    "    runtime = True,    # Подсчет времени выполнения\n",
    "    run = True         # Блокировка выполнения\n",
    ")"
   ]
  }
 ],
 "metadata": {
  "kernelspec": {
   "display_name": "Python 3 (ipykernel)",
   "language": "python",
   "name": "python3"
  },
  "language_info": {
   "codemirror_mode": {
    "name": "ipython",
    "version": 3
   },
   "file_extension": ".py",
   "mimetype": "text/x-python",
   "name": "python",
   "nbconvert_exporter": "python",
   "pygments_lexer": "ipython3",
   "version": "3.9.13"
  }
 },
 "nbformat": 4,
 "nbformat_minor": 4
}
