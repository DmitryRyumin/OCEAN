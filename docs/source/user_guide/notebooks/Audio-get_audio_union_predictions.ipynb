{
 "cells": [
  {
   "cell_type": "markdown",
   "metadata": {
    "tags": []
   },
   "source": [
    "## Получения прогнозов по аудио\n",
    "\n",
    "<hr>"
   ]
  },
  {
   "cell_type": "code",
   "execution_count": 1,
   "metadata": {
    "nbsphinx": "hidden",
    "tags": []
   },
   "outputs": [],
   "source": [
    "import os  # Взаимодействие с файловой системой\n",
    "import sys # Доступ к некоторым переменным и функциям Python\n",
    "\n",
    "PATH_TO_SOURCE = os.path.abspath(os.path.dirname(globals()['_dh'][0]))\n",
    "PATH_TO_ROOT = os.path.join(PATH_TO_SOURCE, '..', '..', '..')\n",
    "\n",
    "sys.path.insert(0, os.path.abspath(PATH_TO_ROOT))"
   ]
  },
  {
   "cell_type": "markdown",
   "metadata": {},
   "source": [
    "### Импорт необходимых инструментов"
   ]
  },
  {
   "cell_type": "code",
   "execution_count": 2,
   "metadata": {},
   "outputs": [],
   "source": [
    "from oceanai.modules.lab.build import Run"
   ]
  },
  {
   "cell_type": "markdown",
   "metadata": {},
   "source": [
    "### Сборка"
   ]
  },
  {
   "cell_type": "code",
   "execution_count": 3,
   "metadata": {},
   "outputs": [
    {
     "data": {
      "text/markdown": [
       "<span style=\"color:#333\">**[</span><span style=\"color:#1776D2\">2023-12-10 18:09:41</span><span style=\"color:#333\">]</span> <span style=\"color:#333\">OCEANAI - персональные качества личности человека:</span>**<br /><span style=\"color:#333\">&nbsp;&nbsp;&nbsp;&nbsp;Авторы:</span><br /><span style=\"color:#333\">&nbsp;&nbsp;&nbsp;&nbsp;&nbsp;&nbsp;&nbsp;&nbsp;Рюмина Елена [<u>ryumina_ev@mail.ru</u>]</span><br /><span style=\"color:#333\">&nbsp;&nbsp;&nbsp;&nbsp;&nbsp;&nbsp;&nbsp;&nbsp;Рюмин Дмитрий [<u>dl_03.03.1991@mail.ru</u>]</span><br /><span style=\"color:#333\">&nbsp;&nbsp;&nbsp;&nbsp;&nbsp;&nbsp;&nbsp;&nbsp;Карпов Алексей [<u>karpov@iias.spb.su</u>]</span><br /><span style=\"color:#333\">&nbsp;&nbsp;&nbsp;&nbsp;Сопровождающие:</span><br /><span style=\"color:#333\">&nbsp;&nbsp;&nbsp;&nbsp;&nbsp;&nbsp;&nbsp;&nbsp;Рюмина Елена [<u>ryumina_ev@mail.ru</u>]</span><br /><span style=\"color:#333\">&nbsp;&nbsp;&nbsp;&nbsp;&nbsp;&nbsp;&nbsp;&nbsp;Рюмин Дмитрий [<u>dl_03.03.1991@mail.ru</u>]</span><br /><span style=\"color:#333\">&nbsp;&nbsp;&nbsp;&nbsp;Версия: <u>1.0.0a5</u></span><br /><span style=\"color:#333\">&nbsp;&nbsp;&nbsp;&nbsp;Лицензия: <u>BSD License</u></span></p>"
      ],
      "text/plain": [
       "<IPython.core.display.Markdown object>"
      ]
     },
     "metadata": {},
     "output_type": "display_data"
    }
   ],
   "source": [
    "_b5 = Run(\n",
    "    lang = 'ru', # Язык\n",
    "    color_simple = '#333', # Цвет обычного текста (шестнадцатеричный код)\n",
    "    color_info = '#1776D2', # Цвет текста содержащего информацию (шестнадцатеричный код)\n",
    "    color_err = '#FF0000', # Цвет текста содержащего ошибку (шестнадцатеричный код)\n",
    "    color_true = '#008001', # Цвет текста содержащего положительную информацию (шестнадцатеричный код)\n",
    "    bold_text = True, # Жирное начертание текста\n",
    "    num_to_df_display = 30, # Количество строк для отображения в таблицах\n",
    "    text_runtime = 'Время выполнения', # Текст времени выполнения\n",
    "    metadata = True # Отображение информации о библиотеке\n",
    ")"
   ]
  },
  {
   "cell_type": "markdown",
   "metadata": {},
   "source": [
    "### Получение и отображение версий установленных библиотек\n",
    "\n",
    "> - `_b5.df_pkgs_` - DataFrame c версиями установленных библиотек"
   ]
  },
  {
   "cell_type": "code",
   "execution_count": 4,
   "metadata": {},
   "outputs": [
    {
     "data": {
      "text/html": [
       "<div>\n",
       "<style scoped>\n",
       "    .dataframe tbody tr th:only-of-type {\n",
       "        vertical-align: middle;\n",
       "    }\n",
       "\n",
       "    .dataframe tbody tr th {\n",
       "        vertical-align: top;\n",
       "    }\n",
       "\n",
       "    .dataframe thead th {\n",
       "        text-align: right;\n",
       "    }\n",
       "</style>\n",
       "<table border=\"1\" class=\"dataframe\">\n",
       "  <thead>\n",
       "    <tr style=\"text-align: right;\">\n",
       "      <th></th>\n",
       "      <th>Package</th>\n",
       "      <th>Version</th>\n",
       "    </tr>\n",
       "  </thead>\n",
       "  <tbody>\n",
       "    <tr>\n",
       "      <th>1</th>\n",
       "      <td>TensorFlow</td>\n",
       "      <td>2.10.0</td>\n",
       "    </tr>\n",
       "    <tr>\n",
       "      <th>2</th>\n",
       "      <td>Keras</td>\n",
       "      <td>2.10.0</td>\n",
       "    </tr>\n",
       "    <tr>\n",
       "      <th>3</th>\n",
       "      <td>OpenCV</td>\n",
       "      <td>4.8.1</td>\n",
       "    </tr>\n",
       "    <tr>\n",
       "      <th>4</th>\n",
       "      <td>MediaPipe</td>\n",
       "      <td>0.9.0</td>\n",
       "    </tr>\n",
       "    <tr>\n",
       "      <th>5</th>\n",
       "      <td>NumPy</td>\n",
       "      <td>1.26.2</td>\n",
       "    </tr>\n",
       "    <tr>\n",
       "      <th>6</th>\n",
       "      <td>SciPy</td>\n",
       "      <td>1.11.4</td>\n",
       "    </tr>\n",
       "    <tr>\n",
       "      <th>7</th>\n",
       "      <td>Pandas</td>\n",
       "      <td>2.1.3</td>\n",
       "    </tr>\n",
       "    <tr>\n",
       "      <th>8</th>\n",
       "      <td>Scikit-learn</td>\n",
       "      <td>1.3.2</td>\n",
       "    </tr>\n",
       "    <tr>\n",
       "      <th>9</th>\n",
       "      <td>OpenSmile</td>\n",
       "      <td>2.5.0</td>\n",
       "    </tr>\n",
       "    <tr>\n",
       "      <th>10</th>\n",
       "      <td>Librosa</td>\n",
       "      <td>0.10.1</td>\n",
       "    </tr>\n",
       "    <tr>\n",
       "      <th>11</th>\n",
       "      <td>AudioRead</td>\n",
       "      <td>3.0.1</td>\n",
       "    </tr>\n",
       "    <tr>\n",
       "      <th>12</th>\n",
       "      <td>IPython</td>\n",
       "      <td>8.18.1</td>\n",
       "    </tr>\n",
       "    <tr>\n",
       "      <th>13</th>\n",
       "      <td>PyMediaInfo</td>\n",
       "      <td>6.1.0</td>\n",
       "    </tr>\n",
       "    <tr>\n",
       "      <th>14</th>\n",
       "      <td>Requests</td>\n",
       "      <td>2.31.0</td>\n",
       "    </tr>\n",
       "    <tr>\n",
       "      <th>15</th>\n",
       "      <td>JupyterLab</td>\n",
       "      <td>4.0.9</td>\n",
       "    </tr>\n",
       "    <tr>\n",
       "      <th>16</th>\n",
       "      <td>LIWC</td>\n",
       "      <td>0.5.0</td>\n",
       "    </tr>\n",
       "    <tr>\n",
       "      <th>17</th>\n",
       "      <td>Transformers</td>\n",
       "      <td>4.24.0</td>\n",
       "    </tr>\n",
       "    <tr>\n",
       "      <th>18</th>\n",
       "      <td>Sentencepiece</td>\n",
       "      <td>0.1.99</td>\n",
       "    </tr>\n",
       "    <tr>\n",
       "      <th>19</th>\n",
       "      <td>Torch</td>\n",
       "      <td>2.0.1+cpu</td>\n",
       "    </tr>\n",
       "    <tr>\n",
       "      <th>20</th>\n",
       "      <td>Torchaudio</td>\n",
       "      <td>2.0.2+cpu</td>\n",
       "    </tr>\n",
       "  </tbody>\n",
       "</table>\n",
       "</div>"
      ],
      "text/plain": [
       "          Package    Version\n",
       "1      TensorFlow     2.10.0\n",
       "2           Keras     2.10.0\n",
       "3          OpenCV      4.8.1\n",
       "4       MediaPipe      0.9.0\n",
       "5           NumPy     1.26.2\n",
       "6           SciPy     1.11.4\n",
       "7          Pandas      2.1.3\n",
       "8    Scikit-learn      1.3.2\n",
       "9       OpenSmile      2.5.0\n",
       "10        Librosa     0.10.1\n",
       "11      AudioRead      3.0.1\n",
       "12        IPython     8.18.1\n",
       "13    PyMediaInfo      6.1.0\n",
       "14       Requests     2.31.0\n",
       "15     JupyterLab      4.0.9\n",
       "16           LIWC      0.5.0\n",
       "17   Transformers     4.24.0\n",
       "18  Sentencepiece     0.1.99\n",
       "19          Torch  2.0.1+cpu\n",
       "20     Torchaudio  2.0.2+cpu"
      ]
     },
     "metadata": {},
     "output_type": "display_data"
    },
    {
     "data": {
      "text/markdown": [
       "<span style=\"color:#333\">**--- Время выполнения: 0.005 сек. ---**</span>"
      ],
      "text/plain": [
       "<IPython.core.display.Markdown object>"
      ]
     },
     "metadata": {},
     "output_type": "display_data"
    }
   ],
   "source": [
    "_b5.libs_vers(runtime = True, run = True)"
   ]
  },
  {
   "cell_type": "markdown",
   "metadata": {},
   "source": [
    "### Формирование нейросетевой архитектуры модели для получения оценок по экспертным признакам\n",
    "\n",
    "> - `_b5.audio_model_hc_` - Нейросетевая модель **tf.keras.Model** для получения оценок по экспертным признакам"
   ]
  },
  {
   "cell_type": "code",
   "execution_count": 5,
   "metadata": {},
   "outputs": [
    {
     "data": {
      "text/markdown": [
       "<span style=\"color:#333\">**[</span><span style=\"color:#1776D2\">2023-12-10 18:09:42</span><span style=\"color:#333\">]</span> <span style=\"color:#333\">Формирование нейросетевой архитектуры модели для получения оценок по экспертным признакам (аудио модальность) ...</span>** "
      ],
      "text/plain": [
       "<IPython.core.display.Markdown object>"
      ]
     },
     "metadata": {},
     "output_type": "display_data"
    },
    {
     "data": {
      "text/markdown": [
       "<span style=\"color:#333\">**--- Время выполнения: 0.786 сек. ---**</span>"
      ],
      "text/plain": [
       "<IPython.core.display.Markdown object>"
      ]
     },
     "metadata": {},
     "output_type": "display_data"
    }
   ],
   "source": [
    "res_load_audio_model_hc = _b5.load_audio_model_hc(\n",
    "    show_summary = False, # Отображение сформированной нейросетевой архитектуры модели\n",
    "    out = True, # Отображение\n",
    "    runtime = True, # Подсчет времени выполнения\n",
    "    run = True # Блокировка выполнения\n",
    ")"
   ]
  },
  {
   "cell_type": "markdown",
   "metadata": {},
   "source": [
    "### Загрузка весов нейросетевой модели для получения оценок по экспертным признакам\n",
    "\n",
    "> - `_b5.audio_model_hc_` - Нейросетевая модель **tf.keras.Model** для получения оценок по экспертным признакам"
   ]
  },
  {
   "cell_type": "code",
   "execution_count": 6,
   "metadata": {},
   "outputs": [
    {
     "data": {
      "text/markdown": [
       "<span style=\"color:#333\">**[</span><span style=\"color:#1776D2\">2023-12-10 18:09:42</span><span style=\"color:#333\">]</span> <span style=\"color:#333\">Загрузка весов нейросетевой модели для получения оценок по экспертным признакам (аудио модальность) ...</span>** "
      ],
      "text/plain": [
       "<IPython.core.display.Markdown object>"
      ]
     },
     "metadata": {},
     "output_type": "display_data"
    },
    {
     "data": {
      "text/markdown": [
       "<span style=\"color:#333\">**[</span><span style=\"color:#1776D2\">2023-12-10 18:09:43</span><span style=\"color:#333\">]</span> <span style=\"color:#333\">Загрузка файла \"<span style=\"color:#1776D2\">weights_2022-05-05_11-27-55.h5</span>\" 100.0% ...</span>** "
      ],
      "text/plain": [
       "<IPython.core.display.Markdown object>"
      ]
     },
     "metadata": {},
     "output_type": "display_data"
    },
    {
     "data": {
      "text/markdown": [
       "<span style=\"color:#333\">**--- Время выполнения: 0.242 сек. ---**</span>"
      ],
      "text/plain": [
       "<IPython.core.display.Markdown object>"
      ]
     },
     "metadata": {},
     "output_type": "display_data"
    }
   ],
   "source": [
    "# Настройки ядра\n",
    "_b5.path_to_save_ = './models' # Директория для сохранения файла\n",
    "_b5.chunk_size_ = 2000000 # Размер загрузки файла из сети за 1 шаг\n",
    "\n",
    "url = _b5.weights_for_big5_['audio']['fi']['hc']['sberdisk']\n",
    "\n",
    "res_load_audio_model_weights_hc = _b5.load_audio_model_weights_hc(\n",
    "    url = url, # Полный путь к файлу с весами нейросетевой модели\n",
    "    force_reload = True, # Принудительная загрузка файла с весами нейросетевой модели из сети\n",
    "    out = True, # Отображение\n",
    "    runtime = True, # Подсчет времени выполнения\n",
    "    run = True # Блокировка выполнения\n",
    ")"
   ]
  },
  {
   "cell_type": "markdown",
   "metadata": {},
   "source": [
    "### Формирование нейросетевой архитектуры модели для получения оценок по нейросетевым признакам\n",
    "\n",
    "> - `_b5.audio_model_nn_` - Нейросетевая модель **tf.keras.Model** для получения оценок по нейросетевым признакам"
   ]
  },
  {
   "cell_type": "code",
   "execution_count": 7,
   "metadata": {},
   "outputs": [
    {
     "data": {
      "text/markdown": [
       "<span style=\"color:#333\">**[</span><span style=\"color:#1776D2\">2023-12-10 18:09:43</span><span style=\"color:#333\">]</span> <span style=\"color:#333\">Формирование нейросетевой архитектуры для получения оценок по нейросетевым признакам (аудио модальность) ...</span>** "
      ],
      "text/plain": [
       "<IPython.core.display.Markdown object>"
      ]
     },
     "metadata": {},
     "output_type": "display_data"
    },
    {
     "data": {
      "text/markdown": [
       "<span style=\"color:#333\">**--- Время выполнения: 0.153 сек. ---**</span>"
      ],
      "text/plain": [
       "<IPython.core.display.Markdown object>"
      ]
     },
     "metadata": {},
     "output_type": "display_data"
    }
   ],
   "source": [
    "res_load_audio_model_nn = _b5.load_audio_model_nn(\n",
    "    show_summary = False, # Отображение сформированной нейросетевой архитектуры модели\n",
    "    out = True, # Отображение\n",
    "    runtime = True, # Подсчет времени выполнения\n",
    "    run = True # Блокировка выполнения\n",
    ")"
   ]
  },
  {
   "cell_type": "markdown",
   "metadata": {},
   "source": [
    "### Загрузка весов нейросетевой модели для получения оценок по нейросетевым признакам\n",
    "\n",
    "> - `_b5.audio_model_nn_` - Нейросетевая модель **tf.keras.Model** для получения оценок по нейросетевым признакам"
   ]
  },
  {
   "cell_type": "code",
   "execution_count": 8,
   "metadata": {},
   "outputs": [
    {
     "data": {
      "text/markdown": [
       "<span style=\"color:#333\">**[</span><span style=\"color:#1776D2\">2023-12-10 18:09:43</span><span style=\"color:#333\">]</span> <span style=\"color:#333\">Загрузка весов нейросетевой модели для получения оценок по нейросетевым признакам (аудио модальность) ...</span>** "
      ],
      "text/plain": [
       "<IPython.core.display.Markdown object>"
      ]
     },
     "metadata": {},
     "output_type": "display_data"
    },
    {
     "data": {
      "text/markdown": [
       "<span style=\"color:#333\">**[</span><span style=\"color:#1776D2\">2023-12-10 18:09:43</span><span style=\"color:#333\">]</span> <span style=\"color:#333\">Загрузка файла \"<span style=\"color:#1776D2\">weights_2022-05-03_07-46-14.h5</span>\"</span>** "
      ],
      "text/plain": [
       "<IPython.core.display.Markdown object>"
      ]
     },
     "metadata": {},
     "output_type": "display_data"
    },
    {
     "data": {
      "text/markdown": [
       "<span style=\"color:#333\">**--- Время выполнения: 0.245 сек. ---**</span>"
      ],
      "text/plain": [
       "<IPython.core.display.Markdown object>"
      ]
     },
     "metadata": {},
     "output_type": "display_data"
    }
   ],
   "source": [
    "# Настройки ядра\n",
    "_b5.path_to_save_ = './models' # Директория для сохранения файла\n",
    "_b5.chunk_size_ = 2000000 # Размер загрузки файла из сети за 1 шаг\n",
    "\n",
    "url = _b5.weights_for_big5_['audio']['fi']['nn']['sberdisk']\n",
    "\n",
    "res_load_audio_model_weights_nn = _b5.load_audio_model_weights_nn(\n",
    "    url = url, # Полный путь к файлу с весами нейросетевой модели\n",
    "    force_reload = False, # Принудительная загрузка файла с весами нейросетевой модели из сети\n",
    "    out = True, # Отображение\n",
    "    runtime = True, # Подсчет времени выполнения\n",
    "    run = True # Блокировка выполнения\n",
    ")"
   ]
  },
  {
   "cell_type": "markdown",
   "metadata": {},
   "source": [
    "### Формирование нейросетевых архитектур моделей для получения результатов оценки персональных качеств\n",
    "\n",
    "> - `_b5.audio_models_b5_` - Нейросетевые модели **tf.keras.Model** для получения результатов оценки персональных качеств"
   ]
  },
  {
   "cell_type": "code",
   "execution_count": 9,
   "metadata": {},
   "outputs": [
    {
     "data": {
      "text/markdown": [
       "<span style=\"color:#333\">**[</span><span style=\"color:#1776D2\">2023-12-10 18:09:43</span><span style=\"color:#333\">]</span> <span style=\"color:#333\">Формирование нейросетевых архитектур моделей для получения результатов оценки персональных качеств (аудио модальность) ...</span>** "
      ],
      "text/plain": [
       "<IPython.core.display.Markdown object>"
      ]
     },
     "metadata": {},
     "output_type": "display_data"
    },
    {
     "data": {
      "text/markdown": [
       "<span style=\"color:#333\">**--- Время выполнения: 0.048 сек. ---**</span>"
      ],
      "text/plain": [
       "<IPython.core.display.Markdown object>"
      ]
     },
     "metadata": {},
     "output_type": "display_data"
    }
   ],
   "source": [
    "res_load_audio_models_b5 = _b5.load_audio_models_b5(\n",
    "    show_summary = False, # Отображение сформированной нейросетевой архитектуры модели\n",
    "    out = True, # Отображение\n",
    "    runtime = True, # Подсчет времени выполнения\n",
    "    run = True # Блокировка выполнения\n",
    ")"
   ]
  },
  {
   "cell_type": "markdown",
   "metadata": {},
   "source": [
    "### Загрузка весов нейросетевых моделей для получения результатов оценки персональных качеств\n",
    "\n",
    "> - `_b5.audio_models_b5_` - Нейросетевые модели **tf.keras.Model** для получения результатов оценки персональных качеств"
   ]
  },
  {
   "cell_type": "code",
   "execution_count": 10,
   "metadata": {},
   "outputs": [
    {
     "data": {
      "text/markdown": [
       "<span style=\"color:#333\">**[</span><span style=\"color:#1776D2\">2023-12-10 18:09:43</span><span style=\"color:#333\">]</span> <span style=\"color:#333\">Загрузка весов нейросетевых моделей для получения результатов оценки персональных качеств (аудио модальность) ...</span>** "
      ],
      "text/plain": [
       "<IPython.core.display.Markdown object>"
      ]
     },
     "metadata": {},
     "output_type": "display_data"
    },
    {
     "data": {
      "text/markdown": [
       "<span style=\"color:#333\">**[</span><span style=\"color:#1776D2\">2023-12-10 18:09:43</span><span style=\"color:#333\">]</span> <span style=\"color:#333\">Загрузка файла \"<span style=\"color:#1776D2\">weights_2022-06-15_16-16-20.h5</span>\"</span>**  <span style=\"color:#333\">**Открытость опыту**</span>"
      ],
      "text/plain": [
       "<IPython.core.display.Markdown object>"
      ]
     },
     "metadata": {},
     "output_type": "display_data"
    },
    {
     "data": {
      "text/markdown": [
       "<span style=\"color:#333\">**[</span><span style=\"color:#1776D2\">2023-12-10 18:09:43</span><span style=\"color:#333\">]</span> <span style=\"color:#333\">Загрузка файла \"<span style=\"color:#1776D2\">weights_2022-06-15_16-21-57.h5</span>\"</span>**  <span style=\"color:#333\">**Добросовестность**</span>"
      ],
      "text/plain": [
       "<IPython.core.display.Markdown object>"
      ]
     },
     "metadata": {},
     "output_type": "display_data"
    },
    {
     "data": {
      "text/markdown": [
       "<span style=\"color:#333\">**[</span><span style=\"color:#1776D2\">2023-12-10 18:09:43</span><span style=\"color:#333\">]</span> <span style=\"color:#333\">Загрузка файла \"<span style=\"color:#1776D2\">weights_2022-06-15_16-26-41.h5</span>\"</span>**  <span style=\"color:#333\">**Экстраверсия**</span>"
      ],
      "text/plain": [
       "<IPython.core.display.Markdown object>"
      ]
     },
     "metadata": {},
     "output_type": "display_data"
    },
    {
     "data": {
      "text/markdown": [
       "<span style=\"color:#333\">**[</span><span style=\"color:#1776D2\">2023-12-10 18:09:44</span><span style=\"color:#333\">]</span> <span style=\"color:#333\">Загрузка файла \"<span style=\"color:#1776D2\">weights_2022-06-15_16-32-51.h5</span>\"</span>**  <span style=\"color:#333\">**Доброжелательность**</span>"
      ],
      "text/plain": [
       "<IPython.core.display.Markdown object>"
      ]
     },
     "metadata": {},
     "output_type": "display_data"
    },
    {
     "data": {
      "text/markdown": [
       "<span style=\"color:#333\">**[</span><span style=\"color:#1776D2\">2023-12-10 18:09:44</span><span style=\"color:#333\">]</span> <span style=\"color:#333\">Загрузка файла \"<span style=\"color:#1776D2\">weights_2022-06-15_16-37-46.h5</span>\"</span>**  <span style=\"color:#333\">**Нейротизм**</span>"
      ],
      "text/plain": [
       "<IPython.core.display.Markdown object>"
      ]
     },
     "metadata": {},
     "output_type": "display_data"
    },
    {
     "data": {
      "text/markdown": [
       "<span style=\"color:#333\">**--- Время выполнения: 0.687 сек. ---**</span>"
      ],
      "text/plain": [
       "<IPython.core.display.Markdown object>"
      ]
     },
     "metadata": {},
     "output_type": "display_data"
    }
   ],
   "source": [
    "# Настройки ядра\n",
    "_b5.path_to_save_ = './models' # Директория для сохранения файла\n",
    "_b5.chunk_size_ = 2000000 # Размер загрузки файла из сети за 1 шаг\n",
    "\n",
    "url_openness = _b5.weights_for_big5_['audio']['fi']['b5']['openness']['sberdisk']\n",
    "url_conscientiousness = _b5.weights_for_big5_['audio']['fi']['b5']['conscientiousness']['sberdisk']\n",
    "url_extraversion = _b5.weights_for_big5_['audio']['fi']['b5']['extraversion']['sberdisk']\n",
    "url_agreeableness = _b5.weights_for_big5_['audio']['fi']['b5']['agreeableness']['sberdisk']\n",
    "url_neuroticism = _b5.weights_for_big5_['audio']['fi']['b5']['neuroticism']['sberdisk']\n",
    "\n",
    "res_load_audio_models_weights_b5 = _b5.load_audio_models_weights_b5(\n",
    "    url_openness = url_openness, # Открытость опыту\n",
    "    url_conscientiousness = url_conscientiousness, # Добросовестность\n",
    "    url_extraversion = url_extraversion, # Экстраверсия\n",
    "    url_agreeableness = url_agreeableness, # Доброжелательность\n",
    "    url_neuroticism = url_neuroticism, # Нейротизм\n",
    "    force_reload = False, # Принудительная загрузка файла с весами нейросетевой модели из сети\n",
    "    out = True, # Отображение\n",
    "    runtime = True, # Подсчет времени выполнения\n",
    "    run = True # Блокировка выполнения\n",
    ")"
   ]
  },
  {
   "cell_type": "markdown",
   "metadata": {},
   "source": [
    "### Получение прогнозов (аудио модальность)\n",
    "\n",
    "> - `_b5.df_files_` - DataFrame с данными\n",
    "> - `_b5.df_accuracy_` - DataFrame с результатами вычисления точности"
   ]
  },
  {
   "cell_type": "code",
   "execution_count": 11,
   "metadata": {},
   "outputs": [
    {
     "data": {
      "text/markdown": [
       "<span style=\"color:#333\">**[</span><span style=\"color:#1776D2\">2023-12-10 18:53:29</span><span style=\"color:#333\">]</span> <span style=\"color:#333\">Получение прогнозов и вычисление точности (аудио модальность) ...</span>**<p><span style=\"color:#333\">&nbsp;&nbsp;&nbsp;&nbsp;2000 из 2000 (100.0%) ... test80_25\\_Q4wOgixh7E.004.mp4 ...</span></p>"
      ],
      "text/plain": [
       "<IPython.core.display.Markdown object>"
      ]
     },
     "metadata": {},
     "output_type": "display_data"
    },
    {
     "data": {
      "text/html": [
       "<div>\n",
       "<style scoped>\n",
       "    .dataframe tbody tr th:only-of-type {\n",
       "        vertical-align: middle;\n",
       "    }\n",
       "\n",
       "    .dataframe tbody tr th {\n",
       "        vertical-align: top;\n",
       "    }\n",
       "\n",
       "    .dataframe thead th {\n",
       "        text-align: right;\n",
       "    }\n",
       "</style>\n",
       "<table border=\"1\" class=\"dataframe\">\n",
       "  <thead>\n",
       "    <tr style=\"text-align: right;\">\n",
       "      <th></th>\n",
       "      <th>Path</th>\n",
       "      <th>Openness</th>\n",
       "      <th>Conscientiousness</th>\n",
       "      <th>Extraversion</th>\n",
       "      <th>Agreeableness</th>\n",
       "      <th>Neuroticism</th>\n",
       "    </tr>\n",
       "    <tr>\n",
       "      <th>ID</th>\n",
       "      <th></th>\n",
       "      <th></th>\n",
       "      <th></th>\n",
       "      <th></th>\n",
       "      <th></th>\n",
       "      <th></th>\n",
       "    </tr>\n",
       "  </thead>\n",
       "  <tbody>\n",
       "    <tr>\n",
       "      <th>1</th>\n",
       "      <td>E:\\Databases\\FirstImpressionsV2\\test\\test80_01...</td>\n",
       "      <td>0.603515</td>\n",
       "      <td>0.556168</td>\n",
       "      <td>0.526526</td>\n",
       "      <td>0.579647</td>\n",
       "      <td>0.547629</td>\n",
       "    </tr>\n",
       "    <tr>\n",
       "      <th>2</th>\n",
       "      <td>E:\\Databases\\FirstImpressionsV2\\test\\test80_01...</td>\n",
       "      <td>0.568234</td>\n",
       "      <td>0.465214</td>\n",
       "      <td>0.46074</td>\n",
       "      <td>0.541781</td>\n",
       "      <td>0.511344</td>\n",
       "    </tr>\n",
       "    <tr>\n",
       "      <th>3</th>\n",
       "      <td>E:\\Databases\\FirstImpressionsV2\\test\\test80_01...</td>\n",
       "      <td>0.5462</td>\n",
       "      <td>0.60393</td>\n",
       "      <td>0.469424</td>\n",
       "      <td>0.589516</td>\n",
       "      <td>0.545717</td>\n",
       "    </tr>\n",
       "    <tr>\n",
       "      <th>4</th>\n",
       "      <td>E:\\Databases\\FirstImpressionsV2\\test\\test80_01...</td>\n",
       "      <td>0.69106</td>\n",
       "      <td>0.623836</td>\n",
       "      <td>0.628841</td>\n",
       "      <td>0.614712</td>\n",
       "      <td>0.645836</td>\n",
       "    </tr>\n",
       "    <tr>\n",
       "      <th>5</th>\n",
       "      <td>E:\\Databases\\FirstImpressionsV2\\test\\test80_01...</td>\n",
       "      <td>0.69081</td>\n",
       "      <td>0.589696</td>\n",
       "      <td>0.636096</td>\n",
       "      <td>0.606621</td>\n",
       "      <td>0.634804</td>\n",
       "    </tr>\n",
       "    <tr>\n",
       "      <th>6</th>\n",
       "      <td>E:\\Databases\\FirstImpressionsV2\\test\\test80_01...</td>\n",
       "      <td>0.65729</td>\n",
       "      <td>0.681327</td>\n",
       "      <td>0.571404</td>\n",
       "      <td>0.596099</td>\n",
       "      <td>0.623471</td>\n",
       "    </tr>\n",
       "    <tr>\n",
       "      <th>7</th>\n",
       "      <td>E:\\Databases\\FirstImpressionsV2\\test\\test80_01...</td>\n",
       "      <td>0.453764</td>\n",
       "      <td>0.438801</td>\n",
       "      <td>0.376481</td>\n",
       "      <td>0.520412</td>\n",
       "      <td>0.438268</td>\n",
       "    </tr>\n",
       "    <tr>\n",
       "      <th>8</th>\n",
       "      <td>E:\\Databases\\FirstImpressionsV2\\test\\test80_01...</td>\n",
       "      <td>0.558573</td>\n",
       "      <td>0.598298</td>\n",
       "      <td>0.452133</td>\n",
       "      <td>0.618858</td>\n",
       "      <td>0.571638</td>\n",
       "    </tr>\n",
       "    <tr>\n",
       "      <th>9</th>\n",
       "      <td>E:\\Databases\\FirstImpressionsV2\\test\\test80_01...</td>\n",
       "      <td>0.529082</td>\n",
       "      <td>0.502462</td>\n",
       "      <td>0.426625</td>\n",
       "      <td>0.488276</td>\n",
       "      <td>0.443729</td>\n",
       "    </tr>\n",
       "    <tr>\n",
       "      <th>10</th>\n",
       "      <td>E:\\Databases\\FirstImpressionsV2\\test\\test80_01...</td>\n",
       "      <td>0.537279</td>\n",
       "      <td>0.508225</td>\n",
       "      <td>0.438908</td>\n",
       "      <td>0.579817</td>\n",
       "      <td>0.512138</td>\n",
       "    </tr>\n",
       "    <tr>\n",
       "      <th>11</th>\n",
       "      <td>E:\\Databases\\FirstImpressionsV2\\test\\test80_01...</td>\n",
       "      <td>0.512772</td>\n",
       "      <td>0.447301</td>\n",
       "      <td>0.422987</td>\n",
       "      <td>0.559126</td>\n",
       "      <td>0.491422</td>\n",
       "    </tr>\n",
       "    <tr>\n",
       "      <th>12</th>\n",
       "      <td>E:\\Databases\\FirstImpressionsV2\\test\\test80_01...</td>\n",
       "      <td>0.470028</td>\n",
       "      <td>0.440706</td>\n",
       "      <td>0.389662</td>\n",
       "      <td>0.524696</td>\n",
       "      <td>0.434353</td>\n",
       "    </tr>\n",
       "    <tr>\n",
       "      <th>13</th>\n",
       "      <td>E:\\Databases\\FirstImpressionsV2\\test\\test80_01...</td>\n",
       "      <td>0.369822</td>\n",
       "      <td>0.388751</td>\n",
       "      <td>0.275701</td>\n",
       "      <td>0.431057</td>\n",
       "      <td>0.311151</td>\n",
       "    </tr>\n",
       "    <tr>\n",
       "      <th>14</th>\n",
       "      <td>E:\\Databases\\FirstImpressionsV2\\test\\test80_01...</td>\n",
       "      <td>0.582532</td>\n",
       "      <td>0.432892</td>\n",
       "      <td>0.41241</td>\n",
       "      <td>0.442049</td>\n",
       "      <td>0.462245</td>\n",
       "    </tr>\n",
       "    <tr>\n",
       "      <th>15</th>\n",
       "      <td>E:\\Databases\\FirstImpressionsV2\\test\\test80_01...</td>\n",
       "      <td>0.627734</td>\n",
       "      <td>0.801782</td>\n",
       "      <td>0.528616</td>\n",
       "      <td>0.692661</td>\n",
       "      <td>0.691933</td>\n",
       "    </tr>\n",
       "    <tr>\n",
       "      <th>16</th>\n",
       "      <td>E:\\Databases\\FirstImpressionsV2\\test\\test80_01...</td>\n",
       "      <td>0.708807</td>\n",
       "      <td>0.654004</td>\n",
       "      <td>0.640556</td>\n",
       "      <td>0.632089</td>\n",
       "      <td>0.669078</td>\n",
       "    </tr>\n",
       "    <tr>\n",
       "      <th>17</th>\n",
       "      <td>E:\\Databases\\FirstImpressionsV2\\test\\test80_01...</td>\n",
       "      <td>0.583985</td>\n",
       "      <td>0.64413</td>\n",
       "      <td>0.504618</td>\n",
       "      <td>0.633534</td>\n",
       "      <td>0.592102</td>\n",
       "    </tr>\n",
       "    <tr>\n",
       "      <th>18</th>\n",
       "      <td>E:\\Databases\\FirstImpressionsV2\\test\\test80_01...</td>\n",
       "      <td>0.550826</td>\n",
       "      <td>0.539562</td>\n",
       "      <td>0.468087</td>\n",
       "      <td>0.594886</td>\n",
       "      <td>0.544013</td>\n",
       "    </tr>\n",
       "    <tr>\n",
       "      <th>19</th>\n",
       "      <td>E:\\Databases\\FirstImpressionsV2\\test\\test80_01...</td>\n",
       "      <td>0.626725</td>\n",
       "      <td>0.563186</td>\n",
       "      <td>0.556527</td>\n",
       "      <td>0.561913</td>\n",
       "      <td>0.549219</td>\n",
       "    </tr>\n",
       "    <tr>\n",
       "      <th>20</th>\n",
       "      <td>E:\\Databases\\FirstImpressionsV2\\test\\test80_01...</td>\n",
       "      <td>0.593018</td>\n",
       "      <td>0.421479</td>\n",
       "      <td>0.504846</td>\n",
       "      <td>0.534286</td>\n",
       "      <td>0.532846</td>\n",
       "    </tr>\n",
       "    <tr>\n",
       "      <th>21</th>\n",
       "      <td>E:\\Databases\\FirstImpressionsV2\\test\\test80_01...</td>\n",
       "      <td>0.54591</td>\n",
       "      <td>0.479616</td>\n",
       "      <td>0.465776</td>\n",
       "      <td>0.571317</td>\n",
       "      <td>0.518815</td>\n",
       "    </tr>\n",
       "    <tr>\n",
       "      <th>22</th>\n",
       "      <td>E:\\Databases\\FirstImpressionsV2\\test\\test80_01...</td>\n",
       "      <td>0.548458</td>\n",
       "      <td>0.480813</td>\n",
       "      <td>0.453358</td>\n",
       "      <td>0.527773</td>\n",
       "      <td>0.477631</td>\n",
       "    </tr>\n",
       "    <tr>\n",
       "      <th>23</th>\n",
       "      <td>E:\\Databases\\FirstImpressionsV2\\test\\test80_01...</td>\n",
       "      <td>0.486092</td>\n",
       "      <td>0.467766</td>\n",
       "      <td>0.396112</td>\n",
       "      <td>0.444669</td>\n",
       "      <td>0.399433</td>\n",
       "    </tr>\n",
       "    <tr>\n",
       "      <th>24</th>\n",
       "      <td>E:\\Databases\\FirstImpressionsV2\\test\\test80_01...</td>\n",
       "      <td>0.558325</td>\n",
       "      <td>0.537904</td>\n",
       "      <td>0.474176</td>\n",
       "      <td>0.563643</td>\n",
       "      <td>0.529394</td>\n",
       "    </tr>\n",
       "    <tr>\n",
       "      <th>25</th>\n",
       "      <td>E:\\Databases\\FirstImpressionsV2\\test\\test80_01...</td>\n",
       "      <td>0.473012</td>\n",
       "      <td>0.542086</td>\n",
       "      <td>0.370223</td>\n",
       "      <td>0.550102</td>\n",
       "      <td>0.467069</td>\n",
       "    </tr>\n",
       "    <tr>\n",
       "      <th>26</th>\n",
       "      <td>E:\\Databases\\FirstImpressionsV2\\test\\test80_01...</td>\n",
       "      <td>0.530955</td>\n",
       "      <td>0.460212</td>\n",
       "      <td>0.410624</td>\n",
       "      <td>0.507359</td>\n",
       "      <td>0.450038</td>\n",
       "    </tr>\n",
       "    <tr>\n",
       "      <th>27</th>\n",
       "      <td>E:\\Databases\\FirstImpressionsV2\\test\\test80_01...</td>\n",
       "      <td>0.618064</td>\n",
       "      <td>0.506365</td>\n",
       "      <td>0.572245</td>\n",
       "      <td>0.574828</td>\n",
       "      <td>0.563808</td>\n",
       "    </tr>\n",
       "    <tr>\n",
       "      <th>28</th>\n",
       "      <td>E:\\Databases\\FirstImpressionsV2\\test\\test80_01...</td>\n",
       "      <td>0.647052</td>\n",
       "      <td>0.577741</td>\n",
       "      <td>0.56588</td>\n",
       "      <td>0.575312</td>\n",
       "      <td>0.606349</td>\n",
       "    </tr>\n",
       "    <tr>\n",
       "      <th>29</th>\n",
       "      <td>E:\\Databases\\FirstImpressionsV2\\test\\test80_01...</td>\n",
       "      <td>0.571462</td>\n",
       "      <td>0.529512</td>\n",
       "      <td>0.486609</td>\n",
       "      <td>0.535717</td>\n",
       "      <td>0.529028</td>\n",
       "    </tr>\n",
       "    <tr>\n",
       "      <th>30</th>\n",
       "      <td>E:\\Databases\\FirstImpressionsV2\\test\\test80_01...</td>\n",
       "      <td>0.655013</td>\n",
       "      <td>0.606694</td>\n",
       "      <td>0.592829</td>\n",
       "      <td>0.570586</td>\n",
       "      <td>0.600383</td>\n",
       "    </tr>\n",
       "  </tbody>\n",
       "</table>\n",
       "</div>"
      ],
      "text/plain": [
       "                                                 Path  Openness  \\\n",
       "ID                                                                \n",
       "1   E:\\Databases\\FirstImpressionsV2\\test\\test80_01...  0.603515   \n",
       "2   E:\\Databases\\FirstImpressionsV2\\test\\test80_01...  0.568234   \n",
       "3   E:\\Databases\\FirstImpressionsV2\\test\\test80_01...    0.5462   \n",
       "4   E:\\Databases\\FirstImpressionsV2\\test\\test80_01...   0.69106   \n",
       "5   E:\\Databases\\FirstImpressionsV2\\test\\test80_01...   0.69081   \n",
       "6   E:\\Databases\\FirstImpressionsV2\\test\\test80_01...   0.65729   \n",
       "7   E:\\Databases\\FirstImpressionsV2\\test\\test80_01...  0.453764   \n",
       "8   E:\\Databases\\FirstImpressionsV2\\test\\test80_01...  0.558573   \n",
       "9   E:\\Databases\\FirstImpressionsV2\\test\\test80_01...  0.529082   \n",
       "10  E:\\Databases\\FirstImpressionsV2\\test\\test80_01...  0.537279   \n",
       "11  E:\\Databases\\FirstImpressionsV2\\test\\test80_01...  0.512772   \n",
       "12  E:\\Databases\\FirstImpressionsV2\\test\\test80_01...  0.470028   \n",
       "13  E:\\Databases\\FirstImpressionsV2\\test\\test80_01...  0.369822   \n",
       "14  E:\\Databases\\FirstImpressionsV2\\test\\test80_01...  0.582532   \n",
       "15  E:\\Databases\\FirstImpressionsV2\\test\\test80_01...  0.627734   \n",
       "16  E:\\Databases\\FirstImpressionsV2\\test\\test80_01...  0.708807   \n",
       "17  E:\\Databases\\FirstImpressionsV2\\test\\test80_01...  0.583985   \n",
       "18  E:\\Databases\\FirstImpressionsV2\\test\\test80_01...  0.550826   \n",
       "19  E:\\Databases\\FirstImpressionsV2\\test\\test80_01...  0.626725   \n",
       "20  E:\\Databases\\FirstImpressionsV2\\test\\test80_01...  0.593018   \n",
       "21  E:\\Databases\\FirstImpressionsV2\\test\\test80_01...   0.54591   \n",
       "22  E:\\Databases\\FirstImpressionsV2\\test\\test80_01...  0.548458   \n",
       "23  E:\\Databases\\FirstImpressionsV2\\test\\test80_01...  0.486092   \n",
       "24  E:\\Databases\\FirstImpressionsV2\\test\\test80_01...  0.558325   \n",
       "25  E:\\Databases\\FirstImpressionsV2\\test\\test80_01...  0.473012   \n",
       "26  E:\\Databases\\FirstImpressionsV2\\test\\test80_01...  0.530955   \n",
       "27  E:\\Databases\\FirstImpressionsV2\\test\\test80_01...  0.618064   \n",
       "28  E:\\Databases\\FirstImpressionsV2\\test\\test80_01...  0.647052   \n",
       "29  E:\\Databases\\FirstImpressionsV2\\test\\test80_01...  0.571462   \n",
       "30  E:\\Databases\\FirstImpressionsV2\\test\\test80_01...  0.655013   \n",
       "\n",
       "   Conscientiousness Extraversion Agreeableness Neuroticism  \n",
       "ID                                                           \n",
       "1           0.556168     0.526526      0.579647    0.547629  \n",
       "2           0.465214      0.46074      0.541781    0.511344  \n",
       "3            0.60393     0.469424      0.589516    0.545717  \n",
       "4           0.623836     0.628841      0.614712    0.645836  \n",
       "5           0.589696     0.636096      0.606621    0.634804  \n",
       "6           0.681327     0.571404      0.596099    0.623471  \n",
       "7           0.438801     0.376481      0.520412    0.438268  \n",
       "8           0.598298     0.452133      0.618858    0.571638  \n",
       "9           0.502462     0.426625      0.488276    0.443729  \n",
       "10          0.508225     0.438908      0.579817    0.512138  \n",
       "11          0.447301     0.422987      0.559126    0.491422  \n",
       "12          0.440706     0.389662      0.524696    0.434353  \n",
       "13          0.388751     0.275701      0.431057    0.311151  \n",
       "14          0.432892      0.41241      0.442049    0.462245  \n",
       "15          0.801782     0.528616      0.692661    0.691933  \n",
       "16          0.654004     0.640556      0.632089    0.669078  \n",
       "17           0.64413     0.504618      0.633534    0.592102  \n",
       "18          0.539562     0.468087      0.594886    0.544013  \n",
       "19          0.563186     0.556527      0.561913    0.549219  \n",
       "20          0.421479     0.504846      0.534286    0.532846  \n",
       "21          0.479616     0.465776      0.571317    0.518815  \n",
       "22          0.480813     0.453358      0.527773    0.477631  \n",
       "23          0.467766     0.396112      0.444669    0.399433  \n",
       "24          0.537904     0.474176      0.563643    0.529394  \n",
       "25          0.542086     0.370223      0.550102    0.467069  \n",
       "26          0.460212     0.410624      0.507359    0.450038  \n",
       "27          0.506365     0.572245      0.574828    0.563808  \n",
       "28          0.577741      0.56588      0.575312    0.606349  \n",
       "29          0.529512     0.486609      0.535717    0.529028  \n",
       "30          0.606694     0.592829      0.570586    0.600383  "
      ]
     },
     "metadata": {},
     "output_type": "display_data"
    },
    {
     "data": {
      "text/markdown": [
       "<span style=\"color:#333\">**[</span><span style=\"color:#1776D2\">2023-12-10 18:53:29</span><span style=\"color:#333\">]</span> <span style=\"color:#333\">Точность по отдельным персональным качествам личности человека ...</span>** "
      ],
      "text/plain": [
       "<IPython.core.display.Markdown object>"
      ]
     },
     "metadata": {},
     "output_type": "display_data"
    },
    {
     "data": {
      "text/html": [
       "<div>\n",
       "<style scoped>\n",
       "    .dataframe tbody tr th:only-of-type {\n",
       "        vertical-align: middle;\n",
       "    }\n",
       "\n",
       "    .dataframe tbody tr th {\n",
       "        vertical-align: top;\n",
       "    }\n",
       "\n",
       "    .dataframe thead th {\n",
       "        text-align: right;\n",
       "    }\n",
       "</style>\n",
       "<table border=\"1\" class=\"dataframe\">\n",
       "  <thead>\n",
       "    <tr style=\"text-align: right;\">\n",
       "      <th></th>\n",
       "      <th>Openness</th>\n",
       "      <th>Conscientiousness</th>\n",
       "      <th>Extraversion</th>\n",
       "      <th>Agreeableness</th>\n",
       "      <th>Neuroticism</th>\n",
       "      <th>Mean</th>\n",
       "    </tr>\n",
       "    <tr>\n",
       "      <th>Metrics</th>\n",
       "      <th></th>\n",
       "      <th></th>\n",
       "      <th></th>\n",
       "      <th></th>\n",
       "      <th></th>\n",
       "      <th></th>\n",
       "    </tr>\n",
       "  </thead>\n",
       "  <tbody>\n",
       "    <tr>\n",
       "      <th>MAE</th>\n",
       "      <td>0.0916</td>\n",
       "      <td>0.0925</td>\n",
       "      <td>0.0932</td>\n",
       "      <td>0.0917</td>\n",
       "      <td>0.094</td>\n",
       "      <td>0.0926</td>\n",
       "    </tr>\n",
       "    <tr>\n",
       "      <th>Accuracy</th>\n",
       "      <td>0.9084</td>\n",
       "      <td>0.9075</td>\n",
       "      <td>0.9068</td>\n",
       "      <td>0.9083</td>\n",
       "      <td>0.906</td>\n",
       "      <td>0.9074</td>\n",
       "    </tr>\n",
       "  </tbody>\n",
       "</table>\n",
       "</div>"
      ],
      "text/plain": [
       "          Openness  Conscientiousness  Extraversion  Agreeableness  \\\n",
       "Metrics                                                              \n",
       "MAE         0.0916             0.0925        0.0932         0.0917   \n",
       "Accuracy    0.9084             0.9075        0.9068         0.9083   \n",
       "\n",
       "          Neuroticism    Mean  \n",
       "Metrics                        \n",
       "MAE             0.094  0.0926  \n",
       "Accuracy        0.906  0.9074  "
      ]
     },
     "metadata": {},
     "output_type": "display_data"
    },
    {
     "data": {
      "text/markdown": [
       "<span style=\"color:#333\">**[</span><span style=\"color:#1776D2\">2023-12-10 18:53:29</span><span style=\"color:#333\">]</span> <span style=\"color:#333\">Средняя средних абсолютных ошибок: <span style=\"color:#1776D2\">0.0926</span>, средняя точность: <span style=\"color:#1776D2\">0.9074</span> ...</span>** "
      ],
      "text/plain": [
       "<IPython.core.display.Markdown object>"
      ]
     },
     "metadata": {},
     "output_type": "display_data"
    },
    {
     "data": {
      "text/markdown": [
       "<span style=\"color:#008001\">**Лог файлы успешно сохранены ...**</span>"
      ],
      "text/plain": [
       "<IPython.core.display.Markdown object>"
      ]
     },
     "metadata": {},
     "output_type": "display_data"
    },
    {
     "data": {
      "text/markdown": [
       "<span style=\"color:#333\">**--- Время выполнения: 2625.512 сек. ---**</span>"
      ],
      "text/plain": [
       "<IPython.core.display.Markdown object>"
      ]
     },
     "metadata": {},
     "output_type": "display_data"
    }
   ],
   "source": [
    "# Настройки ядра\n",
    "_b5.path_to_dataset_ = 'E:/Databases/FirstImpressionsV2/test' # Директория набора данных\n",
    "# Директории не входящие в выборку\n",
    "_b5.ignore_dirs_ = []\n",
    "# Названия ключей для DataFrame набора данных\n",
    "_b5.keys_dataset_ = ['Path', 'Openness', 'Conscientiousness', 'Extraversion', 'Agreeableness', 'Neuroticism']\n",
    "_b5.ext_ = ['.mp4'] # Расширения искомых файлов\n",
    "_b5.path_to_logs_ = './logs' # Директория для сохранения LOG файлов\n",
    "\n",
    "# Полный путь к файлу с верными предсказаниями для подсчета точности\n",
    "url_accuracy = _b5.true_traits_['fi']['sberdisk']\n",
    "\n",
    "res_get_audio_union_predictions = _b5.get_audio_union_predictions(\n",
    "    depth = 1,         # Глубина иерархии для получения аудио и видеоданных\n",
    "    recursive = False, # Рекурсивный поиск данных\n",
    "    sr = 44100,        # Частота дискретизации\n",
    "    window = 2,        # Размер окна сегмента сигнала (в секундах)\n",
    "    step = 1,          # Шаг сдвига окна сегмента сигнала (в секундах)\n",
    "    accuracy = True,   # Вычисление точности\n",
    "    url_accuracy = url_accuracy,\n",
    "    logs = True,      # При необходимости формировать LOG файл\n",
    "    out = True,        # Отображение\n",
    "    runtime = True,    # Подсчет времени выполнения\n",
    "    run = True         # Блокировка выполнения\n",
    ")"
   ]
  },
  {
   "cell_type": "code",
   "execution_count": null,
   "metadata": {},
   "outputs": [],
   "source": []
  }
 ],
 "metadata": {
  "kernelspec": {
   "display_name": "Python 3 (ipykernel)",
   "language": "python",
   "name": "python3"
  },
  "language_info": {
   "codemirror_mode": {
    "name": "ipython",
    "version": 3
   },
   "file_extension": ".py",
   "mimetype": "text/x-python",
   "name": "python",
   "nbconvert_exporter": "python",
   "pygments_lexer": "ipython3",
   "version": "3.9.13"
  }
 },
 "nbformat": 4,
 "nbformat_minor": 4
}
