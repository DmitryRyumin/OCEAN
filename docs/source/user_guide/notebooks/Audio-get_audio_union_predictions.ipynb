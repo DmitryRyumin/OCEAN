{
 "cells": [
  {
   "cell_type": "markdown",
   "metadata": {
    "tags": []
   },
   "source": [
    "## Получение прогнозов по аудио\n",
    "\n",
    "<img src=\"https://raw.githubusercontent.com/aimclub/OCEANAI/main/docs/source/user_guide/notebooks/images/Pipeline_AIA_en.svg\" width=\"100%\" />\n",
    "\n",
    "<hr>"
   ]
  },
  {
   "cell_type": "code",
   "execution_count": 1,
   "metadata": {
    "nbsphinx": "hidden",
    "tags": []
   },
   "outputs": [],
   "source": [
    "import os  # Взаимодействие с файловой системой\n",
    "import sys # Доступ к некоторым переменным и функциям Python\n",
    "\n",
    "PATH_TO_SOURCE = os.path.abspath(os.path.dirname(globals()['_dh'][0]))\n",
    "PATH_TO_ROOT = os.path.join(PATH_TO_SOURCE, '..', '..', '..')\n",
    "\n",
    "sys.path.insert(0, os.path.abspath(PATH_TO_ROOT))"
   ]
  },
  {
   "cell_type": "markdown",
   "metadata": {},
   "source": [
    "### Импорт необходимых инструментов"
   ]
  },
  {
   "cell_type": "code",
   "execution_count": 2,
   "metadata": {},
   "outputs": [],
   "source": [
    "from oceanai.modules.lab.build import Run"
   ]
  },
  {
   "cell_type": "markdown",
   "metadata": {},
   "source": [
    "### Сборка"
   ]
  },
  {
   "cell_type": "code",
   "execution_count": 3,
   "metadata": {},
   "outputs": [
    {
     "data": {
      "text/markdown": [
       "<span style=\"color:#333\">**[</span><span style=\"color:#1776D2\">2024-10-08 19:50:39</span><span style=\"color:#333\">]</span> <span style=\"color:#333\">OCEANAI - персональные качества личности человека:</span>**<br /><span style=\"color:#333\">&nbsp;&nbsp;&nbsp;&nbsp;Авторы:</span><br /><span style=\"color:#333\">&nbsp;&nbsp;&nbsp;&nbsp;&nbsp;&nbsp;&nbsp;&nbsp;Рюмина Елена [<u>ryumina_ev@mail.ru</u>]</span><br /><span style=\"color:#333\">&nbsp;&nbsp;&nbsp;&nbsp;&nbsp;&nbsp;&nbsp;&nbsp;Рюмин Дмитрий [<u>dl_03.03.1991@mail.ru</u>]</span><br /><span style=\"color:#333\">&nbsp;&nbsp;&nbsp;&nbsp;&nbsp;&nbsp;&nbsp;&nbsp;Карпов Алексей [<u>karpov@iias.spb.su</u>]</span><br /><span style=\"color:#333\">&nbsp;&nbsp;&nbsp;&nbsp;Сопровождающие:</span><br /><span style=\"color:#333\">&nbsp;&nbsp;&nbsp;&nbsp;&nbsp;&nbsp;&nbsp;&nbsp;Рюмина Елена [<u>ryumina_ev@mail.ru</u>]</span><br /><span style=\"color:#333\">&nbsp;&nbsp;&nbsp;&nbsp;&nbsp;&nbsp;&nbsp;&nbsp;Рюмин Дмитрий [<u>dl_03.03.1991@mail.ru</u>]</span><br /><span style=\"color:#333\">&nbsp;&nbsp;&nbsp;&nbsp;Версия: <u>1.0.0a40</u></span><br /><span style=\"color:#333\">&nbsp;&nbsp;&nbsp;&nbsp;Лицензия: <u>BSD License</u></span></p>"
      ],
      "text/plain": [
       "<IPython.core.display.Markdown object>"
      ]
     },
     "metadata": {},
     "output_type": "display_data"
    }
   ],
   "source": [
    "_b5 = Run(\n",
    "    lang = 'ru', # Язык\n",
    "    color_simple = '#333', # Цвет обычного текста (шестнадцатеричный код)\n",
    "    color_info = '#1776D2', # Цвет текста содержащего информацию (шестнадцатеричный код)\n",
    "    color_err = '#FF0000', # Цвет текста содержащего ошибку (шестнадцатеричный код)\n",
    "    color_true = '#008001', # Цвет текста содержащего положительную информацию (шестнадцатеричный код)\n",
    "    bold_text = True, # Жирное начертание текста\n",
    "    num_to_df_display = 30, # Количество строк для отображения в таблицах\n",
    "    text_runtime = 'Время выполнения', # Текст времени выполнения\n",
    "    metadata = True # Отображение информации о библиотеке\n",
    ")"
   ]
  },
  {
   "cell_type": "markdown",
   "metadata": {},
   "source": [
    "### Получение и отображение версий установленных библиотек\n",
    "\n",
    "> - `_b5.df_pkgs_` - DataFrame c версиями установленных библиотек"
   ]
  },
  {
   "cell_type": "code",
   "execution_count": 4,
   "metadata": {},
   "outputs": [
    {
     "data": {
      "text/html": [
       "<div>\n",
       "<style scoped>\n",
       "    .dataframe tbody tr th:only-of-type {\n",
       "        vertical-align: middle;\n",
       "    }\n",
       "\n",
       "    .dataframe tbody tr th {\n",
       "        vertical-align: top;\n",
       "    }\n",
       "\n",
       "    .dataframe thead th {\n",
       "        text-align: right;\n",
       "    }\n",
       "</style>\n",
       "<table border=\"1\" class=\"dataframe\">\n",
       "  <thead>\n",
       "    <tr style=\"text-align: right;\">\n",
       "      <th></th>\n",
       "      <th>Package</th>\n",
       "      <th>Version</th>\n",
       "    </tr>\n",
       "  </thead>\n",
       "  <tbody>\n",
       "    <tr>\n",
       "      <th>1</th>\n",
       "      <td>OpenCV</td>\n",
       "      <td>4.10.0</td>\n",
       "    </tr>\n",
       "    <tr>\n",
       "      <th>2</th>\n",
       "      <td>MediaPipe</td>\n",
       "      <td>0.10.14</td>\n",
       "    </tr>\n",
       "    <tr>\n",
       "      <th>3</th>\n",
       "      <td>NumPy</td>\n",
       "      <td>1.26.4</td>\n",
       "    </tr>\n",
       "    <tr>\n",
       "      <th>4</th>\n",
       "      <td>SciPy</td>\n",
       "      <td>1.14.1</td>\n",
       "    </tr>\n",
       "    <tr>\n",
       "      <th>5</th>\n",
       "      <td>Pandas</td>\n",
       "      <td>2.2.3</td>\n",
       "    </tr>\n",
       "    <tr>\n",
       "      <th>6</th>\n",
       "      <td>Scikit-learn</td>\n",
       "      <td>1.5.2</td>\n",
       "    </tr>\n",
       "    <tr>\n",
       "      <th>7</th>\n",
       "      <td>OpenSmile</td>\n",
       "      <td>2.5.0</td>\n",
       "    </tr>\n",
       "    <tr>\n",
       "      <th>8</th>\n",
       "      <td>Librosa</td>\n",
       "      <td>0.10.2.post1</td>\n",
       "    </tr>\n",
       "    <tr>\n",
       "      <th>9</th>\n",
       "      <td>AudioRead</td>\n",
       "      <td>3.0.1</td>\n",
       "    </tr>\n",
       "    <tr>\n",
       "      <th>10</th>\n",
       "      <td>IPython</td>\n",
       "      <td>8.28.0</td>\n",
       "    </tr>\n",
       "    <tr>\n",
       "      <th>11</th>\n",
       "      <td>Requests</td>\n",
       "      <td>2.32.3</td>\n",
       "    </tr>\n",
       "    <tr>\n",
       "      <th>12</th>\n",
       "      <td>JupyterLab</td>\n",
       "      <td>4.2.5</td>\n",
       "    </tr>\n",
       "    <tr>\n",
       "      <th>13</th>\n",
       "      <td>LIWC</td>\n",
       "      <td>0.5.0</td>\n",
       "    </tr>\n",
       "    <tr>\n",
       "      <th>14</th>\n",
       "      <td>Transformers</td>\n",
       "      <td>4.45.1</td>\n",
       "    </tr>\n",
       "    <tr>\n",
       "      <th>15</th>\n",
       "      <td>Sentencepiece</td>\n",
       "      <td>0.2.0</td>\n",
       "    </tr>\n",
       "    <tr>\n",
       "      <th>16</th>\n",
       "      <td>Torch</td>\n",
       "      <td>2.4.1+cu118</td>\n",
       "    </tr>\n",
       "    <tr>\n",
       "      <th>17</th>\n",
       "      <td>Torchaudio</td>\n",
       "      <td>2.4.1+cu118</td>\n",
       "    </tr>\n",
       "    <tr>\n",
       "      <th>18</th>\n",
       "      <td>Torchvision</td>\n",
       "      <td>0.19.1+cu118</td>\n",
       "    </tr>\n",
       "  </tbody>\n",
       "</table>\n",
       "</div>"
      ],
      "text/plain": [
       "          Package       Version\n",
       "1          OpenCV        4.10.0\n",
       "2       MediaPipe       0.10.14\n",
       "3           NumPy        1.26.4\n",
       "4           SciPy        1.14.1\n",
       "5          Pandas         2.2.3\n",
       "6    Scikit-learn         1.5.2\n",
       "7       OpenSmile         2.5.0\n",
       "8         Librosa  0.10.2.post1\n",
       "9       AudioRead         3.0.1\n",
       "10        IPython        8.28.0\n",
       "11       Requests        2.32.3\n",
       "12     JupyterLab         4.2.5\n",
       "13           LIWC         0.5.0\n",
       "14   Transformers        4.45.1\n",
       "15  Sentencepiece         0.2.0\n",
       "16          Torch   2.4.1+cu118\n",
       "17     Torchaudio   2.4.1+cu118\n",
       "18    Torchvision  0.19.1+cu118"
      ]
     },
     "metadata": {},
     "output_type": "display_data"
    },
    {
     "data": {
      "text/markdown": [
       "<span style=\"color:#333\">**--- Время выполнения: 0.004 сек. ---**</span>"
      ],
      "text/plain": [
       "<IPython.core.display.Markdown object>"
      ]
     },
     "metadata": {},
     "output_type": "display_data"
    }
   ],
   "source": [
    "_b5.libs_vers(runtime = True, run = True)"
   ]
  },
  {
   "cell_type": "markdown",
   "metadata": {},
   "source": [
    "### Формирование нейросетевой архитектуры модели для получения оценок по экспертным признакам\n",
    "\n",
    "> - `_b5.audio_model_hc_` - Нейросетевая модель **nn.Module** для получения оценок по экспертным признакам"
   ]
  },
  {
   "cell_type": "code",
   "execution_count": 5,
   "metadata": {},
   "outputs": [
    {
     "data": {
      "text/markdown": [
       "<span style=\"color:#333\">**[</span><span style=\"color:#1776D2\">2024-10-08 19:50:39</span><span style=\"color:#333\">]</span> <span style=\"color:#333\">Формирование нейросетевой архитектуры модели для получения оценок по экспертным признакам (аудио модальность) ...</span>** "
      ],
      "text/plain": [
       "<IPython.core.display.Markdown object>"
      ]
     },
     "metadata": {},
     "output_type": "display_data"
    },
    {
     "data": {
      "text/markdown": [
       "<span style=\"color:#333\">**--- Время выполнения: 0.002 сек. ---**</span>"
      ],
      "text/plain": [
       "<IPython.core.display.Markdown object>"
      ]
     },
     "metadata": {},
     "output_type": "display_data"
    }
   ],
   "source": [
    "res_load_audio_model_hc = _b5.load_audio_model_hc(\n",
    "    show_summary = False, # Отображение сформированной нейросетевой архитектуры модели\n",
    "    out = True, # Отображение\n",
    "    runtime = True, # Подсчет времени выполнения\n",
    "    run = True # Блокировка выполнения\n",
    ")"
   ]
  },
  {
   "cell_type": "markdown",
   "metadata": {},
   "source": [
    "### Загрузка весов нейросетевой модели для получения оценок по экспертным признакам\n",
    "\n",
    "> - `_b5.audio_model_hc_` - Нейросетевая модель **nn.Module** для получения оценок по экспертным признакам"
   ]
  },
  {
   "cell_type": "code",
   "execution_count": 6,
   "metadata": {},
   "outputs": [
    {
     "data": {
      "text/markdown": [
       "<span style=\"color:#333\">**[</span><span style=\"color:#1776D2\">2024-10-08 19:50:39</span><span style=\"color:#333\">]</span> <span style=\"color:#333\">Загрузка весов нейросетевой модели для получения оценок по экспертным признакам (аудио модальность) ...</span>** "
      ],
      "text/plain": [
       "<IPython.core.display.Markdown object>"
      ]
     },
     "metadata": {},
     "output_type": "display_data"
    },
    {
     "data": {
      "text/markdown": [
       "<span style=\"color:#333\">**[</span><span style=\"color:#1776D2\">2024-10-08 19:50:42</span><span style=\"color:#333\">]</span> <span style=\"color:#333\">Загрузка файла \"<span style=\"color:#1776D2\">weights_2022-05-05_11-27-55.pth</span>\" 100.0% ...</span>** "
      ],
      "text/plain": [
       "<IPython.core.display.Markdown object>"
      ]
     },
     "metadata": {},
     "output_type": "display_data"
    },
    {
     "data": {
      "text/markdown": [
       "<span style=\"color:#333\">**--- Время выполнения: 2.861 сек. ---**</span>"
      ],
      "text/plain": [
       "<IPython.core.display.Markdown object>"
      ]
     },
     "metadata": {},
     "output_type": "display_data"
    }
   ],
   "source": [
    "# Настройки ядра\n",
    "_b5.path_to_save_ = './models' # Директория для сохранения файла\n",
    "_b5.chunk_size_ = 2000000 # Размер загрузки файла из сети за 1 шаг\n",
    "\n",
    "url = _b5.weights_for_big5_['audio']['fi']['hc']['googledisk']\n",
    "\n",
    "res_load_audio_model_weights_hc = _b5.load_audio_model_weights_hc(\n",
    "    url = url, # Полный путь к файлу с весами нейросетевой модели\n",
    "    force_reload = True, # Принудительная загрузка файла с весами нейросетевой модели из сети\n",
    "    out = True, # Отображение\n",
    "    runtime = True, # Подсчет времени выполнения\n",
    "    run = True # Блокировка выполнения\n",
    ")"
   ]
  },
  {
   "cell_type": "markdown",
   "metadata": {},
   "source": [
    "### Формирование нейросетевой архитектуры модели для получения оценок по нейросетевым признакам\n",
    "\n",
    "> - `_b5.audio_model_nn_` - Нейросетевая модель **nn.Module** для получения оценок по нейросетевым признакам"
   ]
  },
  {
   "cell_type": "code",
   "execution_count": 7,
   "metadata": {},
   "outputs": [
    {
     "data": {
      "text/markdown": [
       "<span style=\"color:#333\">**[</span><span style=\"color:#1776D2\">2024-10-08 19:50:42</span><span style=\"color:#333\">]</span> <span style=\"color:#333\">Формирование нейросетевой архитектуры для получения оценок по нейросетевым признакам (аудио модальность) ...</span>** "
      ],
      "text/plain": [
       "<IPython.core.display.Markdown object>"
      ]
     },
     "metadata": {},
     "output_type": "display_data"
    },
    {
     "data": {
      "text/markdown": [
       "<span style=\"color:#333\">**--- Время выполнения: 1.052 сек. ---**</span>"
      ],
      "text/plain": [
       "<IPython.core.display.Markdown object>"
      ]
     },
     "metadata": {},
     "output_type": "display_data"
    }
   ],
   "source": [
    "res_load_audio_model_nn = _b5.load_audio_model_nn(\n",
    "    show_summary = False, # Отображение сформированной нейросетевой архитектуры модели\n",
    "    out = True, # Отображение\n",
    "    runtime = True, # Подсчет времени выполнения\n",
    "    run = True # Блокировка выполнения\n",
    ")"
   ]
  },
  {
   "cell_type": "markdown",
   "metadata": {},
   "source": [
    "### Загрузка весов нейросетевой модели для получения оценок по нейросетевым признакам\n",
    "\n",
    "> - `_b5.audio_model_nn_` - Нейросетевая модель **nn.Module** для получения оценок по нейросетевым признакам"
   ]
  },
  {
   "cell_type": "code",
   "execution_count": 8,
   "metadata": {},
   "outputs": [
    {
     "data": {
      "text/markdown": [
       "<span style=\"color:#333\">**[</span><span style=\"color:#1776D2\">2024-10-08 19:50:43</span><span style=\"color:#333\">]</span> <span style=\"color:#333\">Загрузка весов нейросетевой модели для получения оценок по нейросетевым признакам (аудио модальность) ...</span>** "
      ],
      "text/plain": [
       "<IPython.core.display.Markdown object>"
      ]
     },
     "metadata": {},
     "output_type": "display_data"
    },
    {
     "data": {
      "text/markdown": [
       "<span style=\"color:#333\">**[</span><span style=\"color:#1776D2\">2024-10-08 19:50:50</span><span style=\"color:#333\">]</span> <span style=\"color:#333\">Загрузка файла \"<span style=\"color:#1776D2\">weights_2022-05-03_07-46-14.pth</span>\" 100.0% ...</span>** "
      ],
      "text/plain": [
       "<IPython.core.display.Markdown object>"
      ]
     },
     "metadata": {},
     "output_type": "display_data"
    },
    {
     "data": {
      "text/markdown": [
       "<span style=\"color:#333\">**--- Время выполнения: 7.158 сек. ---**</span>"
      ],
      "text/plain": [
       "<IPython.core.display.Markdown object>"
      ]
     },
     "metadata": {},
     "output_type": "display_data"
    }
   ],
   "source": [
    "# Настройки ядра\n",
    "_b5.path_to_save_ = './models' # Директория для сохранения файла\n",
    "_b5.chunk_size_ = 2000000 # Размер загрузки файла из сети за 1 шаг\n",
    "\n",
    "url = _b5.weights_for_big5_['audio']['fi']['nn']['googledisk']\n",
    "\n",
    "res_load_audio_model_weights_nn = _b5.load_audio_model_weights_nn(\n",
    "    url = url, # Полный путь к файлу с весами нейросетевой модели\n",
    "    force_reload = False, # Принудительная загрузка файла с весами нейросетевой модели из сети\n",
    "    out = True, # Отображение\n",
    "    runtime = True, # Подсчет времени выполнения\n",
    "    run = True # Блокировка выполнения\n",
    ")"
   ]
  },
  {
   "cell_type": "markdown",
   "metadata": {},
   "source": [
    "### Формирование нейросетевых архитектур моделей для получения результатов оценки персональных качеств\n",
    "\n",
    "> - `_b5.audio_models_b5_` - Нейросетевые модели **nn.Module** для получения результатов оценки персональных качеств"
   ]
  },
  {
   "cell_type": "code",
   "execution_count": 9,
   "metadata": {},
   "outputs": [
    {
     "data": {
      "text/markdown": [
       "<span style=\"color:#333\">**[</span><span style=\"color:#1776D2\">2024-10-08 19:50:50</span><span style=\"color:#333\">]</span> <span style=\"color:#333\">Формирование нейросетевых архитектур моделей для получения результатов оценки персональных качеств (аудио модальность) ...</span>** "
      ],
      "text/plain": [
       "<IPython.core.display.Markdown object>"
      ]
     },
     "metadata": {},
     "output_type": "display_data"
    },
    {
     "data": {
      "text/markdown": [
       "<span style=\"color:#333\">**--- Время выполнения: 0.001 сек. ---**</span>"
      ],
      "text/plain": [
       "<IPython.core.display.Markdown object>"
      ]
     },
     "metadata": {},
     "output_type": "display_data"
    }
   ],
   "source": [
    "res_load_audio_models_b5 = _b5.load_audio_models_b5(\n",
    "    show_summary = False, # Отображение сформированной нейросетевой архитектуры модели\n",
    "    out = True, # Отображение\n",
    "    runtime = True, # Подсчет времени выполнения\n",
    "    run = True # Блокировка выполнения\n",
    ")"
   ]
  },
  {
   "cell_type": "markdown",
   "metadata": {},
   "source": [
    "### Загрузка весов нейросетевых моделей для получения результатов оценки персональных качеств\n",
    "\n",
    "> - `_b5.audio_models_b5_` - Нейросетевые модели **nn.Module** для получения результатов оценки персональных качеств"
   ]
  },
  {
   "cell_type": "code",
   "execution_count": 10,
   "metadata": {},
   "outputs": [
    {
     "data": {
      "text/markdown": [
       "<span style=\"color:#333\">**[</span><span style=\"color:#1776D2\">2024-10-08 19:50:50</span><span style=\"color:#333\">]</span> <span style=\"color:#333\">Загрузка весов нейросетевых моделей для получения результатов оценки персональных качеств (аудио модальность) ...</span>** "
      ],
      "text/plain": [
       "<IPython.core.display.Markdown object>"
      ]
     },
     "metadata": {},
     "output_type": "display_data"
    },
    {
     "data": {
      "text/markdown": [
       "<span style=\"color:#333\">**[</span><span style=\"color:#1776D2\">2024-10-08 19:50:53</span><span style=\"color:#333\">]</span> <span style=\"color:#333\">Загрузка файла \"<span style=\"color:#1776D2\">weights_2022-06-15_16-16-20.pth</span>\" 100.0% ...</span>**  <span style=\"color:#333\">**Открытость опыту**</span>"
      ],
      "text/plain": [
       "<IPython.core.display.Markdown object>"
      ]
     },
     "metadata": {},
     "output_type": "display_data"
    },
    {
     "data": {
      "text/markdown": [
       "<span style=\"color:#333\">**[</span><span style=\"color:#1776D2\">2024-10-08 19:50:55</span><span style=\"color:#333\">]</span> <span style=\"color:#333\">Загрузка файла \"<span style=\"color:#1776D2\">weights_2022-06-15_16-21-57.pth</span>\" 100.0% ...</span>**  <span style=\"color:#333\">**Добросовестность**</span>"
      ],
      "text/plain": [
       "<IPython.core.display.Markdown object>"
      ]
     },
     "metadata": {},
     "output_type": "display_data"
    },
    {
     "data": {
      "text/markdown": [
       "<span style=\"color:#333\">**[</span><span style=\"color:#1776D2\">2024-10-08 19:50:58</span><span style=\"color:#333\">]</span> <span style=\"color:#333\">Загрузка файла \"<span style=\"color:#1776D2\">weights_2022-06-15_16-26-41.pth</span>\" 100.0% ...</span>**  <span style=\"color:#333\">**Экстраверсия**</span>"
      ],
      "text/plain": [
       "<IPython.core.display.Markdown object>"
      ]
     },
     "metadata": {},
     "output_type": "display_data"
    },
    {
     "data": {
      "text/markdown": [
       "<span style=\"color:#333\">**[</span><span style=\"color:#1776D2\">2024-10-08 19:51:00</span><span style=\"color:#333\">]</span> <span style=\"color:#333\">Загрузка файла \"<span style=\"color:#1776D2\">weights_2022-06-15_16-32-51.pth</span>\" 100.0% ...</span>**  <span style=\"color:#333\">**Доброжелательность**</span>"
      ],
      "text/plain": [
       "<IPython.core.display.Markdown object>"
      ]
     },
     "metadata": {},
     "output_type": "display_data"
    },
    {
     "data": {
      "text/markdown": [
       "<span style=\"color:#333\">**[</span><span style=\"color:#1776D2\">2024-10-08 19:51:03</span><span style=\"color:#333\">]</span> <span style=\"color:#333\">Загрузка файла \"<span style=\"color:#1776D2\">weights_2022-06-15_16-37-46.pth</span>\" 100.0% ...</span>**  <span style=\"color:#333\">**Эмоциональная стабильность**</span>"
      ],
      "text/plain": [
       "<IPython.core.display.Markdown object>"
      ]
     },
     "metadata": {},
     "output_type": "display_data"
    },
    {
     "data": {
      "text/markdown": [
       "<span style=\"color:#333\">**--- Время выполнения: 12.325 сек. ---**</span>"
      ],
      "text/plain": [
       "<IPython.core.display.Markdown object>"
      ]
     },
     "metadata": {},
     "output_type": "display_data"
    }
   ],
   "source": [
    "# Настройки ядра\n",
    "_b5.path_to_save_ = './models' # Директория для сохранения файла\n",
    "_b5.chunk_size_ = 2000000 # Размер загрузки файла из сети за 1 шаг\n",
    "\n",
    "url_openness = _b5.weights_for_big5_['audio']['fi']['b5']['openness']['googledisk']\n",
    "url_conscientiousness = _b5.weights_for_big5_['audio']['fi']['b5']['conscientiousness']['googledisk']\n",
    "url_extraversion = _b5.weights_for_big5_['audio']['fi']['b5']['extraversion']['googledisk']\n",
    "url_agreeableness = _b5.weights_for_big5_['audio']['fi']['b5']['agreeableness']['googledisk']\n",
    "url_non_neuroticism = _b5.weights_for_big5_['audio']['fi']['b5']['non_neuroticism']['googledisk']\n",
    "\n",
    "res_load_audio_models_weights_b5 = _b5.load_audio_models_weights_b5(\n",
    "    url_openness = url_openness, # Открытость опыту\n",
    "    url_conscientiousness = url_conscientiousness, # Добросовестность\n",
    "    url_extraversion = url_extraversion, # Экстраверсия\n",
    "    url_agreeableness = url_agreeableness, # Доброжелательность\n",
    "    url_non_neuroticism = url_non_neuroticism, # Эмоциональная стабильность\n",
    "    force_reload = False, # Принудительная загрузка файла с весами нейросетевой модели из сети\n",
    "    out = True, # Отображение\n",
    "    runtime = True, # Подсчет времени выполнения\n",
    "    run = True # Блокировка выполнения\n",
    ")"
   ]
  },
  {
   "cell_type": "markdown",
   "metadata": {},
   "source": [
    "### Получение прогнозов (аудио модальность)\n",
    "\n",
    "> - `_b5.df_files_` - DataFrame с данными\n",
    "> - `_b5.df_accuracy_` - DataFrame с результатами вычисления точности"
   ]
  },
  {
   "cell_type": "code",
   "execution_count": 11,
   "metadata": {},
   "outputs": [
    {
     "data": {
      "text/markdown": [
       "<span style=\"color:#333\">**[</span><span style=\"color:#1776D2\">2024-10-08 20:28:05</span><span style=\"color:#333\">]</span> <span style=\"color:#333\">Получение прогнозов и вычисление точности (аудио модальность) ...</span>**<p><span style=\"color:#333\">&nbsp;&nbsp;&nbsp;&nbsp;2000 из 2000 (100.0%) ... test80_25\\_Q4wOgixh7E.004.mp4 ...</span></p>"
      ],
      "text/plain": [
       "<IPython.core.display.Markdown object>"
      ]
     },
     "metadata": {},
     "output_type": "display_data"
    },
    {
     "data": {
      "text/html": [
       "<div>\n",
       "<style scoped>\n",
       "    .dataframe tbody tr th:only-of-type {\n",
       "        vertical-align: middle;\n",
       "    }\n",
       "\n",
       "    .dataframe tbody tr th {\n",
       "        vertical-align: top;\n",
       "    }\n",
       "\n",
       "    .dataframe thead th {\n",
       "        text-align: right;\n",
       "    }\n",
       "</style>\n",
       "<table border=\"1\" class=\"dataframe\">\n",
       "  <thead>\n",
       "    <tr style=\"text-align: right;\">\n",
       "      <th></th>\n",
       "      <th>Path</th>\n",
       "      <th>Openness</th>\n",
       "      <th>Conscientiousness</th>\n",
       "      <th>Extraversion</th>\n",
       "      <th>Agreeableness</th>\n",
       "      <th>Non-Neuroticism</th>\n",
       "    </tr>\n",
       "    <tr>\n",
       "      <th>Person ID</th>\n",
       "      <th></th>\n",
       "      <th></th>\n",
       "      <th></th>\n",
       "      <th></th>\n",
       "      <th></th>\n",
       "      <th></th>\n",
       "    </tr>\n",
       "  </thead>\n",
       "  <tbody>\n",
       "    <tr>\n",
       "      <th>1</th>\n",
       "      <td>13kjwEtSyXc.003.mp4</td>\n",
       "      <td>0.603529</td>\n",
       "      <td>0.556218</td>\n",
       "      <td>0.526543</td>\n",
       "      <td>0.579646</td>\n",
       "      <td>0.547635</td>\n",
       "    </tr>\n",
       "    <tr>\n",
       "      <th>2</th>\n",
       "      <td>1Lv72Si4GnY.000.mp4</td>\n",
       "      <td>0.568252</td>\n",
       "      <td>0.465237</td>\n",
       "      <td>0.460755</td>\n",
       "      <td>0.541791</td>\n",
       "      <td>0.511347</td>\n",
       "    </tr>\n",
       "    <tr>\n",
       "      <th>3</th>\n",
       "      <td>1uC-2TZqplE.003.mp4</td>\n",
       "      <td>0.546181</td>\n",
       "      <td>0.603923</td>\n",
       "      <td>0.469423</td>\n",
       "      <td>0.589499</td>\n",
       "      <td>0.545701</td>\n",
       "    </tr>\n",
       "    <tr>\n",
       "      <th>4</th>\n",
       "      <td>2Z8Xi_DTlpI.000.mp4</td>\n",
       "      <td>0.691046</td>\n",
       "      <td>0.623833</td>\n",
       "      <td>0.628842</td>\n",
       "      <td>0.614673</td>\n",
       "      <td>0.645805</td>\n",
       "    </tr>\n",
       "    <tr>\n",
       "      <th>5</th>\n",
       "      <td>3df_Uk9EmwU.002.mp4</td>\n",
       "      <td>0.690791</td>\n",
       "      <td>0.589742</td>\n",
       "      <td>0.636094</td>\n",
       "      <td>0.606597</td>\n",
       "      <td>0.634776</td>\n",
       "    </tr>\n",
       "    <tr>\n",
       "      <th>6</th>\n",
       "      <td>3gmc2kLV4Bo.003.mp4</td>\n",
       "      <td>0.657285</td>\n",
       "      <td>0.68135</td>\n",
       "      <td>0.571423</td>\n",
       "      <td>0.596065</td>\n",
       "      <td>0.623456</td>\n",
       "    </tr>\n",
       "    <tr>\n",
       "      <th>7</th>\n",
       "      <td>3hKgh9AB3tk.003.mp4</td>\n",
       "      <td>0.453752</td>\n",
       "      <td>0.438842</td>\n",
       "      <td>0.376457</td>\n",
       "      <td>0.520405</td>\n",
       "      <td>0.438247</td>\n",
       "    </tr>\n",
       "    <tr>\n",
       "      <th>8</th>\n",
       "      <td>3S72dDIm1fM.005.mp4</td>\n",
       "      <td>0.558587</td>\n",
       "      <td>0.598298</td>\n",
       "      <td>0.452168</td>\n",
       "      <td>0.618857</td>\n",
       "      <td>0.571629</td>\n",
       "    </tr>\n",
       "    <tr>\n",
       "      <th>9</th>\n",
       "      <td>3tPq9fNOXZQ.000.mp4</td>\n",
       "      <td>0.529056</td>\n",
       "      <td>0.502458</td>\n",
       "      <td>0.426567</td>\n",
       "      <td>0.488254</td>\n",
       "      <td>0.443686</td>\n",
       "    </tr>\n",
       "    <tr>\n",
       "      <th>10</th>\n",
       "      <td>43tayteIFRk.001.mp4</td>\n",
       "      <td>0.537253</td>\n",
       "      <td>0.508196</td>\n",
       "      <td>0.438884</td>\n",
       "      <td>0.579789</td>\n",
       "      <td>0.512096</td>\n",
       "    </tr>\n",
       "    <tr>\n",
       "      <th>11</th>\n",
       "      <td>4RKQGZzPClk.000.mp4</td>\n",
       "      <td>0.512775</td>\n",
       "      <td>0.447304</td>\n",
       "      <td>0.422976</td>\n",
       "      <td>0.559119</td>\n",
       "      <td>0.49141</td>\n",
       "    </tr>\n",
       "    <tr>\n",
       "      <th>12</th>\n",
       "      <td>6zm71IHOCZA.005.mp4</td>\n",
       "      <td>0.447127</td>\n",
       "      <td>0.451081</td>\n",
       "      <td>0.36446</td>\n",
       "      <td>0.513057</td>\n",
       "      <td>0.414437</td>\n",
       "    </tr>\n",
       "    <tr>\n",
       "      <th>13</th>\n",
       "      <td>7qGYGbIg45c.001.mp4</td>\n",
       "      <td>0.36839</td>\n",
       "      <td>0.391951</td>\n",
       "      <td>0.274883</td>\n",
       "      <td>0.42953</td>\n",
       "      <td>0.307687</td>\n",
       "    </tr>\n",
       "    <tr>\n",
       "      <th>14</th>\n",
       "      <td>8YQKwMdiaAE.003.mp4</td>\n",
       "      <td>0.582561</td>\n",
       "      <td>0.432921</td>\n",
       "      <td>0.412405</td>\n",
       "      <td>0.44201</td>\n",
       "      <td>0.462234</td>\n",
       "    </tr>\n",
       "    <tr>\n",
       "      <th>15</th>\n",
       "      <td>9Crw2RtrBcY.005.mp4</td>\n",
       "      <td>0.627692</td>\n",
       "      <td>0.801797</td>\n",
       "      <td>0.528606</td>\n",
       "      <td>0.692622</td>\n",
       "      <td>0.691895</td>\n",
       "    </tr>\n",
       "    <tr>\n",
       "      <th>16</th>\n",
       "      <td>9eNHxfOV2Kg.005.mp4</td>\n",
       "      <td>0.708788</td>\n",
       "      <td>0.653992</td>\n",
       "      <td>0.640535</td>\n",
       "      <td>0.632075</td>\n",
       "      <td>0.669044</td>\n",
       "    </tr>\n",
       "    <tr>\n",
       "      <th>17</th>\n",
       "      <td>9J-KIPMQmqk.002.mp4</td>\n",
       "      <td>0.58397</td>\n",
       "      <td>0.644069</td>\n",
       "      <td>0.504643</td>\n",
       "      <td>0.63351</td>\n",
       "      <td>0.59207</td>\n",
       "    </tr>\n",
       "    <tr>\n",
       "      <th>18</th>\n",
       "      <td>9RfE2-aTvaM.002.mp4</td>\n",
       "      <td>0.550824</td>\n",
       "      <td>0.539586</td>\n",
       "      <td>0.468088</td>\n",
       "      <td>0.59486</td>\n",
       "      <td>0.543999</td>\n",
       "    </tr>\n",
       "    <tr>\n",
       "      <th>19</th>\n",
       "      <td>9_6auSk_wkY.002.mp4</td>\n",
       "      <td>0.626713</td>\n",
       "      <td>0.563235</td>\n",
       "      <td>0.556535</td>\n",
       "      <td>0.561917</td>\n",
       "      <td>0.54922</td>\n",
       "    </tr>\n",
       "    <tr>\n",
       "      <th>20</th>\n",
       "      <td>aaylz9A9K80.000.mp4</td>\n",
       "      <td>0.593027</td>\n",
       "      <td>0.421477</td>\n",
       "      <td>0.50483</td>\n",
       "      <td>0.534268</td>\n",
       "      <td>0.532835</td>\n",
       "    </tr>\n",
       "    <tr>\n",
       "      <th>21</th>\n",
       "      <td>Af_F0IzHK6o.002.mp4</td>\n",
       "      <td>0.545953</td>\n",
       "      <td>0.479617</td>\n",
       "      <td>0.465817</td>\n",
       "      <td>0.57133</td>\n",
       "      <td>0.518822</td>\n",
       "    </tr>\n",
       "    <tr>\n",
       "      <th>22</th>\n",
       "      <td>Ah5PEPT4xbo.000.mp4</td>\n",
       "      <td>0.548449</td>\n",
       "      <td>0.480838</td>\n",
       "      <td>0.453347</td>\n",
       "      <td>0.527779</td>\n",
       "      <td>0.477625</td>\n",
       "    </tr>\n",
       "    <tr>\n",
       "      <th>23</th>\n",
       "      <td>AotbiNsU85A.003.mp4</td>\n",
       "      <td>0.486088</td>\n",
       "      <td>0.467776</td>\n",
       "      <td>0.396133</td>\n",
       "      <td>0.444673</td>\n",
       "      <td>0.399426</td>\n",
       "    </tr>\n",
       "    <tr>\n",
       "      <th>24</th>\n",
       "      <td>BLc_GvsbI1U.001.mp4</td>\n",
       "      <td>0.558279</td>\n",
       "      <td>0.537874</td>\n",
       "      <td>0.47412</td>\n",
       "      <td>0.56359</td>\n",
       "      <td>0.529321</td>\n",
       "    </tr>\n",
       "    <tr>\n",
       "      <th>25</th>\n",
       "      <td>bLOSPQ8MAC8.005.mp4</td>\n",
       "      <td>0.473006</td>\n",
       "      <td>0.542048</td>\n",
       "      <td>0.370227</td>\n",
       "      <td>0.550082</td>\n",
       "      <td>0.467045</td>\n",
       "    </tr>\n",
       "    <tr>\n",
       "      <th>26</th>\n",
       "      <td>bPLhV0PGR50.001.mp4</td>\n",
       "      <td>0.530933</td>\n",
       "      <td>0.460269</td>\n",
       "      <td>0.410569</td>\n",
       "      <td>0.507323</td>\n",
       "      <td>0.450016</td>\n",
       "    </tr>\n",
       "    <tr>\n",
       "      <th>27</th>\n",
       "      <td>bYXRyimxh7A.001.mp4</td>\n",
       "      <td>0.618052</td>\n",
       "      <td>0.506387</td>\n",
       "      <td>0.572215</td>\n",
       "      <td>0.574839</td>\n",
       "      <td>0.563787</td>\n",
       "    </tr>\n",
       "    <tr>\n",
       "      <th>28</th>\n",
       "      <td>ch2BcBv4SdQ.003.mp4</td>\n",
       "      <td>0.647054</td>\n",
       "      <td>0.57776</td>\n",
       "      <td>0.565904</td>\n",
       "      <td>0.575295</td>\n",
       "      <td>0.606337</td>\n",
       "    </tr>\n",
       "    <tr>\n",
       "      <th>29</th>\n",
       "      <td>cpch8WDydcM.004.mp4</td>\n",
       "      <td>0.571504</td>\n",
       "      <td>0.529554</td>\n",
       "      <td>0.486678</td>\n",
       "      <td>0.535736</td>\n",
       "      <td>0.529069</td>\n",
       "    </tr>\n",
       "    <tr>\n",
       "      <th>30</th>\n",
       "      <td>De4i7-FX9Og.002.mp4</td>\n",
       "      <td>0.655017</td>\n",
       "      <td>0.606722</td>\n",
       "      <td>0.592835</td>\n",
       "      <td>0.570564</td>\n",
       "      <td>0.60037</td>\n",
       "    </tr>\n",
       "  </tbody>\n",
       "</table>\n",
       "</div>"
      ],
      "text/plain": [
       "                          Path  Openness Conscientiousness Extraversion  \\\n",
       "Person ID                                                                 \n",
       "1          13kjwEtSyXc.003.mp4  0.603529          0.556218     0.526543   \n",
       "2          1Lv72Si4GnY.000.mp4  0.568252          0.465237     0.460755   \n",
       "3          1uC-2TZqplE.003.mp4  0.546181          0.603923     0.469423   \n",
       "4          2Z8Xi_DTlpI.000.mp4  0.691046          0.623833     0.628842   \n",
       "5          3df_Uk9EmwU.002.mp4  0.690791          0.589742     0.636094   \n",
       "6          3gmc2kLV4Bo.003.mp4  0.657285           0.68135     0.571423   \n",
       "7          3hKgh9AB3tk.003.mp4  0.453752          0.438842     0.376457   \n",
       "8          3S72dDIm1fM.005.mp4  0.558587          0.598298     0.452168   \n",
       "9          3tPq9fNOXZQ.000.mp4  0.529056          0.502458     0.426567   \n",
       "10         43tayteIFRk.001.mp4  0.537253          0.508196     0.438884   \n",
       "11         4RKQGZzPClk.000.mp4  0.512775          0.447304     0.422976   \n",
       "12         6zm71IHOCZA.005.mp4  0.447127          0.451081      0.36446   \n",
       "13         7qGYGbIg45c.001.mp4   0.36839          0.391951     0.274883   \n",
       "14         8YQKwMdiaAE.003.mp4  0.582561          0.432921     0.412405   \n",
       "15         9Crw2RtrBcY.005.mp4  0.627692          0.801797     0.528606   \n",
       "16         9eNHxfOV2Kg.005.mp4  0.708788          0.653992     0.640535   \n",
       "17         9J-KIPMQmqk.002.mp4   0.58397          0.644069     0.504643   \n",
       "18         9RfE2-aTvaM.002.mp4  0.550824          0.539586     0.468088   \n",
       "19         9_6auSk_wkY.002.mp4  0.626713          0.563235     0.556535   \n",
       "20         aaylz9A9K80.000.mp4  0.593027          0.421477      0.50483   \n",
       "21         Af_F0IzHK6o.002.mp4  0.545953          0.479617     0.465817   \n",
       "22         Ah5PEPT4xbo.000.mp4  0.548449          0.480838     0.453347   \n",
       "23         AotbiNsU85A.003.mp4  0.486088          0.467776     0.396133   \n",
       "24         BLc_GvsbI1U.001.mp4  0.558279          0.537874      0.47412   \n",
       "25         bLOSPQ8MAC8.005.mp4  0.473006          0.542048     0.370227   \n",
       "26         bPLhV0PGR50.001.mp4  0.530933          0.460269     0.410569   \n",
       "27         bYXRyimxh7A.001.mp4  0.618052          0.506387     0.572215   \n",
       "28         ch2BcBv4SdQ.003.mp4  0.647054           0.57776     0.565904   \n",
       "29         cpch8WDydcM.004.mp4  0.571504          0.529554     0.486678   \n",
       "30         De4i7-FX9Og.002.mp4  0.655017          0.606722     0.592835   \n",
       "\n",
       "          Agreeableness Non-Neuroticism  \n",
       "Person ID                                \n",
       "1              0.579646        0.547635  \n",
       "2              0.541791        0.511347  \n",
       "3              0.589499        0.545701  \n",
       "4              0.614673        0.645805  \n",
       "5              0.606597        0.634776  \n",
       "6              0.596065        0.623456  \n",
       "7              0.520405        0.438247  \n",
       "8              0.618857        0.571629  \n",
       "9              0.488254        0.443686  \n",
       "10             0.579789        0.512096  \n",
       "11             0.559119         0.49141  \n",
       "12             0.513057        0.414437  \n",
       "13              0.42953        0.307687  \n",
       "14              0.44201        0.462234  \n",
       "15             0.692622        0.691895  \n",
       "16             0.632075        0.669044  \n",
       "17              0.63351         0.59207  \n",
       "18              0.59486        0.543999  \n",
       "19             0.561917         0.54922  \n",
       "20             0.534268        0.532835  \n",
       "21              0.57133        0.518822  \n",
       "22             0.527779        0.477625  \n",
       "23             0.444673        0.399426  \n",
       "24              0.56359        0.529321  \n",
       "25             0.550082        0.467045  \n",
       "26             0.507323        0.450016  \n",
       "27             0.574839        0.563787  \n",
       "28             0.575295        0.606337  \n",
       "29             0.535736        0.529069  \n",
       "30             0.570564         0.60037  "
      ]
     },
     "metadata": {},
     "output_type": "display_data"
    },
    {
     "data": {
      "text/markdown": [
       "<span style=\"color:#333\">**[</span><span style=\"color:#1776D2\">2024-10-08 20:28:05</span><span style=\"color:#333\">]</span> <span style=\"color:#333\">Точность по отдельным персональным качествам личности человека ...</span>** "
      ],
      "text/plain": [
       "<IPython.core.display.Markdown object>"
      ]
     },
     "metadata": {},
     "output_type": "display_data"
    },
    {
     "data": {
      "text/html": [
       "<div>\n",
       "<style scoped>\n",
       "    .dataframe tbody tr th:only-of-type {\n",
       "        vertical-align: middle;\n",
       "    }\n",
       "\n",
       "    .dataframe tbody tr th {\n",
       "        vertical-align: top;\n",
       "    }\n",
       "\n",
       "    .dataframe thead th {\n",
       "        text-align: right;\n",
       "    }\n",
       "</style>\n",
       "<table border=\"1\" class=\"dataframe\">\n",
       "  <thead>\n",
       "    <tr style=\"text-align: right;\">\n",
       "      <th></th>\n",
       "      <th>Openness</th>\n",
       "      <th>Conscientiousness</th>\n",
       "      <th>Extraversion</th>\n",
       "      <th>Agreeableness</th>\n",
       "      <th>Non-Neuroticism</th>\n",
       "      <th>Mean</th>\n",
       "    </tr>\n",
       "    <tr>\n",
       "      <th>Metrics</th>\n",
       "      <th></th>\n",
       "      <th></th>\n",
       "      <th></th>\n",
       "      <th></th>\n",
       "      <th></th>\n",
       "      <th></th>\n",
       "    </tr>\n",
       "  </thead>\n",
       "  <tbody>\n",
       "    <tr>\n",
       "      <th>MAE</th>\n",
       "      <td>0.0916</td>\n",
       "      <td>0.0925</td>\n",
       "      <td>0.0932</td>\n",
       "      <td>0.0918</td>\n",
       "      <td>0.094</td>\n",
       "      <td>0.0926</td>\n",
       "    </tr>\n",
       "    <tr>\n",
       "      <th>Accuracy</th>\n",
       "      <td>0.9084</td>\n",
       "      <td>0.9075</td>\n",
       "      <td>0.9068</td>\n",
       "      <td>0.9082</td>\n",
       "      <td>0.906</td>\n",
       "      <td>0.9074</td>\n",
       "    </tr>\n",
       "  </tbody>\n",
       "</table>\n",
       "</div>"
      ],
      "text/plain": [
       "          Openness  Conscientiousness  Extraversion  Agreeableness  \\\n",
       "Metrics                                                              \n",
       "MAE         0.0916             0.0925        0.0932         0.0918   \n",
       "Accuracy    0.9084             0.9075        0.9068         0.9082   \n",
       "\n",
       "          Non-Neuroticism    Mean  \n",
       "Metrics                            \n",
       "MAE                 0.094  0.0926  \n",
       "Accuracy            0.906  0.9074  "
      ]
     },
     "metadata": {},
     "output_type": "display_data"
    },
    {
     "data": {
      "text/markdown": [
       "<span style=\"color:#333\">**[</span><span style=\"color:#1776D2\">2024-10-08 20:28:05</span><span style=\"color:#333\">]</span> <span style=\"color:#333\">Средняя средних абсолютных ошибок: <span style=\"color:#1776D2\">0.0926</span>, средняя точность: <span style=\"color:#1776D2\">0.9074</span> ...</span>** "
      ],
      "text/plain": [
       "<IPython.core.display.Markdown object>"
      ]
     },
     "metadata": {},
     "output_type": "display_data"
    },
    {
     "data": {
      "text/markdown": [
       "<span style=\"color:#008001\">**Лог файлы успешно сохранены ...**</span>"
      ],
      "text/plain": [
       "<IPython.core.display.Markdown object>"
      ]
     },
     "metadata": {},
     "output_type": "display_data"
    },
    {
     "data": {
      "text/markdown": [
       "<span style=\"color:#333\">**--- Время выполнения: 2221.886 сек. ---**</span>"
      ],
      "text/plain": [
       "<IPython.core.display.Markdown object>"
      ]
     },
     "metadata": {},
     "output_type": "display_data"
    }
   ],
   "source": [
    "# Настройки ядра\n",
    "_b5.path_to_dataset_ = 'E:/Databases/FirstImpressionsV2/test' # Директория набора данных\n",
    "# Директории не входящие в выборку\n",
    "_b5.ignore_dirs_ = []\n",
    "# Названия ключей для DataFrame набора данных\n",
    "_b5.keys_dataset_ = ['Path', 'Openness', 'Conscientiousness', 'Extraversion', 'Agreeableness', 'Non-Neuroticism']\n",
    "_b5.ext_ = ['.mp4'] # Расширения искомых файлов\n",
    "_b5.path_to_logs_ = './logs' # Директория для сохранения LOG файлов\n",
    "\n",
    "# Полный путь к файлу с верными предсказаниями для подсчета точности\n",
    "url_accuracy = _b5.true_traits_['fi']['googledisk']\n",
    "\n",
    "res_get_audio_union_predictions = _b5.get_audio_union_predictions(\n",
    "    depth = 1,         # Глубина иерархии для получения аудио и видеоданных\n",
    "    recursive = False, # Рекурсивный поиск данных\n",
    "    sr = 44100,        # Частота дискретизации\n",
    "    window = 2,        # Размер окна сегмента сигнала (в секундах)\n",
    "    step = 1,          # Шаг сдвига окна сегмента сигнала (в секундах)\n",
    "    accuracy = True,   # Вычисление точности\n",
    "    url_accuracy = url_accuracy,\n",
    "    logs = True,      # При необходимости формировать LOG файл\n",
    "    out = True,        # Отображение\n",
    "    runtime = True,    # Подсчет времени выполнения\n",
    "    run = True         # Блокировка выполнения\n",
    ")"
   ]
  }
 ],
 "metadata": {
  "kernelspec": {
   "display_name": "Python 3 (ipykernel)",
   "language": "python",
   "name": "python3"
  },
  "language_info": {
   "codemirror_mode": {
    "name": "ipython",
    "version": 3
   },
   "file_extension": ".py",
   "mimetype": "text/x-python",
   "name": "python",
   "nbconvert_exporter": "python",
   "pygments_lexer": "ipython3",
   "version": "3.10.11"
  }
 },
 "nbformat": 4,
 "nbformat_minor": 4
}
