{
 "cells": [
  {
   "cell_type": "code",
   "execution_count": 1,
   "id": "68a1d2b3-7d8d-4f71-a4e7-b0c121794e43",
   "metadata": {},
   "outputs": [
    {
     "data": {
      "text/plain": [
       "'1.0.0a38'"
      ]
     },
     "execution_count": 1,
     "metadata": {},
     "output_type": "execute_result"
    }
   ],
   "source": [
    "import oceanai\n",
    "\n",
    "oceanai.__release__"
   ]
  },
  {
   "cell_type": "code",
   "execution_count": 18,
   "id": "b99fe909-9d4e-4583-ad88-72bb2376c958",
   "metadata": {},
   "outputs": [
    {
     "data": {
      "text/html": [
       "<div>\n",
       "<style scoped>\n",
       "    .dataframe tbody tr th:only-of-type {\n",
       "        vertical-align: middle;\n",
       "    }\n",
       "\n",
       "    .dataframe tbody tr th {\n",
       "        vertical-align: top;\n",
       "    }\n",
       "\n",
       "    .dataframe thead th {\n",
       "        text-align: right;\n",
       "    }\n",
       "</style>\n",
       "<table border=\"1\" class=\"dataframe\">\n",
       "  <thead>\n",
       "    <tr style=\"text-align: right;\">\n",
       "      <th></th>\n",
       "      <th>Path</th>\n",
       "      <th>Openness</th>\n",
       "      <th>Conscientiousness</th>\n",
       "      <th>Extraversion</th>\n",
       "      <th>Agreeableness</th>\n",
       "      <th>Non-Neuroticism</th>\n",
       "      <th>Candidate score</th>\n",
       "    </tr>\n",
       "    <tr>\n",
       "      <th>Person ID</th>\n",
       "      <th></th>\n",
       "      <th></th>\n",
       "      <th></th>\n",
       "      <th></th>\n",
       "      <th></th>\n",
       "      <th></th>\n",
       "      <th></th>\n",
       "    </tr>\n",
       "  </thead>\n",
       "  <tbody>\n",
       "    <tr>\n",
       "      <th>3</th>\n",
       "      <td>300gK3CnzW0.001.mp4</td>\n",
       "      <td>0.607070</td>\n",
       "      <td>0.591893</td>\n",
       "      <td>0.520662</td>\n",
       "      <td>0.603938</td>\n",
       "      <td>0.565726</td>\n",
       "      <td>57.985135</td>\n",
       "    </tr>\n",
       "    <tr>\n",
       "      <th>1</th>\n",
       "      <td>_plk5k7PBEg.003.mp4</td>\n",
       "      <td>0.581159</td>\n",
       "      <td>0.628822</td>\n",
       "      <td>0.466609</td>\n",
       "      <td>0.622129</td>\n",
       "      <td>0.553832</td>\n",
       "      <td>57.615230</td>\n",
       "    </tr>\n",
       "    <tr>\n",
       "      <th>2</th>\n",
       "      <td>2d6btbaNdfo.000.mp4</td>\n",
       "      <td>0.463991</td>\n",
       "      <td>0.418851</td>\n",
       "      <td>0.413010</td>\n",
       "      <td>0.493329</td>\n",
       "      <td>0.423093</td>\n",
       "      <td>43.622740</td>\n",
       "    </tr>\n",
       "  </tbody>\n",
       "</table>\n",
       "</div>"
      ],
      "text/plain": [
       "                          Path  Openness  Conscientiousness  Extraversion  \\\n",
       "Person ID                                                                   \n",
       "3          300gK3CnzW0.001.mp4  0.607070           0.591893      0.520662   \n",
       "1          _plk5k7PBEg.003.mp4  0.581159           0.628822      0.466609   \n",
       "2          2d6btbaNdfo.000.mp4  0.463991           0.418851      0.413010   \n",
       "\n",
       "           Agreeableness  Non-Neuroticism  Candidate score  \n",
       "Person ID                                                   \n",
       "3               0.603938         0.565726        57.985135  \n",
       "1               0.622129         0.553832        57.615230  \n",
       "2               0.493329         0.423093        43.622740  "
      ]
     },
     "execution_count": 18,
     "metadata": {},
     "output_type": "execute_result"
    }
   ],
   "source": [
    "import pandas as pd\n",
    "from oceanai.modules.core.core import Core\n",
    "\n",
    "df = pd.DataFrame({\n",
    "    \"Path\": [\"_plk5k7PBEg.003.mp4\", \"2d6btbaNdfo.000.mp4\", \"300gK3CnzW0.001.mp4\"],\n",
    "    \"Openness\": [0.581159, 0.463991, 0.60707],\n",
    "    \"Conscientiousness\": [0.628822, 0.418851, 0.591893],\n",
    "    \"Extraversion\": [0.466609, 0.41301, 0.520662],\n",
    "    \"Agreeableness\": [0.622129, 0.493329, 0.603938],\n",
    "    \"Non-Neuroticism\": [0.553832, 0.423093, 0.565726]\n",
    "})\n",
    "\n",
    "core = Core()\n",
    "\n",
    "core._candidate_ranking(df, 20, 25, 10, 10, 35)"
   ]
  },
  {
   "cell_type": "code",
   "execution_count": 7,
   "id": "d1dac92d-c2e4-4b4d-850a-98bd828bbc3d",
   "metadata": {},
   "outputs": [
    {
     "data": {
      "text/markdown": [
       "<span style=\"color:#666\">**[</span><span style=\"color:#1776D2\">2024-10-06 23:25:29</span><span style=\"color:#666\">]</span> <span style=\"color:#666\">Загрузка весов нейросетевой модели</span>** "
      ],
      "text/plain": [
       "<IPython.core.display.Markdown object>"
      ]
     },
     "metadata": {},
     "output_type": "display_data"
    },
    {
     "data": {
      "text/markdown": [
       "<span style=\"color:#666\">**[</span><span style=\"color:#1776D2\">2024-10-06 23:25:29</span><span style=\"color:#666\">]</span> <span style=\"color:#666\">Загрузка файла \"<span style=\"color:#1776D2\">weights_2022-05-05_11-27-55.h5</span>\" 100.0% ...</span>** "
      ],
      "text/plain": [
       "<IPython.core.display.Markdown object>"
      ]
     },
     "metadata": {},
     "output_type": "display_data"
    },
    {
     "data": {
      "text/markdown": [
       "<span style=\"color:#666\">**--- Время выполнения: 0.254 сек. ---**</span>"
      ],
      "text/plain": [
       "<IPython.core.display.Markdown object>"
      ]
     },
     "metadata": {},
     "output_type": "display_data"
    },
    {
     "data": {
      "text/plain": [
       "True"
      ]
     },
     "execution_count": 7,
     "metadata": {},
     "output_type": "execute_result"
    }
   ],
   "source": [
    "from oceanai.modules.lab.audio import Audio\n",
    "\n",
    "audio = Audio()\n",
    "\n",
    "audio.path_to_save_ = './models'\n",
    "audio.chunk_size_ = 2000000\n",
    "\n",
    "audio._Audio__load_model_weights(\n",
    "    url = 'https://download.sberdisk.ru/download/file/400635799?token=MMRrak8fMsyzxLE&filename=weights_2022-05-05_11-27-55.h5',\n",
    "    force_reload = True,\n",
    "    info_text = 'Загрузка весов нейросетевой модели',\n",
    "    out = True, runtime = True, run = True\n",
    ")"
   ]
  },
  {
   "cell_type": "code",
   "execution_count": null,
   "id": "2829ee25-d4ca-4eb7-b497-f12d8ab8421b",
   "metadata": {},
   "outputs": [],
   "source": []
  }
 ],
 "metadata": {
  "kernelspec": {
   "display_name": "Python 3 (ipykernel)",
   "language": "python",
   "name": "python3"
  },
  "language_info": {
   "codemirror_mode": {
    "name": "ipython",
    "version": 3
   },
   "file_extension": ".py",
   "mimetype": "text/x-python",
   "name": "python",
   "nbconvert_exporter": "python",
   "pygments_lexer": "ipython3",
   "version": "3.9.13"
  }
 },
 "nbformat": 4,
 "nbformat_minor": 5
}
